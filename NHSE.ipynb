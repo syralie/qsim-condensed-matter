{
 "cells": [
  {
   "cell_type": "markdown",
   "metadata": {},
   "source": [
    "# Non-Unitary Operators for the Non-Hermitian Skin Effect\n",
    "\n",
    "Paper to be replicated: https://arxiv.org/pdf/2311.10143\n",
    "\n",
    "Addition Resources Consulted:\n",
    "- https://link.aps.org/pdf/10.1103/PRXQuantum.2.010342\n",
    "- https://medium.com/mdr-inc/time-evolution-operators-be2968493b86 (note there are some notable errors)\n",
    "- "
   ]
  },
  {
   "cell_type": "code",
   "execution_count": 2,
   "metadata": {},
   "outputs": [],
   "source": [
    "import os\n",
    "os.environ[\"KMP_DUPLICATE_LIB_OK\"]=\"TRUE\""
   ]
  },
  {
   "cell_type": "code",
   "execution_count": 138,
   "metadata": {},
   "outputs": [],
   "source": [
    "from qiskit import QuantumCircuit\n",
    "from qiskit.quantum_info import SparsePauliOp, Statevector, Operator\n",
    "from qiskit_ibm_runtime import EstimatorV2 as Estimator\n",
    "from qiskit.primitives import Sampler\n",
    "from qiskit_aer import AerSimulator\n",
    "import matplotlib.pyplot as plt\n",
    "from qiskit.transpiler import CouplingMap\n",
    "from qiskit.transpiler.preset_passmanagers import generate_preset_pass_manager\n",
    "from qiskit_ibm_runtime import QiskitRuntimeService\n",
    "from qiskit.circuit.library import UnitaryGate\n",
    "from qiskit.quantum_info import Statevector\n",
    "\n",
    "from tqdm.notebook import tqdm\n",
    "\n",
    "from numpy import sin, cos\n",
    "import numpy as np\n",
    "from scipy.linalg import expm, sqrtm\n",
    "\n",
    "from scipy.optimize import differential_evolution, dual_annealing\n",
    "\n",
    "from itertools import product\n",
    "\n",
    "import random\n",
    "\n",
    "import json\n",
    "\n",
    "\n",
    "\n"
   ]
  },
  {
   "cell_type": "code",
   "execution_count": 4,
   "metadata": {},
   "outputs": [],
   "source": [
    "# service = QiskitRuntimeService()\n",
    "BACKEND = AerSimulator()\n",
    "pass_manager = generate_preset_pass_manager(backend=BACKEND, optimization_level=0)\n",
    "estimator = Estimator(backend=BACKEND)\n",
    "sampler = Sampler(backend=BACKEND)"
   ]
  },
  {
   "cell_type": "markdown",
   "metadata": {},
   "source": [
    "## I. Hatano-Nelson Model\n",
    "\n",
    "Note $\\hat{X}^+ = \\frac{\\hat{X} + i \\hat{Y}}{2}$ and $\\hat{X}^- = \\frac{\\hat{X} - i \\hat{Y}}{2}$"
   ]
  },
  {
   "cell_type": "code",
   "execution_count": 5,
   "metadata": {},
   "outputs": [],
   "source": [
    "X_gate = np.array([[0, 1], \n",
    "                   [1, 0]])\n",
    "\n",
    "Y_gate = np.array([[0, -1j],\n",
    "                   [1j, 0]])\n",
    "\n",
    "I_gate = np.array([[1, 0], \n",
    "                   [0, 1]])\n",
    "\n",
    "X_plus = 0.5 * (X_gate + 1j * Y_gate)\n",
    "X_minus = 0.5 * (X_gate - 1j * Y_gate)"
   ]
  },
  {
   "cell_type": "code",
   "execution_count": 10,
   "metadata": {},
   "outputs": [],
   "source": [
    "# Helper function, generates U_j_nonH\n",
    "def get_U_j_nonH(J, gamma, index, N, timestep):\n",
    "    product_1 = np.kron(X_plus, X_minus)\n",
    "    product_2 = np.kron(X_minus, X_plus)\n",
    "    exponent = 1j * timestep * ( (J - gamma) * product_1 + (J + gamma) * product_2)\n",
    "    \n",
    "    if index == 0:\n",
    "        U_j_nonH = np.kron(np.eye(2 ** (N-2)), expm(exponent))\n",
    "    if index == N - 2:\n",
    "        U_j_nonH = np.kron(expm(exponent), np.eye(2 ** (N-2)))\n",
    "    else: \n",
    "        U_j_nonH = np.kron(np.kron(np.eye(2 ** (N - 2 - index)), expm(exponent)), np.eye(2 ** (index)))\n",
    "    return U_j_nonH\n",
    "    \n",
    "\n",
    "\n",
    "# Helper function, generates R_HN\n",
    "def get_R_HN(J, gamma, N, timestep):\n",
    "    res_even = np.eye(2 ** N)\n",
    "    res_odd = np.eye(2 ** N)\n",
    "    for i in range(N - 1):\n",
    "        if i % 2 == 0:\n",
    "            res_even = np.matmul(res_even, get_U_j_nonH(J, gamma, i, N, timestep))\n",
    "        else:\n",
    "            res_odd = np.matmul(res_odd, get_U_j_nonH(J, gamma, i, N, timestep))\n",
    "    return np.matmul(res_even, res_odd)\n",
    "\n",
    "# Generates U_HN \n",
    "def get_U_HN(J, gamma, N, timestep):\n",
    "    R_HN = get_R_HN(J, gamma, N, timestep)\n",
    "\n",
    "    A, sig, Bh = np.linalg.svd(R_HN)\n",
    "    eigval, _ = np.linalg.eig(np.matmul(R_HN.conj().T, R_HN))\n",
    "    u_square_inverse = max(eigval)\n",
    "    u_square = 1/u_square_inverse \n",
    "    C = np.matmul(np.matmul(A, sqrtm(np.eye(2 ** N) - u_square * np.diag(np.square(sig)))), Bh)\n",
    "\n",
    "    u_R_HN = np.sqrt(u_square) * R_HN\n",
    "    W = np.concatenate((np.concatenate((u_R_HN, C), axis=0), np.concatenate((np.eye(2 ** N), np.eye(2 ** N)), axis=0)), axis=1)\n",
    "    U_HN, _ = np.linalg.qr(W)\n",
    "    return U_HN"
   ]
  },
  {
   "cell_type": "code",
   "execution_count": 11,
   "metadata": {},
   "outputs": [
    {
     "data": {
      "text/plain": [
       "array([[1., 0., 0., 0., 0., 0., 0., 0.],\n",
       "       [0., 1., 0., 0., 0., 0., 0., 0.],\n",
       "       [0., 0., 1., 0., 0., 0., 0., 0.],\n",
       "       [0., 0., 0., 1., 0., 0., 0., 0.],\n",
       "       [0., 0., 0., 0., 0., 0., 0., 0.],\n",
       "       [0., 0., 0., 0., 0., 0., 0., 0.],\n",
       "       [0., 0., 0., 0., 0., 0., 0., 0.],\n",
       "       [0., 0., 0., 0., 0., 0., 0., 0.]])"
      ]
     },
     "execution_count": 11,
     "metadata": {},
     "output_type": "execute_result"
    }
   ],
   "source": [
    "def projection(N):\n",
    "    projector = np.array([[1.0, 0.0], [0.0, 0.0]])\n",
    "    \n",
    "    return np.kron(projector, np.eye(2 ** (N-1)))\n",
    "\n",
    "projection(3)"
   ]
  },
  {
   "cell_type": "code",
   "execution_count": 12,
   "metadata": {},
   "outputs": [],
   "source": [
    "total_time = 1.8\n",
    "nb_timesteps = 10\n",
    "timestep_duration = total_time/nb_timesteps"
   ]
  },
  {
   "cell_type": "markdown",
   "metadata": {},
   "source": [
    "# First Attempt Using Gates\n",
    "Note: This attempt missed out on implementing the projection between each trotter step, hence the non-unitary case where $gamma \\neq 0.0$ gives the wrong figure."
   ]
  },
  {
   "cell_type": "code",
   "execution_count": 13,
   "metadata": {},
   "outputs": [
    {
     "data": {
      "application/vnd.jupyter.widget-view+json": {
       "model_id": "968314102dcb4b348c0cbf8a0ee30a4d",
       "version_major": 2,
       "version_minor": 0
      },
      "text/plain": [
       "  0%|          | 0/10 [00:00<?, ?it/s]"
      ]
     },
     "metadata": {},
     "output_type": "display_data"
    },
    {
     "data": {
      "text/plain": [
       "Text(0.5, 0, 'T')"
      ]
     },
     "execution_count": 13,
     "metadata": {},
     "output_type": "execute_result"
    },
    {
     "data": {
      "image/png": "[encoded data removed]",
      "text/plain": [
       "<Figure size 500x300 with 2 Axes>"
      ]
     },
     "metadata": {},
     "output_type": "display_data"
    }
   ],
   "source": [
    "# For gamma = 0.0 case \n",
    "# (Original Implementation using individual UnitaryGates, but missed out projection between each trotter step)\n",
    "N = 6\n",
    "\n",
    "# Generate the unitary\n",
    "matrix = get_U_HN(2, 0.0, N, 0.1)\n",
    "gate = UnitaryGate(matrix)\n",
    "\n",
    "# Create the relevant circuits for paper's Fig 3a\n",
    "circuits = []\n",
    "for n_steps in range(1, nb_timesteps+1):\n",
    "    qc = QuantumCircuit(N+1)\n",
    "    qc.h(N//2 - 1)\n",
    "    qc.cx(N//2 - 1, N//2)\n",
    "    \n",
    "    gate = UnitaryGate(np.linalg.matrix_power(matrix, n_steps))\n",
    "    qc.append(gate, [i for i in range(N+1)])\n",
    "    \n",
    "    qc.measure_all()\n",
    "    circuits.append(qc)\n",
    "\n",
    "# Execute measurements for paper's Fig 3a\n",
    "magnetization=[]\n",
    "res_list = []\n",
    "for circ in tqdm(circuits):\n",
    "    pubs = [(circ)]\n",
    "    job = sampler.run(pubs, shots=160000)\n",
    "    results = job.result()\n",
    "    res = results[0].data.meas.get_counts()\n",
    "\n",
    "    counts_left = 0\n",
    "    row = [0 for _ in range(N)]\n",
    "    for key, value in res.items():\n",
    "        if key[0] == \"0\":\n",
    "            counts_left += value\n",
    "\n",
    "            for i in range(1, N+1):\n",
    "                if key[i] == '1':\n",
    "                    row[i-1] += value\n",
    "    magnetization.append([x/counts_left for x in row][::-1]) #the output for qiskit is qNqN-1...q1q0\n",
    "\n",
    "magnetization=np.array(magnetization)\n",
    "\n",
    "fig = plt.figure(figsize=(10/2,6/2), facecolor='white')\n",
    "im = plt.pcolormesh([0.1 * i for i in range(nb_timesteps)], np.arange(0,N,1), magnetization.T, cmap='inferno')\n",
    "fig.colorbar(im)\n",
    "plt.ylabel('Qubit index')\n",
    "plt.xlabel('T')\n",
    "\n"
   ]
  },
  {
   "cell_type": "code",
   "execution_count": 14,
   "metadata": {},
   "outputs": [
    {
     "data": {
      "application/vnd.jupyter.widget-view+json": {
       "model_id": "eb7914d980af4fb8bf003dbb58573a91",
       "version_major": 2,
       "version_minor": 0
      },
      "text/plain": [
       "  0%|          | 0/10 [00:00<?, ?it/s]"
      ]
     },
     "metadata": {},
     "output_type": "display_data"
    }
   ],
   "source": [
    "# For gamma = 0.5 case \n",
    "# (Original Implementation using individual UnitaryGates, but missed out projection between each trotter step)\n",
    "N = 6\n",
    "\n",
    "# Generate the unitary\n",
    "matrix = get_U_HN(2, 0.5, N, 0.1)\n",
    "gate = UnitaryGate(matrix)\n",
    "\n",
    "# Create the relevant circuits for paper's Fig 3a\n",
    "circuits = []\n",
    "for n_steps in range(1, nb_timesteps+1):\n",
    "    qc = QuantumCircuit(N+1)\n",
    "    qc.h(N//2 - 1)\n",
    "    qc.cx(N//2 - 1, N//2)\n",
    "    \n",
    "    gate = UnitaryGate(np.linalg.matrix_power(matrix, n_steps))\n",
    "    qc.append(gate, [i for i in range(N+1)])\n",
    "    \n",
    "    qc.measure_all()\n",
    "    circuits.append(qc)\n",
    "\n",
    "# Execute measurements for paper's Fig 3a\n",
    "magnetization=[]\n",
    "res_list = []\n",
    "for circ in tqdm(circuits):\n",
    "    pubs = [(circ)]\n",
    "    job = sampler.run(pubs, shots=160000)\n",
    "    results = job.result()\n",
    "    res = results[0].data.meas.get_counts()\n",
    "\n",
    "    counts_left = 0\n",
    "    row = [0 for _ in range(N)]\n",
    "    for key, value in res.items():\n",
    "        if key[0] == \"0\":\n",
    "            counts_left += value\n",
    "\n",
    "            for i in range(1, N+1):\n",
    "                if key[i] == '1':\n",
    "                    row[i-1] += value\n",
    "    magnetization.append([x/counts_left for x in row][::-1]) #the output for qiskit is qNqN-1...q1q0\n",
    "\n",
    "magnetization=np.array(magnetization)"
   ]
  },
  {
   "cell_type": "code",
   "execution_count": 15,
   "metadata": {},
   "outputs": [
    {
     "data": {
      "text/plain": [
       "Text(0.5, 0, 'T')"
      ]
     },
     "execution_count": 15,
     "metadata": {},
     "output_type": "execute_result"
    },
    {
     "data": {
      "image/png": "[encoded data removed]",
      "text/plain": [
       "<Figure size 500x300 with 2 Axes>"
      ]
     },
     "metadata": {},
     "output_type": "display_data"
    }
   ],
   "source": [
    "fig = plt.figure(figsize=(10/2,6/2), facecolor='white')\n",
    "im = plt.pcolormesh([0.1 * i for i in range(nb_timesteps)], np.arange(0,N,1), magnetization.T, cmap='inferno')\n",
    "fig.colorbar(im)\n",
    "plt.ylabel('Qubit index')\n",
    "plt.xlabel('T')"
   ]
  },
  {
   "cell_type": "markdown",
   "metadata": {},
   "source": [
    "# Second Attempt: Mathematical implementation of Fig 3a\n",
    "Note: Qiskit was not used"
   ]
  },
  {
   "cell_type": "code",
   "execution_count": 16,
   "metadata": {},
   "outputs": [
    {
     "name": "stdout",
     "output_type": "stream",
     "text": [
      "(6, 10)\n"
     ]
    },
    {
     "data": {
      "text/plain": [
       "Text(0.5, 0, 'T')"
      ]
     },
     "execution_count": 16,
     "metadata": {},
     "output_type": "execute_result"
    },
    {
     "data": {
      "image/png": "[encoded data removed]",
      "text/plain": [
       "<Figure size 600x300 with 2 Axes>"
      ]
     },
     "metadata": {},
     "output_type": "display_data"
    }
   ],
   "source": [
    "# For gamma = 0.5 case \n",
    "# (Full matrices and state vector based, no qiskit)\n",
    "N = 6\n",
    "nb_timesteps = 10\n",
    "timestep_duration = 0.2\n",
    "gamma = 0.5\n",
    "J = 1\n",
    "\n",
    "# Generate the unitary\n",
    "matrix = get_U_HN(J, gamma , N, timestep_duration)\n",
    "projection_matrix = projection(N+1)\n",
    "\n",
    "# create the initial state vector (|↓↓↑↓↓↓⟩+|↓↓↓↑↓↓⟩)/ 2\n",
    "initial_vector = np.zeros((2**(N+1), 1), dtype=complex)\n",
    "initial_vector[ (2**N - 1) - 2**(N//2)] = 1/np.sqrt(2)\n",
    "initial_vector[ (2**N - 1) - 2**(N//2 -1)] = 1/np.sqrt(2)\n",
    "\n",
    "magnetization=[]\n",
    "for n_steps in range(1, nb_timesteps + 1):\n",
    "\n",
    "    # for each time step, apply the matrix n_steps times onto the initial vector\n",
    "    state_vector = np.matmul(np.linalg.matrix_power(matrix @ projection_matrix, n_steps), initial_vector).T[0]\n",
    "    state_dict = {}\n",
    "    for i in range(2 ** (N+1)):\n",
    "\n",
    "        # allocate the relevant probabilities to each state\n",
    "        state_dict[bin(i)[2:].zfill(N+1)] = np.abs(state_vector[i]) ** 2\n",
    "\n",
    "   \n",
    "    # create a new row to add to magnetization array\n",
    "    row = [0 for _ in range(N)]\n",
    "    prob = 0\n",
    "    for key, value in state_dict.items():\n",
    "\n",
    "        # key[0] is the ancillary qubit\n",
    "        if key[0] == '0':\n",
    "            prob += value\n",
    "            for i in range(1, N + 1):\n",
    "\n",
    "                # if the other qubits have a result of 0, then add the probabilities to that qubit\n",
    "                if key[i] == '0':\n",
    "                    row[N - i] += value\n",
    "\n",
    "    magnetization += [[x/prob for x in row]]\n",
    "\n",
    "magnetization = np.array(magnetization)\n",
    "print(magnetization.T.shape)\n",
    "fig = plt.figure(figsize=((nb_timesteps + 2)/2 , N/2), facecolor='white')\n",
    "im = plt.pcolormesh([timestep_duration * i for i in range(nb_timesteps)], np.arange(0,N,1), magnetization.T, cmap='inferno')\n",
    "fig.colorbar(im)\n",
    "plt.ylabel('Qubit index')\n",
    "plt.xlabel('T')"
   ]
  },
  {
   "cell_type": "markdown",
   "metadata": {},
   "source": [
    "# Third Attempt: Adapting the Mathematical Representation to Qiskit\n",
    "Note: the `Statevector` Class was used, however sampler was not used as far as I am aware.\n",
    "\n",
    "The first attempt follows the method detailed in the paper. Since a second non-unitary operation (the projection between each trotter step) was necessary, I adopted using the `Statevector` class which came with an `evolve` method which can take non-unitary operators. However, I am not sure why we cannot use this directly with the non-unitary HN operator.\n"
   ]
  },
  {
   "cell_type": "code",
   "execution_count": 17,
   "metadata": {},
   "outputs": [
    {
     "data": {
      "application/vnd.jupyter.widget-view+json": {
       "model_id": "07b7da8f3bec472fbc583d9c2fc4bfc3",
       "version_major": 2,
       "version_minor": 0
      },
      "text/plain": [
       "  0%|          | 0/10 [00:00<?, ?it/s]"
      ]
     },
     "metadata": {},
     "output_type": "display_data"
    },
    {
     "name": "stdout",
     "output_type": "stream",
     "text": [
      "(6, 10)\n"
     ]
    },
    {
     "data": {
      "text/plain": [
       "Text(0.5, 0, 'T')"
      ]
     },
     "execution_count": 17,
     "metadata": {},
     "output_type": "execute_result"
    },
    {
     "data": {
      "image/png": "[encoded data removed]",
      "text/plain": [
       "<Figure size 600x300 with 2 Axes>"
      ]
     },
     "metadata": {},
     "output_type": "display_data"
    }
   ],
   "source": [
    "# For gamma = 0.5 case \n",
    "# Adapting the math representation to Qiskit\n",
    "N = 6\n",
    "J = 1\n",
    "gamma = 0.5\n",
    "timestep_duration = 0.2\n",
    "\n",
    "# Generate the unitary\n",
    "matrix = get_U_HN(J, gamma, N, timestep_duration)\n",
    "projection_matrix = projection(N+1)\n",
    "gate = Operator(matrix)\n",
    "projector = Operator(projection_matrix)\n",
    "\n",
    "initial_vector = np.zeros((2**(N+1), 1), dtype=complex)\n",
    "initial_vector[ (2**N - 1) - 2**(N//2)] = 1/np.sqrt(2)\n",
    "initial_vector[ (2**N - 1) - 2**(N//2 -1)] = 1/np.sqrt(2)\n",
    "\n",
    "\n",
    "magnetization=[]\n",
    "# Create the relevant circuits for paper's Fig 3a\n",
    "circuits = []\n",
    "for n_steps in range(1, nb_timesteps+1):\n",
    "    state = Statevector(initial_vector)\n",
    "    \n",
    "    for _ in range(n_steps):\n",
    "        state = state.evolve(gate)\n",
    "        state = state.evolve(projector)\n",
    "    \n",
    "    # qc.measure_all()\n",
    "    # circuits.append(qc)\n",
    "    circuits.append(state)\n",
    "\n",
    "# Execute measurements for paper's Fig 3a\n",
    "density=[]\n",
    "res_list = []\n",
    "for circ in tqdm(circuits):\n",
    "    # pubs = [(circ)]\n",
    "    # job = sampler.run(pubs, shots=160000)\n",
    "    # results = job.result()\n",
    "    # res = results[0].data.meas.get_counts()\n",
    "    probs = circ.probabilities()\n",
    "    state_dict = {}\n",
    "    for i in range(2 ** (N+1)):\n",
    "\n",
    "        # allocate the relevant probabilities to each state\n",
    "        state_dict[bin(i)[2:].zfill(N+1)] = np.abs(probs[i])\n",
    "\n",
    "    # create a new row to add to magnetization array\n",
    "    row = [0 for _ in range(N)]\n",
    "    prob = 0\n",
    "    for key, value in state_dict.items():\n",
    "\n",
    "        # key[0] is the ancillary qubit\n",
    "        if key[0] == '0':\n",
    "            prob += value\n",
    "            for i in range(1, N + 1):\n",
    "\n",
    "                # if the other qubits have a result of 0, then add the probabilities to that qubit\n",
    "                if key[i] == '0':\n",
    "                    row[N - i] += value\n",
    "\n",
    "    magnetization += [[x/prob for x in row]]\n",
    "\n",
    "magnetization = np.array(magnetization)\n",
    "print(magnetization.T.shape)\n",
    "fig = plt.figure(figsize=((nb_timesteps + 2)/2 , N/2), facecolor='white')\n",
    "im = plt.pcolormesh([timestep_duration * i for i in range(nb_timesteps)], np.arange(0,N,1), magnetization.T, cmap='inferno')\n",
    "fig.colorbar(im)\n",
    "plt.ylabel('Qubit index')\n",
    "plt.xlabel('T')"
   ]
  },
  {
   "cell_type": "code",
   "execution_count": 177,
   "metadata": {},
   "outputs": [
    {
     "data": {
      "application/vnd.jupyter.widget-view+json": {
       "model_id": "31193598964e4cbe8bf55a24db2aebcd",
       "version_major": 2,
       "version_minor": 0
      },
      "text/plain": [
       "  0%|          | 0/10 [00:00<?, ?it/s]"
      ]
     },
     "metadata": {},
     "output_type": "display_data"
    },
    {
     "name": "stdout",
     "output_type": "stream",
     "text": [
      "(6, 10)\n"
     ]
    },
    {
     "data": {
      "text/plain": [
       "Text(0.5, 0, 'T')"
      ]
     },
     "execution_count": 177,
     "metadata": {},
     "output_type": "execute_result"
    },
    {
     "data": {
      "image/png": "[encoded data removed]",
      "text/plain": [
       "<Figure size 600x300 with 2 Axes>"
      ]
     },
     "metadata": {},
     "output_type": "display_data"
    }
   ],
   "source": [
    "# For gamma = 0.5 case \n",
    "# Using R_HN directly\n",
    "N = 6\n",
    "J = 1\n",
    "gamma = 0.5\n",
    "timestep_duration = 0.2\n",
    "\n",
    "# Generate the unitary\n",
    "matrix = get_R_HN(J, gamma, N, timestep_duration)\n",
    "projection_matrix = projection(N+1)\n",
    "gate = Operator(matrix)\n",
    "projector = Operator(projection_matrix)\n",
    "\n",
    "initial_vector = np.zeros((2**(N), 1), dtype=complex)\n",
    "initial_vector[ (2**N - 1) - 2**(N//2)] = 1/np.sqrt(2)\n",
    "initial_vector[ (2**N - 1) - 2**(N//2 -1)] = 1/np.sqrt(2)\n",
    "\n",
    "\n",
    "magnetization=[]\n",
    "# Create the relevant circuits for paper's Fig 3a\n",
    "circuits = []\n",
    "for n_steps in range(1, nb_timesteps+1):\n",
    "    state = Statevector(initial_vector)\n",
    "    \n",
    "    for _ in range(n_steps):\n",
    "        state = state.evolve(gate)\n",
    "        #state = state.evolve(projector)\n",
    "    \n",
    "    # qc.measure_all()\n",
    "    # circuits.append(qc)\n",
    "    circuits.append(state)\n",
    "\n",
    "# Execute measurements for paper's Fig 3a\n",
    "density=[]\n",
    "res_list = []\n",
    "for circ in tqdm(circuits):\n",
    "    # pubs = [(circ)]\n",
    "    # job = sampler.run(pubs, shots=160000)\n",
    "    # results = job.result()\n",
    "    # res = results[0].data.meas.get_counts()\n",
    "    probs = circ.probabilities()\n",
    "    state_dict = {}\n",
    "    for i in range(2 ** (N)):\n",
    "\n",
    "        # allocate the relevant probabilities to each state\n",
    "        state_dict[bin(i)[2:].zfill(N)] = np.abs(probs[i])\n",
    "\n",
    "    # create a new row to add to magnetization array\n",
    "    row = [0 for _ in range(N)]\n",
    "    prob = 0\n",
    "    for key, value in state_dict.items():\n",
    "\n",
    "        # key[0] is the ancillary qubit\n",
    "        if True: #key[0] == '0':\n",
    "            prob += value\n",
    "            for i in range(0, N):\n",
    "\n",
    "                # if the other qubits have a result of 0, then add the probabilities to that qubit\n",
    "                if key[i] == '0':\n",
    "                    row[N - i - 1] += value\n",
    "\n",
    "    magnetization += [[x/prob for x in row]]\n",
    "\n",
    "magnetization = np.array(magnetization)\n",
    "print(magnetization.T.shape)\n",
    "fig = plt.figure(figsize=((nb_timesteps + 2)/2 , N/2), facecolor='white')\n",
    "im = plt.pcolormesh([timestep_duration * i for i in range(nb_timesteps)], np.arange(0,N,1), magnetization.T, cmap='inferno')\n",
    "fig.colorbar(im)\n",
    "plt.ylabel('Qubit index')\n",
    "plt.xlabel('T')"
   ]
  },
  {
   "cell_type": "markdown",
   "metadata": {},
   "source": [
    "# Fourth Attempt: Integrating Sampler (and hence adapting for execution on quantum computers)\n",
    "This is similar to attempt 3, except the `Statevectors` are now made into circuits and `Sampler` can thus be used on them (as far as I am aware). However, my original question in attempt 3 remains, hence there is a second circuit under this attempt (also directly using `R_HN`)"
   ]
  },
  {
   "cell_type": "code",
   "execution_count": 184,
   "metadata": {},
   "outputs": [
    {
     "data": {
      "application/vnd.jupyter.widget-view+json": {
       "model_id": "ca7b2266750b4ba88d2269de8a28d150",
       "version_major": 2,
       "version_minor": 0
      },
      "text/plain": [
       "  0%|          | 0/10 [00:00<?, ?it/s]"
      ]
     },
     "metadata": {},
     "output_type": "display_data"
    },
    {
     "name": "stdout",
     "output_type": "stream",
     "text": [
      "(6, 10)\n"
     ]
    },
    {
     "data": {
      "text/plain": [
       "Text(0.5, 0, 'T')"
      ]
     },
     "execution_count": 184,
     "metadata": {},
     "output_type": "execute_result"
    },
    {
     "data": {
      "image/png": "[encoded data removed]",
      "text/plain": [
       "<Figure size 600x300 with 2 Axes>"
      ]
     },
     "metadata": {},
     "output_type": "display_data"
    }
   ],
   "source": [
    "# For gamma = 0.5 case \n",
    "# Adapting the math representation to Qiskit\n",
    "# Using Sampler\n",
    "N = 6\n",
    "J = 1\n",
    "gamma = 0.5\n",
    "timestep_duration = 0.2\n",
    "\n",
    "# Generate the unitary\n",
    "matrix = get_U_HN(J, gamma, N, timestep_duration)\n",
    "projection_matrix = projection(N+1)\n",
    "gate = Operator(matrix)\n",
    "projector = Operator(projection_matrix)\n",
    "\n",
    "initial_vector = np.zeros((2**(N+1), 1), dtype=complex)\n",
    "initial_vector[ (2**N - 1) - 2**(N//2)] = 1/np.sqrt(2)\n",
    "initial_vector[ (2**N - 1) - 2**(N//2 -1)] = 1/np.sqrt(2)\n",
    "\n",
    "\n",
    "magnetization=[]\n",
    "# Create the relevant circuits for paper's Fig 3a\n",
    "circuits = []\n",
    "for n_steps in range(1, nb_timesteps+1):\n",
    "    qc = QuantumCircuit(N+1)\n",
    "    state = Statevector(initial_vector)\n",
    "    \n",
    "    for _ in range(n_steps):\n",
    "        state = state.evolve(gate)\n",
    "        state = state.evolve(projector)\n",
    "    \n",
    "    qc.initialize(state, range(N+1), normalize=True)\n",
    "    qc.measure_all()\n",
    "    circuits.append(qc)\n",
    "\n",
    "# Execute measurements for paper's Fig 3a\n",
    "magnetization=[]\n",
    "res_list = []\n",
    "for circ in tqdm(circuits):\n",
    "    pubs = [(circ)]\n",
    "    job = sampler.run(pubs, shots=160000)\n",
    "    results = job.result()\n",
    "    res = results[0].data.meas.get_counts()\n",
    "\n",
    "    counts_left = 0\n",
    "    row = [0 for _ in range(N)]\n",
    "    for key, value in res.items():\n",
    "        if key[0] == \"0\":\n",
    "            counts_left += value\n",
    "\n",
    "            for i in range(1, N+1):\n",
    "                if key[i] == '0':\n",
    "                    row[i-1] += value\n",
    "    magnetization.append([x/counts_left for x in row][::-1]) #the output for qiskit is qNqN-1...q1q0\n",
    "\n",
    "magnetization=np.array(magnetization)\n",
    "\n",
    "magnetization = np.array(magnetization)\n",
    "print(magnetization.T.shape)\n",
    "fig = plt.figure(figsize=((nb_timesteps + 2)/2 , N/2), facecolor='white')\n",
    "im = plt.pcolormesh([timestep_duration * i for i in range(nb_timesteps)], np.arange(0,N,1), magnetization.T, cmap='inferno')\n",
    "fig.colorbar(im)\n",
    "plt.ylabel('Qubit index')\n",
    "plt.xlabel('T')"
   ]
  },
  {
   "cell_type": "code",
   "execution_count": 186,
   "metadata": {},
   "outputs": [
    {
     "data": {
      "application/vnd.jupyter.widget-view+json": {
       "model_id": "c4f8301840ca4901836e2c281d2152b0",
       "version_major": 2,
       "version_minor": 0
      },
      "text/plain": [
       "  0%|          | 0/10 [00:00<?, ?it/s]"
      ]
     },
     "metadata": {},
     "output_type": "display_data"
    },
    {
     "name": "stdout",
     "output_type": "stream",
     "text": [
      "(6, 10)\n"
     ]
    },
    {
     "data": {
      "text/plain": [
       "Text(0.5, 0, 'T')"
      ]
     },
     "execution_count": 186,
     "metadata": {},
     "output_type": "execute_result"
    },
    {
     "data": {
      "image/png": "[encoded data removed]",
      "text/plain": [
       "<Figure size 600x300 with 2 Axes>"
      ]
     },
     "metadata": {},
     "output_type": "display_data"
    }
   ],
   "source": [
    "# For gamma = 0.5 case \n",
    "# Adapting the math representation to Qiskit\n",
    "# Using Sampler\n",
    "N = 6\n",
    "J = 1\n",
    "gamma = 0.5\n",
    "timestep_duration = 0.2\n",
    "\n",
    "# Generate the unitary\n",
    "matrix = get_R_HN(J, gamma, N, timestep_duration)\n",
    "projection_matrix = projection(N+1)\n",
    "gate = Operator(matrix)\n",
    "projector = Operator(projection_matrix)\n",
    "\n",
    "initial_vector = np.zeros((2**(N), 1), dtype=complex)\n",
    "initial_vector[ (2**N - 1) - 2**(N//2)] = 1/np.sqrt(2)\n",
    "initial_vector[ (2**N - 1) - 2**(N//2 -1)] = 1/np.sqrt(2)\n",
    "\n",
    "\n",
    "magnetization=[]\n",
    "# Create the relevant circuits for paper's Fig 3a\n",
    "circuits = []\n",
    "for n_steps in range(1, nb_timesteps+1):\n",
    "    qc = QuantumCircuit(N)\n",
    "    state = Statevector(initial_vector)\n",
    "    \n",
    "    for _ in range(n_steps):\n",
    "        state = state.evolve(gate)\n",
    "        # state = state.evolve(projector)\n",
    "    \n",
    "    qc.initialize(state, range(N), normalize=True)\n",
    "    qc.measure_all()\n",
    "    circuits.append(qc)\n",
    "\n",
    "# Execute measurements for paper's Fig 3a\n",
    "magnetization=[]\n",
    "res_list = []\n",
    "for circ in tqdm(circuits):\n",
    "    pubs = [(circ)]\n",
    "    job = sampler.run(pubs, shots=160000)\n",
    "    results = job.result()\n",
    "    res = results[0].data.meas.get_counts()\n",
    "\n",
    "    counts_left = 0\n",
    "    row = [0 for _ in range(N)]\n",
    "    for key, value in res.items():\n",
    "        if True: #key[0] == \"0\":\n",
    "            counts_left += value\n",
    "\n",
    "            for i in range(0, N):\n",
    "                if key[i] == '0':\n",
    "                    row[i] += value\n",
    "    magnetization.append([x/counts_left for x in row][::-1]) #the output for qiskit is qNqN-1...q1q0\n",
    "\n",
    "magnetization=np.array(magnetization)\n",
    "\n",
    "magnetization = np.array(magnetization)\n",
    "print(magnetization.T.shape)\n",
    "fig = plt.figure(figsize=((nb_timesteps + 2)/2 , N/2), facecolor='white')\n",
    "im = plt.pcolormesh([timestep_duration * i for i in range(nb_timesteps)], np.arange(0,N,1), magnetization.T, cmap='inferno')\n",
    "fig.colorbar(im)\n",
    "plt.ylabel('Qubit index')\n",
    "plt.xlabel('T')"
   ]
  },
  {
   "cell_type": "markdown",
   "metadata": {},
   "source": [
    "# Attempt 6: Using VQA -- adapting from attempt 2"
   ]
  },
  {
   "cell_type": "code",
   "execution_count": 79,
   "metadata": {},
   "outputs": [
    {
     "data": {
      "text/plain": [
       "\"\\n    # create a new row to add to magnetization array\\n    row = [0 for _ in range(N)]\\n    prob = 0\\n    for key, value in state_dict.items():\\n\\n        prob += value\\n        for i in range(1, N + 1):\\n\\n            # if the other qubits have a result of 0, then add the probabilities to that qubit\\n            if key[i] == '0':\\n                row[N - i] += value\\n\\n    states += [[x/prob for x in row]]\\n\\nstates = np.array(states)\\n\\nprint(states.T.shape)\\nfig = plt.figure(figsize=((nb_timesteps + 2)/2 , N/2), facecolor='white')\\nim = plt.pcolormesh([timestep_duration * i for i in range(nb_timesteps)], np.arange(0,N,1), states.T, cmap='inferno')\\nfig.colorbar(im)\\nplt.ylabel('Qubit index')\\nplt.xlabel('T')\\n\\n\""
      ]
     },
     "execution_count": 79,
     "metadata": {},
     "output_type": "execute_result"
    }
   ],
   "source": [
    "# For gamma = 0.5 case \n",
    "# (Full matrices and state vector based, no qiskit)\n",
    "N = 6\n",
    "nb_timesteps = 10\n",
    "timestep_duration = 0.2\n",
    "gamma = 0.5\n",
    "J = 1\n",
    "\n",
    "# Generate the unitary\n",
    "matrix = get_U_HN(J, gamma , N, timestep_duration)\n",
    "projection_matrix = projection(N+1)\n",
    "\n",
    "# create the initial state vector (|↓↓↑↓↓↓⟩+|↓↓↓↑↓↓⟩)/ 2\n",
    "initial_vector = np.zeros((2**(N+1), 1), dtype=complex)\n",
    "initial_vector[ (2**N - 1) - 2**(N//2)] = 1/np.sqrt(2)\n",
    "initial_vector[ (2**N - 1) - 2**(N//2 -1)] = 1/np.sqrt(2)\n",
    "\n",
    "states_all_circuits={}\n",
    "for n_steps in range(1, nb_timesteps + 1):\n",
    "\n",
    "    # for each time step, apply the matrix n_steps times onto the initial vector\n",
    "    state_vector = np.matmul(np.linalg.matrix_power(projection_matrix @ matrix, n_steps), initial_vector).T[0]\n",
    "    state_dict = {}\n",
    "    for i in range(2 ** (N+1)):\n",
    " \n",
    "        # allocate the relevant quasi-probabilities to each state\n",
    "        # state_dict[bin(i)[2:].zfill(N+1)] = np.abs(state_vector[i]) ** 2\n",
    "        state_dict[bin(i)[2:].zfill(N+1)] = state_vector[i]\n",
    "    \n",
    "    states_all_circuits[n_steps] = state_dict\n",
    "\n",
    "\n",
    "\n",
    "'''\n",
    "    # create a new row to add to magnetization array\n",
    "    row = [0 for _ in range(N)]\n",
    "    prob = 0\n",
    "    for key, value in state_dict.items():\n",
    "\n",
    "        prob += value\n",
    "        for i in range(1, N + 1):\n",
    "\n",
    "            # if the other qubits have a result of 0, then add the probabilities to that qubit\n",
    "            if key[i] == '0':\n",
    "                row[N - i] += value\n",
    "\n",
    "    states += [[x/prob for x in row]]\n",
    "\n",
    "states = np.array(states)\n",
    "\n",
    "print(states.T.shape)\n",
    "fig = plt.figure(figsize=((nb_timesteps + 2)/2 , N/2), facecolor='white')\n",
    "im = plt.pcolormesh([timestep_duration * i for i in range(nb_timesteps)], np.arange(0,N,1), states.T, cmap='inferno')\n",
    "fig.colorbar(im)\n",
    "plt.ylabel('Qubit index')\n",
    "plt.xlabel('T')\n",
    "\n",
    "'''"
   ]
  },
  {
   "cell_type": "code",
   "execution_count": 68,
   "metadata": {},
   "outputs": [],
   "source": [
    "def variational_circuit(params):\n",
    "    qc = QuantumCircuit(N+1)\n",
    "    stepper = 0\n",
    "    layers = 8\n",
    "\n",
    "    # initial\n",
    "    for qubit in range(N+1):\n",
    "        qc.u(params[stepper * 3 + 0], params[stepper * 3 + 1], params[stepper * 3 + 2], qubit)\n",
    "        stepper += 1\n",
    "    \n",
    "    for layer in range(layers):\n",
    "        # CX gates\n",
    "        qc.cx(0, 1)\n",
    "        qc.cx(2, 3)\n",
    "        qc.cx(4, 5)\n",
    "\n",
    "        # first set of U3 gates\n",
    "        while qubit in range(N):\n",
    "            qc.u(params[stepper * 3 + 0], params[stepper * 3 + 1], params[stepper * 3 + 2], qubit)\n",
    "            stepper += 1\n",
    "        \n",
    "        # CX gates\n",
    "        qc.cx(0, 1)\n",
    "        qc.cx(2, 3)\n",
    "        qc.cx(4, 5)\n",
    "\n",
    "        # CX gates\n",
    "        qc.cx(1, 2)\n",
    "        qc.cx(3, 4)\n",
    "        qc.cx(5, 6)\n",
    "\n",
    "        # first set of U3 gates\n",
    "        while qubit in range(N):\n",
    "            qc.u(params[stepper * 3 + 0], params[stepper * 3 + 1], params[stepper * 3 + 2], qubit+1)\n",
    "            stepper += 1\n",
    "        \n",
    "        # CX gates\n",
    "        qc.cx(1, 2)\n",
    "        qc.cx(3, 4)\n",
    "        qc.cx(5, 6)\n",
    "\n",
    "    qc.measure_all()\n",
    "\n",
    "    return qc\n",
    "\n",
    "\n"
   ]
  },
  {
   "cell_type": "code",
   "execution_count": 47,
   "metadata": {},
   "outputs": [],
   "source": [
    "def calculate_results(params):\n",
    "\n",
    "    # initialization of the sampler\n",
    "    sampler = Sampler()\n",
    "    \n",
    "    # Sampler runs a job on the Bell circuit\n",
    "    job = sampler.run(circuits=[variational_circuit(params)], parameter_values=[[]], parameters=[[]])\n",
    "    job_result = job.result()\n",
    "    return job_result.quasi_dists[0].binary_probabilities()"
   ]
  },
  {
   "cell_type": "code",
   "execution_count": 108,
   "metadata": {},
   "outputs": [
    {
     "data": {
      "text/plain": [
       "{'0000000': 1.854145032e-07,\n",
       " '0000001': 6.01622501809e-05,\n",
       " '0000010': 3.919117605e-07,\n",
       " '0000011': 0.0001271653132625,\n",
       " '0000100': 1.91293573e-08,\n",
       " '0000101': 6.2069857436e-06,\n",
       " '0000110': 4.04338385e-08,\n",
       " '0000111': 1.31197434292e-05,\n",
       " '0001000': 3.25560558e-08,\n",
       " '0001001': 1.05636050175e-05,\n",
       " '0001010': 6.88139328e-08,\n",
       " '0001011': 2.23283560237e-05,\n",
       " '0001100': 3.3588334e-09,\n",
       " '0001101': 1.0898552755e-06,\n",
       " '0001110': 7.0995865e-09,\n",
       " '0001111': 2.3036337088e-06,\n",
       " '0010000': 0.0001844564961396,\n",
       " '0010001': 0.0598514014567525,\n",
       " '0010010': 0.0003898868151435,\n",
       " '0010011': 0.1265082704281085,\n",
       " '0010100': 1.9030518945e-05,\n",
       " '0010101': 0.0061749152409814,\n",
       " '0010110': 4.02249233684e-05,\n",
       " '0010111': 0.0130519558132852,\n",
       " '0011000': 3.23878439099e-05,\n",
       " '0011001': 0.0105090245599277,\n",
       " '0011010': 6.84583821967e-05,\n",
       " '0011011': 0.0222129889794414,\n",
       " '0011100': 3.3414788311e-06,\n",
       " '0011101': 0.00108422416758,\n",
       " '0011110': 7.0629040809e-06,\n",
       " '0011111': 0.0022917312019171,\n",
       " '0100000': 1.352276227e-07,\n",
       " '0100001': 4.38778948039e-05,\n",
       " '0100010': 2.858314466e-07,\n",
       " '0100011': 9.27449724913e-05,\n",
       " '0100100': 1.39515381e-08,\n",
       " '0100101': 4.5269162421e-06,\n",
       " '0100110': 2.94894508e-08,\n",
       " '0100111': 9.5685703295e-06,\n",
       " '0101000': 2.37439788e-08,\n",
       " '0101001': 7.7043120614e-06,\n",
       " '0101010': 5.01877921e-08,\n",
       " '0101011': 1.62846511527e-05,\n",
       " '0101100': 2.4496846e-09,\n",
       " '0101101': 7.948598163e-07,\n",
       " '0101110': 5.1779132e-09,\n",
       " '0101111': 1.6801000169e-06,\n",
       " '0110000': 0.0001345289231898,\n",
       " '0110001': 0.0436511847394446,\n",
       " '0110010': 0.0002843546012469,\n",
       " '0110011': 0.092265774052346,\n",
       " '0110100': 1.38794527436e-05,\n",
       " '0110101': 0.0045035263899252,\n",
       " '0110110': 2.93370834825e-05,\n",
       " '0110111': 0.0095191310570807,\n",
       " '0111000': 2.36212974703e-05,\n",
       " '0111001': 0.0076645051131883,\n",
       " '0111010': 4.99284797933e-05,\n",
       " '0111011': 0.0162005109647679,\n",
       " '0111100': 2.4370274749e-06,\n",
       " '0111101': 0.0007907529027905,\n",
       " '0111110': 5.1511597612e-06,\n",
       " '0111111': 0.0016714192087936,\n",
       " '1000000': 2.564054003e-07,\n",
       " '1000001': 8.31969752879e-05,\n",
       " '1000010': 5.419656505e-07,\n",
       " '1000011': 0.0001758539514923,\n",
       " '1000100': 2.64535429e-08,\n",
       " '1000101': 8.5834960954e-06,\n",
       " '1000110': 5.59150141e-08,\n",
       " '1000111': 1.81429877802e-05,\n",
       " '1001000': 4.50210118e-08,\n",
       " '1001001': 1.46081634737e-05,\n",
       " '1001010': 9.51611858e-08,\n",
       " '1001011': 3.08773637745e-05,\n",
       " '1001100': 4.6448525e-09,\n",
       " '1001101': 1.5071354903e-06,\n",
       " '1001110': 9.8178529e-09,\n",
       " '1001111': 3.1856414308e-06,\n",
       " '1010000': 0.00025508059464,\n",
       " '1010001': 0.0827671098234077,\n",
       " '1010010': 0.0005391654006799,\n",
       " '1010011': 0.1749453422516524,\n",
       " '1010100': 2.63168616471e-05,\n",
       " '1010101': 0.0085391465439592,\n",
       " '1010110': 5.562611015e-05,\n",
       " '1010111': 0.0180492458641762,\n",
       " '1011000': 4.47883954024e-05,\n",
       " '1011001': 0.0145326854295455,\n",
       " '1011010': 9.46695031311e-05,\n",
       " '1011011': 0.0307178253744992,\n",
       " '1011100': 4.6208532909e-06,\n",
       " '1011101': 0.0014993483622289,\n",
       " '1011110': 9.7671256397e-06,\n",
       " '1011111': 0.0031691817310554,\n",
       " '1100000': 1.870031315e-07,\n",
       " '1100001': 6.06777193126e-05,\n",
       " '1100010': 3.952696538e-07,\n",
       " '1100011': 0.0001282548634939,\n",
       " '1100100': 1.92932573e-08,\n",
       " '1100101': 6.2601670914e-06,\n",
       " '1100110': 4.0780275e-08,\n",
       " '1100111': 1.32321531667e-05,\n",
       " '1101000': 3.28349956e-08,\n",
       " '1101001': 1.06541138048e-05,\n",
       " '1101010': 6.94035294e-08,\n",
       " '1101011': 2.25196649967e-05,\n",
       " '1101100': 3.3876118e-09,\n",
       " '1101101': 1.0991931369e-06,\n",
       " '1101110': 7.1604156e-09,\n",
       " '1101111': 2.3233712031e-06,\n",
       " '1110000': 0.0001860369162471,\n",
       " '1110001': 0.060364207241865,\n",
       " '1110010': 0.0003932273587144,\n",
       " '1110011': 0.1275921911277262,\n",
       " '1110100': 1.91935721062e-05,\n",
       " '1110101': 0.0062278218092669,\n",
       " '1110110': 4.05695698245e-05,\n",
       " '1110111': 0.013163784747699,\n",
       " '1111000': 3.26653424032e-05,\n",
       " '1111001': 0.0105990657028091,\n",
       " '1111010': 6.90449324458e-05,\n",
       " '1111011': 0.0224033094895054,\n",
       " '1111100': 3.3701085647e-06,\n",
       " '1111101': 0.0010935137817237,\n",
       " '1111110': 7.1234189224e-06,\n",
       " '1111111': 0.0023113667157006}"
      ]
     },
     "execution_count": 108,
     "metadata": {},
     "output_type": "execute_result"
    }
   ],
   "source": []
  },
  {
   "cell_type": "code",
   "execution_count": 146,
   "metadata": {},
   "outputs": [],
   "source": [
    "def cost_function(params, n_steps):\n",
    "    results = calculate_results(params)\n",
    "    sum = 0\n",
    "    for key in results:\n",
    "        sum += np.conj(results[key]) * states_all_circuits[n_steps][key]\n",
    "\n",
    "    return np.abs(1 - sum) * 100"
   ]
  },
  {
   "cell_type": "code",
   "execution_count": 131,
   "metadata": {},
   "outputs": [
    {
     "data": {
      "text/plain": [
       "1.0000586993277734"
      ]
     },
     "execution_count": 131,
     "metadata": {},
     "output_type": "execute_result"
    }
   ],
   "source": [
    "cost_function(np.ones((((N+1) + (N * 2 * 8)) * 3)), 8)"
   ]
  },
  {
   "cell_type": "code",
   "execution_count": 116,
   "metadata": {},
   "outputs": [
    {
     "name": "stdout",
     "output_type": "stream",
     "text": [
      "309\n"
     ]
    }
   ],
   "source": [
    "#params0 = np.ones((((N+1) + (N * 2 * 8)) * 3))\n",
    "#params0 = np.([np.pi for _ in range(((N+1) + (N * 2 * 8)) * 3)])\n",
    "randoms = np.random.rand(((N+1) + (N * 2 * 8)) * 3)\n",
    "params0 = np.array([i * np.pi if i % 3 == 0 else i * 2 * np.pi for i in randoms])\n",
    "bounds = tuple([(0.0, np.pi) if i % 3 == 0 else (0.0, 2 * np.pi) for i in range(((N+1) + (N * 2 * 8)) * 3)])\n",
    "print(len(params0))\n",
    "\n"
   ]
  },
  {
   "cell_type": "code",
   "execution_count": 142,
   "metadata": {},
   "outputs": [
    {
     "data": {
      "text/plain": [
       "((0.0, 3.141592653589793),\n",
       " (0.0, 6.283185307179586),\n",
       " (0.0, 6.283185307179586),\n",
       " (0.0, 3.141592653589793),\n",
       " (0.0, 6.283185307179586),\n",
       " (0.0, 6.283185307179586),\n",
       " (0.0, 3.141592653589793),\n",
       " (0.0, 6.283185307179586),\n",
       " (0.0, 6.283185307179586),\n",
       " (0.0, 3.141592653589793),\n",
       " (0.0, 6.283185307179586),\n",
       " (0.0, 6.283185307179586),\n",
       " (0.0, 3.141592653589793),\n",
       " (0.0, 6.283185307179586),\n",
       " (0.0, 6.283185307179586),\n",
       " (0.0, 3.141592653589793),\n",
       " (0.0, 6.283185307179586),\n",
       " (0.0, 6.283185307179586),\n",
       " (0.0, 3.141592653589793),\n",
       " (0.0, 6.283185307179586),\n",
       " (0.0, 6.283185307179586),\n",
       " (0.0, 3.141592653589793),\n",
       " (0.0, 6.283185307179586),\n",
       " (0.0, 6.283185307179586),\n",
       " (0.0, 3.141592653589793),\n",
       " (0.0, 6.283185307179586),\n",
       " (0.0, 6.283185307179586),\n",
       " (0.0, 3.141592653589793),\n",
       " (0.0, 6.283185307179586),\n",
       " (0.0, 6.283185307179586),\n",
       " (0.0, 3.141592653589793),\n",
       " (0.0, 6.283185307179586),\n",
       " (0.0, 6.283185307179586),\n",
       " (0.0, 3.141592653589793),\n",
       " (0.0, 6.283185307179586),\n",
       " (0.0, 6.283185307179586),\n",
       " (0.0, 3.141592653589793),\n",
       " (0.0, 6.283185307179586),\n",
       " (0.0, 6.283185307179586),\n",
       " (0.0, 3.141592653589793),\n",
       " (0.0, 6.283185307179586),\n",
       " (0.0, 6.283185307179586),\n",
       " (0.0, 3.141592653589793),\n",
       " (0.0, 6.283185307179586),\n",
       " (0.0, 6.283185307179586),\n",
       " (0.0, 3.141592653589793),\n",
       " (0.0, 6.283185307179586),\n",
       " (0.0, 6.283185307179586),\n",
       " (0.0, 3.141592653589793),\n",
       " (0.0, 6.283185307179586),\n",
       " (0.0, 6.283185307179586),\n",
       " (0.0, 3.141592653589793),\n",
       " (0.0, 6.283185307179586),\n",
       " (0.0, 6.283185307179586),\n",
       " (0.0, 3.141592653589793),\n",
       " (0.0, 6.283185307179586),\n",
       " (0.0, 6.283185307179586),\n",
       " (0.0, 3.141592653589793),\n",
       " (0.0, 6.283185307179586),\n",
       " (0.0, 6.283185307179586),\n",
       " (0.0, 3.141592653589793),\n",
       " (0.0, 6.283185307179586),\n",
       " (0.0, 6.283185307179586),\n",
       " (0.0, 3.141592653589793),\n",
       " (0.0, 6.283185307179586),\n",
       " (0.0, 6.283185307179586),\n",
       " (0.0, 3.141592653589793),\n",
       " (0.0, 6.283185307179586),\n",
       " (0.0, 6.283185307179586),\n",
       " (0.0, 3.141592653589793),\n",
       " (0.0, 6.283185307179586),\n",
       " (0.0, 6.283185307179586),\n",
       " (0.0, 3.141592653589793),\n",
       " (0.0, 6.283185307179586),\n",
       " (0.0, 6.283185307179586),\n",
       " (0.0, 3.141592653589793),\n",
       " (0.0, 6.283185307179586),\n",
       " (0.0, 6.283185307179586),\n",
       " (0.0, 3.141592653589793),\n",
       " (0.0, 6.283185307179586),\n",
       " (0.0, 6.283185307179586),\n",
       " (0.0, 3.141592653589793),\n",
       " (0.0, 6.283185307179586),\n",
       " (0.0, 6.283185307179586),\n",
       " (0.0, 3.141592653589793),\n",
       " (0.0, 6.283185307179586),\n",
       " (0.0, 6.283185307179586),\n",
       " (0.0, 3.141592653589793),\n",
       " (0.0, 6.283185307179586),\n",
       " (0.0, 6.283185307179586),\n",
       " (0.0, 3.141592653589793),\n",
       " (0.0, 6.283185307179586),\n",
       " (0.0, 6.283185307179586),\n",
       " (0.0, 3.141592653589793),\n",
       " (0.0, 6.283185307179586),\n",
       " (0.0, 6.283185307179586),\n",
       " (0.0, 3.141592653589793),\n",
       " (0.0, 6.283185307179586),\n",
       " (0.0, 6.283185307179586),\n",
       " (0.0, 3.141592653589793),\n",
       " (0.0, 6.283185307179586),\n",
       " (0.0, 6.283185307179586),\n",
       " (0.0, 3.141592653589793),\n",
       " (0.0, 6.283185307179586),\n",
       " (0.0, 6.283185307179586),\n",
       " (0.0, 3.141592653589793),\n",
       " (0.0, 6.283185307179586),\n",
       " (0.0, 6.283185307179586),\n",
       " (0.0, 3.141592653589793),\n",
       " (0.0, 6.283185307179586),\n",
       " (0.0, 6.283185307179586),\n",
       " (0.0, 3.141592653589793),\n",
       " (0.0, 6.283185307179586),\n",
       " (0.0, 6.283185307179586),\n",
       " (0.0, 3.141592653589793),\n",
       " (0.0, 6.283185307179586),\n",
       " (0.0, 6.283185307179586),\n",
       " (0.0, 3.141592653589793),\n",
       " (0.0, 6.283185307179586),\n",
       " (0.0, 6.283185307179586),\n",
       " (0.0, 3.141592653589793),\n",
       " (0.0, 6.283185307179586),\n",
       " (0.0, 6.283185307179586),\n",
       " (0.0, 3.141592653589793),\n",
       " (0.0, 6.283185307179586),\n",
       " (0.0, 6.283185307179586),\n",
       " (0.0, 3.141592653589793),\n",
       " (0.0, 6.283185307179586),\n",
       " (0.0, 6.283185307179586),\n",
       " (0.0, 3.141592653589793),\n",
       " (0.0, 6.283185307179586),\n",
       " (0.0, 6.283185307179586),\n",
       " (0.0, 3.141592653589793),\n",
       " (0.0, 6.283185307179586),\n",
       " (0.0, 6.283185307179586),\n",
       " (0.0, 3.141592653589793),\n",
       " (0.0, 6.283185307179586),\n",
       " (0.0, 6.283185307179586),\n",
       " (0.0, 3.141592653589793),\n",
       " (0.0, 6.283185307179586),\n",
       " (0.0, 6.283185307179586),\n",
       " (0.0, 3.141592653589793),\n",
       " (0.0, 6.283185307179586),\n",
       " (0.0, 6.283185307179586),\n",
       " (0.0, 3.141592653589793),\n",
       " (0.0, 6.283185307179586),\n",
       " (0.0, 6.283185307179586),\n",
       " (0.0, 3.141592653589793),\n",
       " (0.0, 6.283185307179586),\n",
       " (0.0, 6.283185307179586),\n",
       " (0.0, 3.141592653589793),\n",
       " (0.0, 6.283185307179586),\n",
       " (0.0, 6.283185307179586),\n",
       " (0.0, 3.141592653589793),\n",
       " (0.0, 6.283185307179586),\n",
       " (0.0, 6.283185307179586),\n",
       " (0.0, 3.141592653589793),\n",
       " (0.0, 6.283185307179586),\n",
       " (0.0, 6.283185307179586),\n",
       " (0.0, 3.141592653589793),\n",
       " (0.0, 6.283185307179586),\n",
       " (0.0, 6.283185307179586),\n",
       " (0.0, 3.141592653589793),\n",
       " (0.0, 6.283185307179586),\n",
       " (0.0, 6.283185307179586),\n",
       " (0.0, 3.141592653589793),\n",
       " (0.0, 6.283185307179586),\n",
       " (0.0, 6.283185307179586),\n",
       " (0.0, 3.141592653589793),\n",
       " (0.0, 6.283185307179586),\n",
       " (0.0, 6.283185307179586),\n",
       " (0.0, 3.141592653589793),\n",
       " (0.0, 6.283185307179586),\n",
       " (0.0, 6.283185307179586),\n",
       " (0.0, 3.141592653589793),\n",
       " (0.0, 6.283185307179586),\n",
       " (0.0, 6.283185307179586),\n",
       " (0.0, 3.141592653589793),\n",
       " (0.0, 6.283185307179586),\n",
       " (0.0, 6.283185307179586),\n",
       " (0.0, 3.141592653589793),\n",
       " (0.0, 6.283185307179586),\n",
       " (0.0, 6.283185307179586),\n",
       " (0.0, 3.141592653589793),\n",
       " (0.0, 6.283185307179586),\n",
       " (0.0, 6.283185307179586),\n",
       " (0.0, 3.141592653589793),\n",
       " (0.0, 6.283185307179586),\n",
       " (0.0, 6.283185307179586),\n",
       " (0.0, 3.141592653589793),\n",
       " (0.0, 6.283185307179586),\n",
       " (0.0, 6.283185307179586),\n",
       " (0.0, 3.141592653589793),\n",
       " (0.0, 6.283185307179586),\n",
       " (0.0, 6.283185307179586),\n",
       " (0.0, 3.141592653589793),\n",
       " (0.0, 6.283185307179586),\n",
       " (0.0, 6.283185307179586),\n",
       " (0.0, 3.141592653589793),\n",
       " (0.0, 6.283185307179586),\n",
       " (0.0, 6.283185307179586),\n",
       " (0.0, 3.141592653589793),\n",
       " (0.0, 6.283185307179586),\n",
       " (0.0, 6.283185307179586),\n",
       " (0.0, 3.141592653589793),\n",
       " (0.0, 6.283185307179586),\n",
       " (0.0, 6.283185307179586),\n",
       " (0.0, 3.141592653589793),\n",
       " (0.0, 6.283185307179586),\n",
       " (0.0, 6.283185307179586),\n",
       " (0.0, 3.141592653589793),\n",
       " (0.0, 6.283185307179586),\n",
       " (0.0, 6.283185307179586),\n",
       " (0.0, 3.141592653589793),\n",
       " (0.0, 6.283185307179586),\n",
       " (0.0, 6.283185307179586),\n",
       " (0.0, 3.141592653589793),\n",
       " (0.0, 6.283185307179586),\n",
       " (0.0, 6.283185307179586),\n",
       " (0.0, 3.141592653589793),\n",
       " (0.0, 6.283185307179586),\n",
       " (0.0, 6.283185307179586),\n",
       " (0.0, 3.141592653589793),\n",
       " (0.0, 6.283185307179586),\n",
       " (0.0, 6.283185307179586),\n",
       " (0.0, 3.141592653589793),\n",
       " (0.0, 6.283185307179586),\n",
       " (0.0, 6.283185307179586),\n",
       " (0.0, 3.141592653589793),\n",
       " (0.0, 6.283185307179586),\n",
       " (0.0, 6.283185307179586),\n",
       " (0.0, 3.141592653589793),\n",
       " (0.0, 6.283185307179586),\n",
       " (0.0, 6.283185307179586),\n",
       " (0.0, 3.141592653589793),\n",
       " (0.0, 6.283185307179586),\n",
       " (0.0, 6.283185307179586),\n",
       " (0.0, 3.141592653589793),\n",
       " (0.0, 6.283185307179586),\n",
       " (0.0, 6.283185307179586),\n",
       " (0.0, 3.141592653589793),\n",
       " (0.0, 6.283185307179586),\n",
       " (0.0, 6.283185307179586),\n",
       " (0.0, 3.141592653589793),\n",
       " (0.0, 6.283185307179586),\n",
       " (0.0, 6.283185307179586),\n",
       " (0.0, 3.141592653589793),\n",
       " (0.0, 6.283185307179586),\n",
       " (0.0, 6.283185307179586),\n",
       " (0.0, 3.141592653589793),\n",
       " (0.0, 6.283185307179586),\n",
       " (0.0, 6.283185307179586),\n",
       " (0.0, 3.141592653589793),\n",
       " (0.0, 6.283185307179586),\n",
       " (0.0, 6.283185307179586),\n",
       " (0.0, 3.141592653589793),\n",
       " (0.0, 6.283185307179586),\n",
       " (0.0, 6.283185307179586),\n",
       " (0.0, 3.141592653589793),\n",
       " (0.0, 6.283185307179586),\n",
       " (0.0, 6.283185307179586),\n",
       " (0.0, 3.141592653589793),\n",
       " (0.0, 6.283185307179586),\n",
       " (0.0, 6.283185307179586),\n",
       " (0.0, 3.141592653589793),\n",
       " (0.0, 6.283185307179586),\n",
       " (0.0, 6.283185307179586),\n",
       " (0.0, 3.141592653589793),\n",
       " (0.0, 6.283185307179586),\n",
       " (0.0, 6.283185307179586),\n",
       " (0.0, 3.141592653589793),\n",
       " (0.0, 6.283185307179586),\n",
       " (0.0, 6.283185307179586),\n",
       " (0.0, 3.141592653589793),\n",
       " (0.0, 6.283185307179586),\n",
       " (0.0, 6.283185307179586),\n",
       " (0.0, 3.141592653589793),\n",
       " (0.0, 6.283185307179586),\n",
       " (0.0, 6.283185307179586),\n",
       " (0.0, 3.141592653589793),\n",
       " (0.0, 6.283185307179586),\n",
       " (0.0, 6.283185307179586),\n",
       " (0.0, 3.141592653589793),\n",
       " (0.0, 6.283185307179586),\n",
       " (0.0, 6.283185307179586),\n",
       " (0.0, 3.141592653589793),\n",
       " (0.0, 6.283185307179586),\n",
       " (0.0, 6.283185307179586),\n",
       " (0.0, 3.141592653589793),\n",
       " (0.0, 6.283185307179586),\n",
       " (0.0, 6.283185307179586),\n",
       " (0.0, 3.141592653589793),\n",
       " (0.0, 6.283185307179586),\n",
       " (0.0, 6.283185307179586),\n",
       " (0.0, 3.141592653589793),\n",
       " (0.0, 6.283185307179586),\n",
       " (0.0, 6.283185307179586),\n",
       " (0.0, 3.141592653589793),\n",
       " (0.0, 6.283185307179586),\n",
       " (0.0, 6.283185307179586),\n",
       " (0.0, 3.141592653589793),\n",
       " (0.0, 6.283185307179586),\n",
       " (0.0, 6.283185307179586),\n",
       " (0.0, 3.141592653589793),\n",
       " (0.0, 6.283185307179586),\n",
       " (0.0, 6.283185307179586),\n",
       " (0.0, 3.141592653589793),\n",
       " (0.0, 6.283185307179586),\n",
       " (0.0, 6.283185307179586))"
      ]
     },
     "execution_count": 142,
     "metadata": {},
     "output_type": "execute_result"
    }
   ],
   "source": [
    "bounds"
   ]
  },
  {
   "cell_type": "code",
   "execution_count": 147,
   "metadata": {},
   "outputs": [],
   "source": [
    "# to do: find 10 sets of parameters for the 10 circuits (10 timesteps)\n",
    "# cost function: 1 - complex conjugate of quasi-prob of circuit * quasi-prob of mathematical results (can probably use np.dot)\n",
    "res = dual_annealing(cost_function, bounds, args=(8,))"
   ]
  },
  {
   "cell_type": "code",
   "execution_count": 144,
   "metadata": {},
   "outputs": [
    {
     "data": {
      "text/plain": [
       "array([1.52325045e-02, 4.64759364e+00, 3.49853364e+00, 4.61591772e-02,\n",
       "       2.62920018e+00, 5.71294761e+00, 1.67806702e-01, 1.30392187e+00,\n",
       "       3.13486314e+00, 2.39378963e-03, 4.26297716e+00, 5.48202212e+00,\n",
       "       7.35285709e-02, 3.61516049e+00, 5.49580334e+00, 4.20737070e-01,\n",
       "       4.74753094e+00, 1.09019920e+00, 2.16438305e+00, 1.35364948e+00,\n",
       "       2.69407566e+00, 2.40880658e+00, 3.91454212e-01, 5.12672731e+00,\n",
       "       6.10673872e-01, 3.74689069e+00, 5.54941898e+00, 8.31739934e-01,\n",
       "       5.06026649e+00, 5.27118122e+00, 2.90292937e+00, 9.55987916e-01,\n",
       "       9.28681143e-01, 2.91599371e+00, 1.37906886e+00, 1.09468734e+00,\n",
       "       4.10892713e-02, 3.15808114e+00, 5.27954785e+00, 9.30225379e-02,\n",
       "       5.87794065e+00, 3.19488910e-01, 2.95794148e+00, 9.28482074e-01,\n",
       "       8.08396395e-01, 4.87281493e-01, 2.97682510e+00, 2.72162796e+00,\n",
       "       2.10195268e+00, 3.86538278e+00, 2.57893902e+00, 1.23263190e-01,\n",
       "       1.32216133e-01, 5.52749386e-01, 2.29657825e+00, 4.75535446e+00,\n",
       "       4.10676849e+00, 2.54844215e+00, 5.18318212e+00, 3.21953837e+00,\n",
       "       6.14097752e-01, 2.90794817e+00, 3.83267818e+00, 1.23166656e+00,\n",
       "       4.14307884e+00, 1.94037020e+00, 2.27171444e+00, 5.93848931e+00,\n",
       "       1.55593287e+00, 3.48433770e-01, 5.14806571e-01, 2.57801437e+00,\n",
       "       5.15028615e-01, 3.30204804e+00, 5.67190557e-01, 1.86349438e+00,\n",
       "       4.59475340e+00, 2.35127514e+00, 2.83613305e+00, 2.09422132e+00,\n",
       "       5.51824451e+00, 2.70636228e+00, 4.58763494e+00, 5.61953088e+00,\n",
       "       1.67515048e+00, 8.97789457e-01, 3.59852892e+00, 7.64175964e-01,\n",
       "       4.50590796e-01, 5.90390797e+00, 1.99970347e+00, 4.11252531e+00,\n",
       "       4.74143556e+00, 6.27100374e-01, 5.38082665e+00, 4.58153520e+00,\n",
       "       2.37059660e+00, 3.79857796e+00, 6.08214982e+00, 1.24118000e+00,\n",
       "       3.32421402e+00, 5.32547356e+00, 2.18321811e+00, 1.64062527e+00,\n",
       "       3.97306970e+00, 7.09617817e-01, 2.06032245e+00, 1.94256839e+00,\n",
       "       2.61399022e+00, 3.26225830e+00, 1.15044323e+00, 1.74616116e+00,\n",
       "       3.55211361e+00, 1.58276753e+00, 2.17497384e+00, 3.91690093e-01,\n",
       "       4.20064645e+00, 2.03203376e+00, 2.26356855e+00, 5.50807438e+00,\n",
       "       3.12450091e+00, 2.56201690e-01, 1.21833352e-02, 8.07207872e-01,\n",
       "       4.12134494e+00, 4.60204832e+00, 3.02639334e+00, 2.05658861e+00,\n",
       "       2.63623344e-02, 1.30074066e+00, 5.07408117e+00, 5.27327312e+00,\n",
       "       2.99583000e+00, 4.10892283e+00, 1.88931780e+00, 1.78468819e+00,\n",
       "       3.90983421e-01, 4.06181765e+00, 2.03850871e+00, 5.03368284e+00,\n",
       "       3.73532541e+00, 1.76658158e+00, 8.68260970e-01, 3.80874428e+00,\n",
       "       9.44681695e-01, 5.79180189e-01, 1.32929569e+00, 1.07387264e+00,\n",
       "       1.15912945e+00, 3.31526567e+00, 1.62964657e+00, 6.14371056e-01,\n",
       "       2.17935480e+00, 3.04315492e+00, 5.76372055e+00, 1.19719688e+00,\n",
       "       3.08741083e+00, 3.52231318e+00, 5.00520438e+00, 2.91234570e+00,\n",
       "       2.15775712e+00, 3.68055813e+00, 3.46294302e-01, 4.27497838e+00,\n",
       "       5.09984440e+00, 1.18950813e+00, 5.35382473e+00, 5.16165061e+00,\n",
       "       1.23759929e+00, 1.77156048e+00, 4.37232642e-01, 9.90595472e-01,\n",
       "       1.29416345e+00, 2.26612110e+00, 2.85677864e+00, 3.06531147e-01,\n",
       "       5.77560254e+00, 2.51330660e+00, 4.99343799e+00, 2.04884114e+00,\n",
       "       1.90569856e+00, 3.49084193e+00, 1.23002045e-01, 3.13822701e+00,\n",
       "       5.77329914e+00, 4.78232447e+00, 4.19922358e-01, 5.89005215e+00,\n",
       "       4.96153862e+00, 2.22498615e-01, 1.77456770e+00, 5.90075773e+00,\n",
       "       2.97595990e+00, 5.91019853e+00, 5.01375078e+00, 1.06374426e+00,\n",
       "       5.59013759e+00, 2.97322086e-01, 2.30841578e+00, 5.56231889e+00,\n",
       "       5.32334387e+00, 1.31175898e+00, 5.69351665e+00, 4.20298978e+00,\n",
       "       1.50078210e+00, 3.31591019e+00, 4.69799168e+00, 9.57293732e-01,\n",
       "       5.00288243e+00, 4.05093222e+00, 1.64895988e+00, 2.80968360e+00,\n",
       "       6.11720683e+00, 2.78403221e+00, 2.42531601e+00, 6.13378277e+00,\n",
       "       1.42991714e+00, 1.81887100e+00, 2.31569836e+00, 1.85229343e+00,\n",
       "       5.21484717e+00, 8.02162089e-01, 9.38064041e-01, 3.06680959e+00,\n",
       "       5.20162616e+00, 4.10529485e-01, 4.68139082e+00, 9.79845340e-01,\n",
       "       1.27939860e+00, 1.45816969e+00, 4.98719918e+00, 5.37245764e-01,\n",
       "       3.27384955e+00, 7.72505319e-01, 2.15683783e+00, 5.44228522e+00,\n",
       "       7.87821872e-01, 2.84891607e-01, 1.44206562e-01, 3.51924219e+00,\n",
       "       5.42906110e-02, 4.30114133e+00, 2.36475043e+00, 2.99516525e+00,\n",
       "       4.27406866e+00, 4.51138901e+00, 1.28717454e+00, 5.13675295e+00,\n",
       "       2.82345897e+00, 9.61387331e-01, 4.09579467e+00, 1.28532560e+00,\n",
       "       1.04139027e+00, 5.45253734e+00, 3.72866870e+00, 1.05872477e+00,\n",
       "       4.19249464e+00, 3.21304579e+00, 2.90750356e+00, 2.75655692e+00,\n",
       "       3.84275546e+00, 2.62277820e+00, 3.25767544e+00, 6.03106638e+00,\n",
       "       1.16964539e+00, 1.64243840e-01, 6.01928120e+00, 2.51725737e+00,\n",
       "       4.35803265e+00, 3.55640928e-01, 1.17945781e-01, 3.05070483e+00,\n",
       "       3.43393925e+00, 1.63805630e+00, 2.15919140e+00, 4.88200769e+00,\n",
       "       1.92988865e+00, 4.14799621e+00, 3.25349511e+00, 2.73733103e+00,\n",
       "       1.28725177e+00, 4.06433565e+00, 2.35454294e+00, 1.29442721e+00,\n",
       "       1.98352058e+00, 1.07837890e+00, 4.04673274e+00, 1.75005818e+00,\n",
       "       2.30085850e+00, 5.37783403e+00, 1.64995120e-01, 1.69649301e+00,\n",
       "       4.95274519e+00, 4.12677959e+00, 2.40752716e+00, 4.23517301e+00,\n",
       "       3.98152714e-02, 1.75938353e+00, 5.08992887e+00, 3.79353613e+00,\n",
       "       7.86943846e-01, 3.69274782e+00, 5.53636521e-01, 1.85392559e+00,\n",
       "       5.99883730e+00, 2.62455063e+00, 1.64150845e+00, 4.56641503e+00,\n",
       "       2.00373580e+00])"
      ]
     },
     "execution_count": 144,
     "metadata": {},
     "output_type": "execute_result"
    }
   ],
   "source": [
    "res.x"
   ]
  },
  {
   "cell_type": "code",
   "execution_count": 145,
   "metadata": {},
   "outputs": [
    {
     "data": {
      "text/plain": [
       "1.0"
      ]
     },
     "execution_count": 145,
     "metadata": {},
     "output_type": "execute_result"
    }
   ],
   "source": [
    "cost_function(res.x, 8)"
   ]
  },
  {
   "cell_type": "code",
   "execution_count": 119,
   "metadata": {},
   "outputs": [
    {
     "data": {
      "text/plain": [
       "array([1.38255207, 3.14483026, 3.14147034, 1.07013329, 3.14250783,\n",
       "       3.14239049, 0.57260169, 3.1427403 , 3.13864251, 0.43050229,\n",
       "       3.14543821, 3.14207722, 0.40248869, 3.1432647 , 3.1205233 ,\n",
       "       0.60447823, 3.14081521, 3.14043588, 2.8894874 , 3.14052258,\n",
       "       3.13549161, 1.64961162, 3.14149933, 3.14072934, 1.57105089,\n",
       "       3.13649344, 3.12085091, 1.64062677, 3.14080103, 3.15407918,\n",
       "       1.57958152, 3.14047076, 3.14179612, 1.57324207, 3.14228711,\n",
       "       3.14232167, 1.58296751, 3.14214136, 3.14744301, 1.56997267,\n",
       "       3.15682946, 3.14140264, 1.59438248, 3.15041844, 3.14051279,\n",
       "       1.65729088, 3.14073275, 3.14061859, 1.66508361, 3.14450068,\n",
       "       3.14274418, 1.56476871, 3.14427381, 3.15331547, 1.56979207,\n",
       "       3.14262815, 3.13823735, 1.66017607, 3.15013441, 3.14074915,\n",
       "       1.57098074, 3.14268479, 3.14236522, 1.5715761 , 3.1308815 ,\n",
       "       3.1435911 , 1.61865564, 3.14054251, 3.12280083, 1.59464989,\n",
       "       3.15363591, 3.14186828, 1.57788585, 3.13550209, 3.12108123,\n",
       "       1.57047279, 3.12579533, 3.13780069, 1.67764737, 3.14274708,\n",
       "       3.14050486, 1.56982175, 3.14067032, 3.13917915, 1.63296635,\n",
       "       3.14274231, 3.14065766, 1.68826308, 3.14089405, 3.14254057,\n",
       "       1.56387231, 3.13811365, 3.12875762, 1.56832621, 3.14245169,\n",
       "       3.1552939 , 1.56830641, 3.14238525, 3.14955047, 1.5732045 ,\n",
       "       3.13800178, 3.14771236, 1.57380171, 3.14214227, 3.1419687 ,\n",
       "       1.6728005 , 3.14068624, 3.14274023, 1.56619304, 3.12224424,\n",
       "       3.13910376, 1.56489558, 3.14049612, 3.14090188, 1.56502174,\n",
       "       3.14055191, 3.14296515, 1.6750645 , 3.14045084, 3.14252617,\n",
       "       1.56706036, 3.14048244, 3.1481032 , 1.57254266, 3.14273748,\n",
       "       3.14857123, 1.57239584, 3.1409311 , 3.15147823, 1.6368615 ,\n",
       "       3.16196201, 3.14066724, 1.64795622, 3.14261161, 3.1421733 ,\n",
       "       1.65976416, 3.14046063, 3.1425204 , 1.56885322, 3.13889957,\n",
       "       3.14252508, 1.6882361 , 3.14053569, 3.14275072, 1.57067759,\n",
       "       3.15736278, 3.1422928 , 1.62598272, 3.15945026, 3.14055073,\n",
       "       1.68598944, 3.14055552, 3.14090084, 1.56507803, 3.13660176,\n",
       "       3.14270987, 1.64747529, 3.14044846, 3.1345574 , 1.63009608,\n",
       "       3.14214698, 3.14229068, 1.66200055, 3.1423094 , 3.12933551,\n",
       "       1.59030466, 3.14090187, 3.14068946, 1.57056423, 3.14373112,\n",
       "       3.1407618 , 1.63666327, 3.14033891, 3.14367552, 1.57081013,\n",
       "       3.14066082, 3.14068366, 1.57078152, 3.14255698, 3.14187313,\n",
       "       1.60356022, 3.14239482, 3.14051871, 1.59408876, 3.1426484 ,\n",
       "       3.15683967, 1.61173546, 3.14067658, 3.14043425, 1.58309541,\n",
       "       3.13987969, 3.14242904, 1.59570403, 3.14251002, 3.14236288,\n",
       "       1.56985571, 3.14101991, 3.14233316, 1.58718568, 3.14044728,\n",
       "       3.14072413, 1.57078151, 3.13440863, 3.14044598, 1.57159329,\n",
       "       3.1425771 , 3.12710024, 1.67749289, 3.14023875, 3.1416657 ,\n",
       "       1.63279766, 3.15420529, 3.14051611, 1.56418062, 3.12031993,\n",
       "       3.14573966, 1.57428162, 3.14046989, 3.14239624, 1.66508409,\n",
       "       3.14306174, 3.15456162, 1.57649005, 3.14054716, 3.14072772,\n",
       "       1.67530994, 3.1374792 , 3.13399015, 1.58370611, 3.15266219,\n",
       "       3.14228353, 1.57345543, 3.14067108, 3.14164578, 1.56815567,\n",
       "       3.1260562 , 3.15560961, 1.65630925, 3.13407391, 3.14071367,\n",
       "       1.57315032, 3.1417369 , 3.14072436, 1.58071148, 3.14151185,\n",
       "       3.12213624, 1.57431634, 3.14344259, 3.14636573, 1.57121339,\n",
       "       3.14664583, 3.14233773, 1.57148631, 3.14274468, 3.14055928,\n",
       "       1.62226453, 3.1408115 , 3.15390477, 1.58339189, 3.12675446,\n",
       "       3.12045997, 1.57346872, 3.14154161, 3.15356366, 1.57037164,\n",
       "       3.14065794, 3.14083576, 1.6084616 , 3.14234195, 3.14091695,\n",
       "       1.6883484 , 3.14254992, 3.14088882, 1.56836848, 3.14089928,\n",
       "       3.13921079, 1.64845491, 3.14837556, 3.14250815, 1.65183266,\n",
       "       3.14229449, 3.14082086, 1.56580791, 3.15994817, 3.14064451,\n",
       "       1.61646665, 3.14492574, 3.14063844, 1.56436826, 3.14056463,\n",
       "       3.14760475, 1.57025656, 3.13708475, 3.14171911, 1.57340373,\n",
       "       3.12726302, 3.16314336, 1.57078605, 3.14086423, 3.14089977,\n",
       "       1.61198905, 3.14229028, 3.14217483, 1.65510862, 3.14266235,\n",
       "       3.14359577, 1.60371356, 3.14078479, 3.13983974])"
      ]
     },
     "execution_count": 119,
     "metadata": {},
     "output_type": "execute_result"
    }
   ],
   "source": [
    "res.x"
   ]
  },
  {
   "cell_type": "code",
   "execution_count": 107,
   "metadata": {},
   "outputs": [
    {
     "data": {
      "text/plain": [
       "           message: The maximum number of function evaluations is exceeded.\n",
       "           success: False\n",
       "            status: 0\n",
       "               fun: 0.9995630342765495\n",
       "                 x: [ 3.228e+00  3.367e+00 ...  2.668e+00  3.689e+00]\n",
       "               nit: 1000\n",
       "              nfev: 308760\n",
       "              njev: 996\n",
       "              nhev: 0\n",
       "          cg_niter: 1004\n",
       "      cg_stop_cond: 4\n",
       "              grad: [-2.309e-04  0.000e+00 ...  0.000e+00  0.000e+00]\n",
       "   lagrangian_grad: [-1.896e-04  6.083e-06 ... -1.292e-05  1.498e-05]\n",
       "            constr: [array([ 3.228e+00,  3.367e+00, ...,  2.668e+00,\n",
       "                            3.689e+00])]\n",
       "               jac: [<309x309 sparse matrix of type '<class 'numpy.float64'>'\n",
       "                    \twith 309 stored elements in Compressed Sparse Row format>]\n",
       "       constr_nfev: [0]\n",
       "       constr_njev: [0]\n",
       "       constr_nhev: [0]\n",
       "                 v: [array([ 4.131e-05,  6.083e-06, ..., -1.292e-05,\n",
       "                            1.498e-05])]\n",
       "            method: tr_interior_point\n",
       "        optimality: 0.001353252160776023\n",
       "  constr_violation: 0.0\n",
       "    execution_time: 1342.6800549030304\n",
       "         tr_radius: 112958.47430210386\n",
       "    constr_penalty: 1.0\n",
       " barrier_parameter: 0.00016000000000000007\n",
       " barrier_tolerance: 0.00016000000000000007\n",
       "             niter: 1000"
      ]
     },
     "execution_count": 107,
     "metadata": {},
     "output_type": "execute_result"
    }
   ],
   "source": [
    "res = minimize(cost_function, params0, args=3, method='trust-constr', bounds=bounds)\n",
    "res"
   ]
  },
  {
   "cell_type": "code",
   "execution_count": 121,
   "metadata": {},
   "outputs": [],
   "source": [
    "params_dict = {}\n",
    "for n_steps in range(1, nb_timesteps + 1):\n",
    "    print(\"Step number: \", n_steps)\n",
    "    res = minimize(cost_function, params0, args=n_steps, method='trust-constr', bounds=bounds)\n",
    "    params_dict[n_steps] = res.x\n"
   ]
  },
  {
   "cell_type": "code",
   "execution_count": 125,
   "metadata": {},
   "outputs": [
    {
     "data": {
      "text/plain": [
       "array([3.13844687e+00, 3.12194195e+00, 3.14229589e+00, 3.13853743e+00,\n",
       "       3.11722668e+00, 3.13133255e+00, 3.13844874e+00, 3.14917649e+00,\n",
       "       3.14931079e+00, 2.97357963e-03, 3.13428174e+00, 3.13874919e+00,\n",
       "       3.13843859e+00, 3.14924679e+00, 3.15175955e+00, 3.13842961e+00,\n",
       "       3.14803112e+00, 3.15129234e+00, 3.03962096e-03, 3.16200028e+00,\n",
       "       3.14912232e+00, 1.56255781e+00, 3.14212906e+00, 3.15165481e+00,\n",
       "       1.56926631e+00, 3.14882028e+00, 3.15170259e+00, 1.56359399e+00,\n",
       "       3.15187170e+00, 3.15574022e+00, 1.57269291e+00, 3.14958551e+00,\n",
       "       3.14043520e+00, 1.56845942e+00, 3.13080140e+00, 3.13752129e+00,\n",
       "       1.57252661e+00, 3.13835022e+00, 3.13417050e+00, 1.57205252e+00,\n",
       "       3.13243355e+00, 3.14231003e+00, 1.57078172e+00, 3.13353794e+00,\n",
       "       3.15079247e+00, 1.56168077e+00, 3.14695660e+00, 3.15252031e+00,\n",
       "       1.56079761e+00, 3.13386864e+00, 3.13292950e+00, 1.56933940e+00,\n",
       "       3.13376278e+00, 3.14971810e+00, 1.57291766e+00, 3.13431968e+00,\n",
       "       3.16610745e+00, 1.56087609e+00, 3.15032417e+00, 3.16369308e+00,\n",
       "       1.58711131e+00, 3.14832193e+00, 3.13686954e+00, 1.58375056e+00,\n",
       "       3.14997969e+00, 3.13322462e+00, 1.56700531e+00, 3.14864329e+00,\n",
       "       3.15136122e+00, 1.57074411e+00, 3.13297616e+00, 3.14036216e+00,\n",
       "       1.57226136e+00, 3.14340679e+00, 3.15128604e+00, 1.57206703e+00,\n",
       "       3.12762886e+00, 3.14854052e+00, 1.56007960e+00, 3.13212296e+00,\n",
       "       3.14908769e+00, 1.56948561e+00, 3.16942769e+00, 3.12711678e+00,\n",
       "       1.58381648e+00, 3.13299272e+00, 3.12863288e+00, 1.57695552e+00,\n",
       "       3.15985171e+00, 3.14802303e+00, 1.56933154e+00, 3.14936650e+00,\n",
       "       3.15034383e+00, 1.57277418e+00, 3.13623443e+00, 3.13269423e+00,\n",
       "       1.57199164e+00, 3.13039662e+00, 3.13369547e+00, 1.56865282e+00,\n",
       "       3.16603236e+00, 3.13405311e+00, 1.57167280e+00, 3.13870736e+00,\n",
       "       3.13940570e+00, 1.56032544e+00, 3.15268348e+00, 3.13191649e+00,\n",
       "       1.56937927e+00, 3.15108105e+00, 3.14955216e+00, 1.56933989e+00,\n",
       "       3.15191376e+00, 3.17531911e+00, 1.56934327e+00, 3.15226010e+00,\n",
       "       3.13249682e+00, 1.56019172e+00, 3.14994702e+00, 3.13563955e+00,\n",
       "       1.56927055e+00, 3.15179334e+00, 3.13396939e+00, 1.57037631e+00,\n",
       "       3.13185717e+00, 3.13388000e+00, 1.56853149e+00, 3.14555869e+00,\n",
       "       3.13336437e+00, 1.58191267e+00, 3.13154680e+00, 3.15265944e+00,\n",
       "       1.56276003e+00, 3.15191052e+00, 3.15514775e+00, 1.56187366e+00,\n",
       "       3.14976899e+00, 3.13054371e+00, 1.56945441e+00, 3.14941345e+00,\n",
       "       3.13170430e+00, 1.56455160e+00, 3.15121262e+00, 3.13256012e+00,\n",
       "       1.57252131e+00, 3.13234298e+00, 3.13086475e+00, 1.56584588e+00,\n",
       "       3.14865922e+00, 3.15225580e+00, 1.55925590e+00, 3.14850460e+00,\n",
       "       3.15253607e+00, 1.56934421e+00, 3.14880793e+00, 3.13329891e+00,\n",
       "       1.56282123e+00, 3.15134094e+00, 3.16648595e+00, 1.56522283e+00,\n",
       "       3.13831618e+00, 3.13084451e+00, 1.56165460e+00, 3.13098810e+00,\n",
       "       3.15024564e+00, 1.57110805e+00, 3.15250810e+00, 3.15152210e+00,\n",
       "       1.56946827e+00, 3.11087506e+00, 3.14184726e+00, 1.56414372e+00,\n",
       "       3.15088162e+00, 3.13330318e+00, 1.57158640e+00, 3.14715245e+00,\n",
       "       3.14734261e+00, 1.57150070e+00, 3.13537594e+00, 3.13997115e+00,\n",
       "       1.56940236e+00, 3.12049598e+00, 3.15207594e+00, 1.59033796e+00,\n",
       "       3.13197010e+00, 3.13277887e+00, 1.56809853e+00, 3.14774784e+00,\n",
       "       3.15051477e+00, 1.57206408e+00, 3.15025614e+00, 3.13640553e+00,\n",
       "       1.57104445e+00, 3.13052303e+00, 3.13040362e+00, 1.57193938e+00,\n",
       "       3.16185939e+00, 3.13043349e+00, 1.57169133e+00, 3.15104852e+00,\n",
       "       3.14702251e+00, 1.57039636e+00, 3.14934438e+00, 3.15128802e+00,\n",
       "       1.56877453e+00, 3.13519511e+00, 3.15059427e+00, 1.55995506e+00,\n",
       "       3.15071570e+00, 3.15812424e+00, 1.56482291e+00, 3.13287934e+00,\n",
       "       3.14894704e+00, 1.56933318e+00, 3.15176543e+00, 3.13434476e+00,\n",
       "       1.57218939e+00, 3.14960044e+00, 3.13135254e+00, 1.56171504e+00,\n",
       "       3.13259869e+00, 3.13278768e+00, 1.57269996e+00, 3.15225158e+00,\n",
       "       3.15274417e+00, 1.56017847e+00, 3.14884502e+00, 3.14942354e+00,\n",
       "       1.57189488e+00, 3.13314336e+00, 3.13071748e+00, 1.56898218e+00,\n",
       "       3.14744393e+00, 3.14128739e+00, 1.57267433e+00, 3.15085115e+00,\n",
       "       3.10980135e+00, 1.56178641e+00, 3.14917578e+00, 3.15161261e+00,\n",
       "       1.56862335e+00, 3.14076254e+00, 3.15271094e+00, 1.57198467e+00,\n",
       "       3.14205701e+00, 3.15147711e+00, 1.57219041e+00, 3.13307591e+00,\n",
       "       3.13401111e+00, 1.56856276e+00, 3.13437059e+00, 3.12123303e+00,\n",
       "       1.56953490e+00, 3.13291174e+00, 3.14846416e+00, 1.56642124e+00,\n",
       "       3.15187842e+00, 3.13294542e+00, 1.57204353e+00, 3.15068388e+00,\n",
       "       3.15177041e+00, 1.57216278e+00, 3.14182436e+00, 3.13298752e+00,\n",
       "       1.57253434e+00, 3.15263967e+00, 3.15274144e+00, 1.56863264e+00,\n",
       "       3.13120005e+00, 3.14562171e+00, 1.56035969e+00, 3.13545279e+00,\n",
       "       3.15228694e+00, 1.57294164e+00, 3.15256310e+00, 3.14963286e+00,\n",
       "       1.56269953e+00, 3.13393519e+00, 3.13575888e+00, 1.56229266e+00,\n",
       "       3.13056403e+00, 3.15278268e+00, 1.56935986e+00, 3.13189831e+00,\n",
       "       3.14763775e+00, 1.56779071e+00, 3.13407688e+00, 3.15257688e+00,\n",
       "       1.56966309e+00, 3.15266830e+00, 3.13446669e+00, 1.57206077e+00,\n",
       "       3.14879784e+00, 3.14821710e+00, 1.56970711e+00, 3.15056555e+00,\n",
       "       3.13133942e+00, 1.57058173e+00, 3.15274305e+00, 3.12971495e+00,\n",
       "       1.56805792e+00, 3.13080912e+00, 3.15514264e+00, 1.56191817e+00,\n",
       "       3.13432008e+00, 3.11038930e+00, 1.56937828e+00, 3.16958044e+00,\n",
       "       3.16713973e+00])"
      ]
     },
     "execution_count": 125,
     "metadata": {},
     "output_type": "execute_result"
    }
   ],
   "source": [
    "params_dict[2]"
   ]
  },
  {
   "cell_type": "code",
   "execution_count": 132,
   "metadata": {},
   "outputs": [
    {
     "name": "stdout",
     "output_type": "stream",
     "text": [
      "0.9559451155062559\n",
      "1.0003464798372952\n",
      "1.0\n",
      "0.6974523989942258\n",
      "0.9998182198426212\n",
      "1.0\n",
      "0.8793026968312\n",
      "1.0000613161753344\n",
      "1.0\n",
      "0.9162569545778838\n",
      "1.0000150912288566\n",
      "1.0\n",
      "0.8715690632484777\n",
      "0.9999446161378382\n",
      "1.0\n",
      "0.9853319411268976\n",
      "1.0000699990860842\n",
      "1.0\n",
      "0.9046883051083761\n",
      "0.9999314393118364\n",
      "1.0\n",
      "1.0000000148509185\n",
      "1.0000586993277734\n",
      "1.0\n",
      "0.9433140459603733\n",
      "0.9999542766878677\n",
      "1.0\n",
      "1.0000000171365262\n",
      "1.0000328983940399\n",
      "1.0\n"
     ]
    }
   ],
   "source": [
    "for i in range(1, nb_timesteps+1):\n",
    "    print(cost_function(params_dict[i], i))\n",
    "    print(cost_function(np.ones(((N+1) + (N * 2 * 8)) * 3), i))\n",
    "    print(cost_function(np.zeros(((N+1) + (N * 2 * 8)) * 3), i))"
   ]
  },
  {
   "cell_type": "code",
   "execution_count": 126,
   "metadata": {},
   "outputs": [
    {
     "data": {
      "text/plain": [
       "{'0000000': 0.0063676348623095,\n",
       " '0000001': 0.004022661189023,\n",
       " '0000010': 0.0017324068546874,\n",
       " '0000011': 0.0010944229637283,\n",
       " '0000100': 0.0008239278586752,\n",
       " '0000101': 0.0005205045030558,\n",
       " '0000110': 0.0002241614509942,\n",
       " '0000111': 0.0001416107532056,\n",
       " '0001000': 0.0004902610555952,\n",
       " '0001001': 0.0003097153281363,\n",
       " '0001010': 0.0001333825873601,\n",
       " '0001011': 8.42625196116e-05,\n",
       " '0001100': 6.34363857952e-05,\n",
       " '0001101': 4.00750188458e-05,\n",
       " '0001110': 1.72587832004e-05,\n",
       " '0001111': 1.09029865643e-05,\n",
       " '0010000': 0.0002518742916134,\n",
       " '0010001': 0.0001591179392812,\n",
       " '0010010': 6.85260318385e-05,\n",
       " '0010011': 4.329032909e-05,\n",
       " '0010100': 3.25907892384e-05,\n",
       " '0010101': 2.05887595353e-05,\n",
       " '0010110': 8.8667940133e-06,\n",
       " '0010111': 5.6014688216e-06,\n",
       " '0011000': 1.93924681226e-05,\n",
       " '0011001': 1.22509111409e-05,\n",
       " '0011010': 5.276000498e-06,\n",
       " '0011011': 3.3330369746e-06,\n",
       " '0011100': 2.5092510925e-06,\n",
       " '0011101': 1.5851830706e-06,\n",
       " '0011110': 6.826779309e-07,\n",
       " '0011111': 4.31271905e-07,\n",
       " '0100000': 0.0006170622937406,\n",
       " '0100001': 0.000389820175609,\n",
       " '0100010': 0.0001678806920561,\n",
       " '0100011': 0.0001060561980898,\n",
       " '0100100': 7.98435879796e-05,\n",
       " '0100101': 5.0440031425e-05,\n",
       " '0100110': 2.1722599067e-05,\n",
       " '0100111': 1.37229376497e-05,\n",
       " '0101000': 4.75092586241e-05,\n",
       " '0101001': 3.00132867099e-05,\n",
       " '0101010': 1.29255786617e-05,\n",
       " '0101011': 8.1655472954e-06,\n",
       " '0101100': 6.1473690894e-06,\n",
       " '0101101': 3.8835114741e-06,\n",
       " '0101110': 1.672480376e-06,\n",
       " '0101111': 1.0565652779e-06,\n",
       " '0110000': 2.44081407741e-05,\n",
       " '0110001': 1.54194897652e-05,\n",
       " '0110010': 6.6405865445e-06,\n",
       " '0110011': 4.1950944649e-06,\n",
       " '0110100': 3.1582444027e-06,\n",
       " '0110101': 1.9951752038e-06,\n",
       " '0110110': 8.592459163e-07,\n",
       " '0110111': 5.428161749e-07,\n",
       " '0111000': 1.8792473375e-06,\n",
       " '0111001': 1.1871873141e-06,\n",
       " '0111010': 5.112763278e-07,\n",
       " '0111011': 3.229914223e-07,\n",
       " '0111100': 2.431615927e-07,\n",
       " '0111101': 1.536138178e-07,\n",
       " '0111110': 6.61556165e-08,\n",
       " '0111111': 4.17928535e-08,\n",
       " '1000000': 0.3409814854799416,\n",
       " '1000001': 0.2154101196873706,\n",
       " '1000010': 0.0927689284232442,\n",
       " '1000011': 0.058605428229609,\n",
       " '1000100': 0.0441206431044429,\n",
       " '1000101': 0.0278725778862586,\n",
       " '1000110': 0.0120036569621442,\n",
       " '1000111': 0.0075831366012796,\n",
       " '1001000': 0.0262530667390042,\n",
       " '1001001': 0.0165849950487769,\n",
       " '1001010': 0.0071425252481769,\n",
       " '1001011': 0.0045121869781706,\n",
       " '1001100': 0.0033969650474083,\n",
       " '1001101': 0.0021459835169821,\n",
       " '1001110': 0.0009241933088998,\n",
       " '1001111': 0.000583845750464,\n",
       " '1010000': 0.0134876562437476,\n",
       " '1010001': 0.0085206316749966,\n",
       " '1010010': 0.0036695113076664,\n",
       " '1010011': 0.0023181606733457,\n",
       " '1010100': 0.0017452093230464,\n",
       " '1010101': 0.0011025107378713,\n",
       " '1010110': 0.0004748093537847,\n",
       " '1010111': 0.0002999539390928,\n",
       " '1011000': 0.0010384503399692,\n",
       " '1011001': 0.0006560259766225,\n",
       " '1011010': 0.0002825253844035,\n",
       " '1011011': 0.0001784813236514,\n",
       " '1011100': 0.000134368283272,\n",
       " '1011101': 8.48852187416e-05,\n",
       " '1011110': 3.65568284028e-05,\n",
       " '1011111': 2.30942473916e-05,\n",
       " '1100000': 0.0330431662780685,\n",
       " '1100001': 0.0208745421845701,\n",
       " '1100010': 0.0089898697080661,\n",
       " '1100011': 0.005679220110918,\n",
       " '1100100': 0.0042755569099108,\n",
       " '1100101': 0.0027010212135058,\n",
       " '1100110': 0.001163226890125,\n",
       " '1100111': 0.0007348517567536,\n",
       " '1101000': 0.0025440807976572,\n",
       " '1101001': 0.0016071862328429,\n",
       " '1101010': 0.0006921538543027,\n",
       " '1101011': 0.0004372581824716,\n",
       " '1101100': 0.0003291864388012,\n",
       " '1101101': 0.0002079587696142,\n",
       " '1101110': 8.9559915947e-05,\n",
       " '1101111': 5.65781810299e-05,\n",
       " '1110000': 0.0013070353873797,\n",
       " '1110001': 0.0008257006940855,\n",
       " '1110010': 0.0003555978182446,\n",
       " '1110011': 0.0002246437764233,\n",
       " '1110100': 0.0001691213285973,\n",
       " '1110101': 0.0001068399522735,\n",
       " '1110110': 4.60118953538e-05,\n",
       " '1110111': 2.90673491297e-05,\n",
       " '1111000': 0.0001006321126404,\n",
       " '1111001': 6.3572881084e-05,\n",
       " '1111010': 2.73784168706e-05,\n",
       " '1111011': 1.72959187114e-05,\n",
       " '1111100': 1.30210985515e-05,\n",
       " '1111101': 8.2258906037e-06,\n",
       " '1111110': 3.542577562e-06,\n",
       " '1111111': 2.2379721162e-06}"
      ]
     },
     "execution_count": 126,
     "metadata": {},
     "output_type": "execute_result"
    }
   ],
   "source": [
    "res"
   ]
  },
  {
   "cell_type": "code",
   "execution_count": 122,
   "metadata": {},
   "outputs": [
    {
     "name": "stdout",
     "output_type": "stream",
     "text": [
      "(6, 10)\n"
     ]
    },
    {
     "data": {
      "text/plain": [
       "Text(0.5, 0, 'T')"
      ]
     },
     "execution_count": 122,
     "metadata": {},
     "output_type": "execute_result"
    },
    {
     "data": {
      "image/png": "[encoded data removed]",
      "text/plain": [
       "<Figure size 600x300 with 2 Axes>"
      ]
     },
     "metadata": {},
     "output_type": "display_data"
    }
   ],
   "source": [
    "res_all_circuits = []\n",
    "for n_steps in range(1, nb_timesteps + 1):\n",
    "    res = calculate_results(params_dict[n_steps])\n",
    "\n",
    "    # create a new row to add to magnetization array\n",
    "    row = [0 for _ in range(N)]\n",
    "    prob = 0\n",
    "    for key, value in res.items():\n",
    "\n",
    "        prob += value\n",
    "        if key[0] == \"0\":\n",
    "            for i in range(1, N + 1):\n",
    "\n",
    "                # if the other qubits have a result of 0, then add the probabilities to that qubit\n",
    "                if key[i] == '0':\n",
    "                    row[N - i] += value\n",
    "\n",
    "    res_all_circuits += [[x/prob for x in row]]\n",
    "\n",
    "res_all_circuits = np.array(res_all_circuits)\n",
    "\n",
    "print(res_all_circuits.T.shape)\n",
    "fig = plt.figure(figsize=((nb_timesteps + 2)/2 , N/2), facecolor='white')\n",
    "im = plt.pcolormesh([timestep_duration * i for i in range(nb_timesteps)], np.arange(0,N,1), res_all_circuits.T, cmap='inferno')\n",
    "fig.colorbar(im)\n",
    "plt.ylabel('Qubit index')\n",
    "plt.xlabel('T')"
   ]
  },
  {
   "cell_type": "markdown",
   "metadata": {},
   "source": [
    "# Comparison (Fig S2)"
   ]
  },
  {
   "cell_type": "code",
   "execution_count": 39,
   "metadata": {},
   "outputs": [
    {
     "name": "stdout",
     "output_type": "stream",
     "text": [
      "(6, 10)\n"
     ]
    },
    {
     "data": {
      "text/plain": [
       "Text(0.5, 0, 'T')"
      ]
     },
     "execution_count": 39,
     "metadata": {},
     "output_type": "execute_result"
    },
    {
     "data": {
      "image/png": "[encoded data removed]",
      "text/plain": [
       "<Figure size 600x300 with 2 Axes>"
      ]
     },
     "metadata": {},
     "output_type": "display_data"
    }
   ],
   "source": [
    "# For gamma = 0.2 case \n",
    "# (Full matrices and state vector based, no qiskit)\n",
    "N = 6\n",
    "nb_timesteps = 10\n",
    "timestep_duration = 0.2\n",
    "gamma = 0.2\n",
    "J = 1\n",
    "\n",
    "# Generate the unitary\n",
    "matrix = get_U_HN(J, gamma , N, timestep_duration)\n",
    "projection_matrix = projection(N+1)\n",
    "\n",
    "# create the initial state vector (|↓↓↑↓↓↓⟩+|↓↓↓↑↓↓⟩)/ 2\n",
    "initial_vector = np.zeros((2**(N+1), 1), dtype=complex)\n",
    "initial_vector[ (2**N - 1) - 2**(N//2)] = 1/np.sqrt(2)\n",
    "initial_vector[ (2**N - 1) - 2**(N//2 -1)] = 1/np.sqrt(2)\n",
    "\n",
    "magnetization=[]\n",
    "for n_steps in range(1, nb_timesteps + 1):\n",
    "\n",
    "    # for each time step, apply the matrix n_steps times onto the initial vector\n",
    "    state_vector = np.matmul(np.linalg.matrix_power(matrix @ projection_matrix, n_steps), initial_vector).T[0]\n",
    "    state_dict = {}\n",
    "    for i in range(2 ** (N+1)):\n",
    "\n",
    "        # allocate the relevant probabilities to each state\n",
    "        state_dict[bin(i)[2:].zfill(N+1)] = np.abs(state_vector[i]) ** 2\n",
    "\n",
    "   \n",
    "    # create a new row to add to magnetization array\n",
    "    row = [0 for _ in range(N)]\n",
    "    prob = 0\n",
    "    for key, value in state_dict.items():\n",
    "\n",
    "        # key[0] is the ancillary qubit\n",
    "        if key[0] == '0':\n",
    "            prob += value\n",
    "            for i in range(1, N + 1):\n",
    "\n",
    "                # if the other qubits have a result of 0, then add the probabilities to that qubit\n",
    "                if key[i] == '0':\n",
    "                    row[N - i] += value\n",
    "\n",
    "    magnetization += [[x/prob for x in row]]\n",
    "\n",
    "magnetization = np.array(magnetization)\n",
    "print(magnetization.T.shape)\n",
    "fig = plt.figure(figsize=((nb_timesteps + 2)/2 , N/2), facecolor='white')\n",
    "im = plt.pcolormesh([timestep_duration * i for i in range(nb_timesteps)], np.arange(0,N,1), magnetization.T, cmap='inferno')\n",
    "fig.colorbar(im)\n",
    "plt.ylabel('Qubit index')\n",
    "plt.xlabel('T')"
   ]
  },
  {
   "cell_type": "code",
   "execution_count": 38,
   "metadata": {},
   "outputs": [
    {
     "data": {
      "application/vnd.jupyter.widget-view+json": {
       "model_id": "1d93bb90db844918b1a15f37cad2f246",
       "version_major": 2,
       "version_minor": 0
      },
      "text/plain": [
       "  0%|          | 0/10 [00:00<?, ?it/s]"
      ]
     },
     "metadata": {},
     "output_type": "display_data"
    },
    {
     "name": "stdout",
     "output_type": "stream",
     "text": [
      "(6, 10)\n"
     ]
    },
    {
     "data": {
      "text/plain": [
       "Text(0.5, 0, 'T')"
      ]
     },
     "execution_count": 38,
     "metadata": {},
     "output_type": "execute_result"
    },
    {
     "data": {
      "image/png": "[encoded data removed]",
      "text/plain": [
       "<Figure size 600x300 with 2 Axes>"
      ]
     },
     "metadata": {},
     "output_type": "display_data"
    }
   ],
   "source": [
    "# For gamma = 0.2 case \n",
    "# Adapting the math representation to Qiskit\n",
    "# Using Sampler\n",
    "N = 6\n",
    "J = 1\n",
    "gamma = 0.2\n",
    "timestep_duration = 0.2\n",
    "\n",
    "# Generate the unitary\n",
    "matrix = get_U_HN(J, gamma, N, timestep_duration)\n",
    "projection_matrix = projection(N+1)\n",
    "gate = Operator(matrix)\n",
    "projector = Operator(projection_matrix)\n",
    "\n",
    "initial_vector = np.zeros((2**(N+1), 1), dtype=complex)\n",
    "initial_vector[ (2**N - 1) - 2**(N//2)] = 1/np.sqrt(2)\n",
    "initial_vector[ (2**N - 1) - 2**(N//2 -1)] = 1/np.sqrt(2)\n",
    "\n",
    "\n",
    "magnetization=[]\n",
    "# Create the relevant circuits for paper's Fig 3a\n",
    "circuits = []\n",
    "for n_steps in range(1, nb_timesteps+1):\n",
    "    qc = QuantumCircuit(N+1)\n",
    "    state = Statevector(initial_vector)\n",
    "    \n",
    "    for _ in range(n_steps):\n",
    "        state = state.evolve(gate)\n",
    "        state = state.evolve(projector)\n",
    "    \n",
    "    qc.initialize(state, range(N+1), normalize=True)\n",
    "    qc.measure_all()\n",
    "    circuits.append(qc)\n",
    "\n",
    "# Execute measurements for paper's Fig 3a\n",
    "magnetization=[]\n",
    "res_list = []\n",
    "for circ in tqdm(circuits):\n",
    "    pubs = [(circ)]\n",
    "    job = sampler.run(pubs, shots=160000)\n",
    "    results = job.result()\n",
    "    res = results[0].data.meas.get_counts()\n",
    "\n",
    "    counts_left = 0\n",
    "    row = [0 for _ in range(N)]\n",
    "    for key, value in res.items():\n",
    "        if key[0] == \"0\":\n",
    "            counts_left += value\n",
    "\n",
    "            for i in range(1, N+1):\n",
    "                if key[i] == '0':\n",
    "                    row[i-1] += value\n",
    "    magnetization.append([x/counts_left for x in row][::-1]) #the output for qiskit is qNqN-1...q1q0\n",
    "\n",
    "magnetization=np.array(magnetization)\n",
    "\n",
    "magnetization = np.array(magnetization)\n",
    "print(magnetization.T.shape)\n",
    "fig = plt.figure(figsize=((nb_timesteps + 2)/2 , N/2), facecolor='white')\n",
    "im = plt.pcolormesh([timestep_duration * i for i in range(nb_timesteps)], np.arange(0,N,1), magnetization.T, cmap='inferno')\n",
    "fig.colorbar(im)\n",
    "plt.ylabel('Qubit index')\n",
    "plt.xlabel('T')"
   ]
  },
  {
   "cell_type": "markdown",
   "metadata": {},
   "source": [
    "# nH-SSH Model"
   ]
  },
  {
   "cell_type": "code",
   "execution_count": 9,
   "metadata": {},
   "outputs": [],
   "source": [
    "def get_N_total(N):\n",
    "    return int(N + N/2)"
   ]
  },
  {
   "cell_type": "code",
   "execution_count": 10,
   "metadata": {},
   "outputs": [],
   "source": [
    "def unitary(J, timestep):\n",
    "    product_1 = np.kron(np.kron(X_gate, I_gate), X_gate)\n",
    "    product_2 = np.kron(np.kron(Y_gate, I_gate), Y_gate)\n",
    "    exponent = 1j * timestep * ( (J/2) * (product_1 + product_2))\n",
    "    return expm(exponent)\n",
    "\n",
    "\n",
    "def get_unitary(J, timestep, N):\n",
    "    gate = unitary(J, timestep)\n",
    "    matrix = np.kron(I_gate, I_gate)\n",
    "    for _ in range(2, get_N_total(N) - 1, 3):\n",
    "        matrix = np.kron(matrix, gate)\n",
    "    matrix = np.kron(matrix, I_gate)\n",
    "    return matrix\n",
    "\n",
    "\n",
    "def get_all_U_R(J, gamma, N, timestep):\n",
    "    gate = get_U_HN(J, gamma, 2, timestep)\n",
    "    matrix = gate\n",
    "    for _ in range(1, int(N/2)):\n",
    "        matrix = np.kron(matrix, gate)\n",
    "    return matrix\n",
    "\n",
    "def get_all_projection(N):\n",
    "    projection_matrix = projection(3)\n",
    "    matrix = projection_matrix\n",
    "    for _ in range(1, int(N/2)):\n",
    "        matrix = np.kron(matrix, projection_matrix)\n",
    "    return matrix\n"
   ]
  },
  {
   "cell_type": "code",
   "execution_count": 11,
   "metadata": {},
   "outputs": [],
   "source": [
    "def check_ancillary(N, key):\n",
    "    total_N = get_N_total(N)\n",
    "    for i in range(total_N):\n",
    "        if i % 3 == 0:\n",
    "            if key[i] != \"0\":\n",
    "                return False\n",
    "    return True\n"
   ]
  },
  {
   "cell_type": "code",
   "execution_count": 16,
   "metadata": {},
   "outputs": [],
   "source": [
    "def get_density(J, gamma, N, nb_timesteps, timestep_duration):\n",
    "    total_N = get_N_total(N)\n",
    "\n",
    "    # Generate the unitary\n",
    "    matrix = get_all_U_R(J, gamma , N, timestep_duration)\n",
    "    projection_matrix = get_all_projection(N)\n",
    "    unitary_term = get_unitary(J, timestep_duration, N)\n",
    "\n",
    "    # create the initial state vector (|↓↓↑↓↓↓⟩+|↓↓↓↑↓↓⟩)/ 2\n",
    "    initial_vector = np.zeros((2**(total_N), 1), dtype=complex)\n",
    "    binary_1 = \"\" #011\" + \"010\" + \"011\n",
    "    binary_2 = \"\"\n",
    "    for index in range(N):\n",
    "        if index % 2 == 0:\n",
    "            binary_1 += \"0\"\n",
    "            binary_2 += \"0\"\n",
    "        \n",
    "        if index == N/2 - 1:\n",
    "            binary_1 += \"0\"\n",
    "            binary_2 += \"1\"\n",
    "        elif index == N/2:\n",
    "            binary_1 += \"1\"\n",
    "            binary_2 += \"0\"\n",
    "        else:\n",
    "            binary_1 += \"1\"\n",
    "            binary_2 += \"1\"\n",
    "            \n",
    "    initial_vector[int(binary_1, 2)] = 1/np.sqrt(2)\n",
    "    initial_vector[int(binary_2, 2)] = 1/np.sqrt(2)\n",
    "\n",
    "    magnetization=[]\n",
    "    for n_steps in range(1, nb_timesteps + 1):\n",
    "\n",
    "        # for each time step, apply the matrix n_steps times onto the initial vector\n",
    "        state_vector = np.matmul(np.linalg.matrix_power(np.matmul(unitary_term, np.matmul(projection_matrix, matrix)), n_steps), initial_vector).T[0]\n",
    "        state_dict = {}\n",
    "        for i in range(2 ** (total_N)):\n",
    "\n",
    "            # allocate the relevant probabilities to each state\n",
    "            state_dict[bin(i)[2:].zfill(total_N)] = np.abs(state_vector[i]) ** 2\n",
    "\n",
    "    \n",
    "        # create a new row to add to magnetization array\n",
    "        row = [0 for _ in range(N)]\n",
    "        prob = 0\n",
    "        for key, value in state_dict.items():\n",
    "\n",
    "            # key[0] is the ancillary qubit\n",
    "            if check_ancillary(N, key):\n",
    "                prob += value\n",
    "                for i in range(total_N):\n",
    "\n",
    "                    # if the other qubits have a result of 0, then add the probabilities to that qubit\n",
    "                    if i % 3 != 0:\n",
    "                        if key[i] == '0':\n",
    "                            real_index = i // 3 * 2 + i % 3\n",
    "                            row[N - real_index] += value\n",
    "\n",
    "        magnetization += [[x/prob for x in row]]\n",
    "    return np.array(magnetization)"
   ]
  },
  {
   "cell_type": "code",
   "execution_count": 13,
   "metadata": {},
   "outputs": [],
   "source": [
    "\n",
    "nb_timesteps = 10\n",
    "timestep_duration = 0.1\n",
    "gamma = 0.5\n",
    "J = 2\n",
    "\n"
   ]
  },
  {
   "cell_type": "code",
   "execution_count": 17,
   "metadata": {},
   "outputs": [],
   "source": [
    "density_6 = get_density(J, gamma, 6, nb_timesteps, timestep_duration)\n"
   ]
  },
  {
   "cell_type": "code",
   "execution_count": 18,
   "metadata": {},
   "outputs": [],
   "source": [
    "density_8 = get_density(J, gamma, 8, nb_timesteps, timestep_duration)\n"
   ]
  },
  {
   "cell_type": "code",
   "execution_count": 34,
   "metadata": {},
   "outputs": [
    {
     "data": {
      "text/plain": [
       "<matplotlib.colorbar.Colorbar at 0x148233d90>"
      ]
     },
     "execution_count": 34,
     "metadata": {},
     "output_type": "execute_result"
    },
    {
     "data": {
      "image/png": "[encoded data removed]",
      "text/plain": [
       "<Figure size 500x700 with 4 Axes>"
      ]
     },
     "metadata": {},
     "output_type": "display_data"
    }
   ],
   "source": [
    "fig, axes = plt.subplots(2, height_ratios=[6, 8], figsize=(10/2, (6 + 8)/2))\n",
    "plt.inferno()\n",
    "im_0 = axes[0].pcolormesh([timestep_duration * i for i in range(nb_timesteps)], np.arange(0,6,1), density_6.T, vmin=0, vmax=np.max(density_6))\n",
    "im_1 = axes[1].pcolormesh([timestep_duration * i for i in range(nb_timesteps)], np.arange(0,8,1), density_8.T, vmin=0, vmax=np.max(density_6))\n",
    "fig.colorbar(im_0)\n",
    "fig.colorbar(im_1)"
   ]
  },
  {
   "cell_type": "code",
   "execution_count": 41,
   "metadata": {},
   "outputs": [
    {
     "data": {
      "text/plain": [
       "Text(0.5, 0, 'T')"
      ]
     },
     "execution_count": 41,
     "metadata": {},
     "output_type": "execute_result"
    },
    {
     "data": {
      "image/png": "[encoded data removed]",
      "text/plain": [
       "<Figure size 600x400 with 2 Axes>"
      ]
     },
     "metadata": {},
     "output_type": "display_data"
    }
   ],
   "source": [
    "density_8 = magnetization\n",
    "fig = plt.figure(figsize=((nb_timesteps + 2)/2 , N/2), facecolor='white')\n",
    "im = plt.pcolormesh([timestep_duration * i for i in range(nb_timesteps)], np.arange(0,N,1), density_8.T, cmap='inferno')\n",
    "fig.colorbar(im)\n",
    "plt.ylabel('Qubit index')\n",
    "plt.xlabel('T')"
   ]
  }
 ],
 "metadata": {
  "kernelspec": {
   "display_name": "qiskit-venv",
   "language": "python",
   "name": "python3"
  },
  "language_info": {
   "codemirror_mode": {
    "name": "ipython",
    "version": 3
   },
   "file_extension": ".py",
   "mimetype": "text/x-python",
   "name": "python",
   "nbconvert_exporter": "python",
   "pygments_lexer": "ipython3",
   "version": "3.11.6"
  }
 },
 "nbformat": 4,
 "nbformat_minor": 2
}
