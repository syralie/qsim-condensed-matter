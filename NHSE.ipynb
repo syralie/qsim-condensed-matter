{
 "cells": [
  {
   "cell_type": "markdown",
   "metadata": {},
   "source": [
    "# Non-Unitary Operators for the Non-Hermitian Skin Effect\n",
    "\n",
    "Paper to be replicated: https://arxiv.org/pdf/2311.10143\n",
    "\n",
    "Addition Resources Consulted:\n",
    "- https://link.aps.org/pdf/10.1103/PRXQuantum.2.010342\n",
    "- https://medium.com/mdr-inc/time-evolution-operators-be2968493b86 (note there are some notable errors)\n",
    "- "
   ]
  },
  {
   "cell_type": "code",
   "execution_count": 143,
   "metadata": {},
   "outputs": [],
   "source": [
    "from qiskit import QuantumCircuit\n",
    "from qiskit.quantum_info import SparsePauliOp\n",
    "from qiskit_ibm_runtime import EstimatorV2 as Estimator\n",
    "from qiskit_ibm_runtime import SamplerV2 as Sampler\n",
    "from qiskit_aer import AerSimulator\n",
    "import matplotlib.pyplot as plt\n",
    "from qiskit.transpiler import CouplingMap\n",
    "from qiskit.transpiler.preset_passmanagers import generate_preset_pass_manager\n",
    "from qiskit_ibm_runtime import QiskitRuntimeService\n",
    "from qiskit.circuit.library import UnitaryGate\n",
    "\n",
    "from tqdm.notebook import tqdm\n",
    "\n",
    "from numpy import sin, cos\n",
    "import numpy as np\n",
    "from scipy.linalg import expm, sqrtm\n",
    "\n",
    "from itertools import product\n",
    "\n",
    "import random\n",
    "\n",
    "import json\n",
    "\n"
   ]
  },
  {
   "cell_type": "code",
   "execution_count": 144,
   "metadata": {},
   "outputs": [],
   "source": [
    "# service = QiskitRuntimeService()\n",
    "BACKEND = AerSimulator()\n",
    "pass_manager = generate_preset_pass_manager(backend=BACKEND, optimization_level=0)\n",
    "estimator = Estimator(backend=BACKEND)\n",
    "sampler = Sampler(backend=BACKEND)"
   ]
  },
  {
   "cell_type": "markdown",
   "metadata": {},
   "source": [
    "## I. Hatano-Nelson Model\n",
    "\n",
    "Note $\\hat{X}^+ = \\frac{\\hat{X} + i \\hat{Y}}{2}$ and $\\hat{X}^- = \\frac{\\hat{X} - i \\hat{Y}}{2}$"
   ]
  },
  {
   "cell_type": "code",
   "execution_count": 281,
   "metadata": {},
   "outputs": [],
   "source": [
    "X_gate = np.array([[0, 1], \n",
    "                   [1, 0]])\n",
    "\n",
    "Y_gate = np.array([[0, -1j],\n",
    "                   [1j, 0]])\n",
    "\n",
    "I_gate = np.array([[1, 0], \n",
    "                   [0, 1]])\n",
    "\n",
    "X_plus = 0.5 * (X_gate + 1j * Y_gate)\n",
    "X_minus = 0.5 * (X_gate - 1j * Y_gate)"
   ]
  },
  {
   "cell_type": "code",
   "execution_count": 249,
   "metadata": {},
   "outputs": [
    {
     "name": "stdout",
     "output_type": "stream",
     "text": [
      "[[0.+0.j 0.+0.j]\n",
      " [1.+0.j 0.+0.j]]\n"
     ]
    }
   ],
   "source": [
    "print(X_minus)\n",
    "\n",
    "#X_plus = np.array([[1, 0], \n",
    "#                   [0, 0]])\n",
    "\n",
    "#X_minus = np.array([[0, 0], \n",
    "#                   [0, 1]])"
   ]
  },
  {
   "cell_type": "code",
   "execution_count": 282,
   "metadata": {},
   "outputs": [],
   "source": [
    "# Helper function, generates U_j_nonH\n",
    "def get_U_j_nonH(J, gamma, index, N, timestep):\n",
    "    product_1 = np.kron(X_plus, X_minus)\n",
    "    product_2 = np.kron(X_minus, X_plus)\n",
    "    exponent = 1j * timestep * ( (J - gamma) * product_1 + (J + gamma) * product_2)\n",
    "    if index == 0:\n",
    "        U_j_nonH = np.kron(expm(exponent), np.eye(index ** (N-2)))\n",
    "    if index == N - 2:\n",
    "        U_j_nonH = np.kron(np.eye(2 ** (N-2)), expm(exponent))\n",
    "    else: \n",
    "        U_j_nonH = np.kron(np.kron(np.eye(2 ** (index)), expm(exponent)), np.eye(2 ** (N - 2 - index)))\n",
    "    return U_j_nonH\n",
    "\n",
    "# Helper function, generates R_HN\n",
    "def get_R_HN(J, gamma, N, timestep):\n",
    "    res_even = np.eye(2 ** N)\n",
    "    res_odd = np.eye(2 ** N)\n",
    "    for i in range(N - 1):\n",
    "        if i % 2 == 0:\n",
    "            res_even = np.matmul(res_even, get_U_j_nonH(J, gamma, i, N, timestep))\n",
    "        else:\n",
    "            res_odd = np.matmul(res_odd, get_U_j_nonH(J, gamma, i, N, timestep))\n",
    "    return np.matmul(res_even, res_odd)\n",
    "\n",
    "# Generates U_HN \n",
    "def get_U_HN(J, gamma, N, timestep):\n",
    "    R_HN = get_R_HN(J, gamma, N, timestep)\n",
    "\n",
    "    A, sig, Bh = np.linalg.svd(R_HN)\n",
    "    eigval, _ = np.linalg.eig(np.matmul(R_HN.conj().T, R_HN))\n",
    "    u_square_inverse = max(eigval)\n",
    "    u_square = 1/u_square_inverse \n",
    "    C = np.matmul(np.matmul(A, sqrtm(np.eye(2 ** N) - u_square * np.diag(np.square(sig)))), Bh)\n",
    "\n",
    "    u_R_HN = np.sqrt(u_square) * R_HN\n",
    "    W = np.concatenate((np.concatenate((u_R_HN, C), axis=0), np.concatenate((np.eye(2 ** N), np.eye(2 ** N)), axis=0)), axis=1)\n",
    "    U_HN, _ = np.linalg.qr(W)\n",
    "    return U_HN"
   ]
  },
  {
   "cell_type": "code",
   "execution_count": 283,
   "metadata": {},
   "outputs": [],
   "source": [
    "# Creates the relevant observable (N here generally includes the auxiliary)\n",
    "def magnetization_ops(qubit, N):\n",
    "    observable = SparsePauliOp.from_sparse_list(\n",
    "    [(\"Z\", [qubit], 0.5), (\"I\", [qubit], 0.5)], num_qubits=N\n",
    "    )\n",
    "    return observable"
   ]
  },
  {
   "cell_type": "code",
   "execution_count": 284,
   "metadata": {},
   "outputs": [],
   "source": [
    "total_time = 1.8\n",
    "nb_timesteps = 10\n",
    "timestep_duration = total_time/nb_timesteps"
   ]
  },
  {
   "cell_type": "code",
   "execution_count": 287,
   "metadata": {},
   "outputs": [
    {
     "data": {
      "application/vnd.jupyter.widget-view+json": {
       "model_id": "3e5afeb51ef24297a29631727e9d4ffc",
       "version_major": 2,
       "version_minor": 0
      },
      "text/plain": [
       "  0%|          | 0/10 [00:00<?, ?it/s]"
      ]
     },
     "metadata": {},
     "output_type": "display_data"
    }
   ],
   "source": [
    "# For gamma = 0 case\n",
    "N = 6\n",
    "\n",
    "# Generate the unitary\n",
    "matrix = get_U_HN(1, 0, N, timestep_duration)\n",
    "gate = UnitaryGate(matrix)\n",
    "\n",
    "# Create the relevant circuits for paper's Fig 3a\n",
    "circuits = []\n",
    "for n_steps in range(1, nb_timesteps+1):\n",
    "    qc = QuantumCircuit(N+1,N+1)\n",
    "    qc.h(N//2 - 1)\n",
    "    qc.cx(N//2 -1, N//2)\n",
    "    qc.x(range(N))\n",
    "    \n",
    "    for _ in range(n_steps):\n",
    "        qc.append(gate, [i for i in range(N+1)])\n",
    "    \n",
    "\n",
    "    circuits.append(pass_manager.run(qc))\n",
    "\n",
    "# Execute measurements for paper's Fig 3a\n",
    "magnetization=[]\n",
    "for circ in tqdm(circuits):\n",
    "    pubs = [(circ, magnetization_ops(qubit, N+1)) for qubit in range(N)]\n",
    "    job = estimator.run(pubs)\n",
    "    results = job.result()\n",
    "\n",
    "    magnetization.append([results[i].data.evs for i in range(N)])\n",
    "\n",
    "magnetization=np.array(magnetization)\n",
    "\n"
   ]
  },
  {
   "cell_type": "code",
   "execution_count": 288,
   "metadata": {},
   "outputs": [
    {
     "data": {
      "text/plain": [
       "Text(0.5, 0, 'T')"
      ]
     },
     "execution_count": 288,
     "metadata": {},
     "output_type": "execute_result"
    },
    {
     "data": {
      "image/png": "[encoded data removed]",
      "text/plain": [
       "<Figure size 500x300 with 2 Axes>"
      ]
     },
     "metadata": {},
     "output_type": "display_data"
    }
   ],
   "source": [
    "fig = plt.figure(figsize=(10/2,6/2), facecolor='white')\n",
    "im = plt.pcolormesh([timestep_duration * i for i in range(nb_timesteps)], np.arange(0,N,1), magnetization.T, cmap='inferno')\n",
    "fig.colorbar(im)\n",
    "plt.ylabel('Qubit index')\n",
    "plt.xlabel('T')"
   ]
  },
  {
   "cell_type": "code",
   "execution_count": 309,
   "metadata": {},
   "outputs": [
    {
     "data": {
      "application/vnd.jupyter.widget-view+json": {
       "model_id": "6000a85ab47246179b2f744bf15f2d2d",
       "version_major": 2,
       "version_minor": 0
      },
      "text/plain": [
       "  0%|          | 0/10 [00:00<?, ?it/s]"
      ]
     },
     "metadata": {},
     "output_type": "display_data"
    }
   ],
   "source": [
    "# For gamma = 0.5 case\n",
    "N = 6\n",
    "\n",
    "# Generate the unitary\n",
    "matrix = get_U_HN(1, 0.3, N, timestep_duration)\n",
    "gate = UnitaryGate(matrix)\n",
    "\n",
    "# Create the relevant circuits for paper's Fig 3a\n",
    "circuits = []\n",
    "for n_steps in range(1, nb_timesteps+1):\n",
    "    qc = QuantumCircuit(N+1)\n",
    "    qc.h(N//2 - 1)\n",
    "    qc.cx(N//2 -1, N//2)\n",
    "    qc.x(range(N))\n",
    "    \n",
    "    for _ in range(n_steps):\n",
    "        qc.append(gate, [i for i in range(N+1)])\n",
    "    \n",
    "    qc.measure_all()\n",
    "    circuits.append(qc)\n",
    "\n",
    "# Execute measurements for paper's Fig 3a\n",
    "magnetization=[]\n",
    "res_list = []\n",
    "for circ in tqdm(circuits):\n",
    "    pubs = [(circ)]\n",
    "    job = sampler.run(pubs, shots=160000)\n",
    "    results = job.result()\n",
    "    res = results[0].data.meas.get_counts()\n",
    "\n",
    "    counts_left = 0\n",
    "    row = [0 for _ in range(N)]\n",
    "    for key, value in res.items():\n",
    "        if key[0] == \"0\":\n",
    "            counts_left += value\n",
    "\n",
    "            for i in range(1, N+1):\n",
    "                if key[i] == '0':\n",
    "                    row[i-1] += value\n",
    "    magnetization.append([x/counts_left for x in row][::-1]) #due to qiskit's big endian\n",
    "\n",
    "magnetization=np.array(magnetization)"
   ]
  },
  {
   "cell_type": "code",
   "execution_count": 310,
   "metadata": {},
   "outputs": [
    {
     "data": {
      "text/plain": [
       "Text(0.5, 0, 'T')"
      ]
     },
     "execution_count": 310,
     "metadata": {},
     "output_type": "execute_result"
    },
    {
     "data": {
      "image/png": "[encoded data removed]",
      "text/plain": [
       "<Figure size 500x300 with 2 Axes>"
      ]
     },
     "metadata": {},
     "output_type": "display_data"
    }
   ],
   "source": [
    "fig = plt.figure(figsize=(10/2,6/2), facecolor='white')\n",
    "im = plt.pcolormesh([timestep_duration * i for i in range(nb_timesteps)], np.arange(0,N,1), magnetization.T, cmap='inferno')\n",
    "fig.colorbar(im)\n",
    "plt.ylabel('Qubit index')\n",
    "plt.xlabel('T')"
   ]
  },
  {
   "cell_type": "code",
   "execution_count": 313,
   "metadata": {},
   "outputs": [
    {
     "data": {
      "application/vnd.jupyter.widget-view+json": {
       "model_id": "abd21d9cb7834b77ba6cb33b6a66f4df",
       "version_major": 2,
       "version_minor": 0
      },
      "text/plain": [
       "  0%|          | 0/10 [00:00<?, ?it/s]"
      ]
     },
     "metadata": {},
     "output_type": "display_data"
    }
   ],
   "source": [
    "# For gamma = 0.5 case\n",
    "N = 6\n",
    "\n",
    "# Generate the unitary\n",
    "matrix = get_U_HN(1, 0.3, N, timestep_duration)\n",
    "gate = UnitaryGate(matrix)\n",
    "\n",
    "# Create the relevant circuits for paper's Fig 3a\n",
    "circuits = []\n",
    "for n_steps in range(1, nb_timesteps+1):\n",
    "    qc = QuantumCircuit(N+1)\n",
    "    qc.h(N//2 - 1)\n",
    "    qc.cx(N//2 -1, N//2)\n",
    "    qc.x(range(N+1))\n",
    "    \n",
    "    for _ in range(n_steps):\n",
    "        qc.append(gate, [i for i in range(N+1)])\n",
    "    \n",
    "    qc.measure_all()\n",
    "    circuits.append(qc)\n",
    "\n",
    "# Execute measurements for paper's Fig 3a\n",
    "magnetization=[]\n",
    "res_list = []\n",
    "for circ in tqdm(circuits):\n",
    "    pubs = [(circ)]\n",
    "    job = sampler.run(pubs, shots=160000)\n",
    "    results = job.result()\n",
    "    res = results[0].data.meas.get_counts()\n",
    "\n",
    "    counts_left = 0\n",
    "    row = [0 for _ in range(N)]\n",
    "    for key, value in res.items():\n",
    "        if key[0] == \"1\":\n",
    "            counts_left += value\n",
    "\n",
    "            for i in range(1, N+1):\n",
    "                if key[i] == '0':\n",
    "                    row[i-1] += value\n",
    "    magnetization.append([x/counts_left for x in row][::-1]) #due to qiskit's big endian\n",
    "\n",
    "magnetization=np.array(magnetization)"
   ]
  },
  {
   "cell_type": "code",
   "execution_count": 314,
   "metadata": {},
   "outputs": [
    {
     "data": {
      "text/plain": [
       "Text(0.5, 0, 'T')"
      ]
     },
     "execution_count": 314,
     "metadata": {},
     "output_type": "execute_result"
    },
    {
     "data": {
      "image/png": "[encoded data removed]",
      "text/plain": [
       "<Figure size 500x300 with 2 Axes>"
      ]
     },
     "metadata": {},
     "output_type": "display_data"
    }
   ],
   "source": [
    "fig = plt.figure(figsize=(10/2,6/2), facecolor='white')\n",
    "im = plt.pcolormesh([timestep_duration * i for i in range(nb_timesteps)], np.arange(0,N,1), magnetization.T, cmap='inferno')\n",
    "fig.colorbar(im)\n",
    "plt.ylabel('Qubit index')\n",
    "plt.xlabel('T')"
   ]
  }
 ],
 "metadata": {
  "kernelspec": {
   "display_name": "qiskit-venv",
   "language": "python",
   "name": "python3"
  },
  "language_info": {
   "codemirror_mode": {
    "name": "ipython",
    "version": 3
   },
   "file_extension": ".py",
   "mimetype": "text/x-python",
   "name": "python",
   "nbconvert_exporter": "python",
   "pygments_lexer": "ipython3",
   "version": "3.11.6"
  }
 },
 "nbformat": 4,
 "nbformat_minor": 2
}
