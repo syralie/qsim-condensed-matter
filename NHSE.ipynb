{
 "cells": [
  {
   "cell_type": "markdown",
   "metadata": {},
   "source": [
    "# Non-Unitary Operators for the Non-Hermitian Skin Effect\n",
    "\n",
    "Paper to be replicated: https://arxiv.org/pdf/2311.10143\n",
    "\n",
    "Addition Resources Consulted:\n",
    "- https://link.aps.org/pdf/10.1103/PRXQuantum.2.010342\n",
    "- https://medium.com/mdr-inc/time-evolution-operators-be2968493b86 (note there are some notable errors)\n",
    "- "
   ]
  },
  {
   "cell_type": "code",
   "execution_count": 158,
   "metadata": {},
   "outputs": [],
   "source": [
    "from qiskit import QuantumCircuit\n",
    "from qiskit.quantum_info import SparsePauliOp, Statevector, Operator\n",
    "from qiskit_ibm_runtime import EstimatorV2 as Estimator\n",
    "from qiskit_ibm_runtime import SamplerV2 as Sampler\n",
    "from qiskit_aer import AerSimulator\n",
    "import matplotlib.pyplot as plt\n",
    "from qiskit.transpiler import CouplingMap\n",
    "from qiskit.transpiler.preset_passmanagers import generate_preset_pass_manager\n",
    "from qiskit_ibm_runtime import QiskitRuntimeService\n",
    "from qiskit.circuit.library import UnitaryGate\n",
    "from qiskit.quantum_info import Statevector\n",
    "\n",
    "from tqdm.notebook import tqdm\n",
    "\n",
    "from numpy import sin, cos\n",
    "import numpy as np\n",
    "from scipy.linalg import expm, sqrtm\n",
    "\n",
    "from itertools import product\n",
    "\n",
    "import random\n",
    "\n",
    "import json\n",
    "\n"
   ]
  },
  {
   "cell_type": "code",
   "execution_count": 147,
   "metadata": {},
   "outputs": [],
   "source": [
    "# service = QiskitRuntimeService()\n",
    "BACKEND = AerSimulator()\n",
    "pass_manager = generate_preset_pass_manager(backend=BACKEND, optimization_level=0)\n",
    "estimator = Estimator(backend=BACKEND)\n",
    "sampler = Sampler(backend=BACKEND)"
   ]
  },
  {
   "cell_type": "markdown",
   "metadata": {},
   "source": [
    "## I. Hatano-Nelson Model\n",
    "\n",
    "Note $\\hat{X}^+ = \\frac{\\hat{X} + i \\hat{Y}}{2}$ and $\\hat{X}^- = \\frac{\\hat{X} - i \\hat{Y}}{2}$"
   ]
  },
  {
   "cell_type": "code",
   "execution_count": 148,
   "metadata": {},
   "outputs": [],
   "source": [
    "X_gate = np.array([[0, 1], \n",
    "                   [1, 0]])\n",
    "\n",
    "Y_gate = np.array([[0, -1j],\n",
    "                   [1j, 0]])\n",
    "\n",
    "I_gate = np.array([[1, 0], \n",
    "                   [0, 1]])\n",
    "\n",
    "X_plus = 0.5 * (X_gate + 1j * Y_gate)\n",
    "X_minus = 0.5 * (X_gate - 1j * Y_gate)"
   ]
  },
  {
   "cell_type": "code",
   "execution_count": 151,
   "metadata": {},
   "outputs": [],
   "source": [
    "# Helper function, generates U_j_nonH\n",
    "def get_U_j_nonH(J, gamma, index, N, timestep):\n",
    "    product_1 = np.kron(X_plus, X_minus)\n",
    "    product_2 = np.kron(X_minus, X_plus)\n",
    "    exponent = 1j * timestep * ( (J - gamma) * product_1 + (J + gamma) * product_2)\n",
    "    \n",
    "    if index == 0:\n",
    "        U_j_nonH = np.kron(np.eye(2 ** (N-2)), expm(exponent))\n",
    "    if index == N - 2:\n",
    "        U_j_nonH = np.kron(expm(exponent), np.eye(2 ** (N-2)))\n",
    "    else: \n",
    "        U_j_nonH = np.kron(np.kron(np.eye(2 ** (N - 2 - index)), expm(exponent)), np.eye(2 ** (index)))\n",
    "    return U_j_nonH\n",
    "    \n",
    "\n",
    "\n",
    "# Helper function, generates R_HN\n",
    "def get_R_HN(J, gamma, N, timestep):\n",
    "    res_even = np.eye(2 ** N)\n",
    "    res_odd = np.eye(2 ** N)\n",
    "    for i in range(N - 1):\n",
    "        if i % 2 == 0:\n",
    "            res_even = np.matmul(res_even, get_U_j_nonH(J, gamma, i, N, timestep))\n",
    "        else:\n",
    "            res_odd = np.matmul(res_odd, get_U_j_nonH(J, gamma, i, N, timestep))\n",
    "    return np.matmul(res_even, res_odd)\n",
    "\n",
    "# Generates U_HN \n",
    "def get_U_HN(J, gamma, N, timestep):\n",
    "    R_HN = get_R_HN(J, gamma, N, timestep)\n",
    "\n",
    "    A, sig, Bh = np.linalg.svd(R_HN)\n",
    "    eigval, _ = np.linalg.eig(np.matmul(R_HN.conj().T, R_HN))\n",
    "    u_square_inverse = max(eigval)\n",
    "    u_square = 1/u_square_inverse \n",
    "    C = np.matmul(np.matmul(A, sqrtm(np.eye(2 ** N) - u_square * np.diag(np.square(sig)))), Bh)\n",
    "\n",
    "    u_R_HN = np.sqrt(u_square) * R_HN\n",
    "    W = np.concatenate((np.concatenate((u_R_HN, C), axis=0), np.concatenate((np.eye(2 ** N), np.eye(2 ** N)), axis=0)), axis=1)\n",
    "    U_HN, _ = np.linalg.qr(W)\n",
    "    return U_HN"
   ]
  },
  {
   "cell_type": "code",
   "execution_count": 180,
   "metadata": {},
   "outputs": [
    {
     "data": {
      "text/plain": [
       "array([[1., 0., 0., 0., 0., 0., 0., 0.],\n",
       "       [0., 1., 0., 0., 0., 0., 0., 0.],\n",
       "       [0., 0., 1., 0., 0., 0., 0., 0.],\n",
       "       [0., 0., 0., 1., 0., 0., 0., 0.],\n",
       "       [0., 0., 0., 0., 0., 0., 0., 0.],\n",
       "       [0., 0., 0., 0., 0., 0., 0., 0.],\n",
       "       [0., 0., 0., 0., 0., 0., 0., 0.],\n",
       "       [0., 0., 0., 0., 0., 0., 0., 0.]])"
      ]
     },
     "execution_count": 180,
     "metadata": {},
     "output_type": "execute_result"
    }
   ],
   "source": [
    "def projection(N):\n",
    "    projector = np.array([[1.0, 0.0], [0.0, 0.0]])\n",
    "    \n",
    "    return np.kron(projector, np.eye(2 ** (N-1)))\n",
    "\n",
    "projection(3)"
   ]
  },
  {
   "cell_type": "code",
   "execution_count": 10,
   "metadata": {},
   "outputs": [],
   "source": [
    "total_time = 1.8\n",
    "nb_timesteps = 10\n",
    "timestep_duration = total_time/nb_timesteps"
   ]
  },
  {
   "cell_type": "markdown",
   "metadata": {},
   "source": [
    "# First Attempt Using Gates\n",
    "Note: This attempt missed out on implementing the projection between each trotter step, hence the non-unitary case where $gamma \\neq 0.0$ gives the wrong figure."
   ]
  },
  {
   "cell_type": "code",
   "execution_count": 178,
   "metadata": {},
   "outputs": [
    {
     "data": {
      "application/vnd.jupyter.widget-view+json": {
       "model_id": "3dd6f5d8979a40a880d29c0ee14d64af",
       "version_major": 2,
       "version_minor": 0
      },
      "text/plain": [
       "  0%|          | 0/10 [00:00<?, ?it/s]"
      ]
     },
     "metadata": {},
     "output_type": "display_data"
    },
    {
     "data": {
      "text/plain": [
       "Text(0.5, 0, 'T')"
      ]
     },
     "execution_count": 178,
     "metadata": {},
     "output_type": "execute_result"
    },
    {
     "data": {
      "image/png": "[encoded data removed]",
      "text/plain": [
       "<Figure size 500x300 with 2 Axes>"
      ]
     },
     "metadata": {},
     "output_type": "display_data"
    }
   ],
   "source": [
    "# For gamma = 0.0 case \n",
    "# (Original Implementation using individual UnitaryGates, but missed out projection between each trotter step)\n",
    "N = 6\n",
    "\n",
    "# Generate the unitary\n",
    "matrix = get_U_HN(2, 0.0, N, 0.1)\n",
    "gate = UnitaryGate(matrix)\n",
    "\n",
    "# Create the relevant circuits for paper's Fig 3a\n",
    "circuits = []\n",
    "for n_steps in range(1, nb_timesteps+1):\n",
    "    qc = QuantumCircuit(N+1)\n",
    "    qc.h(N//2 - 1)\n",
    "    qc.cx(N//2 - 1, N//2)\n",
    "    \n",
    "    gate = UnitaryGate(np.linalg.matrix_power(matrix, n_steps))\n",
    "    qc.append(gate, [i for i in range(N+1)])\n",
    "    \n",
    "    qc.measure_all()\n",
    "    circuits.append(qc)\n",
    "\n",
    "# Execute measurements for paper's Fig 3a\n",
    "magnetization=[]\n",
    "res_list = []\n",
    "for circ in tqdm(circuits):\n",
    "    pubs = [(circ)]\n",
    "    job = sampler.run(pubs, shots=160000)\n",
    "    results = job.result()\n",
    "    res = results[0].data.meas.get_counts()\n",
    "\n",
    "    counts_left = 0\n",
    "    row = [0 for _ in range(N)]\n",
    "    for key, value in res.items():\n",
    "        if key[0] == \"0\":\n",
    "            counts_left += value\n",
    "\n",
    "            for i in range(1, N+1):\n",
    "                if key[i] == '1':\n",
    "                    row[i-1] += value\n",
    "    magnetization.append([x/counts_left for x in row][::-1]) #the output for qiskit is qNqN-1...q1q0\n",
    "\n",
    "magnetization=np.array(magnetization)\n",
    "\n",
    "fig = plt.figure(figsize=(10/2,6/2), facecolor='white')\n",
    "im = plt.pcolormesh([0.1 * i for i in range(nb_timesteps)], np.arange(0,N,1), magnetization.T, cmap='inferno')\n",
    "fig.colorbar(im)\n",
    "plt.ylabel('Qubit index')\n",
    "plt.xlabel('T')\n",
    "\n"
   ]
  },
  {
   "cell_type": "code",
   "execution_count": 15,
   "metadata": {},
   "outputs": [
    {
     "data": {
      "application/vnd.jupyter.widget-view+json": {
       "model_id": "1d4cf75e92d44045905323b48ce7082c",
       "version_major": 2,
       "version_minor": 0
      },
      "text/plain": [
       "  0%|          | 0/10 [00:00<?, ?it/s]"
      ]
     },
     "metadata": {},
     "output_type": "display_data"
    }
   ],
   "source": [
    "# For gamma = 0.5 case \n",
    "# (Original Implementation using individual UnitaryGates, but missed out projection between each trotter step)\n",
    "N = 6\n",
    "\n",
    "# Generate the unitary\n",
    "matrix = get_U_HN(2, 0.5, N, 0.1)\n",
    "gate = UnitaryGate(matrix)\n",
    "\n",
    "# Create the relevant circuits for paper's Fig 3a\n",
    "circuits = []\n",
    "for n_steps in range(1, nb_timesteps+1):\n",
    "    qc = QuantumCircuit(N+1)\n",
    "    qc.h(N//2 - 1)\n",
    "    qc.cx(N//2 - 1, N//2)\n",
    "    \n",
    "    gate = UnitaryGate(np.linalg.matrix_power(matrix, n_steps))\n",
    "    qc.append(gate, [i for i in range(N+1)])\n",
    "    \n",
    "    qc.measure_all()\n",
    "    circuits.append(qc)\n",
    "\n",
    "# Execute measurements for paper's Fig 3a\n",
    "magnetization=[]\n",
    "res_list = []\n",
    "for circ in tqdm(circuits):\n",
    "    pubs = [(circ)]\n",
    "    job = sampler.run(pubs, shots=160000)\n",
    "    results = job.result()\n",
    "    res = results[0].data.meas.get_counts()\n",
    "\n",
    "    counts_left = 0\n",
    "    row = [0 for _ in range(N)]\n",
    "    for key, value in res.items():\n",
    "        if key[0] == \"0\":\n",
    "            counts_left += value\n",
    "\n",
    "            for i in range(1, N+1):\n",
    "                if key[i] == '1':\n",
    "                    row[i-1] += value\n",
    "    magnetization.append([x/counts_left for x in row][::-1]) #the output for qiskit is qNqN-1...q1q0\n",
    "\n",
    "magnetization=np.array(magnetization)"
   ]
  },
  {
   "cell_type": "code",
   "execution_count": 17,
   "metadata": {},
   "outputs": [
    {
     "data": {
      "text/plain": [
       "Text(0.5, 0, 'T')"
      ]
     },
     "execution_count": 17,
     "metadata": {},
     "output_type": "execute_result"
    },
    {
     "data": {
      "image/png": "[encoded data removed]",
      "text/plain": [
       "<Figure size 500x300 with 2 Axes>"
      ]
     },
     "metadata": {},
     "output_type": "display_data"
    }
   ],
   "source": [
    "fig = plt.figure(figsize=(10/2,6/2), facecolor='white')\n",
    "im = plt.pcolormesh([0.1 * i for i in range(nb_timesteps)], np.arange(0,N,1), magnetization.T, cmap='inferno')\n",
    "fig.colorbar(im)\n",
    "plt.ylabel('Qubit index')\n",
    "plt.xlabel('T')"
   ]
  },
  {
   "cell_type": "markdown",
   "metadata": {},
   "source": [
    "# Second Attempt: Mathematical implementation of Fig 3a\n",
    "Note: Qiskit was not used"
   ]
  },
  {
   "cell_type": "code",
   "execution_count": 157,
   "metadata": {},
   "outputs": [
    {
     "name": "stdout",
     "output_type": "stream",
     "text": [
      "(6, 10)\n"
     ]
    },
    {
     "data": {
      "text/plain": [
       "Text(0.5, 0, 'T')"
      ]
     },
     "execution_count": 157,
     "metadata": {},
     "output_type": "execute_result"
    },
    {
     "data": {
      "image/png": "[encoded data removed]",
      "text/plain": [
       "<Figure size 600x300 with 2 Axes>"
      ]
     },
     "metadata": {},
     "output_type": "display_data"
    }
   ],
   "source": [
    "# For gamma = 0.5 case \n",
    "# (Full matrices and state vector based, no qiskit)\n",
    "N = 6\n",
    "nb_timesteps = 10\n",
    "timestep_duration = 0.2\n",
    "gamma = 0.5\n",
    "J = 1\n",
    "\n",
    "# Generate the unitary\n",
    "matrix = get_U_HN(J, gamma , N, timestep_duration)\n",
    "projection_matrix = projection(N+1)\n",
    "\n",
    "# create the initial state vector (|↓↓↑↓↓↓⟩+|↓↓↓↑↓↓⟩)/ 2\n",
    "initial_vector = np.zeros((2**(N+1), 1), dtype=complex)\n",
    "initial_vector[ (2**N - 1) - 2**(N//2)] = 1/np.sqrt(2)\n",
    "initial_vector[ (2**N - 1) - 2**(N//2 -1)] = 1/np.sqrt(2)\n",
    "\n",
    "magnetization=[]\n",
    "for n_steps in range(1, nb_timesteps + 1):\n",
    "\n",
    "    # for each time step, apply the matrix n_steps times onto the initial vector\n",
    "    state_vector = np.matmul(np.linalg.matrix_power(matrix @ projection_matrix, n_steps), initial_vector).T[0]\n",
    "    state_dict = {}\n",
    "    for i in range(2 ** (N+1)):\n",
    "\n",
    "        # allocate the relevant probabilities to each state\n",
    "        state_dict[bin(i)[2:].zfill(N+1)] = np.abs(state_vector[i]) ** 2\n",
    "\n",
    "   \n",
    "    # create a new row to add to magnetization array\n",
    "    row = [0 for _ in range(N)]\n",
    "    prob = 0\n",
    "    for key, value in state_dict.items():\n",
    "\n",
    "        # key[0] is the ancillary qubit\n",
    "        if key[0] == '0':\n",
    "            prob += value\n",
    "            for i in range(1, N + 1):\n",
    "\n",
    "                # if the other qubits have a result of 0, then add the probabilities to that qubit\n",
    "                if key[i] == '0':\n",
    "                    row[N - i] += value\n",
    "\n",
    "    magnetization += [[x/prob for x in row]]\n",
    "\n",
    "magnetization = np.array(magnetization)\n",
    "print(magnetization.T.shape)\n",
    "fig = plt.figure(figsize=((nb_timesteps + 2)/2 , N/2), facecolor='white')\n",
    "im = plt.pcolormesh([timestep_duration * i for i in range(nb_timesteps)], np.arange(0,N,1), magnetization.T, cmap='inferno')\n",
    "fig.colorbar(im)\n",
    "plt.ylabel('Qubit index')\n",
    "plt.xlabel('T')"
   ]
  },
  {
   "cell_type": "markdown",
   "metadata": {},
   "source": [
    "# Third Attempt: Adapting the Mathematical Representation to Qiskit\n",
    "Note: the `Statevector` Class was used, however sampler was not used as far as I am aware.\n",
    "\n",
    "The first attempt follows the method detailed in the paper. Since a second non-unitary operation (the projection between each trotter step) was necessary, I adopted using the `Statevector` class which came with an `evolve` method which can take non-unitary operators. However, I am not sure why we cannot use this directly with the non-unitary HN operator.\n"
   ]
  },
  {
   "cell_type": "code",
   "execution_count": 170,
   "metadata": {},
   "outputs": [
    {
     "data": {
      "application/vnd.jupyter.widget-view+json": {
       "model_id": "f9b3d5d9a5144c10bc6f5bd320897248",
       "version_major": 2,
       "version_minor": 0
      },
      "text/plain": [
       "  0%|          | 0/10 [00:00<?, ?it/s]"
      ]
     },
     "metadata": {},
     "output_type": "display_data"
    },
    {
     "name": "stdout",
     "output_type": "stream",
     "text": [
      "(6, 10)\n"
     ]
    },
    {
     "data": {
      "text/plain": [
       "Text(0.5, 0, 'T')"
      ]
     },
     "execution_count": 170,
     "metadata": {},
     "output_type": "execute_result"
    },
    {
     "data": {
      "image/png": "[encoded data removed]",
      "text/plain": [
       "<Figure size 600x300 with 2 Axes>"
      ]
     },
     "metadata": {},
     "output_type": "display_data"
    }
   ],
   "source": [
    "# For gamma = 0.5 case \n",
    "# Adapting the math representation to Qiskit\n",
    "N = 6\n",
    "J = 1\n",
    "gamma = 0.5\n",
    "timestep_duration = 0.2\n",
    "\n",
    "# Generate the unitary\n",
    "matrix = get_U_HN(J, gamma, N, timestep_duration)\n",
    "projection_matrix = projection(N+1)\n",
    "gate = Operator(matrix)\n",
    "projector = Operator(projection_matrix)\n",
    "\n",
    "initial_vector = np.zeros((2**(N+1), 1), dtype=complex)\n",
    "initial_vector[ (2**N - 1) - 2**(N//2)] = 1/np.sqrt(2)\n",
    "initial_vector[ (2**N - 1) - 2**(N//2 -1)] = 1/np.sqrt(2)\n",
    "\n",
    "\n",
    "magnetization=[]\n",
    "# Create the relevant circuits for paper's Fig 3a\n",
    "circuits = []\n",
    "for n_steps in range(1, nb_timesteps+1):\n",
    "    state = Statevector(initial_vector)\n",
    "    \n",
    "    for _ in range(n_steps):\n",
    "        state = state.evolve(gate)\n",
    "        state = state.evolve(projector)\n",
    "    \n",
    "    # qc.measure_all()\n",
    "    # circuits.append(qc)\n",
    "    circuits.append(state)\n",
    "\n",
    "# Execute measurements for paper's Fig 3a\n",
    "density=[]\n",
    "res_list = []\n",
    "for circ in tqdm(circuits):\n",
    "    # pubs = [(circ)]\n",
    "    # job = sampler.run(pubs, shots=160000)\n",
    "    # results = job.result()\n",
    "    # res = results[0].data.meas.get_counts()\n",
    "    probs = circ.probabilities()\n",
    "    state_dict = {}\n",
    "    for i in range(2 ** (N+1)):\n",
    "\n",
    "        # allocate the relevant probabilities to each state\n",
    "        state_dict[bin(i)[2:].zfill(N+1)] = np.abs(probs[i])\n",
    "\n",
    "    # create a new row to add to magnetization array\n",
    "    row = [0 for _ in range(N)]\n",
    "    prob = 0\n",
    "    for key, value in state_dict.items():\n",
    "\n",
    "        # key[0] is the ancillary qubit\n",
    "        if key[0] == '0':\n",
    "            prob += value\n",
    "            for i in range(1, N + 1):\n",
    "\n",
    "                # if the other qubits have a result of 0, then add the probabilities to that qubit\n",
    "                if key[i] == '0':\n",
    "                    row[N - i] += value\n",
    "\n",
    "    magnetization += [[x/prob for x in row]]\n",
    "\n",
    "magnetization = np.array(magnetization)\n",
    "print(magnetization.T.shape)\n",
    "fig = plt.figure(figsize=((nb_timesteps + 2)/2 , N/2), facecolor='white')\n",
    "im = plt.pcolormesh([timestep_duration * i for i in range(nb_timesteps)], np.arange(0,N,1), magnetization.T, cmap='inferno')\n",
    "fig.colorbar(im)\n",
    "plt.ylabel('Qubit index')\n",
    "plt.xlabel('T')"
   ]
  },
  {
   "cell_type": "code",
   "execution_count": 177,
   "metadata": {},
   "outputs": [
    {
     "data": {
      "application/vnd.jupyter.widget-view+json": {
       "model_id": "31193598964e4cbe8bf55a24db2aebcd",
       "version_major": 2,
       "version_minor": 0
      },
      "text/plain": [
       "  0%|          | 0/10 [00:00<?, ?it/s]"
      ]
     },
     "metadata": {},
     "output_type": "display_data"
    },
    {
     "name": "stdout",
     "output_type": "stream",
     "text": [
      "(6, 10)\n"
     ]
    },
    {
     "data": {
      "text/plain": [
       "Text(0.5, 0, 'T')"
      ]
     },
     "execution_count": 177,
     "metadata": {},
     "output_type": "execute_result"
    },
    {
     "data": {
      "image/png": "[encoded data removed]",
      "text/plain": [
       "<Figure size 600x300 with 2 Axes>"
      ]
     },
     "metadata": {},
     "output_type": "display_data"
    }
   ],
   "source": [
    "# For gamma = 0.5 case \n",
    "# Using R_HN directly\n",
    "N = 6\n",
    "J = 1\n",
    "gamma = 0.5\n",
    "timestep_duration = 0.2\n",
    "\n",
    "# Generate the unitary\n",
    "matrix = get_R_HN(J, gamma, N, timestep_duration)\n",
    "projection_matrix = projection(N+1)\n",
    "gate = Operator(matrix)\n",
    "projector = Operator(projection_matrix)\n",
    "\n",
    "initial_vector = np.zeros((2**(N), 1), dtype=complex)\n",
    "initial_vector[ (2**N - 1) - 2**(N//2)] = 1/np.sqrt(2)\n",
    "initial_vector[ (2**N - 1) - 2**(N//2 -1)] = 1/np.sqrt(2)\n",
    "\n",
    "\n",
    "magnetization=[]\n",
    "# Create the relevant circuits for paper's Fig 3a\n",
    "circuits = []\n",
    "for n_steps in range(1, nb_timesteps+1):\n",
    "    state = Statevector(initial_vector)\n",
    "    \n",
    "    for _ in range(n_steps):\n",
    "        state = state.evolve(gate)\n",
    "        #state = state.evolve(projector)\n",
    "    \n",
    "    # qc.measure_all()\n",
    "    # circuits.append(qc)\n",
    "    circuits.append(state)\n",
    "\n",
    "# Execute measurements for paper's Fig 3a\n",
    "density=[]\n",
    "res_list = []\n",
    "for circ in tqdm(circuits):\n",
    "    # pubs = [(circ)]\n",
    "    # job = sampler.run(pubs, shots=160000)\n",
    "    # results = job.result()\n",
    "    # res = results[0].data.meas.get_counts()\n",
    "    probs = circ.probabilities()\n",
    "    state_dict = {}\n",
    "    for i in range(2 ** (N)):\n",
    "\n",
    "        # allocate the relevant probabilities to each state\n",
    "        state_dict[bin(i)[2:].zfill(N)] = np.abs(probs[i])\n",
    "\n",
    "    # create a new row to add to magnetization array\n",
    "    row = [0 for _ in range(N)]\n",
    "    prob = 0\n",
    "    for key, value in state_dict.items():\n",
    "\n",
    "        # key[0] is the ancillary qubit\n",
    "        if True: #key[0] == '0':\n",
    "            prob += value\n",
    "            for i in range(0, N):\n",
    "\n",
    "                # if the other qubits have a result of 0, then add the probabilities to that qubit\n",
    "                if key[i] == '0':\n",
    "                    row[N - i - 1] += value\n",
    "\n",
    "    magnetization += [[x/prob for x in row]]\n",
    "\n",
    "magnetization = np.array(magnetization)\n",
    "print(magnetization.T.shape)\n",
    "fig = plt.figure(figsize=((nb_timesteps + 2)/2 , N/2), facecolor='white')\n",
    "im = plt.pcolormesh([timestep_duration * i for i in range(nb_timesteps)], np.arange(0,N,1), magnetization.T, cmap='inferno')\n",
    "fig.colorbar(im)\n",
    "plt.ylabel('Qubit index')\n",
    "plt.xlabel('T')"
   ]
  },
  {
   "cell_type": "markdown",
   "metadata": {},
   "source": [
    "# Fourth Attempt: Integrating Sampler (and hence adapting for execution on quantum computers)\n",
    "This is similar to attempt 3, except the `Statevectors` are now made into circuits and `Sampler` can thus be used on them (as far as I am aware). However, my original question in attempt 3 remains, hence there is a second circuit under this attempt (also directly using `R_HN`)"
   ]
  },
  {
   "cell_type": "code",
   "execution_count": 184,
   "metadata": {},
   "outputs": [
    {
     "data": {
      "application/vnd.jupyter.widget-view+json": {
       "model_id": "ca7b2266750b4ba88d2269de8a28d150",
       "version_major": 2,
       "version_minor": 0
      },
      "text/plain": [
       "  0%|          | 0/10 [00:00<?, ?it/s]"
      ]
     },
     "metadata": {},
     "output_type": "display_data"
    },
    {
     "name": "stdout",
     "output_type": "stream",
     "text": [
      "(6, 10)\n"
     ]
    },
    {
     "data": {
      "text/plain": [
       "Text(0.5, 0, 'T')"
      ]
     },
     "execution_count": 184,
     "metadata": {},
     "output_type": "execute_result"
    },
    {
     "data": {
      "image/png": "[encoded data removed]",
      "text/plain": [
       "<Figure size 600x300 with 2 Axes>"
      ]
     },
     "metadata": {},
     "output_type": "display_data"
    }
   ],
   "source": [
    "# For gamma = 0.5 case \n",
    "# Adapting the math representation to Qiskit\n",
    "# Using Sampler\n",
    "N = 6\n",
    "J = 1\n",
    "gamma = 0.5\n",
    "timestep_duration = 0.2\n",
    "\n",
    "# Generate the unitary\n",
    "matrix = get_U_HN(J, gamma, N, timestep_duration)\n",
    "projection_matrix = projection(N+1)\n",
    "gate = Operator(matrix)\n",
    "projector = Operator(projection_matrix)\n",
    "\n",
    "initial_vector = np.zeros((2**(N+1), 1), dtype=complex)\n",
    "initial_vector[ (2**N - 1) - 2**(N//2)] = 1/np.sqrt(2)\n",
    "initial_vector[ (2**N - 1) - 2**(N//2 -1)] = 1/np.sqrt(2)\n",
    "\n",
    "\n",
    "magnetization=[]\n",
    "# Create the relevant circuits for paper's Fig 3a\n",
    "circuits = []\n",
    "for n_steps in range(1, nb_timesteps+1):\n",
    "    qc = QuantumCircuit(N+1)\n",
    "    state = Statevector(initial_vector)\n",
    "    \n",
    "    for _ in range(n_steps):\n",
    "        state = state.evolve(gate)\n",
    "        state = state.evolve(projector)\n",
    "    \n",
    "    qc.initialize(state, range(N+1), normalize=True)\n",
    "    qc.measure_all()\n",
    "    circuits.append(qc)\n",
    "\n",
    "# Execute measurements for paper's Fig 3a\n",
    "magnetization=[]\n",
    "res_list = []\n",
    "for circ in tqdm(circuits):\n",
    "    pubs = [(circ)]\n",
    "    job = sampler.run(pubs, shots=160000)\n",
    "    results = job.result()\n",
    "    res = results[0].data.meas.get_counts()\n",
    "\n",
    "    counts_left = 0\n",
    "    row = [0 for _ in range(N)]\n",
    "    for key, value in res.items():\n",
    "        if key[0] == \"0\":\n",
    "            counts_left += value\n",
    "\n",
    "            for i in range(1, N+1):\n",
    "                if key[i] == '0':\n",
    "                    row[i-1] += value\n",
    "    magnetization.append([x/counts_left for x in row][::-1]) #the output for qiskit is qNqN-1...q1q0\n",
    "\n",
    "magnetization=np.array(magnetization)\n",
    "\n",
    "magnetization = np.array(magnetization)\n",
    "print(magnetization.T.shape)\n",
    "fig = plt.figure(figsize=((nb_timesteps + 2)/2 , N/2), facecolor='white')\n",
    "im = plt.pcolormesh([timestep_duration * i for i in range(nb_timesteps)], np.arange(0,N,1), magnetization.T, cmap='inferno')\n",
    "fig.colorbar(im)\n",
    "plt.ylabel('Qubit index')\n",
    "plt.xlabel('T')"
   ]
  },
  {
   "cell_type": "code",
   "execution_count": 186,
   "metadata": {},
   "outputs": [
    {
     "data": {
      "application/vnd.jupyter.widget-view+json": {
       "model_id": "c4f8301840ca4901836e2c281d2152b0",
       "version_major": 2,
       "version_minor": 0
      },
      "text/plain": [
       "  0%|          | 0/10 [00:00<?, ?it/s]"
      ]
     },
     "metadata": {},
     "output_type": "display_data"
    },
    {
     "name": "stdout",
     "output_type": "stream",
     "text": [
      "(6, 10)\n"
     ]
    },
    {
     "data": {
      "text/plain": [
       "Text(0.5, 0, 'T')"
      ]
     },
     "execution_count": 186,
     "metadata": {},
     "output_type": "execute_result"
    },
    {
     "data": {
      "image/png": "[encoded data removed]",
      "text/plain": [
       "<Figure size 600x300 with 2 Axes>"
      ]
     },
     "metadata": {},
     "output_type": "display_data"
    }
   ],
   "source": [
    "# For gamma = 0.5 case \n",
    "# Adapting the math representation to Qiskit\n",
    "# Using Sampler\n",
    "N = 6\n",
    "J = 1\n",
    "gamma = 0.5\n",
    "timestep_duration = 0.2\n",
    "\n",
    "# Generate the unitary\n",
    "matrix = get_R_HN(J, gamma, N, timestep_duration)\n",
    "projection_matrix = projection(N+1)\n",
    "gate = Operator(matrix)\n",
    "projector = Operator(projection_matrix)\n",
    "\n",
    "initial_vector = np.zeros((2**(N), 1), dtype=complex)\n",
    "initial_vector[ (2**N - 1) - 2**(N//2)] = 1/np.sqrt(2)\n",
    "initial_vector[ (2**N - 1) - 2**(N//2 -1)] = 1/np.sqrt(2)\n",
    "\n",
    "\n",
    "magnetization=[]\n",
    "# Create the relevant circuits for paper's Fig 3a\n",
    "circuits = []\n",
    "for n_steps in range(1, nb_timesteps+1):\n",
    "    qc = QuantumCircuit(N)\n",
    "    state = Statevector(initial_vector)\n",
    "    \n",
    "    for _ in range(n_steps):\n",
    "        state = state.evolve(gate)\n",
    "        # state = state.evolve(projector)\n",
    "    \n",
    "    qc.initialize(state, range(N), normalize=True)\n",
    "    qc.measure_all()\n",
    "    circuits.append(qc)\n",
    "\n",
    "# Execute measurements for paper's Fig 3a\n",
    "magnetization=[]\n",
    "res_list = []\n",
    "for circ in tqdm(circuits):\n",
    "    pubs = [(circ)]\n",
    "    job = sampler.run(pubs, shots=160000)\n",
    "    results = job.result()\n",
    "    res = results[0].data.meas.get_counts()\n",
    "\n",
    "    counts_left = 0\n",
    "    row = [0 for _ in range(N)]\n",
    "    for key, value in res.items():\n",
    "        if True: #key[0] == \"0\":\n",
    "            counts_left += value\n",
    "\n",
    "            for i in range(0, N):\n",
    "                if key[i] == '0':\n",
    "                    row[i] += value\n",
    "    magnetization.append([x/counts_left for x in row][::-1]) #the output for qiskit is qNqN-1...q1q0\n",
    "\n",
    "magnetization=np.array(magnetization)\n",
    "\n",
    "magnetization = np.array(magnetization)\n",
    "print(magnetization.T.shape)\n",
    "fig = plt.figure(figsize=((nb_timesteps + 2)/2 , N/2), facecolor='white')\n",
    "im = plt.pcolormesh([timestep_duration * i for i in range(nb_timesteps)], np.arange(0,N,1), magnetization.T, cmap='inferno')\n",
    "fig.colorbar(im)\n",
    "plt.ylabel('Qubit index')\n",
    "plt.xlabel('T')"
   ]
  }
 ],
 "metadata": {
  "kernelspec": {
   "display_name": "qiskit-venv",
   "language": "python",
   "name": "python3"
  },
  "language_info": {
   "codemirror_mode": {
    "name": "ipython",
    "version": 3
   },
   "file_extension": ".py",
   "mimetype": "text/x-python",
   "name": "python",
   "nbconvert_exporter": "python",
   "pygments_lexer": "ipython3",
   "version": "3.11.6"
  }
 },
 "nbformat": 4,
 "nbformat_minor": 2
}
