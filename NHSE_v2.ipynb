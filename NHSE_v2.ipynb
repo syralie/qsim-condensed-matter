{
 "cells": [
  {
   "cell_type": "markdown",
   "metadata": {},
   "source": [
    "# Non-Unitary Operators for the Non-Hermitian Skin Effect\n",
    "\n",
    "Paper to be replicated: https://arxiv.org/pdf/2311.10143\n",
    "\n",
    "Addition Resources Consulted:\n",
    "- https://link.aps.org/pdf/10.1103/PRXQuantum.2.010342\n",
    "- https://medium.com/mdr-inc/time-evolution-operators-be2968493b86 (note there are some notable errors)\n",
    "- "
   ]
  },
  {
   "cell_type": "code",
   "execution_count": null,
   "metadata": {},
   "outputs": [],
   "source": [
    "from qiskit import QuantumCircuit\n",
    "from qiskit.quantum_info import SparsePauliOp, Statevector, Operator\n",
    "from qiskit_ibm_runtime import EstimatorV2 as Estimator\n",
    "from qiskit_ibm_runtime import SamplerV2 as Sampler\n",
    "# from qiskit.primitives import Sampler\n",
    "from qiskit_aer import AerSimulator\n",
    "import matplotlib.pyplot as plt\n",
    "from qiskit.transpiler import CouplingMap\n",
    "from qiskit.transpiler.preset_passmanagers import generate_preset_pass_manager\n",
    "from qiskit_ibm_runtime import QiskitRuntimeService\n",
    "from qiskit.circuit.library import UnitaryGate\n",
    "from qiskit.quantum_info import Statevector\n",
    "\n",
    "# from tqdm.notebook import tqdm\n",
    "\n",
    "from numpy import sin, cos\n",
    "import numpy as np\n",
    "from scipy.linalg import expm, sqrtm\n",
    "\n",
    "from scipy.optimize import differential_evolution, dual_annealing, minimize\n",
    "\n",
    "from itertools import product\n",
    "\n",
    "import random\n",
    "\n",
    "import json\n",
    "\n",
    "import csv\n",
    "\n",
    "\n",
    "\n"
   ]
  },
  {
   "cell_type": "code",
   "execution_count": 3,
   "metadata": {},
   "outputs": [],
   "source": [
    "# service = QiskitRuntimeService()\n",
    "BACKEND = AerSimulator()\n",
    "pass_manager = generate_preset_pass_manager(backend=BACKEND, optimization_level=0)\n",
    "estimator = Estimator(mode=BACKEND)\n",
    "sampler = Sampler(mode=BACKEND)"
   ]
  },
  {
   "cell_type": "markdown",
   "metadata": {},
   "source": [
    "## I. Hatano-Nelson Model\n",
    "\n",
    "Note $\\hat{X}^+ = \\frac{\\hat{X} + i \\hat{Y}}{2}$ and $\\hat{X}^- = \\frac{\\hat{X} - i \\hat{Y}}{2}$"
   ]
  },
  {
   "cell_type": "code",
   "execution_count": 4,
   "metadata": {},
   "outputs": [],
   "source": [
    "X_gate = np.array([[0, 1], \n",
    "                   [1, 0]])\n",
    "\n",
    "Y_gate = np.array([[0, -1j],\n",
    "                   [1j, 0]])\n",
    "\n",
    "I_gate = np.array([[1, 0], \n",
    "                   [0, 1]])\n",
    "\n",
    "X_plus = 0.5 * (X_gate + 1j * Y_gate)\n",
    "X_minus = 0.5 * (X_gate - 1j * Y_gate)"
   ]
  },
  {
   "cell_type": "code",
   "execution_count": 5,
   "metadata": {},
   "outputs": [],
   "source": [
    "# Helper function, generates U_j_nonH\n",
    "def get_U_j_nonH(J, gamma, index, N, timestep):\n",
    "    product_1 = np.kron(X_plus, X_minus)\n",
    "    product_2 = np.kron(X_minus, X_plus)\n",
    "    exponent = 1j * timestep * ( (J - gamma) * product_1 + (J + gamma) * product_2)\n",
    "    \n",
    "    if index == 0:\n",
    "        U_j_nonH = np.kron(np.eye(2 ** (N-2)), expm(exponent))\n",
    "    if index == N - 2:\n",
    "        U_j_nonH = np.kron(expm(exponent), np.eye(2 ** (N-2)))\n",
    "    else: \n",
    "        U_j_nonH = np.kron(np.kron(np.eye(2 ** (N - 2 - index)), expm(exponent)), np.eye(2 ** (index)))\n",
    "    return U_j_nonH\n",
    "    \n",
    "\n",
    "\n",
    "# Helper function, generates R_HN\n",
    "def get_R_HN(J, gamma, N, timestep):\n",
    "    res_even = np.eye(2 ** N)\n",
    "    res_odd = np.eye(2 ** N)\n",
    "    for i in range(N - 1):\n",
    "        if i % 2 == 0:\n",
    "            res_even = np.matmul(res_even, get_U_j_nonH(J, gamma, i, N, timestep))\n",
    "        else:\n",
    "            res_odd = np.matmul(res_odd, get_U_j_nonH(J, gamma, i, N, timestep))\n",
    "    return np.matmul(res_even, res_odd)\n",
    "\n",
    "# Generates U_HN \n",
    "def get_U_HN(J, gamma, N, timestep):\n",
    "    R_HN = get_R_HN(J, gamma, N, timestep)\n",
    "\n",
    "    A, sig, Bh = np.linalg.svd(R_HN)\n",
    "    eigval, _ = np.linalg.eig(np.matmul(R_HN.conj().T, R_HN))\n",
    "    u_square_inverse = max(eigval)\n",
    "    u_square = 1/u_square_inverse \n",
    "    C = np.matmul(np.matmul(A, sqrtm(np.eye(2 ** N) - u_square * np.diag(np.square(sig)))), Bh)\n",
    "\n",
    "    u_R_HN = np.sqrt(u_square) * R_HN\n",
    "    W = np.concatenate((np.concatenate((u_R_HN, C), axis=0), np.concatenate((np.eye(2 ** N), np.eye(2 ** N)), axis=0)), axis=1)\n",
    "    U_HN, _ = np.linalg.qr(W)\n",
    "    return U_HN"
   ]
  },
  {
   "cell_type": "code",
   "execution_count": 6,
   "metadata": {},
   "outputs": [
    {
     "data": {
      "text/plain": [
       "array([[1., 0., 0., 0., 0., 0., 0., 0.],\n",
       "       [0., 1., 0., 0., 0., 0., 0., 0.],\n",
       "       [0., 0., 1., 0., 0., 0., 0., 0.],\n",
       "       [0., 0., 0., 1., 0., 0., 0., 0.],\n",
       "       [0., 0., 0., 0., 0., 0., 0., 0.],\n",
       "       [0., 0., 0., 0., 0., 0., 0., 0.],\n",
       "       [0., 0., 0., 0., 0., 0., 0., 0.],\n",
       "       [0., 0., 0., 0., 0., 0., 0., 0.]])"
      ]
     },
     "execution_count": 6,
     "metadata": {},
     "output_type": "execute_result"
    }
   ],
   "source": [
    "def projection(N):\n",
    "    projector = np.array([[1.0, 0.0], [0.0, 0.0]])\n",
    "    \n",
    "    return np.kron(projector, np.eye(2 ** (N-1)))\n",
    "\n",
    "projection(3)"
   ]
  },
  {
   "cell_type": "code",
   "execution_count": 7,
   "metadata": {},
   "outputs": [],
   "source": [
    "total_time = 1.8\n",
    "nb_timesteps = 10\n",
    "timestep_duration = total_time/nb_timesteps"
   ]
  },
  {
   "cell_type": "markdown",
   "metadata": {},
   "source": [
    "# Mathematical implementation of Hamiltonian\n",
    "Note: Qiskit was not used"
   ]
  },
  {
   "cell_type": "code",
   "execution_count": 8,
   "metadata": {},
   "outputs": [
    {
     "name": "stdout",
     "output_type": "stream",
     "text": [
      "(6, 10)\n"
     ]
    },
    {
     "data": {
      "text/plain": [
       "Text(0.5, 0, 'T')"
      ]
     },
     "execution_count": 8,
     "metadata": {},
     "output_type": "execute_result"
    },
    {
     "data": {
      "image/png": "[encoded data removed]",
      "text/plain": [
       "<Figure size 600x300 with 2 Axes>"
      ]
     },
     "metadata": {},
     "output_type": "display_data"
    }
   ],
   "source": [
    "# For gamma = 0.5 case \n",
    "# (Full matrices and state vector based, no qiskit)\n",
    "N = 6\n",
    "nb_timesteps = 10\n",
    "timestep_duration = 0.2\n",
    "gamma = 0.5\n",
    "J = 1\n",
    "\n",
    "# Generate the unitary\n",
    "matrix = get_U_HN(J, gamma , N, timestep_duration)\n",
    "projection_matrix = projection(N+1)\n",
    "\n",
    "# create the initial state vector (|↓↓↑↓↓↓⟩+|↓↓↓↑↓↓⟩)/ 2\n",
    "initial_vector = np.zeros((2**(N+1), 1), dtype=complex)\n",
    "initial_vector[ (2**N - 1) - 2**(N//2)] = 1/np.sqrt(2)\n",
    "initial_vector[ (2**N - 1) - 2**(N//2 -1)] = 1/np.sqrt(2)\n",
    "\n",
    "magnetization=[]\n",
    "for n_steps in range(1, nb_timesteps + 1):\n",
    "\n",
    "    # for each time step, apply the matrix n_steps times onto the initial vector\n",
    "    state_vector = np.matmul(np.linalg.matrix_power(matrix @ projection_matrix, n_steps), initial_vector).T[0]\n",
    "    state_dict = {}\n",
    "    for i in range(2 ** (N+1)):\n",
    "\n",
    "        # allocate the relevant probabilities to each state\n",
    "        state_dict[bin(i)[2:].zfill(N+1)] = np.abs(state_vector[i]) ** 2\n",
    "\n",
    "   \n",
    "    # create a new row to add to magnetization array\n",
    "    row = [0 for _ in range(N)]\n",
    "    prob = 0\n",
    "    for key, value in state_dict.items():\n",
    "\n",
    "        # key[0] is the ancillary qubit\n",
    "        if key[0] == '0':\n",
    "            prob += value\n",
    "            for i in range(1, N + 1):\n",
    "\n",
    "                # if the other qubits have a result of 0, then add the probabilities to that qubit\n",
    "                if key[i] == '0':\n",
    "                    row[N - i] += value\n",
    "\n",
    "    magnetization += [[x/prob for x in row]]\n",
    "\n",
    "magnetization = np.array(magnetization)\n",
    "print(magnetization.T.shape)\n",
    "fig = plt.figure(figsize=((nb_timesteps + 2)/2 , N/2), facecolor='white')\n",
    "im = plt.pcolormesh([timestep_duration * i for i in range(nb_timesteps)], np.arange(0,N,1), magnetization.T, cmap='inferno')\n",
    "fig.colorbar(im)\n",
    "plt.ylabel('Qubit index')\n",
    "plt.xlabel('T')"
   ]
  },
  {
   "cell_type": "markdown",
   "metadata": {},
   "source": [
    "# Adapting to Quantum Circuit Ansatz"
   ]
  },
  {
   "cell_type": "markdown",
   "metadata": {},
   "source": [
    "### Mathematical Target Unitary/Hamiltonian (same as above but considering Qiskit's little endian)"
   ]
  },
  {
   "cell_type": "code",
   "execution_count": 9,
   "metadata": {},
   "outputs": [
    {
     "name": "stdout",
     "output_type": "stream",
     "text": [
      "(6, 10)\n"
     ]
    },
    {
     "data": {
      "text/plain": [
       "Text(0.5, 0, 'T')"
      ]
     },
     "execution_count": 9,
     "metadata": {},
     "output_type": "execute_result"
    },
    {
     "data": {
      "image/png": "[encoded data removed]",
      "text/plain": [
       "<Figure size 600x300 with 2 Axes>"
      ]
     },
     "metadata": {},
     "output_type": "display_data"
    }
   ],
   "source": [
    "# For gamma = 0.5 case \n",
    "# (Full matrices and state vector based, no qiskit)\n",
    "N = 6\n",
    "nb_timesteps = 10\n",
    "timestep_duration = 0.2\n",
    "gamma = 0.5\n",
    "J = 1\n",
    "\n",
    "# Generate the unitary\n",
    "matrix = get_U_HN(J, gamma , N, timestep_duration)\n",
    "projection_matrix = projection(N+1)\n",
    "\n",
    "# create the initial state vector (|↓↓↑↓↓↓⟩+|↓↓↓↑↓↓⟩)/ 2\n",
    "initial_vector = np.zeros((2**(N+1), 1), dtype=complex)\n",
    "initial_vector[ (2**N - 1) - 2**(N//2)] = 1/np.sqrt(2)\n",
    "initial_vector[ (2**N - 1) - 2**(N//2 -1)] = 1/np.sqrt(2)\n",
    "\n",
    "probabilities=[]\n",
    "target_states = {}\n",
    "for n_steps in range(0, nb_timesteps + 1):\n",
    "\n",
    "    # for each time step, apply the matrix n_steps times onto the initial vector\n",
    "    # state_vector = np.matmul(np.linalg.matrix_power(matrix @ projection_matrix , n_steps), initial_vector).T[0]\n",
    "    state_vector = np.matmul(np.linalg.matrix_power(projection_matrix @ matrix, n_steps), initial_vector).T[0]\n",
    "    states = np.array([0j for i in range(2 ** (N+1))])\n",
    "    probs_dict = {}\n",
    "\n",
    "    for i in range(2 ** (N+1)):\n",
    "\n",
    "        # allocate the relevant probabilities to each state\n",
    "        # to consider little endian of qiskit:\n",
    "        string = bin(i)[2:].zfill(N+1)\n",
    "        string = string[1:] + string[0]\n",
    "        probs_dict[string] = np.abs(state_vector[i]) ** 2\n",
    "        states[int(string, 2)] = state_vector[i]\n",
    "    target_states[n_steps] = states\n",
    "   \n",
    "    # create a new row to add to magnetization array\n",
    "    row = [0 for _ in range(N)]\n",
    "    prob = 0\n",
    "    for key, value in probs_dict.items():\n",
    "\n",
    "        # key[0] is the ancillary qubit\n",
    "        if key[-1] == '0':\n",
    "            prob += value\n",
    "            for i in range(0, N):\n",
    "\n",
    "                # if the other qubits have a result of 0, then add the probabilities to that qubit\n",
    "                if key[i] == '0':\n",
    "                    row[N - i - 1] += value\n",
    "        #else:\n",
    "        #    print(value)\n",
    "    if n_steps > 0:\n",
    "        probabilities += [[x/prob for x in row]]\n",
    "\n",
    "probabilities = np.array(probabilities)\n",
    "print(probabilities.T.shape)\n",
    "fig = plt.figure(figsize=((nb_timesteps + 2)/2 , N/2), facecolor='white')\n",
    "im = plt.pcolormesh([timestep_duration * i for i in range(nb_timesteps)], np.arange(0,N,1), probabilities.T, cmap='inferno')\n",
    "fig.colorbar(im)\n",
    "plt.ylabel('Qubit index')\n",
    "plt.xlabel('T')"
   ]
  },
  {
   "cell_type": "markdown",
   "metadata": {},
   "source": [
    "### Mathematical model of Quantum Circuit Ansatz\n",
    "Starting state is an equal superposition of all states (H gate on all qubits)"
   ]
  },
  {
   "cell_type": "code",
   "execution_count": 10,
   "metadata": {},
   "outputs": [],
   "source": [
    "def unitary_gate_matrix(theta, phi, lam):\n",
    "    return np.array([[np.cos(theta/2), -np.exp(lam * 1j) * np.sin(theta/2)],\n",
    "                    [np.exp(phi * 1j) * np.sin(theta/2), np.exp(1j * (phi + lam)) * np.cos(theta/2)]])\n",
    "\n",
    "cx_matrix = np.array([[1, 0, 0, 0], \n",
    "                     [0, 0, 0, 1], \n",
    "                     [0, 0, 1, 0],\n",
    "                     [0, 1, 0, 0]])\n",
    "\n",
    "cx_matrices = np.kron(np.kron(cx_matrix, cx_matrix), cx_matrix)\n",
    "\n",
    "cx_matrix_v1 = np.kron(np.eye(2), cx_matrices)\n",
    "cx_matrix_v2 = np.kron(cx_matrices, np.eye(2))"
   ]
  },
  {
   "cell_type": "code",
   "execution_count": 11,
   "metadata": {},
   "outputs": [],
   "source": [
    "def variational_circuit_mathematical(params, layers):\n",
    "    stepper = 0\n",
    "\n",
    "    #state = np.zeros((2**(N+1), 1), dtype=complex) #initial_vector.copy()\n",
    "    state = np.full((2**(N+1), 1), np.sqrt(1.0/2**(N+1)))\n",
    "    #state = np.zeros((2**(N+1), 1), dtype=complex)\n",
    "    #state[0] = 1\n",
    "    #state = initial_vector.copy()\n",
    "\n",
    "    \n",
    "    matrix = unitary_gate_matrix(params[stepper * 3 + 0], params[stepper * 3 + 1], params[stepper * 3 + 2])\n",
    "    stepper += 1\n",
    "    for _ in range(N):\n",
    "        matrix = np.kron(unitary_gate_matrix(params[stepper * 3 + 0], params[stepper * 3 + 1], params[stepper * 3 + 2]), matrix)\n",
    "        stepper += 1\n",
    "    state = np.matmul(matrix, state)\n",
    "\n",
    "\n",
    "    for _ in range(layers):\n",
    "        state = np.matmul(cx_matrix_v1, state)\n",
    "        matrix = unitary_gate_matrix(params[stepper * 3 + 0], params[stepper * 3 + 1], params[stepper * 3 + 2])\n",
    "        stepper += 1\n",
    "        for _ in range(N - 1):\n",
    "            matrix = np.kron(unitary_gate_matrix(params[stepper * 3 + 0], params[stepper * 3 + 1], params[stepper * 3 + 2]), matrix)\n",
    "            stepper += 1\n",
    "        matrix = np.kron(np.eye(2), matrix)\n",
    "        state = np.matmul(matrix, state)\n",
    "        state = np.matmul(cx_matrix_v1, state)\n",
    "\n",
    "        state = np.matmul(cx_matrix_v2, state)\n",
    "        matrix = np.eye(2)\n",
    "        for _ in range(N):\n",
    "            matrix = np.kron(unitary_gate_matrix(params[stepper * 3 + 0], params[stepper * 3 + 1], params[stepper * 3 + 2]), matrix)\n",
    "            stepper += 1\n",
    "        state = np.matmul(matrix, state)\n",
    "        state = np.matmul(cx_matrix_v2, state)\n",
    "    \n",
    "    return state\n",
    "        "
   ]
  },
  {
   "cell_type": "markdown",
   "metadata": {},
   "source": [
    "### Cost Function"
   ]
  },
  {
   "cell_type": "code",
   "execution_count": 12,
   "metadata": {},
   "outputs": [],
   "source": [
    "def cost_function_math(params, layers, n_steps): \n",
    "    v = variational_circuit_mathematical(params, layers)     \n",
    "    t = target_states[n_steps]                               \n",
    "    v = v / np.linalg.norm(v)\n",
    "    t = t / np.linalg.norm(t)\n",
    "    overlap = np.vdot(v, t)\n",
    "    return 1.0 - (overlap.conjugate() * overlap).real       \n"
   ]
  },
  {
   "cell_type": "code",
   "execution_count": null,
   "metadata": {},
   "outputs": [],
   "source": []
  },
  {
   "cell_type": "markdown",
   "metadata": {},
   "source": [
    "### Quantum Circuit Ansatz"
   ]
  },
  {
   "cell_type": "code",
   "execution_count": 13,
   "metadata": {},
   "outputs": [],
   "source": [
    "def variational_circuit(params, layers):\n",
    "    qc = QuantumCircuit(N+1)\n",
    "    stepper = 0\n",
    "\n",
    "    qc.h(range(N+1))\n",
    "\n",
    "    # initial\n",
    "    for qubit in range(N+1):\n",
    "        qc.u(params[stepper * 3 + 0], params[stepper * 3 + 1], params[stepper * 3 + 2], qubit) #N - qubit)\n",
    "        stepper += 1\n",
    "    \n",
    "    for layer in range(layers):\n",
    "        # CX gates\n",
    "        qc.cx(0, 1)\n",
    "        qc.cx(2, 3)\n",
    "        qc.cx(4, 5)\n",
    "\n",
    "        # first set of U3 gates\n",
    "        for qubit in range(N):\n",
    "            qc.u(params[stepper * 3 + 0], params[stepper * 3 + 1], params[stepper * 3 + 2], qubit) \n",
    "            stepper += 1\n",
    "        \n",
    "        # CX gates\n",
    "        qc.cx(0, 1)\n",
    "        qc.cx(2, 3)\n",
    "        qc.cx(4, 5)\n",
    "\n",
    "        # CX gates\n",
    "        qc.cx(1, 2)\n",
    "        qc.cx(3, 4)\n",
    "        qc.cx(5, 6)\n",
    "\n",
    "        # first set of U3 gates\n",
    "        for qubit in range(N):\n",
    "            qc.u(params[stepper * 3 + 0], params[stepper * 3 + 1], params[stepper * 3 + 2], qubit + 1)\n",
    "            stepper += 1\n",
    "        \n",
    "        # CX gates\n",
    "        qc.cx(1, 2)\n",
    "        qc.cx(3, 4)\n",
    "        qc.cx(5, 6)\n",
    "\n",
    "    qc.measure_all()\n",
    "\n",
    "    return qc"
   ]
  },
  {
   "cell_type": "code",
   "execution_count": 14,
   "metadata": {},
   "outputs": [],
   "source": [
    "def calculate_results(params):\n",
    "\n",
    "    # initialization of the sampler\n",
    "    sampler = Sampler(mode=BACKEND)\n",
    "    \n",
    "    # Sampler runs a job on the Bell circuit\n",
    "    job = sampler.run([(variational_circuit(params))])\n",
    "    job_result = job.result()\n",
    "    return job_result[0].data.meas.get_counts(), job_result[0].metadata['shots']"
   ]
  },
  {
   "cell_type": "markdown",
   "metadata": {},
   "source": [
    "### Simple optimization for number of layers"
   ]
  },
  {
   "cell_type": "code",
   "execution_count": 15,
   "metadata": {},
   "outputs": [],
   "source": [
    "def create_params(layers):\n",
    "    params = np.array([np.pi/4 for i in range(((N+1) + (N * 2 * layers)) * 3)])\n",
    "    return params\n",
    "\n",
    "def create_bounds(layers): # not used\n",
    "    bounds = tuple([(0.0, np.pi) if i % 3 == 0 else (0.0, 2 * np.pi) for i in range(((N+1) + (N * 2 * layers)) * 3)])\n",
    "    return bounds"
   ]
  },
  {
   "cell_type": "code",
   "execution_count": 16,
   "metadata": {},
   "outputs": [],
   "source": [
    "optimal_layers = [0 for _ in range(nb_timesteps)]"
   ]
  },
  {
   "cell_type": "code",
   "execution_count": 17,
   "metadata": {},
   "outputs": [
    {
     "name": "stdout",
     "output_type": "stream",
     "text": [
      "Step number:  3\n"
     ]
    },
    {
     "ename": "KeyboardInterrupt",
     "evalue": "",
     "output_type": "error",
     "traceback": [
      "\u001b[31m---------------------------------------------------------------------------\u001b[39m",
      "\u001b[31mKeyboardInterrupt\u001b[39m                         Traceback (most recent call last)",
      "\u001b[36mCell\u001b[39m\u001b[36m \u001b[39m\u001b[32mIn[17]\u001b[39m\u001b[32m, line 8\u001b[39m\n\u001b[32m      6\u001b[39m sum_of_cost = \u001b[32m0.0\u001b[39m\n\u001b[32m      7\u001b[39m \u001b[38;5;28;01mfor\u001b[39;00m _ \u001b[38;5;129;01min\u001b[39;00m \u001b[38;5;28mrange\u001b[39m(\u001b[32m2\u001b[39m): \u001b[38;5;66;03m# using 2 iterations to find average error\u001b[39;00m\n\u001b[32m----> \u001b[39m\u001b[32m8\u001b[39m     res = \u001b[43mminimize\u001b[49m\u001b[43m(\u001b[49m\u001b[43mcost_function_math\u001b[49m\u001b[43m,\u001b[49m\u001b[43m \u001b[49m\u001b[43mparams\u001b[49m\u001b[43m,\u001b[49m\u001b[43m \u001b[49m\u001b[43margs\u001b[49m\u001b[43m=\u001b[49m\u001b[43m(\u001b[49m\u001b[43mlayers\u001b[49m\u001b[43m,\u001b[49m\u001b[43m \u001b[49m\u001b[43mn_steps\u001b[49m\u001b[43m)\u001b[49m\u001b[43m,\u001b[49m\u001b[43m \u001b[49m\u001b[43mmethod\u001b[49m\u001b[43m=\u001b[49m\u001b[33;43m'\u001b[39;49m\u001b[33;43mL-BFGS-B\u001b[39;49m\u001b[33;43m'\u001b[39;49m\u001b[43m)\u001b[49m \u001b[38;5;66;03m#, options={'ftol': 1E-10, 'gtol': 1E-10, 'maxfun': 100000, 'maxiter': 100000})\u001b[39;00m\n\u001b[32m      9\u001b[39m     sum_of_cost += cost_function_math(res.x, layers, n_steps)\n\u001b[32m     10\u001b[39m \u001b[38;5;28;01mif\u001b[39;00m min_cost >= sum_of_cost/\u001b[32m5\u001b[39m:\n",
      "\u001b[36mFile \u001b[39m\u001b[32m~/Desktop/Professional/qsim-venv/lib/python3.13/site-packages/scipy/optimize/_minimize.py:784\u001b[39m, in \u001b[36mminimize\u001b[39m\u001b[34m(fun, x0, args, method, jac, hess, hessp, bounds, constraints, tol, callback, options)\u001b[39m\n\u001b[32m    781\u001b[39m     res = _minimize_newtoncg(fun, x0, args, jac, hess, hessp, callback,\n\u001b[32m    782\u001b[39m                              **options)\n\u001b[32m    783\u001b[39m \u001b[38;5;28;01melif\u001b[39;00m meth == \u001b[33m'\u001b[39m\u001b[33ml-bfgs-b\u001b[39m\u001b[33m'\u001b[39m:\n\u001b[32m--> \u001b[39m\u001b[32m784\u001b[39m     res = \u001b[43m_minimize_lbfgsb\u001b[49m\u001b[43m(\u001b[49m\u001b[43mfun\u001b[49m\u001b[43m,\u001b[49m\u001b[43m \u001b[49m\u001b[43mx0\u001b[49m\u001b[43m,\u001b[49m\u001b[43m \u001b[49m\u001b[43margs\u001b[49m\u001b[43m,\u001b[49m\u001b[43m \u001b[49m\u001b[43mjac\u001b[49m\u001b[43m,\u001b[49m\u001b[43m \u001b[49m\u001b[43mbounds\u001b[49m\u001b[43m,\u001b[49m\n\u001b[32m    785\u001b[39m \u001b[43m                           \u001b[49m\u001b[43mcallback\u001b[49m\u001b[43m=\u001b[49m\u001b[43mcallback\u001b[49m\u001b[43m,\u001b[49m\u001b[43m \u001b[49m\u001b[43m*\u001b[49m\u001b[43m*\u001b[49m\u001b[43moptions\u001b[49m\u001b[43m)\u001b[49m\n\u001b[32m    786\u001b[39m \u001b[38;5;28;01melif\u001b[39;00m meth == \u001b[33m'\u001b[39m\u001b[33mtnc\u001b[39m\u001b[33m'\u001b[39m:\n\u001b[32m    787\u001b[39m     res = _minimize_tnc(fun, x0, args, jac, bounds, callback=callback,\n\u001b[32m    788\u001b[39m                         **options)\n",
      "\u001b[36mFile \u001b[39m\u001b[32m~/Desktop/Professional/qsim-venv/lib/python3.13/site-packages/scipy/optimize/_lbfgsb_py.py:469\u001b[39m, in \u001b[36m_minimize_lbfgsb\u001b[39m\u001b[34m(fun, x0, args, jac, bounds, disp, maxcor, ftol, gtol, eps, maxfun, maxiter, iprint, callback, maxls, finite_diff_rel_step, workers, **unknown_options)\u001b[39m\n\u001b[32m    461\u001b[39m _lbfgsb.setulb(m, x, low_bnd, upper_bnd, nbd, f, g, factr, pgtol, wa,\n\u001b[32m    462\u001b[39m                iwa, task, lsave, isave, dsave, maxls, ln_task)\n\u001b[32m    464\u001b[39m \u001b[38;5;28;01mif\u001b[39;00m task[\u001b[32m0\u001b[39m] == \u001b[32m3\u001b[39m:\n\u001b[32m    465\u001b[39m     \u001b[38;5;66;03m# The minimization routine wants f and g at the current x.\u001b[39;00m\n\u001b[32m    466\u001b[39m     \u001b[38;5;66;03m# Note that interruptions due to maxfun are postponed\u001b[39;00m\n\u001b[32m    467\u001b[39m     \u001b[38;5;66;03m# until the completion of the current minimization iteration.\u001b[39;00m\n\u001b[32m    468\u001b[39m     \u001b[38;5;66;03m# Overwrite f and g:\u001b[39;00m\n\u001b[32m--> \u001b[39m\u001b[32m469\u001b[39m     f, g = \u001b[43mfunc_and_grad\u001b[49m\u001b[43m(\u001b[49m\u001b[43mx\u001b[49m\u001b[43m)\u001b[49m\n\u001b[32m    470\u001b[39m \u001b[38;5;28;01melif\u001b[39;00m task[\u001b[32m0\u001b[39m] == \u001b[32m1\u001b[39m:\n\u001b[32m    471\u001b[39m     \u001b[38;5;66;03m# new iteration\u001b[39;00m\n\u001b[32m    472\u001b[39m     n_iterations += \u001b[32m1\u001b[39m\n",
      "\u001b[36mFile \u001b[39m\u001b[32m~/Desktop/Professional/qsim-venv/lib/python3.13/site-packages/scipy/optimize/_differentiable_functions.py:404\u001b[39m, in \u001b[36mScalarFunction.fun_and_grad\u001b[39m\u001b[34m(self, x)\u001b[39m\n\u001b[32m    402\u001b[39m     \u001b[38;5;28mself\u001b[39m._update_x(x)\n\u001b[32m    403\u001b[39m \u001b[38;5;28mself\u001b[39m._update_fun()\n\u001b[32m--> \u001b[39m\u001b[32m404\u001b[39m \u001b[38;5;28;43mself\u001b[39;49m\u001b[43m.\u001b[49m\u001b[43m_update_grad\u001b[49m\u001b[43m(\u001b[49m\u001b[43m)\u001b[49m\n\u001b[32m    405\u001b[39m \u001b[38;5;28;01mreturn\u001b[39;00m \u001b[38;5;28mself\u001b[39m.f, \u001b[38;5;28mself\u001b[39m.g\n",
      "\u001b[36mFile \u001b[39m\u001b[32m~/Desktop/Professional/qsim-venv/lib/python3.13/site-packages/scipy/optimize/_differentiable_functions.py:366\u001b[39m, in \u001b[36mScalarFunction._update_grad\u001b[39m\u001b[34m(self)\u001b[39m\n\u001b[32m    364\u001b[39m \u001b[38;5;28;01mif\u001b[39;00m \u001b[38;5;28mself\u001b[39m._orig_grad \u001b[38;5;129;01min\u001b[39;00m FD_METHODS:\n\u001b[32m    365\u001b[39m     \u001b[38;5;28mself\u001b[39m._update_fun()\n\u001b[32m--> \u001b[39m\u001b[32m366\u001b[39m \u001b[38;5;28mself\u001b[39m.g = \u001b[38;5;28;43mself\u001b[39;49m\u001b[43m.\u001b[49m\u001b[43m_wrapped_grad\u001b[49m\u001b[43m(\u001b[49m\u001b[38;5;28;43mself\u001b[39;49m\u001b[43m.\u001b[49m\u001b[43mx\u001b[49m\u001b[43m,\u001b[49m\u001b[43m \u001b[49m\u001b[43mf0\u001b[49m\u001b[43m=\u001b[49m\u001b[38;5;28;43mself\u001b[39;49m\u001b[43m.\u001b[49m\u001b[43mf\u001b[49m\u001b[43m)\u001b[49m\n\u001b[32m    367\u001b[39m \u001b[38;5;28mself\u001b[39m.g_updated = \u001b[38;5;28;01mTrue\u001b[39;00m\n",
      "\u001b[36mFile \u001b[39m\u001b[32m~/Desktop/Professional/qsim-venv/lib/python3.13/site-packages/scipy/optimize/_differentiable_functions.py:41\u001b[39m, in \u001b[36m_ScalarGradWrapper.__call__\u001b[39m\u001b[34m(self, x, f0, **kwds)\u001b[39m\n\u001b[32m     39\u001b[39m     g = np.atleast_1d(\u001b[38;5;28mself\u001b[39m.grad(np.copy(x), *\u001b[38;5;28mself\u001b[39m.args))\n\u001b[32m     40\u001b[39m \u001b[38;5;28;01melif\u001b[39;00m \u001b[38;5;28mself\u001b[39m.grad \u001b[38;5;129;01min\u001b[39;00m FD_METHODS:\n\u001b[32m---> \u001b[39m\u001b[32m41\u001b[39m     g, dct = \u001b[43mapprox_derivative\u001b[49m\u001b[43m(\u001b[49m\n\u001b[32m     42\u001b[39m \u001b[43m        \u001b[49m\u001b[38;5;28;43mself\u001b[39;49m\u001b[43m.\u001b[49m\u001b[43mfun\u001b[49m\u001b[43m,\u001b[49m\n\u001b[32m     43\u001b[39m \u001b[43m        \u001b[49m\u001b[43mx\u001b[49m\u001b[43m,\u001b[49m\n\u001b[32m     44\u001b[39m \u001b[43m        \u001b[49m\u001b[43mf0\u001b[49m\u001b[43m=\u001b[49m\u001b[43mf0\u001b[49m\u001b[43m,\u001b[49m\n\u001b[32m     45\u001b[39m \u001b[43m        \u001b[49m\u001b[43m*\u001b[49m\u001b[43m*\u001b[49m\u001b[38;5;28;43mself\u001b[39;49m\u001b[43m.\u001b[49m\u001b[43mfinite_diff_options\u001b[49m\u001b[43m,\u001b[49m\n\u001b[32m     46\u001b[39m \u001b[43m    \u001b[49m\u001b[43m)\u001b[49m\n\u001b[32m     47\u001b[39m     \u001b[38;5;28mself\u001b[39m.nfev += dct[\u001b[33m'\u001b[39m\u001b[33mnfev\u001b[39m\u001b[33m'\u001b[39m]\n\u001b[32m     49\u001b[39m \u001b[38;5;28mself\u001b[39m.ngev += \u001b[32m1\u001b[39m\n",
      "\u001b[36mFile \u001b[39m\u001b[32m~/Desktop/Professional/qsim-venv/lib/python3.13/site-packages/scipy/optimize/_numdiff.py:593\u001b[39m, in \u001b[36mapprox_derivative\u001b[39m\u001b[34m(fun, x0, method, rel_step, abs_step, f0, bounds, sparsity, as_linear_operator, args, kwargs, full_output, workers)\u001b[39m\n\u001b[32m    591\u001b[39m \u001b[38;5;28;01mwith\u001b[39;00m MapWrapper(workers) \u001b[38;5;28;01mas\u001b[39;00m mf:\n\u001b[32m    592\u001b[39m     \u001b[38;5;28;01mif\u001b[39;00m sparsity \u001b[38;5;129;01mis\u001b[39;00m \u001b[38;5;28;01mNone\u001b[39;00m:\n\u001b[32m--> \u001b[39m\u001b[32m593\u001b[39m         J, _nfev = \u001b[43m_dense_difference\u001b[49m\u001b[43m(\u001b[49m\u001b[43mfun_wrapped\u001b[49m\u001b[43m,\u001b[49m\u001b[43m \u001b[49m\u001b[43mx0\u001b[49m\u001b[43m,\u001b[49m\u001b[43m \u001b[49m\u001b[43mf0\u001b[49m\u001b[43m,\u001b[49m\u001b[43m \u001b[49m\u001b[43mh\u001b[49m\u001b[43m,\u001b[49m\n\u001b[32m    594\u001b[39m \u001b[43m                                 \u001b[49m\u001b[43muse_one_sided\u001b[49m\u001b[43m,\u001b[49m\u001b[43m \u001b[49m\u001b[43mmethod\u001b[49m\u001b[43m,\u001b[49m\n\u001b[32m    595\u001b[39m \u001b[43m                                 \u001b[49m\u001b[43mmf\u001b[49m\u001b[43m)\u001b[49m\n\u001b[32m    596\u001b[39m     \u001b[38;5;28;01melse\u001b[39;00m:\n\u001b[32m    597\u001b[39m         \u001b[38;5;28;01mif\u001b[39;00m \u001b[38;5;129;01mnot\u001b[39;00m issparse(sparsity) \u001b[38;5;129;01mand\u001b[39;00m \u001b[38;5;28mlen\u001b[39m(sparsity) == \u001b[32m2\u001b[39m:\n",
      "\u001b[36mFile \u001b[39m\u001b[32m~/Desktop/Professional/qsim-venv/lib/python3.13/site-packages/scipy/optimize/_numdiff.py:686\u001b[39m, in \u001b[36m_dense_difference\u001b[39m\u001b[34m(fun, x0, f0, h, use_one_sided, method, workers)\u001b[39m\n\u001b[32m    684\u001b[39m f_evals = workers(fun, x_generator2(x0, h))\n\u001b[32m    685\u001b[39m dx = [(x0[i] + h[i]) - x0[i] \u001b[38;5;28;01mfor\u001b[39;00m i \u001b[38;5;129;01min\u001b[39;00m \u001b[38;5;28mrange\u001b[39m(n)]\n\u001b[32m--> \u001b[39m\u001b[32m686\u001b[39m df = \u001b[43m[\u001b[49m\u001b[43mf_eval\u001b[49m\u001b[43m \u001b[49m\u001b[43m-\u001b[49m\u001b[43m \u001b[49m\u001b[43mf0\u001b[49m\u001b[43m \u001b[49m\u001b[38;5;28;43;01mfor\u001b[39;49;00m\u001b[43m \u001b[49m\u001b[43mf_eval\u001b[49m\u001b[43m \u001b[49m\u001b[38;5;129;43;01min\u001b[39;49;00m\u001b[43m \u001b[49m\u001b[43mf_evals\u001b[49m\u001b[43m]\u001b[49m\n\u001b[32m    687\u001b[39m df_dx = [delf / delx \u001b[38;5;28;01mfor\u001b[39;00m delf, delx \u001b[38;5;129;01min\u001b[39;00m \u001b[38;5;28mzip\u001b[39m(df, dx)]\n\u001b[32m    688\u001b[39m nfev += \u001b[38;5;28mlen\u001b[39m(df_dx)\n",
      "\u001b[36mFile \u001b[39m\u001b[32m~/Desktop/Professional/qsim-venv/lib/python3.13/site-packages/scipy/optimize/_numdiff.py:879\u001b[39m, in \u001b[36m_Fun_Wrapper.__call__\u001b[39m\u001b[34m(self, x)\u001b[39m\n\u001b[32m    876\u001b[39m \u001b[38;5;28;01mif\u001b[39;00m xp.isdtype(x.dtype, \u001b[33m\"\u001b[39m\u001b[33mreal floating\u001b[39m\u001b[33m\"\u001b[39m):\n\u001b[32m    877\u001b[39m     x = xp.astype(x, \u001b[38;5;28mself\u001b[39m.x0.dtype)\n\u001b[32m--> \u001b[39m\u001b[32m879\u001b[39m f = np.atleast_1d(\u001b[38;5;28;43mself\u001b[39;49m\u001b[43m.\u001b[49m\u001b[43mfun\u001b[49m\u001b[43m(\u001b[49m\u001b[43mx\u001b[49m\u001b[43m,\u001b[49m\u001b[43m \u001b[49m\u001b[43m*\u001b[49m\u001b[38;5;28;43mself\u001b[39;49m\u001b[43m.\u001b[49m\u001b[43margs\u001b[49m\u001b[43m,\u001b[49m\u001b[43m \u001b[49m\u001b[43m*\u001b[49m\u001b[43m*\u001b[49m\u001b[38;5;28;43mself\u001b[39;49m\u001b[43m.\u001b[49m\u001b[43mkwargs\u001b[49m\u001b[43m)\u001b[49m)\n\u001b[32m    880\u001b[39m \u001b[38;5;28;01mif\u001b[39;00m f.ndim > \u001b[32m1\u001b[39m:\n\u001b[32m    881\u001b[39m     \u001b[38;5;28;01mraise\u001b[39;00m \u001b[38;5;167;01mRuntimeError\u001b[39;00m(\u001b[33m\"\u001b[39m\u001b[33m`fun` return value has \u001b[39m\u001b[33m\"\u001b[39m\n\u001b[32m    882\u001b[39m                        \u001b[33m\"\u001b[39m\u001b[33mmore than 1 dimension.\u001b[39m\u001b[33m\"\u001b[39m)\n",
      "\u001b[36mFile \u001b[39m\u001b[32m~/Desktop/Professional/qsim-venv/lib/python3.13/site-packages/scipy/_lib/_util.py:590\u001b[39m, in \u001b[36m_ScalarFunctionWrapper.__call__\u001b[39m\u001b[34m(self, x)\u001b[39m\n\u001b[32m    587\u001b[39m \u001b[38;5;28;01mdef\u001b[39;00m\u001b[38;5;250m \u001b[39m\u001b[34m__call__\u001b[39m(\u001b[38;5;28mself\u001b[39m, x):\n\u001b[32m    588\u001b[39m     \u001b[38;5;66;03m# Send a copy because the user may overwrite it.\u001b[39;00m\n\u001b[32m    589\u001b[39m     \u001b[38;5;66;03m# The user of this class might want `x` to remain unchanged.\u001b[39;00m\n\u001b[32m--> \u001b[39m\u001b[32m590\u001b[39m     fx = \u001b[38;5;28;43mself\u001b[39;49m\u001b[43m.\u001b[49m\u001b[43mf\u001b[49m\u001b[43m(\u001b[49m\u001b[43mnp\u001b[49m\u001b[43m.\u001b[49m\u001b[43mcopy\u001b[49m\u001b[43m(\u001b[49m\u001b[43mx\u001b[49m\u001b[43m)\u001b[49m\u001b[43m,\u001b[49m\u001b[43m \u001b[49m\u001b[43m*\u001b[49m\u001b[38;5;28;43mself\u001b[39;49m\u001b[43m.\u001b[49m\u001b[43margs\u001b[49m\u001b[43m)\u001b[49m\n\u001b[32m    591\u001b[39m     \u001b[38;5;28mself\u001b[39m.nfev += \u001b[32m1\u001b[39m\n\u001b[32m    593\u001b[39m     \u001b[38;5;66;03m# Make sure the function returns a true scalar\u001b[39;00m\n",
      "\u001b[36mCell\u001b[39m\u001b[36m \u001b[39m\u001b[32mIn[12]\u001b[39m\u001b[32m, line 2\u001b[39m, in \u001b[36mcost_function_math\u001b[39m\u001b[34m(params, layers, n_steps)\u001b[39m\n\u001b[32m      1\u001b[39m \u001b[38;5;28;01mdef\u001b[39;00m\u001b[38;5;250m \u001b[39m\u001b[34mcost_function_math\u001b[39m(params, layers, n_steps): \n\u001b[32m----> \u001b[39m\u001b[32m2\u001b[39m     v = \u001b[43mvariational_circuit_mathematical\u001b[49m\u001b[43m(\u001b[49m\u001b[43mparams\u001b[49m\u001b[43m,\u001b[49m\u001b[43m \u001b[49m\u001b[43mlayers\u001b[49m\u001b[43m)\u001b[49m     \n\u001b[32m      3\u001b[39m     t = target_states[n_steps]                               \n\u001b[32m      4\u001b[39m     v = v / np.linalg.norm(v)\n",
      "\u001b[36mCell\u001b[39m\u001b[36m \u001b[39m\u001b[32mIn[11]\u001b[39m\u001b[32m, line 16\u001b[39m, in \u001b[36mvariational_circuit_mathematical\u001b[39m\u001b[34m(params, layers)\u001b[39m\n\u001b[32m     14\u001b[39m     matrix = np.kron(unitary_gate_matrix(params[stepper * \u001b[32m3\u001b[39m + \u001b[32m0\u001b[39m], params[stepper * \u001b[32m3\u001b[39m + \u001b[32m1\u001b[39m], params[stepper * \u001b[32m3\u001b[39m + \u001b[32m2\u001b[39m]), matrix)\n\u001b[32m     15\u001b[39m     stepper += \u001b[32m1\u001b[39m\n\u001b[32m---> \u001b[39m\u001b[32m16\u001b[39m state = \u001b[43mnp\u001b[49m\u001b[43m.\u001b[49m\u001b[43mmatmul\u001b[49m\u001b[43m(\u001b[49m\u001b[43mmatrix\u001b[49m\u001b[43m,\u001b[49m\u001b[43m \u001b[49m\u001b[43mstate\u001b[49m\u001b[43m)\u001b[49m\n\u001b[32m     19\u001b[39m \u001b[38;5;28;01mfor\u001b[39;00m _ \u001b[38;5;129;01min\u001b[39;00m \u001b[38;5;28mrange\u001b[39m(layers):\n\u001b[32m     20\u001b[39m     state = np.matmul(cx_matrix_v1, state)\n",
      "\u001b[31mKeyboardInterrupt\u001b[39m: "
     ]
    }
   ],
   "source": [
    "n_steps = 3 # 1 to nb_timesteps (for reference: for n_steps in range(1, nb_timesteps + 1), nb_timesteps = 1)\n",
    "print(\"Step number: \", n_steps)\n",
    "min_cost = 1\n",
    "for layers in range(1, 8+1):\n",
    "    params = create_params(layers)\n",
    "    sum_of_cost = 0.0\n",
    "    for _ in range(2): # using 2 iterations to find average error\n",
    "        res = minimize(cost_function_math, params, args=(layers, n_steps), method='L-BFGS-B') #, options={'ftol': 1E-10, 'gtol': 1E-10, 'maxfun': 100000, 'maxiter': 100000})\n",
    "        sum_of_cost += cost_function_math(res.x, layers, n_steps)\n",
    "    if min_cost >= sum_of_cost/5:\n",
    "        optimal_layers[n_steps - 1] = layers"
   ]
  },
  {
   "cell_type": "code",
   "execution_count": 18,
   "metadata": {},
   "outputs": [],
   "source": [
    "optimal_layers = [8 for _ in range(nb_timesteps)]"
   ]
  },
  {
   "cell_type": "markdown",
   "metadata": {},
   "source": [
    "### Optimization of Parameters and Simulation on Simulator."
   ]
  },
  {
   "cell_type": "code",
   "execution_count": 20,
   "metadata": {},
   "outputs": [
    {
     "name": "stdout",
     "output_type": "stream",
     "text": [
      "Step number:  1\n",
      "3.967742585575529e-05\n",
      "Step number:  2\n",
      "1.8822526700601472e-05\n",
      "Step number:  3\n",
      "6.136210321194824e-06\n",
      "Step number:  4\n",
      "1.0341305848093896e-05\n",
      "Step number:  5\n",
      "8.730220034447456e-06\n",
      "Step number:  6\n",
      "2.062916212153265e-05\n",
      "Step number:  7\n",
      "1.218826200111156e-05\n",
      "Step number:  8\n",
      "8.476570971915898e-06\n",
      "Step number:  9\n",
      "1.5226594261008586e-06\n",
      "Step number:  10\n",
      "1.6044179633190048e-05\n"
     ]
    }
   ],
   "source": [
    "params_dict = {}\n",
    "for n_steps in range(1, nb_timesteps + 1):\n",
    "    print(\"Step number: \", n_steps)\n",
    "    layers = optimal_layers[n_steps - 1]\n",
    "    params = create_params(layers)\n",
    "    res = minimize(cost_function_math, params, args=(layers, n_steps), method='L-BFGS-B', options={'ftol': 1E-10, 'gtol': 1E-10, 'maxfun': 100000, 'maxiter': 100000})\n",
    "    print(cost_function_math(res.x, layers, n_steps))\n",
    "\n",
    "    params_dict[n_steps] = res.x"
   ]
  },
  {
   "cell_type": "code",
   "execution_count": 23,
   "metadata": {},
   "outputs": [],
   "source": [
    "data = []\n",
    "for n_steps in range(1, nb_timesteps + 1):\n",
    "    data.append(params_dict[n_steps])\n",
    "    \n",
    "with open('params.csv', 'w', newline='') as csvfile:\n",
    "    writer = csv.writer(csvfile)\n",
    "    writer.writerows(data)"
   ]
  },
  {
   "cell_type": "code",
   "execution_count": null,
   "metadata": {},
   "outputs": [],
   "source": []
  },
  {
   "cell_type": "code",
   "execution_count": 46,
   "metadata": {},
   "outputs": [
    {
     "name": "stdout",
     "output_type": "stream",
     "text": [
      "{'1110110': 524, '1101110': 458, '1111010': 36, '1111100': 2, '1011110': 4}\n",
      "{'1110110': 462, '1111100': 26, '1101110': 367, '1111010': 155, '1011110': 14}\n",
      "{'1111010': 245, '1101110': 239, '1110110': 413, '1111100': 99, '1011110': 27, '0111110': 1}\n",
      "{'1101110': 150, '1110110': 317, '1111100': 192, '1111010': 333, '1011110': 29, '0111110': 3}\n",
      "{'1111100': 319, '1011110': 31, '1111010': 351, '1110110': 263, '1101110': 57, '0111110': 3}\n",
      "{'1111010': 323, '1111100': 491, '1011110': 17, '1110110': 171, '1101110': 17, '0111110': 5}\n",
      "{'1111010': 288, '1111100': 599, '1110110': 106, '1011110': 14, '1101110': 13, '0111110': 4}\n",
      "{'1111010': 231, '1111100': 702, '1110110': 75, '1101110': 8, '1011110': 6, '0111110': 2}\n",
      "{'1111100': 760, '1111010': 198, '1110110': 37, '1101110': 23, '0111110': 4, '1011110': 2}\n",
      "{'1111100': 851, '1111010': 139, '1110110': 18, '0111110': 6, '1101110': 10}\n",
      "(6, 10)\n"
     ]
    },
    {
     "data": {
      "text/plain": [
       "Text(0.5, 0, 'T')"
      ]
     },
     "execution_count": 46,
     "metadata": {},
     "output_type": "execute_result"
    },
    {
     "data": {
      "image/png": "[encoded data removed]",
      "text/plain": [
       "<Figure size 600x300 with 2 Axes>"
      ]
     },
     "metadata": {},
     "output_type": "display_data"
    }
   ],
   "source": [
    "res_all_circuits = []\n",
    "for n_steps in range(1, nb_timesteps + 1):\n",
    "    res, counts = calculate_results(params_dict[n_steps])\n",
    "    print(res)\n",
    "\n",
    "    # create a new row to add to magnetization array\n",
    "    row = [0 for _ in range(N)]\n",
    "    prob = 0\n",
    "    for key, value in res.items():\n",
    "\n",
    "        \n",
    "        if key[-1] == \"0\":\n",
    "            prob += value\n",
    "            #for i in range(0, N):\n",
    "            for i in range(0, N):\n",
    "                # if the other qubits have a result of 0, then add the probabilities to that qubit\n",
    "                if key[i] == '0':\n",
    "                    row[N - i - 1] += value\n",
    "\n",
    "    res_all_circuits += [[x/prob for x in row]]\n",
    "\n",
    "res_all_circuits = np.array(res_all_circuits)\n",
    "\n",
    "print(res_all_circuits.T.shape)\n",
    "fig = plt.figure(figsize=((nb_timesteps + 2)/2 , N/2), facecolor='white')\n",
    "im = plt.pcolormesh([timestep_duration * i for i in range(nb_timesteps)], np.arange(0,N,1), res_all_circuits.T, cmap='inferno')\n",
    "fig.colorbar(im)\n",
    "plt.ylabel('Qubit index')\n",
    "plt.xlabel('T')"
   ]
  }
 ],
 "metadata": {
  "kernelspec": {
   "display_name": "qsim-venv",
   "language": "python",
   "name": "python3"
  },
  "language_info": {
   "codemirror_mode": {
    "name": "ipython",
    "version": 3
   },
   "file_extension": ".py",
   "mimetype": "text/x-python",
   "name": "python",
   "nbconvert_exporter": "python",
   "pygments_lexer": "ipython3",
   "version": "3.13.7"
  }
 },
 "nbformat": 4,
 "nbformat_minor": 2
}
