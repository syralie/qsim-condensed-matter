{
 "cells": [
  {
   "cell_type": "markdown",
   "metadata": {},
   "source": [
    "# Non-Unitary Operators for the Non-Hermitian Skin Effect\n",
    "\n",
    "Paper to be replicated: https://arxiv.org/pdf/2311.10143\n",
    "\n",
    "Addition Resources Consulted:\n",
    "- https://link.aps.org/pdf/10.1103/PRXQuantum.2.010342\n",
    "- https://medium.com/mdr-inc/time-evolution-operators-be2968493b86 (note there are some notable errors)\n",
    "- "
   ]
  },
  {
   "cell_type": "code",
   "execution_count": 1,
   "metadata": {},
   "outputs": [],
   "source": [
    "import os\n",
    "os.environ[\"KMP_DUPLICATE_LIB_OK\"]=\"TRUE\""
   ]
  },
  {
   "cell_type": "code",
   "execution_count": 3,
   "metadata": {},
   "outputs": [],
   "source": [
    "from qiskit import QuantumCircuit\n",
    "from qiskit.quantum_info import SparsePauliOp, Statevector, Operator\n",
    "from qiskit_ibm_runtime import EstimatorV2 as Estimator\n",
    "from qiskit_ibm_runtime import SamplerV2 as Sampler\n",
    "# from qiskit.primitives import Sampler\n",
    "from qiskit_aer import AerSimulator\n",
    "import matplotlib.pyplot as plt\n",
    "from qiskit.transpiler import CouplingMap\n",
    "from qiskit.transpiler.preset_passmanagers import generate_preset_pass_manager\n",
    "from qiskit_ibm_runtime import QiskitRuntimeService\n",
    "from qiskit.circuit.library import UnitaryGate\n",
    "from qiskit.quantum_info import Statevector\n",
    "\n",
    "from tqdm.notebook import tqdm\n",
    "\n",
    "from numpy import sin, cos\n",
    "import numpy as np\n",
    "from scipy.linalg import expm, sqrtm\n",
    "\n",
    "from scipy.optimize import differential_evolution, dual_annealing, minimize\n",
    "\n",
    "from itertools import product\n",
    "\n",
    "import random\n",
    "\n",
    "import json\n",
    "\n",
    "\n",
    "\n"
   ]
  },
  {
   "cell_type": "code",
   "execution_count": 4,
   "metadata": {},
   "outputs": [],
   "source": [
    "# service = QiskitRuntimeService()\n",
    "BACKEND = AerSimulator()\n",
    "pass_manager = generate_preset_pass_manager(backend=BACKEND, optimization_level=0)\n",
    "estimator = Estimator(mode=BACKEND)\n",
    "sampler = Sampler(mode=BACKEND)"
   ]
  },
  {
   "cell_type": "markdown",
   "metadata": {},
   "source": [
    "## I. Hatano-Nelson Model\n",
    "\n",
    "Note $\\hat{X}^+ = \\frac{\\hat{X} + i \\hat{Y}}{2}$ and $\\hat{X}^- = \\frac{\\hat{X} - i \\hat{Y}}{2}$"
   ]
  },
  {
   "cell_type": "code",
   "execution_count": 5,
   "metadata": {},
   "outputs": [],
   "source": [
    "X_gate = np.array([[0, 1], \n",
    "                   [1, 0]])\n",
    "\n",
    "Y_gate = np.array([[0, -1j],\n",
    "                   [1j, 0]])\n",
    "\n",
    "I_gate = np.array([[1, 0], \n",
    "                   [0, 1]])\n",
    "\n",
    "X_plus = 0.5 * (X_gate + 1j * Y_gate)\n",
    "X_minus = 0.5 * (X_gate - 1j * Y_gate)"
   ]
  },
  {
   "cell_type": "code",
   "execution_count": 6,
   "metadata": {},
   "outputs": [],
   "source": [
    "# Helper function, generates U_j_nonH\n",
    "def get_U_j_nonH(J, gamma, index, N, timestep):\n",
    "    product_1 = np.kron(X_plus, X_minus)\n",
    "    product_2 = np.kron(X_minus, X_plus)\n",
    "    exponent = 1j * timestep * ( (J - gamma) * product_1 + (J + gamma) * product_2)\n",
    "    \n",
    "    if index == 0:\n",
    "        U_j_nonH = np.kron(np.eye(2 ** (N-2)), expm(exponent))\n",
    "    if index == N - 2:\n",
    "        U_j_nonH = np.kron(expm(exponent), np.eye(2 ** (N-2)))\n",
    "    else: \n",
    "        U_j_nonH = np.kron(np.kron(np.eye(2 ** (N - 2 - index)), expm(exponent)), np.eye(2 ** (index)))\n",
    "    return U_j_nonH\n",
    "    \n",
    "\n",
    "\n",
    "# Helper function, generates R_HN\n",
    "def get_R_HN(J, gamma, N, timestep):\n",
    "    res_even = np.eye(2 ** N)\n",
    "    res_odd = np.eye(2 ** N)\n",
    "    for i in range(N - 1):\n",
    "        if i % 2 == 0:\n",
    "            res_even = np.matmul(res_even, get_U_j_nonH(J, gamma, i, N, timestep))\n",
    "        else:\n",
    "            res_odd = np.matmul(res_odd, get_U_j_nonH(J, gamma, i, N, timestep))\n",
    "    return np.matmul(res_even, res_odd)\n",
    "\n",
    "# Generates U_HN \n",
    "def get_U_HN(J, gamma, N, timestep):\n",
    "    R_HN = get_R_HN(J, gamma, N, timestep)\n",
    "\n",
    "    A, sig, Bh = np.linalg.svd(R_HN)\n",
    "    eigval, _ = np.linalg.eig(np.matmul(R_HN.conj().T, R_HN))\n",
    "    u_square_inverse = max(eigval)\n",
    "    u_square = 1/u_square_inverse \n",
    "    C = np.matmul(np.matmul(A, sqrtm(np.eye(2 ** N) - u_square * np.diag(np.square(sig)))), Bh)\n",
    "\n",
    "    u_R_HN = np.sqrt(u_square) * R_HN\n",
    "    W = np.concatenate((np.concatenate((u_R_HN, C), axis=0), np.concatenate((np.eye(2 ** N), np.eye(2 ** N)), axis=0)), axis=1)\n",
    "    U_HN, _ = np.linalg.qr(W)\n",
    "    return U_HN"
   ]
  },
  {
   "cell_type": "code",
   "execution_count": 7,
   "metadata": {},
   "outputs": [
    {
     "data": {
      "text/plain": [
       "array([[1., 0., 0., 0., 0., 0., 0., 0.],\n",
       "       [0., 1., 0., 0., 0., 0., 0., 0.],\n",
       "       [0., 0., 1., 0., 0., 0., 0., 0.],\n",
       "       [0., 0., 0., 1., 0., 0., 0., 0.],\n",
       "       [0., 0., 0., 0., 0., 0., 0., 0.],\n",
       "       [0., 0., 0., 0., 0., 0., 0., 0.],\n",
       "       [0., 0., 0., 0., 0., 0., 0., 0.],\n",
       "       [0., 0., 0., 0., 0., 0., 0., 0.]])"
      ]
     },
     "execution_count": 7,
     "metadata": {},
     "output_type": "execute_result"
    }
   ],
   "source": [
    "def projection(N):\n",
    "    projector = np.array([[1.0, 0.0], [0.0, 0.0]])\n",
    "    \n",
    "    return np.kron(projector, np.eye(2 ** (N-1)))\n",
    "\n",
    "projection(3)"
   ]
  },
  {
   "cell_type": "code",
   "execution_count": 8,
   "metadata": {},
   "outputs": [],
   "source": [
    "total_time = 1.8\n",
    "nb_timesteps = 10\n",
    "timestep_duration = total_time/nb_timesteps"
   ]
  },
  {
   "cell_type": "markdown",
   "metadata": {},
   "source": [
    "# First Attempt Using Gates\n",
    "Note: This attempt missed out on implementing the projection between each trotter step, hence the non-unitary case where $gamma \\neq 0.0$ gives the wrong figure."
   ]
  },
  {
   "cell_type": "code",
   "execution_count": 10,
   "metadata": {},
   "outputs": [
    {
     "data": {
      "text/plain": [
       "Text(0.5, 0, 'T')"
      ]
     },
     "execution_count": 10,
     "metadata": {},
     "output_type": "execute_result"
    },
    {
     "data": {
      "image/png": "[encoded data removed]",
      "text/plain": [
       "<Figure size 500x300 with 2 Axes>"
      ]
     },
     "metadata": {},
     "output_type": "display_data"
    }
   ],
   "source": [
    "# For gamma = 0.0 case \n",
    "# (Original Implementation using individual UnitaryGates, but missed out projection between each trotter step)\n",
    "N = 6\n",
    "\n",
    "# Generate the unitary\n",
    "matrix = get_U_HN(2, 0.0, N, 0.1)\n",
    "gate = UnitaryGate(matrix)\n",
    "\n",
    "# Create the relevant circuits for paper's Fig 3a\n",
    "circuits = []\n",
    "for n_steps in range(1, nb_timesteps+1):\n",
    "    qc = QuantumCircuit(N+1)\n",
    "    qc.h(N//2 - 1)\n",
    "    qc.cx(N//2 - 1, N//2)\n",
    "    \n",
    "    gate = UnitaryGate(np.linalg.matrix_power(matrix, n_steps))\n",
    "    qc.append(gate, [i for i in range(N+1)])\n",
    "    \n",
    "    qc.measure_all()\n",
    "    circuits.append(qc)\n",
    "\n",
    "# Execute measurements for paper's Fig 3a\n",
    "magnetization=[]\n",
    "res_list = []\n",
    "# for circ in tqdm(circuits):\n",
    "for circ in circuits:\n",
    "    pubs = [(circ)]\n",
    "    job = sampler.run(pubs, shots=160000)\n",
    "    results = job.result()\n",
    "    res = results[0].data.meas.get_counts()\n",
    "\n",
    "    counts_left = 0\n",
    "    row = [0 for _ in range(N)]\n",
    "    for key, value in res.items():\n",
    "        if key[0] == \"0\":\n",
    "            counts_left += value\n",
    "\n",
    "            for i in range(1, N+1):\n",
    "                if key[i] == '1':\n",
    "                    row[i-1] += value\n",
    "    magnetization.append([x/counts_left for x in row][::-1]) #the output for qiskit is qNqN-1...q1q0\n",
    "\n",
    "magnetization=np.array(magnetization)\n",
    "\n",
    "fig = plt.figure(figsize=(10/2,6/2), facecolor='white')\n",
    "im = plt.pcolormesh([0.1 * i for i in range(nb_timesteps)], np.arange(0,N,1), magnetization.T, cmap='inferno')\n",
    "fig.colorbar(im)\n",
    "plt.ylabel('Qubit index')\n",
    "plt.xlabel('T')\n",
    "\n"
   ]
  },
  {
   "cell_type": "code",
   "execution_count": 12,
   "metadata": {},
   "outputs": [],
   "source": [
    "# For gamma = 0.5 case \n",
    "# (Original Implementation using individual UnitaryGates, but missed out projection between each trotter step)\n",
    "N = 6\n",
    "\n",
    "# Generate the unitary\n",
    "matrix = get_U_HN(2, 0.5, N, 0.1)\n",
    "gate = UnitaryGate(matrix)\n",
    "\n",
    "# Create the relevant circuits for paper's Fig 3a\n",
    "circuits = []\n",
    "for n_steps in range(1, nb_timesteps+1):\n",
    "    qc = QuantumCircuit(N+1)\n",
    "    qc.h(N//2 - 1)\n",
    "    qc.cx(N//2 - 1, N//2)\n",
    "    \n",
    "    gate = UnitaryGate(np.linalg.matrix_power(matrix, n_steps))\n",
    "    qc.append(gate, [i for i in range(N+1)])\n",
    "    \n",
    "    qc.measure_all()\n",
    "    circuits.append(qc)\n",
    "\n",
    "# Execute measurements for paper's Fig 3a\n",
    "magnetization=[]\n",
    "res_list = []\n",
    "# for circ in tqdm(circuits):\n",
    "for circ in circuits:\n",
    "    pubs = [(circ)]\n",
    "    job = sampler.run(pubs, shots=160000)\n",
    "    results = job.result()\n",
    "    res = results[0].data.meas.get_counts()\n",
    "\n",
    "    counts_left = 0\n",
    "    row = [0 for _ in range(N)]\n",
    "    for key, value in res.items():\n",
    "        if key[0] == \"0\":\n",
    "            counts_left += value\n",
    "\n",
    "            for i in range(1, N+1):\n",
    "                if key[i] == '1':\n",
    "                    row[i-1] += value\n",
    "    magnetization.append([x/counts_left for x in row][::-1]) #the output for qiskit is qNqN-1...q1q0\n",
    "\n",
    "magnetization=np.array(magnetization)"
   ]
  },
  {
   "cell_type": "code",
   "execution_count": 13,
   "metadata": {},
   "outputs": [
    {
     "data": {
      "text/plain": [
       "Text(0.5, 0, 'T')"
      ]
     },
     "execution_count": 13,
     "metadata": {},
     "output_type": "execute_result"
    },
    {
     "data": {
      "image/png": "[encoded data removed]",
      "text/plain": [
       "<Figure size 500x300 with 2 Axes>"
      ]
     },
     "metadata": {},
     "output_type": "display_data"
    }
   ],
   "source": [
    "fig = plt.figure(figsize=(10/2,6/2), facecolor='white')\n",
    "im = plt.pcolormesh([0.1 * i for i in range(nb_timesteps)], np.arange(0,N,1), magnetization.T, cmap='inferno')\n",
    "fig.colorbar(im)\n",
    "plt.ylabel('Qubit index')\n",
    "plt.xlabel('T')"
   ]
  },
  {
   "cell_type": "markdown",
   "metadata": {},
   "source": [
    "# Second Attempt: Mathematical implementation of Fig 3a\n",
    "Note: Qiskit was not used"
   ]
  },
  {
   "cell_type": "code",
   "execution_count": 14,
   "metadata": {},
   "outputs": [
    {
     "name": "stdout",
     "output_type": "stream",
     "text": [
      "(6, 10)\n"
     ]
    },
    {
     "data": {
      "text/plain": [
       "Text(0.5, 0, 'T')"
      ]
     },
     "execution_count": 14,
     "metadata": {},
     "output_type": "execute_result"
    },
    {
     "data": {
      "image/png": "[encoded data removed]",
      "text/plain": [
       "<Figure size 600x300 with 2 Axes>"
      ]
     },
     "metadata": {},
     "output_type": "display_data"
    }
   ],
   "source": [
    "# For gamma = 0.5 case \n",
    "# (Full matrices and state vector based, no qiskit)\n",
    "N = 6\n",
    "nb_timesteps = 10\n",
    "timestep_duration = 0.2\n",
    "gamma = 0.5\n",
    "J = 1\n",
    "\n",
    "# Generate the unitary\n",
    "matrix = get_U_HN(J, gamma , N, timestep_duration)\n",
    "projection_matrix = projection(N+1)\n",
    "\n",
    "# create the initial state vector (|↓↓↑↓↓↓⟩+|↓↓↓↑↓↓⟩)/ 2\n",
    "initial_vector = np.zeros((2**(N+1), 1), dtype=complex)\n",
    "initial_vector[ (2**N - 1) - 2**(N//2)] = 1/np.sqrt(2)\n",
    "initial_vector[ (2**N - 1) - 2**(N//2 -1)] = 1/np.sqrt(2)\n",
    "\n",
    "magnetization=[]\n",
    "for n_steps in range(1, nb_timesteps + 1):\n",
    "\n",
    "    # for each time step, apply the matrix n_steps times onto the initial vector\n",
    "    state_vector = np.matmul(np.linalg.matrix_power(matrix @ projection_matrix, n_steps), initial_vector).T[0]\n",
    "    state_dict = {}\n",
    "    for i in range(2 ** (N+1)):\n",
    "\n",
    "        # allocate the relevant probabilities to each state\n",
    "        state_dict[bin(i)[2:].zfill(N+1)] = np.abs(state_vector[i]) ** 2\n",
    "\n",
    "   \n",
    "    # create a new row to add to magnetization array\n",
    "    row = [0 for _ in range(N)]\n",
    "    prob = 0\n",
    "    for key, value in state_dict.items():\n",
    "\n",
    "        # key[0] is the ancillary qubit\n",
    "        if key[0] == '0':\n",
    "            prob += value\n",
    "            for i in range(1, N + 1):\n",
    "\n",
    "                # if the other qubits have a result of 0, then add the probabilities to that qubit\n",
    "                if key[i] == '0':\n",
    "                    row[N - i] += value\n",
    "\n",
    "    magnetization += [[x/prob for x in row]]\n",
    "\n",
    "magnetization = np.array(magnetization)\n",
    "print(magnetization.T.shape)\n",
    "fig = plt.figure(figsize=((nb_timesteps + 2)/2 , N/2), facecolor='white')\n",
    "im = plt.pcolormesh([timestep_duration * i for i in range(nb_timesteps)], np.arange(0,N,1), magnetization.T, cmap='inferno')\n",
    "fig.colorbar(im)\n",
    "plt.ylabel('Qubit index')\n",
    "plt.xlabel('T')"
   ]
  },
  {
   "cell_type": "markdown",
   "metadata": {},
   "source": [
    "# Third Attempt: Adapting the Mathematical Representation to Qiskit\n",
    "Note: the `Statevector` Class was used, however sampler was not used as far as I am aware.\n",
    "\n",
    "The first attempt follows the method detailed in the paper. Since a second non-unitary operation (the projection between each trotter step) was necessary, I adopted using the `Statevector` class which came with an `evolve` method which can take non-unitary operators. However, I am not sure why we cannot use this directly with the non-unitary HN operator.\n"
   ]
  },
  {
   "cell_type": "code",
   "execution_count": 15,
   "metadata": {},
   "outputs": [
    {
     "name": "stderr",
     "output_type": "stream",
     "text": [
      "Exception ignored in: <function tqdm.__del__ at 0x125cb1b20>\n",
      "Traceback (most recent call last):\n",
      "  File \"/Users/seeminlim/Desktop/Professional/.venv/lib/python3.13/site-packages/tqdm/std.py\", line 1148, in __del__\n",
      "    self.close()\n",
      "  File \"/Users/seeminlim/Desktop/Professional/.venv/lib/python3.13/site-packages/tqdm/notebook.py\", line 279, in close\n",
      "    self.disp(bar_style='danger', check_delay=False)\n",
      "AttributeError: 'tqdm_notebook' object has no attribute 'disp'\n"
     ]
    },
    {
     "ename": "ImportError",
     "evalue": "IProgress not found. Please update jupyter and ipywidgets. See https://ipywidgets.readthedocs.io/en/stable/user_install.html",
     "output_type": "error",
     "traceback": [
      "\u001b[31m---------------------------------------------------------------------------\u001b[39m",
      "\u001b[31mImportError\u001b[39m                               Traceback (most recent call last)",
      "\u001b[36mCell\u001b[39m\u001b[36m \u001b[39m\u001b[32mIn[15]\u001b[39m\u001b[32m, line 36\u001b[39m\n\u001b[32m     34\u001b[39m density=[]\n\u001b[32m     35\u001b[39m res_list = []\n\u001b[32m---> \u001b[39m\u001b[32m36\u001b[39m \u001b[38;5;28;01mfor\u001b[39;00m circ \u001b[38;5;129;01min\u001b[39;00m \u001b[43mtqdm\u001b[49m\u001b[43m(\u001b[49m\u001b[43mcircuits\u001b[49m\u001b[43m)\u001b[49m:\n\u001b[32m     37\u001b[39m     \u001b[38;5;66;03m# pubs = [(circ)]\u001b[39;00m\n\u001b[32m     38\u001b[39m     \u001b[38;5;66;03m# job = sampler.run(pubs, shots=160000)\u001b[39;00m\n\u001b[32m     39\u001b[39m     \u001b[38;5;66;03m# results = job.result()\u001b[39;00m\n\u001b[32m     40\u001b[39m     \u001b[38;5;66;03m# res = results[0].data.meas.get_counts()\u001b[39;00m\n\u001b[32m     41\u001b[39m     probs = circ.probabilities()\n\u001b[32m     42\u001b[39m     state_dict = {}\n",
      "\u001b[36mFile \u001b[39m\u001b[32m~/Desktop/Professional/.venv/lib/python3.13/site-packages/tqdm/notebook.py:234\u001b[39m, in \u001b[36mtqdm_notebook.__init__\u001b[39m\u001b[34m(self, *args, **kwargs)\u001b[39m\n\u001b[32m    232\u001b[39m unit_scale = \u001b[32m1\u001b[39m \u001b[38;5;28;01mif\u001b[39;00m \u001b[38;5;28mself\u001b[39m.unit_scale \u001b[38;5;129;01mis\u001b[39;00m \u001b[38;5;28;01mTrue\u001b[39;00m \u001b[38;5;28;01melse\u001b[39;00m \u001b[38;5;28mself\u001b[39m.unit_scale \u001b[38;5;129;01mor\u001b[39;00m \u001b[32m1\u001b[39m\n\u001b[32m    233\u001b[39m total = \u001b[38;5;28mself\u001b[39m.total * unit_scale \u001b[38;5;28;01mif\u001b[39;00m \u001b[38;5;28mself\u001b[39m.total \u001b[38;5;28;01melse\u001b[39;00m \u001b[38;5;28mself\u001b[39m.total\n\u001b[32m--> \u001b[39m\u001b[32m234\u001b[39m \u001b[38;5;28mself\u001b[39m.container = \u001b[38;5;28;43mself\u001b[39;49m\u001b[43m.\u001b[49m\u001b[43mstatus_printer\u001b[49m\u001b[43m(\u001b[49m\u001b[38;5;28;43mself\u001b[39;49m\u001b[43m.\u001b[49m\u001b[43mfp\u001b[49m\u001b[43m,\u001b[49m\u001b[43m \u001b[49m\u001b[43mtotal\u001b[49m\u001b[43m,\u001b[49m\u001b[43m \u001b[49m\u001b[38;5;28;43mself\u001b[39;49m\u001b[43m.\u001b[49m\u001b[43mdesc\u001b[49m\u001b[43m,\u001b[49m\u001b[43m \u001b[49m\u001b[38;5;28;43mself\u001b[39;49m\u001b[43m.\u001b[49m\u001b[43mncols\u001b[49m\u001b[43m)\u001b[49m\n\u001b[32m    235\u001b[39m \u001b[38;5;28mself\u001b[39m.container.pbar = proxy(\u001b[38;5;28mself\u001b[39m)\n\u001b[32m    236\u001b[39m \u001b[38;5;28mself\u001b[39m.displayed = \u001b[38;5;28;01mFalse\u001b[39;00m\n",
      "\u001b[36mFile \u001b[39m\u001b[32m~/Desktop/Professional/.venv/lib/python3.13/site-packages/tqdm/notebook.py:108\u001b[39m, in \u001b[36mtqdm_notebook.status_printer\u001b[39m\u001b[34m(_, total, desc, ncols)\u001b[39m\n\u001b[32m     99\u001b[39m \u001b[38;5;66;03m# Fallback to text bar if there's no total\u001b[39;00m\n\u001b[32m    100\u001b[39m \u001b[38;5;66;03m# DEPRECATED: replaced with an 'info' style bar\u001b[39;00m\n\u001b[32m    101\u001b[39m \u001b[38;5;66;03m# if not total:\u001b[39;00m\n\u001b[32m   (...)\u001b[39m\u001b[32m    105\u001b[39m \n\u001b[32m    106\u001b[39m \u001b[38;5;66;03m# Prepare IPython progress bar\u001b[39;00m\n\u001b[32m    107\u001b[39m \u001b[38;5;28;01mif\u001b[39;00m IProgress \u001b[38;5;129;01mis\u001b[39;00m \u001b[38;5;28;01mNone\u001b[39;00m:  \u001b[38;5;66;03m# #187 #451 #558 #872\u001b[39;00m\n\u001b[32m--> \u001b[39m\u001b[32m108\u001b[39m     \u001b[38;5;28;01mraise\u001b[39;00m \u001b[38;5;167;01mImportError\u001b[39;00m(WARN_NOIPYW)\n\u001b[32m    109\u001b[39m \u001b[38;5;28;01mif\u001b[39;00m total:\n\u001b[32m    110\u001b[39m     pbar = IProgress(\u001b[38;5;28mmin\u001b[39m=\u001b[32m0\u001b[39m, \u001b[38;5;28mmax\u001b[39m=total)\n",
      "\u001b[31mImportError\u001b[39m: IProgress not found. Please update jupyter and ipywidgets. See https://ipywidgets.readthedocs.io/en/stable/user_install.html"
     ]
    }
   ],
   "source": [
    "# For gamma = 0.5 case \n",
    "# Adapting the math representation to Qiskit\n",
    "N = 6\n",
    "J = 1\n",
    "gamma = 0.5\n",
    "timestep_duration = 0.2\n",
    "\n",
    "# Generate the unitary\n",
    "matrix = get_U_HN(J, gamma, N, timestep_duration)\n",
    "projection_matrix = projection(N+1)\n",
    "gate = Operator(matrix)\n",
    "projector = Operator(projection_matrix)\n",
    "\n",
    "initial_vector = np.zeros((2**(N+1), 1), dtype=complex)\n",
    "initial_vector[ (2**N - 1) - 2**(N//2)] = 1/np.sqrt(2)\n",
    "initial_vector[ (2**N - 1) - 2**(N//2 -1)] = 1/np.sqrt(2)\n",
    "\n",
    "\n",
    "magnetization=[]\n",
    "# Create the relevant circuits for paper's Fig 3a\n",
    "circuits = []\n",
    "for n_steps in range(1, nb_timesteps+1):\n",
    "    state = Statevector(initial_vector)\n",
    "    \n",
    "    for _ in range(n_steps):\n",
    "        state = state.evolve(gate)\n",
    "        state = state.evolve(projector)\n",
    "    \n",
    "    # qc.measure_all()\n",
    "    # circuits.append(qc)\n",
    "    circuits.append(state)\n",
    "\n",
    "# Execute measurements for paper's Fig 3a\n",
    "density=[]\n",
    "res_list = []\n",
    "for circ in tqdm(circuits):\n",
    "    # pubs = [(circ)]\n",
    "    # job = sampler.run(pubs, shots=160000)\n",
    "    # results = job.result()\n",
    "    # res = results[0].data.meas.get_counts()\n",
    "    probs = circ.probabilities()\n",
    "    state_dict = {}\n",
    "    for i in range(2 ** (N+1)):\n",
    "\n",
    "        # allocate the relevant probabilities to each state\n",
    "        state_dict[bin(i)[2:].zfill(N+1)] = np.abs(probs[i])\n",
    "\n",
    "    # create a new row to add to magnetization array\n",
    "    row = [0 for _ in range(N)]\n",
    "    prob = 0\n",
    "    for key, value in state_dict.items():\n",
    "\n",
    "        # key[0] is the ancillary qubit\n",
    "        if key[0] == '0':\n",
    "            prob += value\n",
    "            for i in range(1, N + 1):\n",
    "\n",
    "                # if the other qubits have a result of 0, then add the probabilities to that qubit\n",
    "                if key[i] == '0':\n",
    "                    row[N - i] += value\n",
    "\n",
    "    magnetization += [[x/prob for x in row]]\n",
    "\n",
    "magnetization = np.array(magnetization)\n",
    "print(magnetization.T.shape)\n",
    "fig = plt.figure(figsize=((nb_timesteps + 2)/2 , N/2), facecolor='white')\n",
    "im = plt.pcolormesh([timestep_duration * i for i in range(nb_timesteps)], np.arange(0,N,1), magnetization.T, cmap='inferno')\n",
    "fig.colorbar(im)\n",
    "plt.ylabel('Qubit index')\n",
    "plt.xlabel('T')"
   ]
  },
  {
   "cell_type": "code",
   "execution_count": 177,
   "metadata": {},
   "outputs": [
    {
     "data": {
      "application/vnd.jupyter.widget-view+json": {
       "model_id": "31193598964e4cbe8bf55a24db2aebcd",
       "version_major": 2,
       "version_minor": 0
      },
      "text/plain": [
       "  0%|          | 0/10 [00:00<?, ?it/s]"
      ]
     },
     "metadata": {},
     "output_type": "display_data"
    },
    {
     "name": "stdout",
     "output_type": "stream",
     "text": [
      "(6, 10)\n"
     ]
    },
    {
     "data": {
      "text/plain": [
       "Text(0.5, 0, 'T')"
      ]
     },
     "execution_count": 177,
     "metadata": {},
     "output_type": "execute_result"
    },
    {
     "data": {
      "image/png": "[encoded data removed]",
      "text/plain": [
       "<Figure size 600x300 with 2 Axes>"
      ]
     },
     "metadata": {},
     "output_type": "display_data"
    }
   ],
   "source": [
    "# For gamma = 0.5 case \n",
    "# Using R_HN directly\n",
    "N = 6\n",
    "J = 1\n",
    "gamma = 0.5\n",
    "timestep_duration = 0.2\n",
    "\n",
    "# Generate the unitary\n",
    "matrix = get_R_HN(J, gamma, N, timestep_duration)\n",
    "projection_matrix = projection(N+1)\n",
    "gate = Operator(matrix)\n",
    "projector = Operator(projection_matrix)\n",
    "\n",
    "initial_vector = np.zeros((2**(N), 1), dtype=complex)\n",
    "initial_vector[ (2**N - 1) - 2**(N//2)] = 1/np.sqrt(2)\n",
    "initial_vector[ (2**N - 1) - 2**(N//2 -1)] = 1/np.sqrt(2)\n",
    "\n",
    "\n",
    "magnetization=[]\n",
    "# Create the relevant circuits for paper's Fig 3a\n",
    "circuits = []\n",
    "for n_steps in range(1, nb_timesteps+1):\n",
    "    state = Statevector(initial_vector)\n",
    "    \n",
    "    for _ in range(n_steps):\n",
    "        state = state.evolve(gate)\n",
    "        #state = state.evolve(projector)\n",
    "    \n",
    "    # qc.measure_all()\n",
    "    # circuits.append(qc)\n",
    "    circuits.append(state)\n",
    "\n",
    "# Execute measurements for paper's Fig 3a\n",
    "density=[]\n",
    "res_list = []\n",
    "for circ in tqdm(circuits):\n",
    "    # pubs = [(circ)]\n",
    "    # job = sampler.run(pubs, shots=160000)\n",
    "    # results = job.result()\n",
    "    # res = results[0].data.meas.get_counts()\n",
    "    probs = circ.probabilities()\n",
    "    state_dict = {}\n",
    "    for i in range(2 ** (N)):\n",
    "\n",
    "        # allocate the relevant probabilities to each state\n",
    "        state_dict[bin(i)[2:].zfill(N)] = np.abs(probs[i])\n",
    "\n",
    "    # create a new row to add to magnetization array\n",
    "    row = [0 for _ in range(N)]\n",
    "    prob = 0\n",
    "    for key, value in state_dict.items():\n",
    "\n",
    "        # key[0] is the ancillary qubit\n",
    "        if True: #key[0] == '0':\n",
    "            prob += value\n",
    "            for i in range(0, N):\n",
    "\n",
    "                # if the other qubits have a result of 0, then add the probabilities to that qubit\n",
    "                if key[i] == '0':\n",
    "                    row[N - i - 1] += value\n",
    "\n",
    "    magnetization += [[x/prob for x in row]]\n",
    "\n",
    "magnetization = np.array(magnetization)\n",
    "print(magnetization.T.shape)\n",
    "fig = plt.figure(figsize=((nb_timesteps + 2)/2 , N/2), facecolor='white')\n",
    "im = plt.pcolormesh([timestep_duration * i for i in range(nb_timesteps)], np.arange(0,N,1), magnetization.T, cmap='inferno')\n",
    "fig.colorbar(im)\n",
    "plt.ylabel('Qubit index')\n",
    "plt.xlabel('T')"
   ]
  },
  {
   "cell_type": "markdown",
   "metadata": {},
   "source": [
    "# Fourth Attempt: Integrating Sampler (and hence adapting for execution on quantum computers)\n",
    "This is similar to attempt 3, except the `Statevectors` are now made into circuits and `Sampler` can thus be used on them (as far as I am aware). However, my original question in attempt 3 remains, hence there is a second circuit under this attempt (also directly using `R_HN`)"
   ]
  },
  {
   "cell_type": "code",
   "execution_count": 184,
   "metadata": {},
   "outputs": [
    {
     "data": {
      "application/vnd.jupyter.widget-view+json": {
       "model_id": "ca7b2266750b4ba88d2269de8a28d150",
       "version_major": 2,
       "version_minor": 0
      },
      "text/plain": [
       "  0%|          | 0/10 [00:00<?, ?it/s]"
      ]
     },
     "metadata": {},
     "output_type": "display_data"
    },
    {
     "name": "stdout",
     "output_type": "stream",
     "text": [
      "(6, 10)\n"
     ]
    },
    {
     "data": {
      "text/plain": [
       "Text(0.5, 0, 'T')"
      ]
     },
     "execution_count": 184,
     "metadata": {},
     "output_type": "execute_result"
    },
    {
     "data": {
      "image/png": "[encoded data removed]",
      "text/plain": [
       "<Figure size 600x300 with 2 Axes>"
      ]
     },
     "metadata": {},
     "output_type": "display_data"
    }
   ],
   "source": [
    "# For gamma = 0.5 case \n",
    "# Adapting the math representation to Qiskit\n",
    "# Using Sampler\n",
    "N = 6\n",
    "J = 1\n",
    "gamma = 0.5\n",
    "timestep_duration = 0.2\n",
    "\n",
    "# Generate the unitary\n",
    "matrix = get_U_HN(J, gamma, N, timestep_duration)\n",
    "projection_matrix = projection(N+1)\n",
    "gate = Operator(matrix)\n",
    "projector = Operator(projection_matrix)\n",
    "\n",
    "initial_vector = np.zeros((2**(N+1), 1), dtype=complex)\n",
    "initial_vector[ (2**N - 1) - 2**(N//2)] = 1/np.sqrt(2)\n",
    "initial_vector[ (2**N - 1) - 2**(N//2 -1)] = 1/np.sqrt(2)\n",
    "\n",
    "\n",
    "magnetization=[]\n",
    "# Create the relevant circuits for paper's Fig 3a\n",
    "circuits = []\n",
    "for n_steps in range(1, nb_timesteps+1):\n",
    "    qc = QuantumCircuit(N+1)\n",
    "    state = Statevector(initial_vector)\n",
    "    \n",
    "    for _ in range(n_steps):\n",
    "        state = state.evolve(gate)\n",
    "        state = state.evolve(projector)\n",
    "    \n",
    "    qc.initialize(state, range(N+1), normalize=True)\n",
    "    qc.measure_all()\n",
    "    circuits.append(qc)\n",
    "\n",
    "# Execute measurements for paper's Fig 3a\n",
    "magnetization=[]\n",
    "res_list = []\n",
    "for circ in tqdm(circuits):\n",
    "    pubs = [(circ)]\n",
    "    job = sampler.run(pubs, shots=160000)\n",
    "    results = job.result()\n",
    "    res = results[0].data.meas.get_counts()\n",
    "\n",
    "    counts_left = 0\n",
    "    row = [0 for _ in range(N)]\n",
    "    for key, value in res.items():\n",
    "        if key[0] == \"0\":\n",
    "            counts_left += value\n",
    "\n",
    "            for i in range(1, N+1):\n",
    "                if key[i] == '0':\n",
    "                    row[i-1] += value\n",
    "    magnetization.append([x/counts_left for x in row][::-1]) #the output for qiskit is qNqN-1...q1q0\n",
    "\n",
    "magnetization=np.array(magnetization)\n",
    "\n",
    "magnetization = np.array(magnetization)\n",
    "print(magnetization.T.shape)\n",
    "fig = plt.figure(figsize=((nb_timesteps + 2)/2 , N/2), facecolor='white')\n",
    "im = plt.pcolormesh([timestep_duration * i for i in range(nb_timesteps)], np.arange(0,N,1), magnetization.T, cmap='inferno')\n",
    "fig.colorbar(im)\n",
    "plt.ylabel('Qubit index')\n",
    "plt.xlabel('T')"
   ]
  },
  {
   "cell_type": "code",
   "execution_count": 186,
   "metadata": {},
   "outputs": [
    {
     "data": {
      "application/vnd.jupyter.widget-view+json": {
       "model_id": "c4f8301840ca4901836e2c281d2152b0",
       "version_major": 2,
       "version_minor": 0
      },
      "text/plain": [
       "  0%|          | 0/10 [00:00<?, ?it/s]"
      ]
     },
     "metadata": {},
     "output_type": "display_data"
    },
    {
     "name": "stdout",
     "output_type": "stream",
     "text": [
      "(6, 10)\n"
     ]
    },
    {
     "data": {
      "text/plain": [
       "Text(0.5, 0, 'T')"
      ]
     },
     "execution_count": 186,
     "metadata": {},
     "output_type": "execute_result"
    },
    {
     "data": {
      "image/png": "[encoded data removed]",
      "text/plain": [
       "<Figure size 600x300 with 2 Axes>"
      ]
     },
     "metadata": {},
     "output_type": "display_data"
    }
   ],
   "source": [
    "# For gamma = 0.5 case \n",
    "# Adapting the math representation to Qiskit\n",
    "# Using Sampler\n",
    "N = 6\n",
    "J = 1\n",
    "gamma = 0.5\n",
    "timestep_duration = 0.2\n",
    "\n",
    "# Generate the unitary\n",
    "matrix = get_R_HN(J, gamma, N, timestep_duration)\n",
    "projection_matrix = projection(N+1)\n",
    "gate = Operator(matrix)\n",
    "projector = Operator(projection_matrix)\n",
    "\n",
    "initial_vector = np.zeros((2**(N), 1), dtype=complex)\n",
    "initial_vector[ (2**N - 1) - 2**(N//2)] = 1/np.sqrt(2)\n",
    "initial_vector[ (2**N - 1) - 2**(N//2 -1)] = 1/np.sqrt(2)\n",
    "\n",
    "\n",
    "magnetization=[]\n",
    "# Create the relevant circuits for paper's Fig 3a\n",
    "circuits = []\n",
    "for n_steps in range(1, nb_timesteps+1):\n",
    "    qc = QuantumCircuit(N)\n",
    "    state = Statevector(initial_vector)\n",
    "    \n",
    "    for _ in range(n_steps):\n",
    "        state = state.evolve(gate)\n",
    "        # state = state.evolve(projector)\n",
    "    \n",
    "    qc.initialize(state, range(N), normalize=True)\n",
    "    qc.measure_all()\n",
    "    circuits.append(qc)\n",
    "\n",
    "# Execute measurements for paper's Fig 3a\n",
    "magnetization=[]\n",
    "res_list = []\n",
    "for circ in tqdm(circuits):\n",
    "    pubs = [(circ)]\n",
    "    job = sampler.run(pubs, shots=160000)\n",
    "    results = job.result()\n",
    "    res = results[0].data.meas.get_counts()\n",
    "\n",
    "    counts_left = 0\n",
    "    row = [0 for _ in range(N)]\n",
    "    for key, value in res.items():\n",
    "        if True: #key[0] == \"0\":\n",
    "            counts_left += value\n",
    "\n",
    "            for i in range(0, N):\n",
    "                if key[i] == '0':\n",
    "                    row[i] += value\n",
    "    magnetization.append([x/counts_left for x in row][::-1]) #the output for qiskit is qNqN-1...q1q0\n",
    "\n",
    "magnetization=np.array(magnetization)\n",
    "\n",
    "magnetization = np.array(magnetization)\n",
    "print(magnetization.T.shape)\n",
    "fig = plt.figure(figsize=((nb_timesteps + 2)/2 , N/2), facecolor='white')\n",
    "im = plt.pcolormesh([timestep_duration * i for i in range(nb_timesteps)], np.arange(0,N,1), magnetization.T, cmap='inferno')\n",
    "fig.colorbar(im)\n",
    "plt.ylabel('Qubit index')\n",
    "plt.xlabel('T')"
   ]
  },
  {
   "cell_type": "markdown",
   "metadata": {},
   "source": [
    "# Attempt 6: Using VQA -- adapting from attempt 2"
   ]
  },
  {
   "cell_type": "code",
   "execution_count": 16,
   "metadata": {},
   "outputs": [
    {
     "data": {
      "text/plain": [
       "array([ 0.00000000e+00+0.00000000e+00j,  6.68492214e-34-1.23646945e-33j,\n",
       "       -6.14729885e-33-6.14631197e-33j, -3.65663430e-17-1.47733922e-18j,\n",
       "       -2.41749208e-32+2.81676371e-32j,  5.86039017e-18-1.73215912e-17j,\n",
       "        7.37736743e-17+5.86890666e-20j, -3.83168146e-17+9.77550505e-18j,\n",
       "        1.18042628e-32-2.04857537e-32j, -1.04031957e-16+7.40530335e-19j,\n",
       "        9.97291319e-19-1.68220226e-17j, -8.01116363e-18-2.62968650e-17j,\n",
       "       -1.29506937e-16-5.27060589e-17j, -6.68703656e-18+3.32003294e-17j,\n",
       "       -3.35724722e-17+3.88982483e-17j,  6.70676277e-17+3.85945414e-18j,\n",
       "       -3.79445119e-32-2.97715087e-32j,  1.02275651e-18-3.86313951e-17j,\n",
       "        1.08697190e-16+5.11808955e-17j,  2.26684683e-17-2.99485655e-17j,\n",
       "        1.25945809e-18-1.63621215e-17j,  1.69765803e-17-2.61242980e-17j,\n",
       "        3.92886838e-17+5.31118782e-18j, -1.61521316e-17+3.07034212e-17j,\n",
       "        7.12109414e-17-6.57437565e-18j, -1.51443582e-17-7.47633732e-18j,\n",
       "       -3.01827912e-17-4.69342595e-17j, -7.15895560e-18+5.18957389e-17j,\n",
       "       -2.70410793e-17+2.19189757e-17j, -6.95165939e-17+2.03780605e-17j,\n",
       "       -8.83471393e-17-1.58961931e-17j,  4.89507837e-03+1.63291071e-16j,\n",
       "       -1.15481124e-31-1.92575575e-32j, -2.04613468e-16-5.04279025e-17j,\n",
       "        3.24744597e-18-4.33773869e-17j,  5.74344843e-18+3.28554899e-18j,\n",
       "       -1.02191251e-16+2.38685103e-18j,  1.40014956e-18+1.91353848e-17j,\n",
       "        3.81715827e-17+9.85618687e-18j,  2.47792507e-17-1.04462507e-16j,\n",
       "       -1.61968425e-18-1.63683515e-17j, -7.08787526e-18+2.54391659e-17j,\n",
       "       -7.52516482e-18+5.25847698e-18j,  5.15064642e-18+1.99601370e-17j,\n",
       "       -1.38486285e-17-6.42943565e-18j,  8.48794079e-17+3.13163180e-17j,\n",
       "       -4.05476530e-19-1.30002274e-17j, -3.71030243e-16-4.84602940e-02j,\n",
       "       -3.34703303e-17-1.08863722e-18j,  2.90210655e-17-1.83547004e-17j,\n",
       "        5.22721256e-18+2.10194049e-18j, -2.35392556e-17-2.43607375e-17j,\n",
       "       -8.75649461e-18+7.21733911e-18j, -3.10540263e-18+1.29058320e-17j,\n",
       "       -1.92562319e-17+3.82959716e-17j, -4.79747191e-01-4.84602940e-02j,\n",
       "       -1.22672763e-17+2.76719715e-17j,  3.44290284e-17-7.87860589e-17j,\n",
       "        3.31078936e-18+1.11256051e-17j, -4.79747191e-01-1.45380882e-01j,\n",
       "       -1.57089804e-18-2.55047035e-18j, -5.91787679e-18-1.45380882e-01j,\n",
       "        4.40557053e-02-1.79333233e-18j,  0.00000000e+00+0.00000000e+00j,\n",
       "        0.00000000e+00+0.00000000e+00j,  0.00000000e+00+0.00000000e+00j,\n",
       "        0.00000000e+00+0.00000000e+00j,  0.00000000e+00+0.00000000e+00j,\n",
       "        0.00000000e+00+0.00000000e+00j,  0.00000000e+00+0.00000000e+00j,\n",
       "        0.00000000e+00+0.00000000e+00j,  0.00000000e+00+0.00000000e+00j,\n",
       "        0.00000000e+00+0.00000000e+00j,  0.00000000e+00+0.00000000e+00j,\n",
       "        0.00000000e+00+0.00000000e+00j,  0.00000000e+00+0.00000000e+00j,\n",
       "        0.00000000e+00+0.00000000e+00j,  0.00000000e+00+0.00000000e+00j,\n",
       "        0.00000000e+00+0.00000000e+00j,  0.00000000e+00+0.00000000e+00j,\n",
       "        0.00000000e+00+0.00000000e+00j,  0.00000000e+00+0.00000000e+00j,\n",
       "        0.00000000e+00+0.00000000e+00j,  0.00000000e+00+0.00000000e+00j,\n",
       "        0.00000000e+00+0.00000000e+00j,  0.00000000e+00+0.00000000e+00j,\n",
       "        0.00000000e+00+0.00000000e+00j,  0.00000000e+00+0.00000000e+00j,\n",
       "        0.00000000e+00+0.00000000e+00j,  0.00000000e+00+0.00000000e+00j,\n",
       "        0.00000000e+00+0.00000000e+00j,  0.00000000e+00+0.00000000e+00j,\n",
       "        0.00000000e+00+0.00000000e+00j,  0.00000000e+00+0.00000000e+00j,\n",
       "        0.00000000e+00+0.00000000e+00j,  0.00000000e+00+0.00000000e+00j,\n",
       "        0.00000000e+00+0.00000000e+00j,  0.00000000e+00+0.00000000e+00j,\n",
       "        0.00000000e+00+0.00000000e+00j,  0.00000000e+00+0.00000000e+00j,\n",
       "        0.00000000e+00+0.00000000e+00j,  0.00000000e+00+0.00000000e+00j,\n",
       "        0.00000000e+00+0.00000000e+00j,  0.00000000e+00+0.00000000e+00j,\n",
       "        0.00000000e+00+0.00000000e+00j,  0.00000000e+00+0.00000000e+00j,\n",
       "        0.00000000e+00+0.00000000e+00j,  0.00000000e+00+0.00000000e+00j,\n",
       "        0.00000000e+00+0.00000000e+00j,  0.00000000e+00+0.00000000e+00j,\n",
       "        0.00000000e+00+0.00000000e+00j,  0.00000000e+00+0.00000000e+00j,\n",
       "        0.00000000e+00+0.00000000e+00j,  0.00000000e+00+0.00000000e+00j,\n",
       "        0.00000000e+00+0.00000000e+00j,  0.00000000e+00+0.00000000e+00j,\n",
       "        0.00000000e+00+0.00000000e+00j,  0.00000000e+00+0.00000000e+00j,\n",
       "        0.00000000e+00+0.00000000e+00j,  0.00000000e+00+0.00000000e+00j,\n",
       "        0.00000000e+00+0.00000000e+00j,  0.00000000e+00+0.00000000e+00j,\n",
       "        0.00000000e+00+0.00000000e+00j,  0.00000000e+00+0.00000000e+00j,\n",
       "        0.00000000e+00+0.00000000e+00j,  0.00000000e+00+0.00000000e+00j,\n",
       "        0.00000000e+00+0.00000000e+00j,  0.00000000e+00+0.00000000e+00j])"
      ]
     },
     "execution_count": 16,
     "metadata": {},
     "output_type": "execute_result"
    }
   ],
   "source": [
    "np.matmul(np.linalg.matrix_power(projection_matrix @ matrix, 1), initial_vector).T[0]"
   ]
  },
  {
   "cell_type": "code",
   "execution_count": 17,
   "metadata": {},
   "outputs": [
    {
     "data": {
      "text/plain": [
       "\"\\n    # create a new row to add to magnetization array\\n    row = [0 for _ in range(N)]\\n    prob = 0\\n    for key, value in state_dict.items():\\n\\n        prob += value\\n        for i in range(1, N + 1):\\n\\n            # if the other qubits have a result of 0, then add the probabilities to that qubit\\n            if key[i] == '0':\\n                row[N - i] += value\\n\\n    states += [[x/prob for x in row]]\\n\\nstates = np.array(states)\\n\\nprint(states.T.shape)\\nfig = plt.figure(figsize=((nb_timesteps + 2)/2 , N/2), facecolor='white')\\nim = plt.pcolormesh([timestep_duration * i for i in range(nb_timesteps)], np.arange(0,N,1), states.T, cmap='inferno')\\nfig.colorbar(im)\\nplt.ylabel('Qubit index')\\nplt.xlabel('T')\\n\\n\""
      ]
     },
     "execution_count": 17,
     "metadata": {},
     "output_type": "execute_result"
    }
   ],
   "source": [
    "# For gamma = 0.5 case \n",
    "# (Full matrices and state vector based, no qiskit)\n",
    "N = 6\n",
    "nb_timesteps = 10\n",
    "timestep_duration = 0.2\n",
    "gamma = 0.5\n",
    "J = 1\n",
    "\n",
    "# Generate the unitary\n",
    "matrix = get_U_HN(J, gamma , N, timestep_duration)\n",
    "projection_matrix = projection(N+1)\n",
    "\n",
    "# create the initial state vector (|↓↓↑↓↓↓⟩+|↓↓↓↑↓↓⟩)/ 2\n",
    "initial_vector = np.zeros((2**(N+1), 1), dtype=complex)\n",
    "initial_vector[ (2**N - 1) - 2**(N//2)] = 1/np.sqrt(2)\n",
    "initial_vector[ (2**N - 1) - 2**(N//2 -1)] = 1/np.sqrt(2)\n",
    "\n",
    "states_all_circuits={}\n",
    "for n_steps in range(1, nb_timesteps + 1):\n",
    "\n",
    "    # for each time step, apply the matrix n_steps times onto the initial vector\n",
    "    state_vector = np.matmul(np.linalg.matrix_power(projection_matrix @ matrix, n_steps), initial_vector).T[0]\n",
    "    state_dict = {}\n",
    "    for i in range(2 ** (N+1)):\n",
    " \n",
    "        # allocate the relevant quasi-probabilities to each state\n",
    "        # state_dict[bin(i)[2:].zfill(N+1)] = np.abs(state_vector[i]) ** 2\n",
    "\n",
    "        # original version:\n",
    "        # state_dict[bin(i)[2:].zfill(N+1)] = state_vector[i]\n",
    "\n",
    "        # to consider little endian of qiskit:\n",
    "        string = bin(i)[2:].zfill(N+1)\n",
    "        string = string[1:] + string[0]\n",
    "        state_dict[string] = state_vector[i]\n",
    "    \n",
    "    states_all_circuits[n_steps] = state_dict\n",
    "\n",
    "\n",
    "\n",
    "'''\n",
    "    # create a new row to add to magnetization array\n",
    "    row = [0 for _ in range(N)]\n",
    "    prob = 0\n",
    "    for key, value in state_dict.items():\n",
    "\n",
    "        prob += value\n",
    "        for i in range(1, N + 1):\n",
    "\n",
    "            # if the other qubits have a result of 0, then add the probabilities to that qubit\n",
    "            if key[i] == '0':\n",
    "                row[N - i] += value\n",
    "\n",
    "    states += [[x/prob for x in row]]\n",
    "\n",
    "states = np.array(states)\n",
    "\n",
    "print(states.T.shape)\n",
    "fig = plt.figure(figsize=((nb_timesteps + 2)/2 , N/2), facecolor='white')\n",
    "im = plt.pcolormesh([timestep_duration * i for i in range(nb_timesteps)], np.arange(0,N,1), states.T, cmap='inferno')\n",
    "fig.colorbar(im)\n",
    "plt.ylabel('Qubit index')\n",
    "plt.xlabel('T')\n",
    "\n",
    "'''"
   ]
  },
  {
   "cell_type": "code",
   "execution_count": 18,
   "metadata": {},
   "outputs": [
    {
     "name": "stdout",
     "output_type": "stream",
     "text": [
      "{'0000000': np.complex128(0j), '0000010': np.complex128(-1.2593500593537499e-33-5.324763759369562e-34j), '0000100': np.complex128(-3.9318164475760835e-35-2.722562159108676e-33j), '0000110': np.complex128(-6.430346891187752e-18-7.796849959600846e-19j), '0001000': np.complex128(-1.388976185959808e-32+1.2716789820244084e-34j), '0001010': np.complex128(-7.238540076201779e-19-5.238954438869388e-18j), '0001100': np.complex128(1.1372899201958289e-17-5.4972921170525286e-18j), '0001110': np.complex128(4.5890883315416094e-18+1.1488660715974069e-18j), '0010000': np.complex128(8.608042217199362e-33+1.8826528361686297e-33j), '0010010': np.complex128(-1.7523624283815716e-17-4.932861335285801e-18j), '0010100': np.complex128(1.233158598865033e-17-2.2641656869870472e-17j), '0010110': np.complex128(-7.523643610055412e-20+1.2957633205269557e-17j), '0011000': np.complex128(-3.2381931639548666e-18-2.3392122364055947e-18j), '0011010': np.complex128(3.4036629466173244e-18-2.022837534154405e-18j), '0011100': np.complex128(2.9352384265880194e-17+1.324001948725952e-17j), '0011110': np.complex128(-3.2420376800414878e-19-1.3603061407408302e-17j), '0100000': np.complex128(-2.7561814085984835e-33-5.450143011678134e-33j), '0100010': np.complex128(-2.295860596061915e-18-1.4033769453589518e-17j), '0100100': np.complex128(3.0370053495798815e-17-1.3177034377039064e-18j), '0100110': np.complex128(-2.6386105861785082e-17-6.552814971761786e-19j), '0101000': np.complex128(6.789729333644021e-18-4.526672636365402e-18j), '0101010': np.complex128(-3.097791916423282e-18-1.6136347835402993e-17j), '0101100': np.complex128(3.793573142934077e-18+1.8494671626500877e-17j), '0101110': np.complex128(2.5786962870788887e-17-4.039261709871936e-18j), '0110000': np.complex128(2.1316741788096838e-17+1.543973405041135e-18j), '0110010': np.complex128(1.6697050177183244e-17-3.1083202496506124e-18j), '0110100': np.complex128(-2.5729617668439333e-17+3.417048809441678e-17j), '0110110': np.complex128(1.2757073472358685e-17+6.595390689840594e-17j), '0111000': np.complex128(-2.227156930030218e-17-1.4653779369565382e-17j), '0111010': np.complex128(-3.302784250060609e-17+1.8656438303271053e-17j), '0111100': np.complex128(-1.8577920599271104e-17+2.245840441027364e-17j), '0111110': np.complex128(-0.004652907008206378-0.0016621256507057852j), '1000000': np.complex128(-4.7519406575352817e-32-1.4750032073880248e-32j), '1000010': np.complex128(-3.860283647997365e-17-1.4849471174176687e-17j), '1000100': np.complex128(6.228938878012508e-18-2.663319734894104e-17j), '1000110': np.complex128(-1.4692033008090643e-17-3.3521001057043586e-17j), '1001000': np.complex128(5.25322280455541e-18+1.1135414932594478e-18j), '1001010': np.complex128(3.994022755096861e-17-2.3218103609177633e-17j), '1001100': np.complex128(8.253014964647942e-19+7.2634193406434e-18j), '1001110': np.complex128(3.727468033073493e-17-2.4750928859140858e-17j), '1010000': np.complex128(1.5927903497262343e-18+1.4209935502505244e-17j), '1010010': np.complex128(3.1394010632332175e-17+3.3705179333751815e-17j), '1010100': np.complex128(-3.783524109956319e-17+1.4634028515452257e-17j), '1010110': np.complex128(-2.8770200454305924e-17+4.802730202476048e-17j), '1011000': np.complex128(1.4024122516929902e-17-1.602631580499202e-17j), '1011010': np.complex128(-6.459618800875243e-17-1.4498374777627338e-17j), '1011100': np.complex128(-7.707317855113508e-17-2.535307846781329e-17j), '1011110': np.complex128(-0.002606564015462863+0.0006277707080990019j), '1100000': np.complex128(-8.731639615685043e-18+1.7224729816965916e-19j), '1100010': np.complex128(-1.3231147463187759e-17-4.0448375600727945e-18j), '1100100': np.complex128(-3.0713795309432205e-17-3.011967714556827e-17j), '1100110': np.complex128(-3.3214161883925437e-18-6.264580959492133e-17j), '1101000': np.complex128(2.195222689339518e-17-2.0687373948847175e-18j), '1101010': np.complex128(4.5887063212751245e-17-4.01412297601897e-17j), '1101100': np.complex128(8.085686251142094e-18+3.4890165008970075e-17j), '1101110': np.complex128(-0.006932107584144822+0.0018697163243941173j), '1110000': np.complex128(1.625111801417213e-17+1.5522871659042781e-18j), '1110010': np.complex128(4.5600093728081746e-17-2.283002551857999e-17j), '1110100': np.complex128(-4.953177014974728e-19+3.058294671208751e-17j), '1110110': np.complex128(-0.006932107584145027+0.005609148973180913j), '1111000': np.complex128(-2.232174694700361e-19-1.6895250709707156e-17j), '1111010': np.complex128(-0.023459076139167864+0.0018833121242958684j), '1111100': np.complex128(-0.04187616307385809-0.04487739256905381j), '1111110': np.complex128(0j), '0000001': np.complex128(0j), '0000011': np.complex128(0j), '0000101': np.complex128(0j), '0000111': np.complex128(0j), '0001001': np.complex128(0j), '0001011': np.complex128(0j), '0001101': np.complex128(0j), '0001111': np.complex128(0j), '0010001': np.complex128(0j), '0010011': np.complex128(0j), '0010101': np.complex128(0j), '0010111': np.complex128(0j), '0011001': np.complex128(0j), '0011011': np.complex128(0j), '0011101': np.complex128(0j), '0011111': np.complex128(0j), '0100001': np.complex128(0j), '0100011': np.complex128(0j), '0100101': np.complex128(0j), '0100111': np.complex128(0j), '0101001': np.complex128(0j), '0101011': np.complex128(0j), '0101101': np.complex128(0j), '0101111': np.complex128(0j), '0110001': np.complex128(0j), '0110011': np.complex128(0j), '0110101': np.complex128(0j), '0110111': np.complex128(0j), '0111001': np.complex128(0j), '0111011': np.complex128(0j), '0111101': np.complex128(0j), '0111111': np.complex128(0j), '1000001': np.complex128(0j), '1000011': np.complex128(0j), '1000101': np.complex128(0j), '1000111': np.complex128(0j), '1001001': np.complex128(0j), '1001011': np.complex128(0j), '1001101': np.complex128(0j), '1001111': np.complex128(0j), '1010001': np.complex128(0j), '1010011': np.complex128(0j), '1010101': np.complex128(0j), '1010111': np.complex128(0j), '1011001': np.complex128(0j), '1011011': np.complex128(0j), '1011101': np.complex128(0j), '1011111': np.complex128(0j), '1100001': np.complex128(0j), '1100011': np.complex128(0j), '1100101': np.complex128(0j), '1100111': np.complex128(0j), '1101001': np.complex128(0j), '1101011': np.complex128(0j), '1101101': np.complex128(0j), '1101111': np.complex128(0j), '1110001': np.complex128(0j), '1110011': np.complex128(0j), '1110101': np.complex128(0j), '1110111': np.complex128(0j), '1111001': np.complex128(0j), '1111011': np.complex128(0j), '1111101': np.complex128(0j), '1111111': np.complex128(0j)}\n"
     ]
    }
   ],
   "source": [
    "print(states_all_circuits[n_steps])"
   ]
  },
  {
   "cell_type": "code",
   "execution_count": 19,
   "metadata": {},
   "outputs": [
    {
     "name": "stdout",
     "output_type": "stream",
     "text": [
      "[[0.        +0.j]\n",
      " [0.        +0.j]\n",
      " [0.        +0.j]\n",
      " [0.        +0.j]\n",
      " [0.        +0.j]\n",
      " [0.        +0.j]\n",
      " [0.        +0.j]\n",
      " [0.        +0.j]\n",
      " [0.        +0.j]\n",
      " [0.        +0.j]\n",
      " [0.        +0.j]\n",
      " [0.        +0.j]\n",
      " [0.        +0.j]\n",
      " [0.        +0.j]\n",
      " [0.        +0.j]\n",
      " [0.        +0.j]\n",
      " [0.        +0.j]\n",
      " [0.        +0.j]\n",
      " [0.        +0.j]\n",
      " [0.        +0.j]\n",
      " [0.        +0.j]\n",
      " [0.        +0.j]\n",
      " [0.        +0.j]\n",
      " [0.        +0.j]\n",
      " [0.        +0.j]\n",
      " [0.        +0.j]\n",
      " [0.        +0.j]\n",
      " [0.        +0.j]\n",
      " [0.        +0.j]\n",
      " [0.        +0.j]\n",
      " [0.        +0.j]\n",
      " [0.        +0.j]\n",
      " [0.        +0.j]\n",
      " [0.        +0.j]\n",
      " [0.        +0.j]\n",
      " [0.        +0.j]\n",
      " [0.        +0.j]\n",
      " [0.        +0.j]\n",
      " [0.        +0.j]\n",
      " [0.        +0.j]\n",
      " [0.        +0.j]\n",
      " [0.        +0.j]\n",
      " [0.        +0.j]\n",
      " [0.        +0.j]\n",
      " [0.        +0.j]\n",
      " [0.        +0.j]\n",
      " [0.        +0.j]\n",
      " [0.        +0.j]\n",
      " [0.        +0.j]\n",
      " [0.        +0.j]\n",
      " [0.        +0.j]\n",
      " [0.        +0.j]\n",
      " [0.        +0.j]\n",
      " [0.        +0.j]\n",
      " [0.        +0.j]\n",
      " [0.70710678+0.j]\n",
      " [0.        +0.j]\n",
      " [0.        +0.j]\n",
      " [0.        +0.j]\n",
      " [0.70710678+0.j]\n",
      " [0.        +0.j]\n",
      " [0.        +0.j]\n",
      " [0.        +0.j]\n",
      " [0.        +0.j]\n",
      " [0.        +0.j]\n",
      " [0.        +0.j]\n",
      " [0.        +0.j]\n",
      " [0.        +0.j]\n",
      " [0.        +0.j]\n",
      " [0.        +0.j]\n",
      " [0.        +0.j]\n",
      " [0.        +0.j]\n",
      " [0.        +0.j]\n",
      " [0.        +0.j]\n",
      " [0.        +0.j]\n",
      " [0.        +0.j]\n",
      " [0.        +0.j]\n",
      " [0.        +0.j]\n",
      " [0.        +0.j]\n",
      " [0.        +0.j]\n",
      " [0.        +0.j]\n",
      " [0.        +0.j]\n",
      " [0.        +0.j]\n",
      " [0.        +0.j]\n",
      " [0.        +0.j]\n",
      " [0.        +0.j]\n",
      " [0.        +0.j]\n",
      " [0.        +0.j]\n",
      " [0.        +0.j]\n",
      " [0.        +0.j]\n",
      " [0.        +0.j]\n",
      " [0.        +0.j]\n",
      " [0.        +0.j]\n",
      " [0.        +0.j]\n",
      " [0.        +0.j]\n",
      " [0.        +0.j]\n",
      " [0.        +0.j]\n",
      " [0.        +0.j]\n",
      " [0.        +0.j]\n",
      " [0.        +0.j]\n",
      " [0.        +0.j]\n",
      " [0.        +0.j]\n",
      " [0.        +0.j]\n",
      " [0.        +0.j]\n",
      " [0.        +0.j]\n",
      " [0.        +0.j]\n",
      " [0.        +0.j]\n",
      " [0.        +0.j]\n",
      " [0.        +0.j]\n",
      " [0.        +0.j]\n",
      " [0.        +0.j]\n",
      " [0.        +0.j]\n",
      " [0.        +0.j]\n",
      " [0.        +0.j]\n",
      " [0.        +0.j]\n",
      " [0.        +0.j]\n",
      " [0.        +0.j]\n",
      " [0.        +0.j]\n",
      " [0.        +0.j]\n",
      " [0.        +0.j]\n",
      " [0.        +0.j]\n",
      " [0.        +0.j]\n",
      " [0.        +0.j]\n",
      " [0.        +0.j]\n",
      " [0.        +0.j]\n",
      " [0.        +0.j]\n",
      " [0.        +0.j]\n",
      " [0.        +0.j]]\n"
     ]
    }
   ],
   "source": [
    "print(initial_vector)"
   ]
  },
  {
   "cell_type": "code",
   "execution_count": null,
   "metadata": {},
   "outputs": [],
   "source": [
    "def unitary_gate_matrix(theta, phi, lam):\n",
    "    return np.array([[np.cos(theta/2), -np.exp(lam * 1j) * np.sin(theta/2)]\n",
    "                    [np.exp(phi * 1j) * np.sin(theta/2), np.exp(1j * (phi + lam)) * np.cos(theta/2)]])"
   ]
  },
  {
   "cell_type": "code",
   "execution_count": null,
   "metadata": {},
   "outputs": [
    {
     "ename": "NameError",
     "evalue": "name 'np' is not defined",
     "output_type": "error",
     "traceback": [
      "\u001b[31m---------------------------------------------------------------------------\u001b[39m",
      "\u001b[31mNameError\u001b[39m                                 Traceback (most recent call last)",
      "\u001b[36mCell\u001b[39m\u001b[36m \u001b[39m\u001b[32mIn[1]\u001b[39m\u001b[32m, line 1\u001b[39m\n\u001b[32m----> \u001b[39m\u001b[32m1\u001b[39m cx_matrix = \u001b[43mnp\u001b[49m.array([[\u001b[32m1\u001b[39m, \u001b[32m0\u001b[39m, \u001b[32m0\u001b[39m, \u001b[32m0\u001b[39m], \n\u001b[32m      2\u001b[39m                      [\u001b[32m0\u001b[39m, \u001b[32m1\u001b[39m, \u001b[32m0\u001b[39m, \u001b[32m0\u001b[39m], \n\u001b[32m      3\u001b[39m                      [\u001b[32m0\u001b[39m, \u001b[32m0\u001b[39m, \u001b[32m0\u001b[39m, \u001b[32m1\u001b[39m],\n\u001b[32m      4\u001b[39m                      [\u001b[32m0\u001b[39m, \u001b[32m0\u001b[39m, \u001b[32m1\u001b[39m, \u001b[32m0\u001b[39m]])\n",
      "\u001b[31mNameError\u001b[39m: name 'np' is not defined"
     ]
    }
   ],
   "source": [
    "cx_matrix = np.array([[1, 0, 0, 0], \n",
    "                     [0, 1, 0, 0], \n",
    "                     [0, 0, 0, 1],\n",
    "                     [0, 0, 1, 0]])\n",
    "\n",
    "cx_matrices = np.kron(np.kron(cx_matrix, cx_matrix), cx_matrix)\n",
    "\n",
    "cx_matrix_v1 = np.kron(cx_matrices, np.eye(2))\n",
    "cx_matrix_v2 = np.kron(np.eye(2), cx_matrices)"
   ]
  },
  {
   "cell_type": "code",
   "execution_count": null,
   "metadata": {},
   "outputs": [],
   "source": [
    "def variational_circuit_mathematical(params):\n",
    "    stepper = 0\n",
    "    layers = 8\n",
    "\n",
    "    state = initial_vector.copy()\n",
    "\n",
    "    \n",
    "    matrix = unitary_gate_matrix(params[stepper * 3 + 0], params[stepper * 3 + 1], params[stepper * 3 + 2])\n",
    "    stepper += 1\n",
    "    for _ in range(N):\n",
    "        matrix = np.kron(unitary_gate_matrix(params[stepper * 3 + 0], params[stepper * 3 + 1], params[stepper * 3 + 2]), matrix)\n",
    "        stepper += 1\n",
    "    state = np.matmul(matrix, state)\n",
    "\n",
    "    \n",
    "\n",
    "\n",
    "    for _ in range(layers):\n",
    "        state = np.matmul(cx_matrix_v1, state)\n",
    "        matrix = np.eye(2)\n",
    "        for _ in range(N):\n",
    "            matrix = np.kron(unitary_gate_matrix(params[stepper * 3 + 0], params[stepper * 3 + 1], params[stepper * 3 + 2]), matrix)\n",
    "            stepper += 1\n",
    "        state = np.matmul(matrix, state)\n",
    "        state = np.matmul(cx_matrix_v1, state)\n",
    "\n",
    "        state = np.matmul(cx_matrix_v2, state)\n",
    "        matrix = unitary_gate_matrix(params[stepper * 3 + 0], params[stepper * 3 + 1], params[stepper * 3 + 2])\n",
    "        stepper += 1\n",
    "        for _ in range(N - 1):\n",
    "            matrix = np.kron(unitary_gate_matrix(params[stepper * 3 + 0], params[stepper * 3 + 1], params[stepper * 3 + 2]), matrix)\n",
    "            stepper += 1\n",
    "        matrix = np.kron(np.eye, matrix)\n",
    "        state = np.matmul(matrix, state)\n",
    "        state = np.matmul(cx_matrix_v2, state)\n",
    "        \n",
    "\n",
    "\n",
    "\n",
    "    \n"
   ]
  },
  {
   "cell_type": "code",
   "execution_count": null,
   "metadata": {},
   "outputs": [],
   "source": [
    "def variational_circuit(params):\n",
    "    qc = QuantumCircuit(N+1)\n",
    "    stepper = 0\n",
    "    layers = 8\n",
    "\n",
    "    qc.x(range(1, 3))\n",
    "    qc.x(range(5, N+1))\n",
    "    qc.h(3)\n",
    "    qc.cx(3, 4)\n",
    "    qc.x(4)\n",
    "\n",
    "    # initial\n",
    "    for qubit in range(N+1):\n",
    "        qc.u(params[stepper * 3 + 0], params[stepper * 3 + 1], params[stepper * 3 + 2], qubit)\n",
    "        stepper += 1\n",
    "    \n",
    "    for layer in range(layers):\n",
    "        # CX gates\n",
    "        qc.cx(0, 1)\n",
    "        qc.cx(2, 3)\n",
    "        qc.cx(4, 5)\n",
    "\n",
    "        # first set of U3 gates\n",
    "        while qubit in range(N):\n",
    "            qc.u(params[stepper * 3 + 0], params[stepper * 3 + 1], params[stepper * 3 + 2], qubit)\n",
    "            stepper += 1\n",
    "        \n",
    "        # CX gates\n",
    "        qc.cx(0, 1)\n",
    "        qc.cx(2, 3)\n",
    "        qc.cx(4, 5)\n",
    "\n",
    "        # CX gates\n",
    "        qc.cx(1, 2)\n",
    "        qc.cx(3, 4)\n",
    "        qc.cx(5, 6)\n",
    "\n",
    "        # first set of U3 gates\n",
    "        while qubit in range(N):\n",
    "            qc.u(params[stepper * 3 + 0], params[stepper * 3 + 1], params[stepper * 3 + 2], qubit+1)\n",
    "            stepper += 1\n",
    "        \n",
    "        # CX gates\n",
    "        qc.cx(1, 2)\n",
    "        qc.cx(3, 4)\n",
    "        qc.cx(5, 6)\n",
    "\n",
    "    qc.measure_all()\n",
    "\n",
    "    return qc\n",
    "\n",
    "\n"
   ]
  },
  {
   "cell_type": "code",
   "execution_count": 21,
   "metadata": {},
   "outputs": [],
   "source": [
    "def calculate_results(params):\n",
    "\n",
    "    # initialization of the sampler\n",
    "    sampler = Sampler(mode=BACKEND)\n",
    "    \n",
    "    # Sampler runs a job on the Bell circuit\n",
    "    job = sampler.run([(variational_circuit(params))])\n",
    "    job_result = job.result()\n",
    "    return job_result[0].data.meas.get_counts(), job_result[0].metadata['shots']"
   ]
  },
  {
   "cell_type": "code",
   "execution_count": 22,
   "metadata": {},
   "outputs": [],
   "source": [
    "def cost_function(params, n_steps):\n",
    "    results, shots = calculate_results(params)\n",
    "    sum = 0\n",
    "    for key in results:\n",
    "        sum += np.conj(np.sqrt(results[key]/shots)) * states_all_circuits[n_steps][key]\n",
    "\n",
    "    return 1 - np.abs(sum)"
   ]
  },
  {
   "cell_type": "code",
   "execution_count": null,
   "metadata": {},
   "outputs": [],
   "source": [
    "# scipy\n",
    "# matrix product state"
   ]
  },
  {
   "cell_type": "code",
   "execution_count": 23,
   "metadata": {},
   "outputs": [
    {
     "data": {
      "text/plain": [
       "np.float64(0.9743571287872698)"
      ]
     },
     "execution_count": 23,
     "metadata": {},
     "output_type": "execute_result"
    }
   ],
   "source": [
    "cost_function(np.ones((((N+1) + (N * 2 * 8)) * 3)), 8)"
   ]
  },
  {
   "cell_type": "code",
   "execution_count": 24,
   "metadata": {},
   "outputs": [
    {
     "name": "stdout",
     "output_type": "stream",
     "text": [
      "309\n"
     ]
    }
   ],
   "source": [
    "#params0 = np.ones((((N+1) + (N * 2 * 8)) * 3))\n",
    "#params0 = np.([np.pi for _ in range(((N+1) + (N * 2 * 8)) * 3)])\n",
    "randoms = np.random.rand(((N+1) + (N * 2 * 8)) * 3)\n",
    "# params0 = np.array([i * np.pi if i % 3 == 0 else i * 2 * np.pi for i in randoms])\n",
    "params0 = np.array([0.0 for i in randoms])\n",
    "bounds = tuple([(0.0, np.pi) if i % 3 == 0 else (0.0, 2 * np.pi) for i in range(((N+1) + (N * 2 * 8)) * 3)])\n",
    "print(len(params0))\n",
    "\n"
   ]
  },
  {
   "cell_type": "code",
   "execution_count": 25,
   "metadata": {},
   "outputs": [
    {
     "data": {
      "text/plain": [
       "({'1110110': 523, '1101110': 501}, 1024)"
      ]
     },
     "execution_count": 25,
     "metadata": {},
     "output_type": "execute_result"
    }
   ],
   "source": [
    "calculate_results(params0)"
   ]
  },
  {
   "cell_type": "code",
   "execution_count": 26,
   "metadata": {},
   "outputs": [
    {
     "data": {
      "text/plain": [
       "np.float64(0.30839398700636655)"
      ]
     },
     "execution_count": 26,
     "metadata": {},
     "output_type": "execute_result"
    }
   ],
   "source": [
    "cost_function(params0, 1)"
   ]
  },
  {
   "cell_type": "code",
   "execution_count": 27,
   "metadata": {},
   "outputs": [
    {
     "data": {
      "text/plain": [
       "{'0000000': np.complex128(0j),\n",
       " '0000010': np.complex128(6.6849221376257205e-34-1.2364694548330462e-33j),\n",
       " '0000100': np.complex128(-6.1472988499879264e-33-6.1463119726443224e-33j),\n",
       " '0000110': np.complex128(-3.656634295632328e-17-1.4773392172026571e-18j),\n",
       " '0001000': np.complex128(-2.4174920754563553e-32+2.816763709638737e-32j),\n",
       " '0001010': np.complex128(5.860390171003141e-18-1.732159122539683e-17j),\n",
       " '0001100': np.complex128(7.377367426354249e-17+5.868906661202172e-20j),\n",
       " '0001110': np.complex128(-3.831681464058006e-17+9.77550504970931e-18j),\n",
       " '0010000': np.complex128(1.1804262793123828e-32-2.0485753733866243e-32j),\n",
       " '0010010': np.complex128(-1.0403195734203423e-16+7.405303349052455e-19j),\n",
       " '0010100': np.complex128(9.972913194497789e-19-1.6822022628338232e-17j),\n",
       " '0010110': np.complex128(-8.01116363418184e-18-2.6296864965152372e-17j),\n",
       " '0011000': np.complex128(-1.2950693676146772e-16-5.2706058936558096e-17j),\n",
       " '0011010': np.complex128(-6.687036564712445e-18+3.320032944839262e-17j),\n",
       " '0011100': np.complex128(-3.3572472180107795e-17+3.889824828300732e-17j),\n",
       " '0011110': np.complex128(6.706762772570618e-17+3.859454141381508e-18j),\n",
       " '0100000': np.complex128(-3.794451189846338e-32-2.97715087059902e-32j),\n",
       " '0100010': np.complex128(1.022756506147102e-18-3.863139505750503e-17j),\n",
       " '0100100': np.complex128(1.0869719022422829e-16+5.118089554388645e-17j),\n",
       " '0100110': np.complex128(2.266846832098604e-17-2.9948565517429526e-17j),\n",
       " '0101000': np.complex128(1.2594580874664709e-18-1.636212145976102e-17j),\n",
       " '0101010': np.complex128(1.697658032497036e-17-2.6124298009404008e-17j),\n",
       " '0101100': np.complex128(3.928868378523002e-17+5.311187817377675e-18j),\n",
       " '0101110': np.complex128(-1.6152131550898543e-17+3.070342117590621e-17j),\n",
       " '0110000': np.complex128(7.121094138796247e-17-6.57437565182608e-18j),\n",
       " '0110010': np.complex128(-1.5144358228939856e-17-7.4763373170767e-18j),\n",
       " '0110100': np.complex128(-3.018279122202162e-17-4.6934259492379116e-17j),\n",
       " '0110110': np.complex128(-7.158955597610303e-18+5.1895738896584284e-17j),\n",
       " '0111000': np.complex128(-2.7041079272546866e-17+2.1918975741076547e-17j),\n",
       " '0111010': np.complex128(-6.951659389833396e-17+2.037806053334722e-17j),\n",
       " '0111100': np.complex128(-8.834713929889328e-17-1.5896193123068485e-17j),\n",
       " '0111110': np.complex128(0.004895078365140205+1.6329107086834918e-16j),\n",
       " '1000000': np.complex128(-1.154811242550931e-31-1.9257557474014594e-32j),\n",
       " '1000010': np.complex128(-2.04613467795204e-16-5.0427902475078746e-17j),\n",
       " '1000100': np.complex128(3.24744596971117e-18-4.3377386901594224e-17j),\n",
       " '1000110': np.complex128(5.743448434437901e-18+3.285548988283039e-18j),\n",
       " '1001000': np.complex128(-1.0219125107442771e-16+2.386851030808513e-18j),\n",
       " '1001010': np.complex128(1.4001495613745277e-18+1.9135384762826177e-17j),\n",
       " '1001100': np.complex128(3.817158266457157e-17+9.856186871721573e-18j),\n",
       " '1001110': np.complex128(2.477925068895399e-17-1.0446250740801303e-16j),\n",
       " '1010000': np.complex128(-1.6196842521265983e-18-1.6368351459736417e-17j),\n",
       " '1010010': np.complex128(-7.087875259386033e-18+2.5439165891480942e-17j),\n",
       " '1010100': np.complex128(-7.525164823815825e-18+5.2584769825604716e-18j),\n",
       " '1010110': np.complex128(5.150646419014564e-18+1.996013699219869e-17j),\n",
       " '1011000': np.complex128(-1.3848628467772192e-17-6.429435654389315e-18j),\n",
       " '1011010': np.complex128(8.487940789004683e-17+3.1316318044875016e-17j),\n",
       " '1011100': np.complex128(-4.054765299803631e-19-1.3000227363262058e-17j),\n",
       " '1011110': np.complex128(-3.7103024265524846e-16-0.04846029399361126j),\n",
       " '1100000': np.complex128(-3.3470330311008825e-17-1.0886372212469152e-18j),\n",
       " '1100010': np.complex128(2.9021065492944155e-17-1.835470041850428e-17j),\n",
       " '1100100': np.complex128(5.227212563667657e-18+2.101940486622528e-18j),\n",
       " '1100110': np.complex128(-2.353925555451364e-17-2.4360737487625305e-17j),\n",
       " '1101000': np.complex128(-8.75649461372814e-18+7.21733910928181e-18j),\n",
       " '1101010': np.complex128(-3.1054026337343956e-18+1.2905832046080531e-17j),\n",
       " '1101100': np.complex128(-1.9256231932891982e-17+3.8295971619557624e-17j),\n",
       " '1101110': np.complex128(-0.47974719070302974-0.04846029399361171j),\n",
       " '1110000': np.complex128(-1.2267276293217773e-17+2.767197149586596e-17j),\n",
       " '1110010': np.complex128(3.442902839650091e-17-7.878605885342409e-17j),\n",
       " '1110100': np.complex128(3.3107893595144117e-18+1.1125605120442158e-17j),\n",
       " '1110110': np.complex128(-0.4797471907030298-0.14538088198083404j),\n",
       " '1111000': np.complex128(-1.5708980403177638e-18-2.550470354386626e-18j),\n",
       " '1111010': np.complex128(-5.917876785992627e-18-0.1453808819808341j),\n",
       " '1111100': np.complex128(0.04405570528626283-1.7933323285139947e-18j),\n",
       " '1111110': np.complex128(0j),\n",
       " '0000001': np.complex128(0j),\n",
       " '0000011': np.complex128(0j),\n",
       " '0000101': np.complex128(0j),\n",
       " '0000111': np.complex128(0j),\n",
       " '0001001': np.complex128(0j),\n",
       " '0001011': np.complex128(0j),\n",
       " '0001101': np.complex128(0j),\n",
       " '0001111': np.complex128(0j),\n",
       " '0010001': np.complex128(0j),\n",
       " '0010011': np.complex128(0j),\n",
       " '0010101': np.complex128(0j),\n",
       " '0010111': np.complex128(0j),\n",
       " '0011001': np.complex128(0j),\n",
       " '0011011': np.complex128(0j),\n",
       " '0011101': np.complex128(0j),\n",
       " '0011111': np.complex128(0j),\n",
       " '0100001': np.complex128(0j),\n",
       " '0100011': np.complex128(0j),\n",
       " '0100101': np.complex128(0j),\n",
       " '0100111': np.complex128(0j),\n",
       " '0101001': np.complex128(0j),\n",
       " '0101011': np.complex128(0j),\n",
       " '0101101': np.complex128(0j),\n",
       " '0101111': np.complex128(0j),\n",
       " '0110001': np.complex128(0j),\n",
       " '0110011': np.complex128(0j),\n",
       " '0110101': np.complex128(0j),\n",
       " '0110111': np.complex128(0j),\n",
       " '0111001': np.complex128(0j),\n",
       " '0111011': np.complex128(0j),\n",
       " '0111101': np.complex128(0j),\n",
       " '0111111': np.complex128(0j),\n",
       " '1000001': np.complex128(0j),\n",
       " '1000011': np.complex128(0j),\n",
       " '1000101': np.complex128(0j),\n",
       " '1000111': np.complex128(0j),\n",
       " '1001001': np.complex128(0j),\n",
       " '1001011': np.complex128(0j),\n",
       " '1001101': np.complex128(0j),\n",
       " '1001111': np.complex128(0j),\n",
       " '1010001': np.complex128(0j),\n",
       " '1010011': np.complex128(0j),\n",
       " '1010101': np.complex128(0j),\n",
       " '1010111': np.complex128(0j),\n",
       " '1011001': np.complex128(0j),\n",
       " '1011011': np.complex128(0j),\n",
       " '1011101': np.complex128(0j),\n",
       " '1011111': np.complex128(0j),\n",
       " '1100001': np.complex128(0j),\n",
       " '1100011': np.complex128(0j),\n",
       " '1100101': np.complex128(0j),\n",
       " '1100111': np.complex128(0j),\n",
       " '1101001': np.complex128(0j),\n",
       " '1101011': np.complex128(0j),\n",
       " '1101101': np.complex128(0j),\n",
       " '1101111': np.complex128(0j),\n",
       " '1110001': np.complex128(0j),\n",
       " '1110011': np.complex128(0j),\n",
       " '1110101': np.complex128(0j),\n",
       " '1110111': np.complex128(0j),\n",
       " '1111001': np.complex128(0j),\n",
       " '1111011': np.complex128(0j),\n",
       " '1111101': np.complex128(0j),\n",
       " '1111111': np.complex128(0j)}"
      ]
     },
     "execution_count": 27,
     "metadata": {},
     "output_type": "execute_result"
    }
   ],
   "source": [
    "states_all_circuits[1]"
   ]
  },
  {
   "cell_type": "code",
   "execution_count": null,
   "metadata": {},
   "outputs": [
    {
     "ename": "KeyboardInterrupt",
     "evalue": "",
     "output_type": "error",
     "traceback": [
      "\u001b[31m---------------------------------------------------------------------------\u001b[39m",
      "\u001b[31mKeyboardInterrupt\u001b[39m                         Traceback (most recent call last)",
      "\u001b[36mCell\u001b[39m\u001b[36m \u001b[39m\u001b[32mIn[28]\u001b[39m\u001b[32m, line 1\u001b[39m\n\u001b[32m----> \u001b[39m\u001b[32m1\u001b[39m res = \u001b[43mminimize\u001b[49m\u001b[43m(\u001b[49m\u001b[43mcost_function\u001b[49m\u001b[43m,\u001b[49m\u001b[43m \u001b[49m\u001b[43mparams0\u001b[49m\u001b[43m,\u001b[49m\u001b[43m \u001b[49m\u001b[43margs\u001b[49m\u001b[43m=\u001b[49m\u001b[32;43m3\u001b[39;49m\u001b[43m,\u001b[49m\u001b[43m \u001b[49m\u001b[43mmethod\u001b[49m\u001b[43m=\u001b[49m\u001b[33;43m'\u001b[39;49m\u001b[33;43mCOBYLA\u001b[39;49m\u001b[33;43m'\u001b[39;49m\u001b[43m,\u001b[49m\u001b[43m \u001b[49m\u001b[43mbounds\u001b[49m\u001b[43m=\u001b[49m\u001b[43mbounds\u001b[49m\u001b[43m)\u001b[49m\n",
      "\u001b[36mFile \u001b[39m\u001b[32m~/Desktop/Professional/.venv/lib/python3.13/site-packages/scipy/optimize/_minimize.py:790\u001b[39m, in \u001b[36mminimize\u001b[39m\u001b[34m(fun, x0, args, method, jac, hess, hessp, bounds, constraints, tol, callback, options)\u001b[39m\n\u001b[32m    787\u001b[39m     res = _minimize_tnc(fun, x0, args, jac, bounds, callback=callback,\n\u001b[32m    788\u001b[39m                         **options)\n\u001b[32m    789\u001b[39m \u001b[38;5;28;01melif\u001b[39;00m meth == \u001b[33m'\u001b[39m\u001b[33mcobyla\u001b[39m\u001b[33m'\u001b[39m:\n\u001b[32m--> \u001b[39m\u001b[32m790\u001b[39m     res = \u001b[43m_minimize_cobyla\u001b[49m\u001b[43m(\u001b[49m\u001b[43mfun\u001b[49m\u001b[43m,\u001b[49m\u001b[43m \u001b[49m\u001b[43mx0\u001b[49m\u001b[43m,\u001b[49m\u001b[43m \u001b[49m\u001b[43margs\u001b[49m\u001b[43m,\u001b[49m\u001b[43m \u001b[49m\u001b[43mconstraints\u001b[49m\u001b[43m,\u001b[49m\u001b[43m \u001b[49m\u001b[43mcallback\u001b[49m\u001b[43m=\u001b[49m\u001b[43mcallback\u001b[49m\u001b[43m,\u001b[49m\n\u001b[32m    791\u001b[39m \u001b[43m                           \u001b[49m\u001b[43mbounds\u001b[49m\u001b[43m=\u001b[49m\u001b[43mbounds\u001b[49m\u001b[43m,\u001b[49m\u001b[43m \u001b[49m\u001b[43m*\u001b[49m\u001b[43m*\u001b[49m\u001b[43moptions\u001b[49m\u001b[43m)\u001b[49m\n\u001b[32m    792\u001b[39m \u001b[38;5;28;01melif\u001b[39;00m meth == \u001b[33m'\u001b[39m\u001b[33mcobyqa\u001b[39m\u001b[33m'\u001b[39m:\n\u001b[32m    793\u001b[39m     res = _minimize_cobyqa(fun, x0, args, bounds, constraints, callback,\n\u001b[32m    794\u001b[39m                            **options)\n",
      "\u001b[36mFile \u001b[39m\u001b[32m~/Desktop/Professional/.venv/lib/python3.13/site-packages/scipy/optimize/_cobyla_py.py:278\u001b[39m, in \u001b[36m_minimize_cobyla\u001b[39m\u001b[34m(fun, x0, args, constraints, rhobeg, tol, maxiter, disp, catol, f_target, callback, bounds, **unknown_options)\u001b[39m\n\u001b[32m    268\u001b[39m ctol = catol \u001b[38;5;28;01mif\u001b[39;00m catol \u001b[38;5;129;01mis\u001b[39;00m \u001b[38;5;129;01mnot\u001b[39;00m \u001b[38;5;28;01mNone\u001b[39;00m \u001b[38;5;28;01melse\u001b[39;00m np.sqrt(np.finfo(\u001b[38;5;28mfloat\u001b[39m).eps)\n\u001b[32m    269\u001b[39m options = {\n\u001b[32m    270\u001b[39m     \u001b[33m'\u001b[39m\u001b[33mrhobeg\u001b[39m\u001b[33m'\u001b[39m: rhobeg,\n\u001b[32m    271\u001b[39m     \u001b[33m'\u001b[39m\u001b[33mrhoend\u001b[39m\u001b[33m'\u001b[39m: rhoend,\n\u001b[32m   (...)\u001b[39m\u001b[32m    275\u001b[39m     \u001b[33m'\u001b[39m\u001b[33mftarget\u001b[39m\u001b[33m'\u001b[39m: f_target,\n\u001b[32m    276\u001b[39m }\n\u001b[32m--> \u001b[39m\u001b[32m278\u001b[39m result = \u001b[43mminimize\u001b[49m\u001b[43m(\u001b[49m\u001b[43msf\u001b[49m\u001b[43m.\u001b[49m\u001b[43mfun\u001b[49m\u001b[43m,\u001b[49m\u001b[43m \u001b[49m\u001b[43mx0\u001b[49m\u001b[43m,\u001b[49m\u001b[43m \u001b[49m\u001b[43mmethod\u001b[49m\u001b[43m=\u001b[49m\u001b[33;43m'\u001b[39;49m\u001b[33;43mcobyla\u001b[39;49m\u001b[33;43m'\u001b[39;49m\u001b[43m,\u001b[49m\u001b[43m \u001b[49m\u001b[43mbounds\u001b[49m\u001b[43m=\u001b[49m\u001b[43mbounds\u001b[49m\u001b[43m,\u001b[49m\n\u001b[32m    279\u001b[39m \u001b[43m                  \u001b[49m\u001b[43mconstraints\u001b[49m\u001b[43m=\u001b[49m\u001b[43mconstraints\u001b[49m\u001b[43m,\u001b[49m\u001b[43m \u001b[49m\u001b[43mcallback\u001b[49m\u001b[43m=\u001b[49m\u001b[43mwrapped_callback\u001b[49m\u001b[43m,\u001b[49m\n\u001b[32m    280\u001b[39m \u001b[43m                  \u001b[49m\u001b[43moptions\u001b[49m\u001b[43m=\u001b[49m\u001b[43moptions\u001b[49m\u001b[43m)\u001b[49m\n\u001b[32m    283\u001b[39m \u001b[38;5;28;01mif\u001b[39;00m result.cstrv > ctol:\n\u001b[32m    284\u001b[39m     success = \u001b[38;5;28;01mFalse\u001b[39;00m\n",
      "\u001b[36mFile \u001b[39m\u001b[32m~/Desktop/Professional/.venv/lib/python3.13/site-packages/scipy/_lib/pyprima/__init__.py:191\u001b[39m, in \u001b[36mminimize\u001b[39m\u001b[34m(fun, x0, args, method, bounds, constraints, callback, options)\u001b[39m\n\u001b[32m    188\u001b[39m     options[\u001b[33m'\u001b[39m\u001b[33mmaxfun\u001b[39m\u001b[33m'\u001b[39m] = options[\u001b[33m'\u001b[39m\u001b[33mmaxfev\u001b[39m\u001b[33m'\u001b[39m]\n\u001b[32m    189\u001b[39m     \u001b[38;5;28;01mdel\u001b[39;00m options[\u001b[33m'\u001b[39m\u001b[33mmaxfev\u001b[39m\u001b[33m'\u001b[39m]\n\u001b[32m--> \u001b[39m\u001b[32m191\u001b[39m result = \u001b[43mcobyla\u001b[49m\u001b[43m(\u001b[49m\n\u001b[32m    192\u001b[39m \u001b[43m    \u001b[49m\u001b[43mcalcfc\u001b[49m\u001b[43m,\u001b[49m\n\u001b[32m    193\u001b[39m \u001b[43m    \u001b[49m\u001b[38;5;28;43mlen\u001b[39;49m\u001b[43m(\u001b[49m\u001b[43mnlconstr0\u001b[49m\u001b[43m)\u001b[49m\u001b[43m,\u001b[49m\n\u001b[32m    194\u001b[39m \u001b[43m    \u001b[49m\u001b[43mx0\u001b[49m\u001b[43m,\u001b[49m\n\u001b[32m    195\u001b[39m \u001b[43m    \u001b[49m\u001b[43mA_ineq\u001b[49m\u001b[43m,\u001b[49m\n\u001b[32m    196\u001b[39m \u001b[43m    \u001b[49m\u001b[43mb_ineq\u001b[49m\u001b[43m,\u001b[49m\n\u001b[32m    197\u001b[39m \u001b[43m    \u001b[49m\u001b[43mA_eq\u001b[49m\u001b[43m,\u001b[49m\n\u001b[32m    198\u001b[39m \u001b[43m    \u001b[49m\u001b[43mb_eq\u001b[49m\u001b[43m,\u001b[49m\n\u001b[32m    199\u001b[39m \u001b[43m    \u001b[49m\u001b[43mlb\u001b[49m\u001b[43m,\u001b[49m\n\u001b[32m    200\u001b[39m \u001b[43m    \u001b[49m\u001b[43mub\u001b[49m\u001b[43m,\u001b[49m\n\u001b[32m    201\u001b[39m \u001b[43m    \u001b[49m\u001b[43mf0\u001b[49m\u001b[43m=\u001b[49m\u001b[43mf0\u001b[49m\u001b[43m,\u001b[49m\n\u001b[32m    202\u001b[39m \u001b[43m    \u001b[49m\u001b[43mnlconstr0\u001b[49m\u001b[43m=\u001b[49m\u001b[43mnlconstr0\u001b[49m\u001b[43m,\u001b[49m\n\u001b[32m    203\u001b[39m \u001b[43m    \u001b[49m\u001b[43mcallback\u001b[49m\u001b[43m=\u001b[49m\u001b[43mcallback\u001b[49m\u001b[43m,\u001b[49m\n\u001b[32m    204\u001b[39m \u001b[43m    \u001b[49m\u001b[43m*\u001b[49m\u001b[43m*\u001b[49m\u001b[43moptions\u001b[49m\n\u001b[32m    205\u001b[39m \u001b[43m\u001b[49m\u001b[43m)\u001b[49m\n\u001b[32m    207\u001b[39m \u001b[38;5;28;01mif\u001b[39;00m \u001b[38;5;28many\u001b[39m(_fixed_idx):\n\u001b[32m    208\u001b[39m     newx = np.zeros(lenx0)\n",
      "\u001b[36mFile \u001b[39m\u001b[32m~/Desktop/Professional/.venv/lib/python3.13/site-packages/scipy/_lib/pyprima/cobyla/cobyla.py:461\u001b[39m, in \u001b[36mcobyla\u001b[39m\u001b[34m(calcfc, m_nlcon, x, Aineq, bineq, Aeq, beq, xl, xu, f0, nlconstr0, rhobeg, rhoend, ftarget, ctol, cweight, maxfun, iprint, eta1, eta2, gamma1, gamma2, maxhist, maxfilt, callback)\u001b[39m\n\u001b[32m    417\u001b[39m (\n\u001b[32m    418\u001b[39m     iprint,\n\u001b[32m    419\u001b[39m     maxfun,\n\u001b[32m   (...)\u001b[39m\u001b[32m    450\u001b[39m     is_constrained=(mmm > \u001b[32m0\u001b[39m),\n\u001b[32m    451\u001b[39m )\n\u001b[32m    453\u001b[39m \u001b[38;5;66;03m# Further revise MAXHIST according to MAXHISTMEM, and allocate memory for the history.\u001b[39;00m\n\u001b[32m    454\u001b[39m \u001b[38;5;66;03m# In MATLAB/Python/Julia/R implementation, we should simply set MAXHIST = MAXFUN and initialize\u001b[39;00m\n\u001b[32m    455\u001b[39m \u001b[38;5;66;03m# CHIST = NaN(1, MAXFUN), CONHIST = NaN(M, MAXFUN), FHIST = NaN(1, MAXFUN), XHIST = NaN(N, MAXFUN)\u001b[39;00m\n\u001b[32m   (...)\u001b[39m\u001b[32m    459\u001b[39m \n\u001b[32m    460\u001b[39m \u001b[38;5;66;03m# call cobylb, which performs the real calculations\u001b[39;00m\n\u001b[32m--> \u001b[39m\u001b[32m461\u001b[39m x, f, constr, cstrv, nf, xhist, fhist, chist, conhist, info = \u001b[43mcobylb\u001b[49m\u001b[43m(\u001b[49m\n\u001b[32m    462\u001b[39m \u001b[43m    \u001b[49m\u001b[43mcalcfc\u001b[49m\u001b[43m,\u001b[49m\n\u001b[32m    463\u001b[39m \u001b[43m    \u001b[49m\u001b[43miprint\u001b[49m\u001b[43m,\u001b[49m\n\u001b[32m    464\u001b[39m \u001b[43m    \u001b[49m\u001b[43mmaxfilt\u001b[49m\u001b[43m,\u001b[49m\n\u001b[32m    465\u001b[39m \u001b[43m    \u001b[49m\u001b[43mmaxfun\u001b[49m\u001b[43m,\u001b[49m\n\u001b[32m    466\u001b[39m \u001b[43m    \u001b[49m\u001b[43mamat\u001b[49m\u001b[43m,\u001b[49m\n\u001b[32m    467\u001b[39m \u001b[43m    \u001b[49m\u001b[43mbvec\u001b[49m\u001b[43m,\u001b[49m\n\u001b[32m    468\u001b[39m \u001b[43m    \u001b[49m\u001b[43mctol\u001b[49m\u001b[43m,\u001b[49m\n\u001b[32m    469\u001b[39m \u001b[43m    \u001b[49m\u001b[43mcweight\u001b[49m\u001b[43m,\u001b[49m\n\u001b[32m    470\u001b[39m \u001b[43m    \u001b[49m\u001b[43meta1\u001b[49m\u001b[43m,\u001b[49m\n\u001b[32m    471\u001b[39m \u001b[43m    \u001b[49m\u001b[43meta2\u001b[49m\u001b[43m,\u001b[49m\n\u001b[32m    472\u001b[39m \u001b[43m    \u001b[49m\u001b[43mftarget\u001b[49m\u001b[43m,\u001b[49m\n\u001b[32m    473\u001b[39m \u001b[43m    \u001b[49m\u001b[43mgamma1\u001b[49m\u001b[43m,\u001b[49m\n\u001b[32m    474\u001b[39m \u001b[43m    \u001b[49m\u001b[43mgamma2\u001b[49m\u001b[43m,\u001b[49m\n\u001b[32m    475\u001b[39m \u001b[43m    \u001b[49m\u001b[43mrhobeg\u001b[49m\u001b[43m,\u001b[49m\n\u001b[32m    476\u001b[39m \u001b[43m    \u001b[49m\u001b[43mrhoend\u001b[49m\u001b[43m,\u001b[49m\n\u001b[32m    477\u001b[39m \u001b[43m    \u001b[49m\u001b[43mconstr\u001b[49m\u001b[43m,\u001b[49m\n\u001b[32m    478\u001b[39m \u001b[43m    \u001b[49m\u001b[43mf\u001b[49m\u001b[43m,\u001b[49m\n\u001b[32m    479\u001b[39m \u001b[43m    \u001b[49m\u001b[43mx\u001b[49m\u001b[43m,\u001b[49m\n\u001b[32m    480\u001b[39m \u001b[43m    \u001b[49m\u001b[43mmaxhist\u001b[49m\u001b[43m,\u001b[49m\n\u001b[32m    481\u001b[39m \u001b[43m    \u001b[49m\u001b[43mcallback\u001b[49m\n\u001b[32m    482\u001b[39m \u001b[43m\u001b[49m\u001b[43m)\u001b[49m\n\u001b[32m    484\u001b[39m \u001b[38;5;28;01mreturn\u001b[39;00m COBYLAResult(x, f, constr, cstrv, nf, xhist, fhist, chist, conhist, info)\n",
      "\u001b[36mFile \u001b[39m\u001b[32m~/Desktop/Professional/.venv/lib/python3.13/site-packages/scipy/_lib/pyprima/cobyla/cobylb.py:221\u001b[39m, in \u001b[36mcobylb\u001b[39m\u001b[34m(calcfc, iprint, maxfilt, maxfun, amat, bvec, ctol, cweight, eta1, eta2, ftarget, gamma1, gamma2, rhobeg, rhoend, constr, f, x, maxhist, callback)\u001b[39m\n\u001b[32m    217\u001b[39m A[:, m_lcon:] = matprod((conmat[m_lcon:, :num_vars] -\n\u001b[32m    218\u001b[39m                   np.tile(conmat[m_lcon:, num_vars], (num_vars, \u001b[32m1\u001b[39m)).T), simi).T\n\u001b[32m    220\u001b[39m \u001b[38;5;66;03m# Calculate the trust-region trial step d. Note that d does NOT depend on cpen.\u001b[39;00m\n\u001b[32m--> \u001b[39m\u001b[32m221\u001b[39m d = \u001b[43mtrstlp\u001b[49m\u001b[43m(\u001b[49m\u001b[43mA\u001b[49m\u001b[43m,\u001b[49m\u001b[43m \u001b[49m\u001b[43m-\u001b[49m\u001b[43mconmat\u001b[49m\u001b[43m[\u001b[49m\u001b[43m:\u001b[49m\u001b[43m,\u001b[49m\u001b[43m \u001b[49m\u001b[43mnum_vars\u001b[49m\u001b[43m]\u001b[49m\u001b[43m,\u001b[49m\u001b[43m \u001b[49m\u001b[43mdelta\u001b[49m\u001b[43m,\u001b[49m\u001b[43m \u001b[49m\u001b[43mg\u001b[49m\u001b[43m)\u001b[49m\n\u001b[32m    222\u001b[39m dnorm = \u001b[38;5;28mmin\u001b[39m(delta, norm(d))\n\u001b[32m    224\u001b[39m \u001b[38;5;66;03m# Is the trust-region trial step short? N.B.: we compare DNORM with RHO, not\u001b[39;00m\n\u001b[32m    225\u001b[39m \u001b[38;5;66;03m# DELTA. Powell's code especially defines SHORTD by SHORTD = (DNORM < 0.5 *\u001b[39;00m\n\u001b[32m    226\u001b[39m \u001b[38;5;66;03m# RHO). In our tests 1/10 seems to work better than 1/2 or 1/4, especially for\u001b[39;00m\n\u001b[32m    227\u001b[39m \u001b[38;5;66;03m# linearly constrained problems. Note that LINCOA has a slightly more\u001b[39;00m\n\u001b[32m    228\u001b[39m \u001b[38;5;66;03m# sophisticated way of defining SHORTD, taking into account whether D causes a\u001b[39;00m\n\u001b[32m    229\u001b[39m \u001b[38;5;66;03m# change to the active set. Should we try the same here?\u001b[39;00m\n",
      "\u001b[36mFile \u001b[39m\u001b[32m~/Desktop/Professional/.venv/lib/python3.13/site-packages/scipy/_lib/pyprima/cobyla/trustregion.py:102\u001b[39m, in \u001b[36mtrstlp\u001b[39m\u001b[34m(A, b, delta, g)\u001b[39m\n\u001b[32m     99\u001b[39m iact[:num_constraints], nact, d, vmultc[:num_constraints], z = trstlp_sub(iact[:num_constraints], nact, \u001b[32m1\u001b[39m, A_aug[:, :num_constraints], b_aug[:num_constraints], delta, d, vmultc[:num_constraints], z)\n\u001b[32m    101\u001b[39m \u001b[38;5;66;03m# Stage 2: minimize the linearized objective without increasing the 1_infinity constraint violation.\u001b[39;00m\n\u001b[32m--> \u001b[39m\u001b[32m102\u001b[39m iact, nact, d, vmultc, z = \u001b[43mtrstlp_sub\u001b[49m\u001b[43m(\u001b[49m\u001b[43miact\u001b[49m\u001b[43m,\u001b[49m\u001b[43m \u001b[49m\u001b[43mnact\u001b[49m\u001b[43m,\u001b[49m\u001b[43m \u001b[49m\u001b[32;43m2\u001b[39;49m\u001b[43m,\u001b[49m\u001b[43m \u001b[49m\u001b[43mA_aug\u001b[49m\u001b[43m,\u001b[49m\u001b[43m \u001b[49m\u001b[43mb_aug\u001b[49m\u001b[43m,\u001b[49m\u001b[43m \u001b[49m\u001b[43mdelta\u001b[49m\u001b[43m,\u001b[49m\u001b[43m \u001b[49m\u001b[43md\u001b[49m\u001b[43m,\u001b[49m\u001b[43m \u001b[49m\u001b[43mvmultc\u001b[49m\u001b[43m,\u001b[49m\u001b[43m \u001b[49m\u001b[43mz\u001b[49m\u001b[43m)\u001b[49m\n\u001b[32m    104\u001b[39m \u001b[38;5;66;03m# ================\u001b[39;00m\n\u001b[32m    105\u001b[39m \u001b[38;5;66;03m# Calculation ends\u001b[39;00m\n\u001b[32m    106\u001b[39m \u001b[38;5;66;03m# ================\u001b[39;00m\n\u001b[32m    107\u001b[39m \n\u001b[32m    108\u001b[39m \u001b[38;5;66;03m# Postconditions\u001b[39;00m\n\u001b[32m    109\u001b[39m \u001b[38;5;28;01mif\u001b[39;00m DEBUGGING:\n",
      "\u001b[36mFile \u001b[39m\u001b[32m~/Desktop/Professional/.venv/lib/python3.13/site-packages/scipy/_lib/pyprima/cobyla/trustregion.py:391\u001b[39m, in \u001b[36mtrstlp_sub\u001b[39m\u001b[34m(iact, nact, stage, A, b, delta, d, vmultc, z)\u001b[39m\n\u001b[32m    381\u001b[39m     cviol = np.max(np.append(\u001b[32m0\u001b[39m, matprod(dnew, A[:, iact[:nact]]) - b[iact[:nact]]))\n\u001b[32m    382\u001b[39m     \u001b[38;5;66;03m# N.B.: cviol will be used when calculating vmultd[nact+1:mcon].\u001b[39;00m\n\u001b[32m    383\u001b[39m \n\u001b[32m    384\u001b[39m \u001b[38;5;66;03m# Zaikun 20211011:\u001b[39;00m\n\u001b[32m   (...)\u001b[39m\u001b[32m    389\u001b[39m \u001b[38;5;66;03m# force vmultd[k] = 0 if deviations from this value can be attributed to computer rounding\u001b[39;00m\n\u001b[32m    390\u001b[39m \u001b[38;5;66;03m# errors. First calculate the new Lagrange multipliers.\u001b[39;00m\n\u001b[32m--> \u001b[39m\u001b[32m391\u001b[39m vmultd[:nact] = -\u001b[43mlsqr\u001b[49m\u001b[43m(\u001b[49m\u001b[43mA\u001b[49m\u001b[43m[\u001b[49m\u001b[43m:\u001b[49m\u001b[43m,\u001b[49m\u001b[43m \u001b[49m\u001b[43miact\u001b[49m\u001b[43m[\u001b[49m\u001b[43m:\u001b[49m\u001b[43mnact\u001b[49m\u001b[43m]\u001b[49m\u001b[43m]\u001b[49m\u001b[43m,\u001b[49m\u001b[43m \u001b[49m\u001b[43mdnew\u001b[49m\u001b[43m,\u001b[49m\u001b[43m \u001b[49m\u001b[43mz\u001b[49m\u001b[43m[\u001b[49m\u001b[43m:\u001b[49m\u001b[43m,\u001b[49m\u001b[43m \u001b[49m\u001b[43m:\u001b[49m\u001b[43mnact\u001b[49m\u001b[43m]\u001b[49m\u001b[43m,\u001b[49m\u001b[43m \u001b[49m\u001b[43mzdota\u001b[49m\u001b[43m[\u001b[49m\u001b[43m:\u001b[49m\u001b[43mnact\u001b[49m\u001b[43m]\u001b[49m\u001b[43m)\u001b[49m\n\u001b[32m    392\u001b[39m \u001b[38;5;28;01mif\u001b[39;00m stage == \u001b[32m2\u001b[39m:\n\u001b[32m    393\u001b[39m     vmultd[nact-\u001b[32m1\u001b[39m] = \u001b[38;5;28mmax\u001b[39m(\u001b[32m0\u001b[39m, vmultd[nact-\u001b[32m1\u001b[39m])  \u001b[38;5;66;03m# This seems never activated.\u001b[39;00m\n",
      "\u001b[36mFile \u001b[39m\u001b[32m~/Desktop/Professional/.venv/lib/python3.13/site-packages/scipy/_lib/pyprima/common/linalg.py:85\u001b[39m, in \u001b[36mlsqr\u001b[39m\u001b[34m(A, b, Q, Rdiag)\u001b[39m\n\u001b[32m     83\u001b[39m \u001b[38;5;28;01mdef\u001b[39;00m\u001b[38;5;250m \u001b[39m\u001b[34mlsqr\u001b[39m(A, b, Q, Rdiag):\n\u001b[32m     84\u001b[39m     \u001b[38;5;28;01mif\u001b[39;00m \u001b[38;5;129;01mnot\u001b[39;00m USE_NAIVE_MATH:\n\u001b[32m---> \u001b[39m\u001b[32m85\u001b[39m         \u001b[38;5;28;01mreturn\u001b[39;00m \u001b[43mnp\u001b[49m\u001b[43m.\u001b[49m\u001b[43mlinalg\u001b[49m\u001b[43m.\u001b[49m\u001b[43mlstsq\u001b[49m\u001b[43m(\u001b[49m\u001b[43mA\u001b[49m\u001b[43m,\u001b[49m\u001b[43m \u001b[49m\u001b[43mb\u001b[49m\u001b[43m,\u001b[49m\u001b[43m \u001b[49m\u001b[43mrcond\u001b[49m\u001b[43m=\u001b[49m\u001b[38;5;28;43;01mNone\u001b[39;49;00m\u001b[43m)\u001b[49m[\u001b[32m0\u001b[39m]\n\u001b[32m     87\u001b[39m     m = A.shape[\u001b[32m0\u001b[39m]\n\u001b[32m     88\u001b[39m     n = A.shape[\u001b[32m1\u001b[39m]\n",
      "\u001b[36mFile \u001b[39m\u001b[32m~/Desktop/Professional/.venv/lib/python3.13/site-packages/numpy/linalg/_linalg.py:2563\u001b[39m, in \u001b[36mlstsq\u001b[39m\u001b[34m(a, b, rcond)\u001b[39m\n\u001b[32m   2559\u001b[39m     b = zeros(b.shape[:-\u001b[32m2\u001b[39m] + (m, n_rhs + \u001b[32m1\u001b[39m), dtype=b.dtype)\n\u001b[32m   2561\u001b[39m \u001b[38;5;28;01mwith\u001b[39;00m errstate(call=_raise_linalgerror_lstsq, invalid=\u001b[33m'\u001b[39m\u001b[33mcall\u001b[39m\u001b[33m'\u001b[39m,\n\u001b[32m   2562\u001b[39m               over=\u001b[33m'\u001b[39m\u001b[33mignore\u001b[39m\u001b[33m'\u001b[39m, divide=\u001b[33m'\u001b[39m\u001b[33mignore\u001b[39m\u001b[33m'\u001b[39m, under=\u001b[33m'\u001b[39m\u001b[33mignore\u001b[39m\u001b[33m'\u001b[39m):\n\u001b[32m-> \u001b[39m\u001b[32m2563\u001b[39m     x, resids, rank, s = \u001b[43m_umath_linalg\u001b[49m\u001b[43m.\u001b[49m\u001b[43mlstsq\u001b[49m\u001b[43m(\u001b[49m\u001b[43ma\u001b[49m\u001b[43m,\u001b[49m\u001b[43m \u001b[49m\u001b[43mb\u001b[49m\u001b[43m,\u001b[49m\u001b[43m \u001b[49m\u001b[43mrcond\u001b[49m\u001b[43m,\u001b[49m\n\u001b[32m   2564\u001b[39m \u001b[43m                                             \u001b[49m\u001b[43msignature\u001b[49m\u001b[43m=\u001b[49m\u001b[43msignature\u001b[49m\u001b[43m)\u001b[49m\n\u001b[32m   2565\u001b[39m \u001b[38;5;28;01mif\u001b[39;00m m == \u001b[32m0\u001b[39m:\n\u001b[32m   2566\u001b[39m     x[...] = \u001b[32m0\u001b[39m\n",
      "\u001b[31mKeyboardInterrupt\u001b[39m: "
     ]
    },
    {
     "name": "stderr",
     "output_type": "stream",
     "text": [
      "Exception ignored in: <function tqdm.__del__ at 0x125cb1b20>\n",
      "Traceback (most recent call last):\n",
      "  File \"/Users/seeminlim/Desktop/Professional/.venv/lib/python3.13/site-packages/tqdm/std.py\", line 1148, in __del__\n",
      "    self.close()\n",
      "  File \"/Users/seeminlim/Desktop/Professional/.venv/lib/python3.13/site-packages/tqdm/notebook.py\", line 279, in close\n",
      "    self.disp(bar_style='danger', check_delay=False)\n",
      "AttributeError: 'tqdm_notebook' object has no attribute 'disp'\n",
      "Exception ignored in: <function tqdm.__del__ at 0x125cb1b20>\n",
      "Traceback (most recent call last):\n",
      "  File \"/Users/seeminlim/Desktop/Professional/.venv/lib/python3.13/site-packages/tqdm/std.py\", line 1148, in __del__\n",
      "    self.close()\n",
      "  File \"/Users/seeminlim/Desktop/Professional/.venv/lib/python3.13/site-packages/tqdm/notebook.py\", line 279, in close\n",
      "    self.disp(bar_style='danger', check_delay=False)\n",
      "AttributeError: 'tqdm_notebook' object has no attribute 'disp'\n"
     ]
    }
   ],
   "source": [
    "res = minimize(cost_function, params0, args=3, method='COBYLA', bounds=bounds)\n",
    "# L-BFGS-B"
   ]
  },
  {
   "cell_type": "code",
   "execution_count": 20,
   "metadata": {},
   "outputs": [],
   "source": [
    "res = minimize(cost_function, params0, args=1, method='COBYLA', bounds=bounds)"
   ]
  },
  {
   "cell_type": "code",
   "execution_count": 24,
   "metadata": {},
   "outputs": [
    {
     "data": {
      "text/plain": [
       " message: Maximum number of function evaluations has been exceeded.\n",
       " success: False\n",
       "  status: 2\n",
       "     fun: 0.30769383076817136\n",
       "       x: [ 0.000e+00  1.000e+00 ...  0.000e+00  0.000e+00]\n",
       "    nfev: 1000\n",
       "   maxcv: 0.0"
      ]
     },
     "execution_count": 24,
     "metadata": {},
     "output_type": "execute_result"
    }
   ],
   "source": [
    "res"
   ]
  },
  {
   "cell_type": "code",
   "execution_count": 22,
   "metadata": {},
   "outputs": [
    {
     "name": "stdout",
     "output_type": "stream",
     "text": [
      "Step number:  1\n",
      "Step number:  2\n",
      "Step number:  3\n",
      "Step number:  4\n",
      "Step number:  5\n",
      "Step number:  6\n",
      "Step number:  7\n",
      "Step number:  8\n",
      "Step number:  9\n",
      "Step number:  10\n"
     ]
    }
   ],
   "source": [
    "params_dict = {}\n",
    "starting_params = params0\n",
    "for n_steps in range(1, nb_timesteps + 1):\n",
    "    print(\"Step number: \", n_steps)\n",
    "    res = minimize(cost_function, params0, args=n_steps, method='COBYLA', bounds=bounds)\n",
    "\n",
    "    params_dict[n_steps] = res.x\n",
    "    starting_params = res.x"
   ]
  },
  {
   "cell_type": "markdown",
   "metadata": {},
   "source": []
  },
  {
   "cell_type": "code",
   "execution_count": 22,
   "metadata": {},
   "outputs": [
    {
     "ename": "NameError",
     "evalue": "name 'params_dict' is not defined",
     "output_type": "error",
     "traceback": [
      "\u001b[0;31m---------------------------------------------------------------------------\u001b[0m",
      "\u001b[0;31mNameError\u001b[0m                                 Traceback (most recent call last)",
      "\u001b[1;32m/Users/syralie/Desktop/Quantum/NUS/qsim-condensed-matter/NHSE.ipynb Cell 39\u001b[0m line \u001b[0;36m2\n\u001b[1;32m      <a href='vscode-notebook-cell:/Users/syralie/Desktop/Quantum/NUS/qsim-condensed-matter/NHSE.ipynb#X52sZmlsZQ%3D%3D?line=0'>1</a>\u001b[0m \u001b[39mfor\u001b[39;00m i \u001b[39min\u001b[39;00m \u001b[39mrange\u001b[39m(\u001b[39m1\u001b[39m, nb_timesteps\u001b[39m+\u001b[39m\u001b[39m1\u001b[39m):\n\u001b[0;32m----> <a href='vscode-notebook-cell:/Users/syralie/Desktop/Quantum/NUS/qsim-condensed-matter/NHSE.ipynb#X52sZmlsZQ%3D%3D?line=1'>2</a>\u001b[0m     \u001b[39mprint\u001b[39m(cost_function(params_dict[i], i))\n\u001b[1;32m      <a href='vscode-notebook-cell:/Users/syralie/Desktop/Quantum/NUS/qsim-condensed-matter/NHSE.ipynb#X52sZmlsZQ%3D%3D?line=2'>3</a>\u001b[0m     \u001b[39mprint\u001b[39m(cost_function(np\u001b[39m.\u001b[39mones(((N\u001b[39m+\u001b[39m\u001b[39m1\u001b[39m) \u001b[39m+\u001b[39m (N \u001b[39m*\u001b[39m \u001b[39m2\u001b[39m \u001b[39m*\u001b[39m \u001b[39m8\u001b[39m)) \u001b[39m*\u001b[39m \u001b[39m3\u001b[39m), i))\n\u001b[1;32m      <a href='vscode-notebook-cell:/Users/syralie/Desktop/Quantum/NUS/qsim-condensed-matter/NHSE.ipynb#X52sZmlsZQ%3D%3D?line=3'>4</a>\u001b[0m     \u001b[39mprint\u001b[39m(cost_function(np\u001b[39m.\u001b[39mzeros(((N\u001b[39m+\u001b[39m\u001b[39m1\u001b[39m) \u001b[39m+\u001b[39m (N \u001b[39m*\u001b[39m \u001b[39m2\u001b[39m \u001b[39m*\u001b[39m \u001b[39m8\u001b[39m)) \u001b[39m*\u001b[39m \u001b[39m3\u001b[39m), i))\n",
      "\u001b[0;31mNameError\u001b[0m: name 'params_dict' is not defined"
     ]
    }
   ],
   "source": [
    "for i in range(1, nb_timesteps+1):\n",
    "    print(cost_function(params_dict[i], i))\n",
    "    print(cost_function(np.ones(((N+1) + (N * 2 * 8)) * 3), i))\n",
    "    print(cost_function(np.zeros(((N+1) + (N * 2 * 8)) * 3), i))"
   ]
  },
  {
   "cell_type": "code",
   "execution_count": 47,
   "metadata": {},
   "outputs": [
    {
     "data": {
      "text/plain": [
       " message: Maximum number of function evaluations has been exceeded.\n",
       " success: False\n",
       "  status: 2\n",
       "     fun: 0.9920388985110892\n",
       "       x: [ 0.000e+00  1.000e+00 ...  0.000e+00  0.000e+00]\n",
       "    nfev: 1000\n",
       "   maxcv: 0.0"
      ]
     },
     "execution_count": 47,
     "metadata": {},
     "output_type": "execute_result"
    }
   ],
   "source": [
    "res"
   ]
  },
  {
   "cell_type": "code",
   "execution_count": 49,
   "metadata": {},
   "outputs": [
    {
     "data": {
      "text/plain": [
       "{1: array([ 2.76539317e-17,  9.82240282e-01,  1.00994303e+00, -2.01336343e-16,\n",
       "         9.39137931e-01, -1.84666735e-15, -1.04408669e-16,  3.77950655e-02,\n",
       "        -1.02293662e-14,  8.97068878e-16,  1.00789853e-02, -7.86514137e-15,\n",
       "         3.67541826e-15,  4.46984356e-03,  1.25019350e-02,  5.11477796e-15,\n",
       "        -2.05058545e-15,  2.77574435e-02, -3.73431754e-15,  1.32422558e-01,\n",
       "         1.03907667e-01,  1.63675600e-01,  2.25034409e-01,  1.59042235e-01,\n",
       "         1.83311502e-01,  1.85475067e-01,  1.12750511e+00,  4.94819642e-02,\n",
       "         2.99066327e-15,  4.04190570e-15,  1.20346441e-17, -3.18321758e-15,\n",
       "         4.90406327e-15, -1.92467570e-15, -2.30718222e-15, -6.74980905e-15,\n",
       "         1.22043650e-02,  7.73823795e-03,  1.85055991e-02,  6.39225471e-02,\n",
       "         1.55563961e-03,  2.86168896e-02,  1.05442824e-01, -5.28006458e-15,\n",
       "         1.03822330e-01, -1.08420217e-15,  1.18640549e-01,  2.37657116e-15,\n",
       "         1.35852880e-02, -4.51461785e-16, -3.93175076e-15,  1.53696500e-15,\n",
       "         2.95445092e-17,  6.08887940e-15,  3.81812637e-15,  9.87067790e-04,\n",
       "        -2.60414520e-14, -3.68021585e-15,  1.75954117e-02,  2.03038473e-02,\n",
       "         6.09233955e-03,  1.08420217e-16,  8.54420043e-03,  7.71605002e-15,\n",
       "         2.97852552e-02,  1.27102376e-16, -1.45456563e-15, -1.84314369e-15,\n",
       "         4.83467433e-15, -3.55618313e-15,  4.65183219e-02,  2.02889519e-02,\n",
       "        -1.40512602e-15, -2.39391840e-16,  5.44599721e-02,  1.29362193e-02,\n",
       "        -3.00367370e-15,  2.20613458e-15,  7.77080071e-02, -1.86711757e-13,\n",
       "        -1.46128769e-14,  7.50094431e-15, -2.53575373e-14, -3.19102383e-15,\n",
       "         2.31628952e-15,  3.29822450e-03,  2.56487261e-02,  3.06616429e-01,\n",
       "        -7.07626232e-15, -2.92630503e-14, -6.30571984e-16, -3.89445420e-16,\n",
       "         1.50842516e-02,  5.86683480e-15,  4.59491637e-02,  4.01761957e-15,\n",
       "        -2.87226840e-15,  1.73094854e-02,  5.47456710e-02,  2.51881849e-15,\n",
       "         2.02132708e-02,  3.93538284e-16, -9.57307150e-15, -1.65666092e-16,\n",
       "         2.14064877e-15,  2.87552452e-02, -3.76434994e-15, -1.67877864e-15,\n",
       "        -1.12028442e-14, -6.03033248e-15,  8.09248502e-16, -2.67667832e-15,\n",
       "        -1.65492620e-15,  7.54084208e-02,  4.60159357e-03,  2.90811735e-02,\n",
       "         2.92463536e-17,  2.24425873e-02,  6.34041430e-16,  2.66564297e-02,\n",
       "         1.22349265e-01,  2.71558703e-02,  1.41243959e-02,  3.93565383e-02,\n",
       "        -3.70363462e-16,  2.06255262e-02,  2.30371278e-15,  1.32871477e-02,\n",
       "         2.35259771e-02,  4.09069480e-16,  5.66560687e-15,  4.72622787e-02,\n",
       "         6.59194921e-16,  1.46784075e-01,  3.78169718e-15,  4.04589545e-02,\n",
       "         2.72351586e-16,  9.73283438e-01, -5.18302849e-16, -2.06540514e-16,\n",
       "         4.90898155e-03, -4.87999398e-16, -3.75567633e-16,  3.58893978e-03,\n",
       "        -6.60604384e-16,  1.39703883e-03,  6.67475266e-03, -5.25621213e-16,\n",
       "         9.78056094e-03, -3.66135074e-16,  8.89114775e-03, -4.62520647e-16,\n",
       "         5.23138578e-04, -8.08814821e-16,  9.59884360e-04,  2.71095386e-03,\n",
       "        -6.33282489e-16,  2.27257363e-03, -6.62772788e-16,  8.00336589e-03,\n",
       "         3.58893978e-03, -4.55690173e-16, -4.11725775e-16, -2.36247653e-16,\n",
       "         4.02854537e-03,  1.42520834e-02, -4.64309580e-16, -5.82541827e-16,\n",
       "         5.79105078e-03,  5.23138578e-04,  1.83460193e-03, -3.47757847e-16,\n",
       "         9.59884360e-04,  8.68015284e-05, -4.05654243e-16, -4.32108776e-16,\n",
       "        -2.46710204e-16, -5.05780313e-16, -9.82395588e-16, -3.76543415e-16,\n",
       "         8.68015284e-05, -6.20488903e-16,  1.53809237e-02,  8.68015284e-05,\n",
       "        -1.01096432e-15,  4.02854537e-03, -5.06376625e-16, -6.20434693e-16,\n",
       "        -7.43057959e-16, -6.19892592e-16,  3.58893978e-03,  7.11721573e-03,\n",
       "         5.79105078e-03, -2.13696248e-16,  5.79105078e-03, -2.88235148e-16,\n",
       "        -3.96384314e-16,  8.44705288e-03, -4.73525299e-16,  5.34981206e-03,\n",
       "         4.02854537e-03,  2.27257363e-03, -5.83517609e-16,  1.39703883e-03,\n",
       "         8.00336589e-03, -4.15086802e-16, -4.99004050e-16, -8.58308650e-16,\n",
       "         6.67475266e-03,  2.71095386e-03,  8.00336589e-03,  8.89114775e-03,\n",
       "        -2.77935227e-16,  8.44705288e-03,  3.58893978e-03, -4.38776619e-16,\n",
       "         4.02854537e-03,  9.59884360e-04, -2.69424240e-16, -4.95426183e-16,\n",
       "         2.27257363e-03,  2.71095386e-03, -6.82884738e-16, -2.74574200e-16,\n",
       "        -7.00286183e-16,  1.61239513e-02, -4.37583997e-16,  5.79105078e-03,\n",
       "         9.59884360e-04,  9.59884360e-04, -5.94793312e-16, -4.84746791e-16,\n",
       "         8.68015284e-05,  8.00336589e-03, -2.29200339e-16,  2.27257363e-03,\n",
       "        -2.57714856e-16, -5.01497715e-16,  8.44705288e-03, -5.63351449e-16,\n",
       "        -5.43564759e-16,  4.02854537e-03, -5.53051528e-16, -5.58418329e-16,\n",
       "         3.14974260e-03, -5.36029554e-16, -4.42246066e-16, -7.75475604e-16,\n",
       "         2.27257363e-03,  5.23138578e-04,  5.23138578e-04, -1.87892236e-16,\n",
       "        -4.90601483e-16, -6.88522590e-16,  9.78056094e-03,  8.68015284e-05,\n",
       "        -6.09158991e-16,  1.39703883e-03,  1.11177386e-02,  1.06716051e-02,\n",
       "         9.33565045e-03, -1.80411242e-16,  7.56008682e-03,  1.83460193e-03,\n",
       "        -1.70219741e-16, -5.01822976e-16, -5.54460991e-16,  3.14974260e-03,\n",
       "        -4.28043018e-16,  9.78056094e-03, -5.09412391e-16,  4.90898155e-03,\n",
       "        -3.25694333e-16, -1.26689024e-16,  1.01835707e+00, -3.03018751e-18,\n",
       "        -3.22998203e-18,  0.00000000e+00,  6.00417642e-19, -2.60659663e-18,\n",
       "        -8.99856367e-18,  3.75080855e-18,  6.37198237e-19, -8.88429283e-18,\n",
       "        -2.33561546e-17, -5.78451759e-18, -5.19621972e-18,  3.27652412e-18,\n",
       "         2.38938447e-18,  1.91568277e-18, -8.16218389e-19, -1.29705790e-17,\n",
       "         4.90361524e-18, -1.12835114e-17,  2.42876385e-17,  1.00226779e-18,\n",
       "        -1.64690548e-17, -2.78536878e-18, -9.14253402e-18, -5.06154149e-18,\n",
       "        -4.81888877e-18,  3.01498067e-18,  1.54655072e-18,  6.19523357e-18,\n",
       "         9.07797555e-18, -4.66390265e-18,  5.80567250e-19, -1.00257302e-18,\n",
       "        -3.11467042e-18]),\n",
       " 2: array([-9.58980289e-18,  1.03836050e+00, -7.38973397e-18,  3.25997966e-18,\n",
       "         1.07567472e-18,  9.13078191e-03, -1.70769172e-17,  1.51548538e-03,\n",
       "         1.66992805e-18,  8.29252985e-18,  1.15837045e-18,  9.21597761e-18,\n",
       "        -7.46331739e-17,  2.55603616e-02,  5.35516626e-18,  9.46666922e-17,\n",
       "        -3.83692754e-18, -9.98733658e-19, -5.84253245e-17, -6.95842814e-18,\n",
       "        -1.37662269e-18,  1.62559219e-02, -5.19298643e-18,  1.03785269e-17,\n",
       "         5.68040505e-03,  1.94225262e-17,  2.88946034e-04,  9.22436326e-01,\n",
       "         1.66271286e-01,  5.16196063e-02,  1.01938128e+00, -2.20871857e-16,\n",
       "         2.89854398e-02,  2.53880607e-16,  9.92915946e-18, -6.22690856e-16,\n",
       "         2.47474639e-02,  1.62860710e-16,  4.21032409e-17,  5.08138521e-16,\n",
       "        -1.50069229e-17,  8.29932305e-17, -1.89918246e-15,  9.02195171e-17,\n",
       "         5.05299302e-02, -2.54079524e-17,  6.89009890e-02,  5.77557186e-17,\n",
       "         3.67155306e-18,  1.18668219e-15,  1.20582028e-01,  1.06706142e-01,\n",
       "         9.26053545e-02, -2.34814957e-16,  6.77458786e-02,  4.26240138e-02,\n",
       "         7.82159278e-17,  1.23625629e-16, -6.11582440e-16,  5.23845680e-17,\n",
       "         6.61124631e-16,  3.66610095e-16,  9.63976307e-17,  1.81088297e-01,\n",
       "         1.69640475e-01,  3.43701213e-16,  1.51969436e-16, -2.04514872e-16,\n",
       "        -3.30981871e-17,  1.16286268e-01, -4.81307369e-17, -1.98874866e-17,\n",
       "         4.43131212e-02,  4.42431813e-02,  4.60447108e-02,  5.81704259e-02,\n",
       "         3.82708894e-02,  5.02658924e-02,  3.88658434e-02,  4.84537983e-02,\n",
       "         4.96613588e-02,  4.36436796e-02,  4.60447108e-02,  4.66462279e-02,\n",
       "         4.00572697e-02,  4.96613588e-02,  5.39036273e-02,  5.51202129e-02,\n",
       "         4.96613588e-02,  5.39036273e-02,  5.14764652e-02,  5.26890441e-02,\n",
       "         4.42431813e-02,  3.76764419e-02,  4.24461896e-02,  4.66462279e-02,\n",
       "         4.60447108e-02,  5.39036273e-02,  4.48431873e-02,  3.11710060e-02,\n",
       "         4.00572697e-02,  5.20825040e-02,  4.60447108e-02,  4.66462279e-02,\n",
       "         6.00065441e-02,  1.04933910e+00,  3.34993988e-03,  5.78110865e-03,\n",
       "         2.74339979e-03,  3.39621559e-17,  1.49691482e-02,  6.39015182e-03,\n",
       "         3.61644535e-17,  2.74339979e-03,  9.26788135e-04,  2.94763396e-17,\n",
       "         8.22028009e-03,  8.22028009e-03,  3.24524334e-17,  3.95698104e-03,\n",
       "         4.18633137e-17,  1.53182369e-03,  2.74339979e-03,  3.22254534e-04,\n",
       "         4.49122289e-17,  3.27690701e-17,  2.40697652e-17,  8.83132169e-03,\n",
       "         5.78110865e-03,  3.88009252e-17,  7.60973776e-03,  1.55856670e-02,\n",
       "         3.69114123e-17,  2.99640266e-17,  3.10103613e-17,  6.39015182e-03,\n",
       "         1.37376013e-02,  8.22028009e-03,  1.43531263e-02,  1.00549018e-02,\n",
       "         2.11566549e-02,  8.83132169e-03,  1.80567056e-02,  3.71454804e-17,\n",
       "         2.13736099e-03,  4.24766766e-17,  1.31225736e-02,  3.95698104e-03,\n",
       "         3.37414092e-17,  1.00549018e-02,  1.68201940e-02,  4.50856888e-17,\n",
       "         9.26788135e-04,  4.02756379e-17,  6.39015182e-03,  3.09527483e-17,\n",
       "         3.22254534e-04,  3.13453054e-17,  1.62026823e-02,  6.39015182e-03,\n",
       "         4.02409417e-17,  2.30225609e-02,  1.69890958e-17,  1.00549018e-02,\n",
       "         6.39015182e-03,  3.07754596e-17,  4.08271395e-17,  2.64127771e-17,\n",
       "         6.39015182e-03,  4.94705766e-17,  1.25080434e-02,  4.57234067e-17,\n",
       "         4.20632322e-17,  7.60973776e-03,  4.00983824e-17,  1.06674399e-02,\n",
       "         3.34993988e-03,  5.78110865e-03,  3.11484827e-17,  2.11566549e-02,\n",
       "         5.17256564e-03,  7.60973776e-03,  4.56452303e-03,  1.74382019e-02,\n",
       "         2.13736099e-03,  5.15148903e-17,  7.60973776e-03,  3.88778060e-17,\n",
       "         6.99969493e-03,  9.26788135e-04,  2.13736099e-03,  6.99969493e-03,\n",
       "         1.43531263e-02,  1.55856670e-02,  2.17781293e-02,  7.60973776e-03,\n",
       "         8.83132169e-03,  1.53182369e-03,  6.39015182e-03,  1.85075356e-17,\n",
       "         3.51971146e-17,  2.45657808e-17,  1.31225736e-02,  2.17781293e-02,\n",
       "         1.18940109e-02,  3.22254534e-04,  2.74339979e-03,  3.95698104e-03,\n",
       "         4.40055518e-17,  2.13736099e-03,  1.61696899e-17,  6.39015182e-03,\n",
       "         3.95542958e-17,  2.74339979e-03,  3.27469362e-17,  1.00549018e-02,\n",
       "         2.30225609e-02,  3.22254534e-04,  1.53182369e-03,  4.15177414e-17,\n",
       "         3.07571437e-17,  1.86757050e-02,  2.13736099e-03,  3.22254534e-04,\n",
       "         2.69728950e-17,  1.03053057e+00,  1.12476368e-17,  7.29736244e-18,\n",
       "         3.54819278e-18, -2.79979999e-17,  1.10014997e-17, -1.78043931e-17,\n",
       "         1.19892764e-17,  2.07419391e-18,  1.48277247e-17,  1.66692098e-18,\n",
       "        -2.42301104e-17,  6.98062426e-18, -9.04734865e-18, -3.72587928e-18,\n",
       "         6.17301031e-18,  1.10959878e-18, -1.49724614e-17, -4.20382272e-18,\n",
       "        -4.95041916e-18, -4.67500897e-18, -7.00159329e-18, -3.62542238e-18,\n",
       "        -3.96974668e-18, -8.33356181e-19,  4.41083991e-18,  9.46870509e-19,\n",
       "         6.21318614e-18, -3.16122595e-18,  1.75047575e-18,  2.61094321e-18,\n",
       "        -6.66027263e-19, -4.22764214e-18,  2.11112312e-18, -3.38643248e-18,\n",
       "         6.42301928e-18,  5.17132595e-19,  1.50477891e-18, -5.58788005e-18,\n",
       "         7.84776762e-18,  6.31106117e-18, -8.83065108e-18, -1.96807793e-17,\n",
       "         1.19170236e-18,  6.79916548e-18, -3.24998443e-18, -1.42728859e-17,\n",
       "        -1.82902011e-17,  1.03497959e-17, -1.61497132e-17, -1.12837113e-17,\n",
       "        -1.44203883e-17,  1.09938373e-18,  2.34374397e-17, -5.64285883e-18,\n",
       "         1.71360933e-17,  2.74330480e-19, -4.85210030e-19, -1.01855437e-17,\n",
       "         6.63615204e-18,  8.00444678e-18,  7.71704160e-18,  5.34510993e-18,\n",
       "         1.78152802e-17, -3.08193320e-17,  5.02180472e-18,  3.89716032e-18,\n",
       "         5.31215293e-18,  2.66054998e-18,  6.33516531e-18,  1.12021068e-17,\n",
       "        -1.83723666e-17, -7.03634265e-18, -2.28851861e-17,  1.49466589e-18,\n",
       "         2.03877083e-17,  3.15574865e-18, -4.05372697e-18,  2.50054958e-17,\n",
       "        -1.22083513e-18, -4.32342322e-17,  1.07213007e-17, -2.85347852e-17,\n",
       "         2.46825156e-17]),\n",
       " 3: array([-3.24085157e-18,  1.01328386e+00, -5.03606195e-19,  1.38355893e-18,\n",
       "        -1.00625790e-16, -1.94811542e-17,  2.42709520e-18,  1.23945614e-01,\n",
       "        -3.21661256e-17, -1.35742806e-18,  6.80290101e-18, -1.90839705e-18,\n",
       "        -7.19371873e-18,  9.74038536e-01, -4.38373338e-17, -4.24949657e-17,\n",
       "         1.46667423e-01,  9.02249437e-02,  1.48729280e-17, -6.17371685e-16,\n",
       "        -1.33693657e-17, -6.99435204e-17,  1.04180739e-17,  5.59541796e-18,\n",
       "         1.26804594e-01, -3.98447786e-16,  1.12048863e+00,  5.36773953e-18,\n",
       "         5.54077569e-16, -1.63682972e-15, -2.49877904e-15,  5.47268255e-02,\n",
       "         3.70032527e-02,  1.49776036e-01,  4.71208005e-02,  9.55490199e-02,\n",
       "         4.71208005e-02,  8.27458429e-02,  9.55490199e-02,  7.25335010e-02,\n",
       "         1.60187288e-01,  3.19547161e-02,  7.76363090e-02,  3.95300828e-02,\n",
       "         7.50840634e-02,  4.96544435e-02,  7.25335010e-02,  7.25335010e-02,\n",
       "        -1.63941358e-18,  4.20586185e-02,  5.21897857e-02,  4.45888583e-02,\n",
       "         3.70032527e-02,  3.95300828e-02,  2.69130215e-02, -3.27101800e-17,\n",
       "         8.01902360e-02,  1.18291201e-02, -1.08962705e-17,  4.20586185e-02,\n",
       "         1.80763468e-03,  4.71208005e-02,  9.29850376e-02,  1.16908280e+00,\n",
       "        -3.08210452e-18, -8.74329860e-18,  4.96759076e-18,  2.29914922e-18,\n",
       "        -6.60328558e-19, -9.40219953e-19, -2.12180758e-18,  9.45816688e-19,\n",
       "        -1.36537113e-18,  6.22854287e-18,  7.40356350e-18, -5.11133551e-18,\n",
       "        -1.17368891e-18, -2.14350632e-18,  1.25792698e-18,  3.74573380e-18,\n",
       "        -7.75730345e-18, -2.91366264e-18, -2.76670771e-18, -6.12088281e-18,\n",
       "        -4.44645615e-18, -1.11833957e-17,  3.25850318e-17,  3.30066954e-18,\n",
       "        -1.65821440e-18,  7.87403087e-18,  1.54183559e-03,  5.87137913e-19,\n",
       "        -1.08633989e-17,  1.64009322e-18, -6.97977452e-18, -9.78210468e-18,\n",
       "         1.99016438e-17, -2.22807959e-18,  1.49255966e-18, -4.33238738e-18,\n",
       "         8.15552530e-18, -5.78497369e-18, -9.63991346e-18,  1.68928059e-18,\n",
       "        -8.43750867e-19,  3.90703494e-17, -5.06944100e-18, -1.43564537e-17,\n",
       "        -8.22163516e-18,  1.55920880e-18, -2.56836680e-18, -6.74321732e-18,\n",
       "         9.38690476e-03, -1.20587128e-18, -2.58433861e-19,  5.06722500e-19,\n",
       "         1.28986642e-18, -2.15224035e-18, -7.93242920e-18,  4.76539460e-18,\n",
       "         4.40149988e-19,  1.95456796e-18, -2.40041361e-19, -1.57853578e-18,\n",
       "         1.91911239e-18,  6.51705192e-18,  1.90516600e-18, -9.13517075e-18,\n",
       "        -3.38407499e-18, -5.21772438e-19,  3.87669164e-18, -2.24776552e-18,\n",
       "        -5.18695134e-18,  1.99388012e-18, -4.73632684e-18,  1.15921530e-17,\n",
       "        -5.03882264e-18, -4.98170521e-18,  3.46089636e-18, -8.65909343e-18,\n",
       "        -1.04137848e-17, -6.11655816e-18, -4.99452348e-18, -7.46281571e-18,\n",
       "         4.94725712e-18,  2.92358444e-18, -4.46404795e-18,  3.73104550e-18,\n",
       "        -1.64380638e-18,  3.24267951e-18, -2.69977222e-19, -1.56592262e-17,\n",
       "         2.71464357e-18, -8.86760975e-18,  2.95642327e-19, -2.68238712e-19,\n",
       "         5.79561332e-18, -8.33608600e-18, -1.21781387e-17,  1.19721716e-18,\n",
       "        -1.11337768e-18, -2.23200389e-18,  2.15923749e-18,  2.80624035e-18,\n",
       "        -1.14139590e-18, -2.27420888e-17, -1.84665112e-18, -1.78045380e-19,\n",
       "        -6.42813005e-18,  5.53432264e-19,  3.04685921e-18, -4.69271385e-18,\n",
       "        -7.65020165e-19,  1.93123052e-18, -3.34821923e-18,  2.46672402e-20,\n",
       "        -6.99712378e-18, -1.47195148e-18,  1.98980223e-18, -7.47947857e-20,\n",
       "        -6.99372804e-18, -5.74140847e-18,  5.00315987e-19,  2.54025136e-19,\n",
       "        -4.67693505e-18,  3.78426445e-18,  1.68295860e-17, -9.29630783e-18,\n",
       "         7.72758168e-18, -2.65519048e-18, -1.16426768e-18,  1.34371043e-17,\n",
       "        -8.37940266e-18, -2.13034424e-19, -3.21578610e-18,  3.56311282e-17,\n",
       "        -3.70755856e-18,  3.91440489e-18, -7.58203065e-18, -1.69070961e-17,\n",
       "        -1.38796974e-17, -3.83758158e-18, -6.73197513e-18,  6.34925263e-18,\n",
       "         6.44135405e-18, -5.94574024e-18, -1.30065828e-17, -3.92176521e-19,\n",
       "         4.83998656e-18,  1.26169425e-17, -9.78876631e-18,  2.57663269e-18,\n",
       "         2.75280495e-17, -3.07778033e-18,  3.38629300e-18, -4.16038890e-18,\n",
       "         9.38690476e-03, -1.11030647e-17,  1.03037824e+00, -3.11401563e-18,\n",
       "        -3.71199890e-18, -1.14331283e-19, -2.80913809e-18, -1.49083059e-18,\n",
       "         3.15297130e-18,  3.17005358e-18,  4.89706657e-18, -1.21580147e-18,\n",
       "         2.87874647e-18, -3.54324693e-18,  1.49799715e-18,  2.88024564e-18,\n",
       "        -5.08687133e-18, -6.35717587e-19,  2.59082701e-19, -5.11919223e-18,\n",
       "        -1.38758007e-18, -3.83348054e-18,  2.87571912e-18, -7.09169957e-18,\n",
       "        -1.85725253e-18, -1.65673397e-19, -2.73018060e-18,  2.48483483e-18,\n",
       "        -2.07821691e-18,  8.59389044e-19,  2.72152433e-18,  2.79501698e-19,\n",
       "         1.59987321e-18, -2.43250334e-18,  9.96186406e-19,  1.26750287e-17,\n",
       "        -2.15119893e-18,  9.30560074e-18,  3.54320695e-18,  8.68580648e-18,\n",
       "         7.08639252e-18, -1.25731587e-17,  6.54495864e-18,  8.01898953e-18,\n",
       "         9.99087042e-18,  5.28986001e-18, -5.86208844e-18,  1.76342965e-17,\n",
       "        -1.04123730e-17,  2.55323801e-18,  6.52207574e-18,  2.15433032e-19,\n",
       "         8.47849045e-18, -3.60047574e-18, -8.83361071e-18,  2.11019262e-18,\n",
       "        -7.49912644e-19,  8.12741529e-18, -1.43163100e-17, -4.36080738e-18,\n",
       "         1.06119161e-17, -1.37744055e-17,  2.42333785e-17,  9.83306608e-18,\n",
       "        -9.77478168e-18, -1.53842496e-18,  4.08835681e-18,  5.69377847e-18,\n",
       "        -3.32909202e-18,  7.73652745e-18,  1.33215182e-17, -1.19912939e-17,\n",
       "         4.49702255e-18,  1.50508297e-17, -1.56776822e-17, -1.67768240e-17,\n",
       "        -1.90523146e-17,  7.87349153e-18,  3.44120750e-20, -1.16623067e-17,\n",
       "        -2.42737529e-17, -2.41126432e-17,  2.90606093e-19,  1.43266283e-17,\n",
       "        -1.20142643e-17, -1.14352466e-17,  1.37705591e-17,  1.04380361e-17,\n",
       "        -1.49053981e-17, -9.57688074e-18, -1.50814904e-17,  6.80069513e-17,\n",
       "        -5.59461410e-20]),\n",
       " 4: array([-1.27766945e-14,  3.50782588e-14,  1.37425263e-13,  3.49298110e-15,\n",
       "         1.01268322e+00, -4.83542134e-13,  3.56223291e-03,  1.99430089e-02,\n",
       "         1.00776948e+00,  1.61855397e-14,  5.97747568e-13,  1.82891461e-13,\n",
       "        -3.86090772e-14,  1.82524275e-02,  1.76533765e-02,  1.43528441e-14,\n",
       "         1.61874748e-02, -2.43754469e-12,  2.70328107e-14,  4.42523385e-02,\n",
       "         2.77563748e-02,  4.39730994e-02,  4.58715616e-03,  4.56649741e-02,\n",
       "         2.76661295e-12,  2.37693323e-03,  2.45678312e-02,  2.13449172e-02,\n",
       "         2.48348955e-03,  2.36006942e-03,  2.20624240e-03,  1.53200469e-02,\n",
       "         1.16919668e-12,  1.45132291e-02, -6.91393906e-13,  2.20666747e-03,\n",
       "        -4.03618652e-13, -4.39107318e-15, -3.02622282e-13,  1.94951418e-02,\n",
       "         4.15918252e-03,  3.69470013e-02, -1.03281731e-13, -9.50408169e-14,\n",
       "         7.17931076e-03,  3.74973963e-03,  1.54925770e-02, -4.43639998e-14,\n",
       "         4.09914900e-02, -3.30084775e-15, -4.83292945e-13, -9.55546983e-14,\n",
       "         1.90034277e-02, -6.99532309e-13,  2.92859708e-03,  7.29678288e-03,\n",
       "         1.00889400e-02,  9.15398651e-03, -5.60460579e-13, -4.59686323e-13,\n",
       "        -3.89721653e-13,  5.68527288e-02,  1.31331086e-03,  4.39286148e-02,\n",
       "         3.37664073e-02,  2.03317744e-02, -2.71480145e-13, -1.47282732e-13,\n",
       "         6.61161930e-03,  2.92617627e-02, -6.32865938e-13,  1.38960371e-02,\n",
       "        -7.27078051e-14, -1.48698193e-13,  2.27812510e-02,  1.71152385e-13,\n",
       "        -2.39635954e-14,  4.61609825e-03,  9.22790614e-03,  7.17706891e-03,\n",
       "         4.38028226e-03,  1.86463527e-02, -2.81165185e-13,  3.21516916e-03,\n",
       "        -5.69657169e-14, -4.30018638e-13,  3.34306865e-03,  3.15526345e-04,\n",
       "         4.66648903e-02,  1.05520520e-02,  1.98605484e-03,  3.83846165e-03,\n",
       "         1.95877864e-02, -5.51928002e-14,  1.28595002e-02,  3.70955552e-04,\n",
       "        -6.37129981e-14,  2.52224557e-04,  1.08156522e-02,  3.35226426e-02,\n",
       "        -3.01987174e-14,  3.17552117e-02, -1.40500881e-15,  1.10434643e-02,\n",
       "        -2.65589671e-13, -3.12365657e-14,  7.44575121e-04, -4.52204564e-13,\n",
       "         1.77238052e-02,  1.80310793e-02, -1.49794591e-13,  3.82535001e-02,\n",
       "         3.86548850e-02,  1.46168509e-03,  1.39083986e-03,  1.64980709e-02,\n",
       "        -1.69857864e-13,  1.94113036e-03, -3.85901119e-13, -2.72684653e-13,\n",
       "         8.56290812e-03,  1.15754914e-03, -2.31582290e-13,  2.02705420e-03,\n",
       "         2.69232612e-02,  3.14619194e-03,  2.75206446e-02,  1.34185154e-02,\n",
       "        -3.83679848e-13,  2.54177363e-03,  1.76933983e-03,  1.33485124e-02,\n",
       "        -2.31718888e-13,  2.41509056e-03,  4.06007785e-03, -5.04346990e-15,\n",
       "        -2.65747793e-13, -2.62770852e-13,  4.45715316e-03,  3.30137068e-01,\n",
       "        -1.42917116e-13,  1.31000420e-03,  1.51424362e-02, -9.77344890e-14,\n",
       "         9.24458727e-03,  2.65234298e-02,  2.20569166e-02,  1.03972033e-02,\n",
       "         5.69149752e-03,  1.31401633e-02,  2.95196153e-02, -5.53189222e-13,\n",
       "         3.14158981e-03, -3.82148348e-13, -3.70798010e-13,  1.71834296e-02,\n",
       "         2.37503363e-03,  2.21938129e-02,  6.73580365e-14,  2.44657993e-03,\n",
       "         1.05576483e-02,  2.65803922e-14,  8.90304170e-04,  5.92978760e-03,\n",
       "         5.35129419e-03,  1.14889930e-02,  1.31084142e-02,  3.34613373e-03,\n",
       "        -1.69395905e-13, -5.52701765e-13,  1.49792118e-02,  1.69459681e-02,\n",
       "         1.67627228e-02,  1.63892492e-03, -1.48867700e-13,  6.57186854e-03,\n",
       "         2.25878356e-02,  2.18393621e-02,  1.50565215e-02,  2.41445427e-02,\n",
       "         3.24257219e-04,  3.34274536e-02, -2.32499221e-13,  2.17126702e-03,\n",
       "        -6.70916497e-13, -6.53760900e-14,  8.06340203e-03,  3.42550561e-02,\n",
       "         3.34933552e-03,  6.67929020e-14,  8.26588212e-03,  2.74365223e-03,\n",
       "         2.62063339e-02,  3.51373531e-02,  2.95819007e-02,  4.04726523e-02,\n",
       "         2.01194066e-02,  4.54312676e-04, -2.62457466e-13,  2.77086124e-03,\n",
       "        -1.42076935e-13,  1.82628902e-03,  4.20498654e-03,  1.34373245e-02,\n",
       "        -3.79674479e-13,  1.31196644e-02,  1.16501789e-02,  1.41753335e-03,\n",
       "        -1.38568085e-13,  2.73380073e-02,  1.05192130e-02,  2.57260243e-03,\n",
       "         1.67114510e-02,  7.04496723e-04,  3.71110630e-04,  1.49959721e-02,\n",
       "         7.81003588e-03,  7.58107925e-14,  2.12244917e-03, -8.81981655e-14,\n",
       "         1.42058756e-02,  4.57466304e-03,  3.00869657e-02,  3.91971635e-03,\n",
       "         3.34253954e-01,  3.13695433e-13, -6.31876535e-14,  8.21306169e-03,\n",
       "         8.00025288e-03,  1.14361736e-02,  7.21773345e-03,  1.44052997e-02,\n",
       "        -2.36009110e-13,  4.10574086e-03, -1.51600413e-13, -9.79627951e-14,\n",
       "         3.33779914e-02, -9.96010293e-14,  3.85822977e-03,  2.41496906e-03,\n",
       "        -6.30585102e-13, -4.21823942e-13, -4.22354177e-13, -3.80295573e-13,\n",
       "         4.61523801e-13,  1.05589113e-02, -1.40516769e-13,  1.83704690e-14,\n",
       "         1.19795678e-02,  8.31799536e-03,  1.23541991e-04,  7.66552816e-03,\n",
       "         5.21370576e-02,  3.03332820e-02, -3.84044868e-13,  1.74418410e-03,\n",
       "        -3.46978467e-15, -9.01832863e-14,  2.31989729e-02, -1.94081621e-13,\n",
       "         2.55525847e-03, -1.49465255e-13,  2.07954476e-03,  1.96552902e-02,\n",
       "         2.37872236e-02, -7.50468621e-14,  3.60078629e-03,  4.35142039e-02,\n",
       "         1.09573623e-02,  8.48248368e-03,  2.65110656e-02,  1.76099723e-02,\n",
       "         3.12747575e-02,  4.69706544e-04,  1.56428745e-02,  6.71693336e-03,\n",
       "        -9.14151871e-14,  3.38220516e-02,  3.95341468e-03,  2.52445350e-01,\n",
       "         5.53211230e-02,  1.00749385e-01,  2.37473723e-01,  2.69120067e-03,\n",
       "        -1.72893462e-13,  3.23853269e-13,  2.35493468e-12, -7.89428103e-14,\n",
       "         2.48041520e-02,  2.69084712e-02,  7.65222901e-04, -4.22825535e-13,\n",
       "        -2.78754195e-13,  2.33209966e-03,  2.11279006e-03,  1.71011016e-01,\n",
       "         1.16107679e-12,  1.00761057e-13, -6.15033746e-14,  6.51192814e-03,\n",
       "         1.26351759e-14, -2.10320251e-13, -1.16230147e-14,  1.26786031e+00,\n",
       "         2.41078504e-02,  4.69955370e-03,  1.73414419e-02,  4.04089014e-02,\n",
       "         3.63255361e-02]),\n",
       " 5: array([0., 0., 0., 0., 1., 1., 0., 0., 0., 0., 0., 0., 0., 0., 0., 0., 0.,\n",
       "        1., 0., 0., 0., 0., 1., 0., 0., 0., 0., 0., 0., 0., 0., 0., 0., 0.,\n",
       "        0., 0., 0., 0., 0., 0., 0., 0., 0., 0., 0., 0., 0., 0., 0., 0., 0.,\n",
       "        0., 0., 0., 0., 1., 0., 0., 0., 0., 0., 0., 0., 0., 0., 0., 0., 0.,\n",
       "        0., 0., 0., 0., 0., 0., 0., 0., 0., 0., 0., 0., 0., 0., 0., 0., 0.,\n",
       "        0., 0., 0., 0., 0., 0., 0., 0., 0., 0., 0., 0., 0., 0., 0., 0., 0.,\n",
       "        0., 0., 0., 0., 0., 0., 0., 0., 0., 0., 0., 0., 0., 0., 0., 0., 0.,\n",
       "        0., 0., 0., 0., 0., 0., 0., 0., 0., 0., 0., 0., 0., 0., 0., 0., 0.,\n",
       "        0., 0., 0., 0., 0., 0., 0., 0., 0., 0., 0., 0., 0., 0., 0., 0., 0.,\n",
       "        0., 0., 0., 0., 0., 0., 0., 0., 0., 0., 0., 0., 0., 0., 0., 0., 0.,\n",
       "        1., 0., 0., 0., 0., 0., 0., 0., 0., 0., 0., 0., 0., 0., 0., 0., 0.,\n",
       "        0., 0., 0., 0., 0., 0., 0., 0., 0., 0., 0., 0., 0., 0., 0., 0., 0.,\n",
       "        0., 0., 0., 0., 0., 0., 0., 0., 0., 0., 0., 0., 0., 0., 0., 0., 0.,\n",
       "        0., 0., 0., 0., 0., 0., 0., 1., 0., 0., 0., 0., 0., 0., 0., 0., 0.,\n",
       "        0., 0., 0., 0., 0., 0., 0., 0., 0., 0., 0., 0., 0., 0., 0., 0., 0.,\n",
       "        0., 0., 0., 0., 0., 0., 0., 0., 0., 0., 0., 0., 0., 0., 0., 0., 0.,\n",
       "        0., 0., 1., 0., 0., 0., 0., 0., 0., 0., 0., 0., 0., 0., 0., 0., 0.,\n",
       "        0., 0., 0., 0., 0., 0., 0., 0., 0., 0., 0., 0., 0., 0., 0., 0., 0.,\n",
       "        0., 0., 0.]),\n",
       " 6: array([-6.36101415e-16,  9.96195738e-01,  1.00089916e+00,  1.40973387e-14,\n",
       "        -5.69742279e-14,  1.24352543e-03,  3.72280600e-03,  9.99346737e-01,\n",
       "         5.40381639e-03,  1.49324530e-03,  1.35196124e-03,  1.42328640e-14,\n",
       "        -1.22885643e-14,  2.16945796e-03, -2.94827097e-15, -1.22224605e-13,\n",
       "        -7.82006838e-14,  2.72232309e-03, -9.04269064e-14,  7.83832351e-04,\n",
       "         1.39844962e-03,  1.48522880e-03,  6.52865776e-04,  8.45567756e-04,\n",
       "        -2.48228087e-14,  6.85968601e-04, -4.70272692e-14,  4.46838903e-04,\n",
       "         2.65389602e-03, -5.03945843e-14, -6.36404991e-14, -2.72310386e-14,\n",
       "        -7.12914970e-14,  6.70417450e-04,  5.81756865e-14,  9.70548687e-04,\n",
       "         2.25413750e-04, -8.63545346e-15, -4.83554169e-16,  2.30554378e-03,\n",
       "         6.31663027e-04,  1.89335310e-14, -6.04811340e-15,  3.82979149e-03,\n",
       "         1.31991779e-04, -4.82738849e-14,  7.85829735e-16,  3.85162822e-16,\n",
       "        -2.05738204e-14, -2.03912408e-14,  3.04948653e-04,  1.43663564e-15,\n",
       "         2.59320215e-03, -2.19852348e-14,  2.14758286e-04, -1.45668525e-14,\n",
       "         4.83949903e-15,  1.66002616e-03, -8.52128697e-16,  2.03914514e-03,\n",
       "         3.29248913e-03,  3.44099792e-03,  2.63607396e-03,  3.67022775e-03,\n",
       "         2.65541047e-03, -2.26379245e-14,  1.19364553e-03,  3.53104732e-03,\n",
       "         1.49250632e-04,  8.06176061e-03,  3.15902625e-04,  4.70871714e-15,\n",
       "         8.77537456e-04,  2.48190577e-01, -6.29617886e-15, -3.83850937e-15,\n",
       "        -2.84928331e-16,  5.88548307e-15, -7.22122015e-15,  1.50660734e-15,\n",
       "        -9.74697753e-15,  4.93311988e-15, -7.98003157e-14, -1.01921076e-13,\n",
       "        -8.93339222e-15, -4.82387567e-14, -1.95590072e-14, -9.19793755e-15,\n",
       "        -1.28628878e-13, -1.04014020e-14, -4.73605530e-14,  2.99760217e-15,\n",
       "        -6.67278732e-14, -4.81268671e-14, -4.32960959e-14, -2.99968383e-14,\n",
       "         1.12080484e-14, -1.85225099e-14, -4.09464129e-14, -1.87523608e-14,\n",
       "        -2.60859043e-15, -2.46564921e-14,  1.07431425e-14, -5.13825094e-15,\n",
       "        -3.90208699e-14, -4.41452430e-14, -9.20270804e-15, -5.17446329e-14,\n",
       "        -2.39873225e-14, -1.71759308e-14,  5.16483557e-14, -4.97679155e-14,\n",
       "         9.98685277e-01,  1.64482307e-15,  9.45841501e-04,  2.07825957e-15,\n",
       "         2.84516993e-14, -2.16694906e-14,  1.09738481e-03,  1.50932104e-03,\n",
       "         1.05957432e-03,  1.21234758e-03, -3.81601898e-14, -1.94323580e-14,\n",
       "         4.48073169e-15,  1.11960281e-03, -2.53526652e-14, -1.36864508e-14,\n",
       "         1.23309840e-14,  8.22024950e-04,  1.54265923e-03,  1.09503792e-03,\n",
       "        -3.21768996e-15,  1.57130825e-14, -5.33063776e-16,  1.27506226e-03,\n",
       "         7.14116168e-04,  2.77560568e-04,  1.30933523e-03,  6.10500025e-05,\n",
       "        -2.72266763e-15, -1.16885629e-14, -1.64363014e-14, -1.96646123e-15,\n",
       "         8.59916574e-04,  7.96711578e-04,  4.20658300e-04,  1.01609324e-03,\n",
       "         4.63920701e-04,  2.20857593e-14,  2.42155773e-14,  5.44025861e-04,\n",
       "         1.18104841e-03,  1.42282513e-03, -1.70265359e-15,  4.71729356e-16,\n",
       "        -3.72637753e-15,  7.30100112e-16,  9.50046020e-04,  1.93405169e-03,\n",
       "        -7.15429577e-16,  5.42563715e-04,  3.59773663e-15, -3.63125150e-15,\n",
       "         1.39362035e-03, -5.15522181e-16,  9.37016821e-04, -1.29246279e-14,\n",
       "         3.10203054e-04, -1.78301788e-15,  2.67287338e-15, -1.91959137e-15,\n",
       "         6.63824184e-15, -3.13971890e-15,  1.52380362e-16,  8.20724769e-16,\n",
       "         7.46111923e-04, -1.48896798e-14,  5.20268963e-15,  1.05318813e-15,\n",
       "         6.04654065e-04,  1.36030576e-03, -3.04971374e-16, -1.08010564e-14,\n",
       "         1.83578350e-15,  8.71042563e-04, -2.04992026e-15,  8.65148227e-16,\n",
       "         1.70173531e-03,  7.34831704e-04, -1.20735698e-14,  1.06443374e-03,\n",
       "        -1.14379979e-15, -1.02360717e-15,  5.03402049e-04,  2.15614603e-03,\n",
       "         1.81451055e-15,  1.53228992e-03, -3.84500310e-16,  3.29457330e-04,\n",
       "        -1.96263402e-16,  1.52831321e-04, -1.64731962e-15, -1.11511127e-14,\n",
       "         7.29696701e-04,  1.57023755e-16,  1.42927774e-03,  6.26752777e-16,\n",
       "         6.14782630e-04,  1.32994810e-15, -2.42284079e-15, -5.27869563e-15,\n",
       "         4.00483399e-04,  1.97166177e-15,  1.31594858e-03,  9.64327805e-04,\n",
       "         5.85837205e-04,  4.50926634e-16, -6.95248584e-16,  8.49166156e-04,\n",
       "         1.68093064e-15,  3.72920147e-16,  7.42286828e-04,  2.04957008e-04,\n",
       "         7.66991240e-04,  2.93579751e-15,  4.76987763e-16,  4.35779082e-17,\n",
       "         3.90347424e-04,  2.89178557e-15,  9.71325061e-04,  1.56611866e-16,\n",
       "         9.08855067e-04,  7.38568084e-04,  3.91432091e-04,  9.88535617e-15,\n",
       "        -3.99714807e-15,  1.82372506e-04,  1.80179540e-16, -1.35118889e-14,\n",
       "         5.02186121e-04,  5.10053439e-16,  1.29750419e-03,  4.63733936e-16,\n",
       "         1.36965761e-04, -6.01531966e-16,  1.04842205e-03,  1.19304760e-15,\n",
       "         1.02833626e-03,  2.05169235e-15, -1.09977658e-14, -1.10145436e-14,\n",
       "         4.14553260e-05, -1.09949402e-14,  4.60870976e-16, -1.77759313e-15,\n",
       "        -6.74516762e-18,  3.86718067e-04, -4.06899287e-16,  7.85270558e-16,\n",
       "         7.88492906e-04,  8.66417393e-04,  1.55402065e-15, -3.58818277e-15,\n",
       "        -8.38138526e-15,  2.48624173e-01,  5.11639626e-16, -1.34817068e-15,\n",
       "         5.25015099e-16,  9.78899912e-15,  3.08741730e-15, -1.53547470e-14,\n",
       "         1.10266085e-15,  5.28756279e-16, -3.53908837e-15,  1.32852942e-16,\n",
       "         5.25083440e-16, -3.98237577e-15,  1.82541000e-15,  1.24604342e-16,\n",
       "        -1.89264726e-15, -3.51386414e-15, -1.45246691e-14,  1.18589456e-15,\n",
       "        -3.61365477e-16,  5.13416518e-16,  5.47119228e-06,  1.08179051e-15,\n",
       "         6.61752790e-16,  2.24700804e-06, -3.40245716e-15, -1.12650275e-15,\n",
       "         3.81212007e-15, -1.10237160e-14,  1.72749190e-15, -9.60512932e-16,\n",
       "         1.61729531e-15, -1.06940299e-14,  1.57451706e-16,  1.13541910e-15,\n",
       "         1.19201889e-05,  5.46258114e-16,  4.17023827e-15,  9.78602121e-16,\n",
       "         8.69558610e-06,  1.02808895e-15,  2.75494200e-16,  1.83700194e-05,\n",
       "         1.43665845e-16]),\n",
       " 7: array([-3.09021440e-03,  9.93882433e-01,  9.95950691e-01, -1.64499151e-04,\n",
       "        -1.76961265e-03, -4.65289203e-03,  1.94385303e-03, -1.06912930e-03,\n",
       "         3.13457355e-03, -6.08900099e-04,  3.72436255e-02, -4.78034533e-02,\n",
       "        -5.02614102e-03, -9.79008264e-04, -3.07800624e-03, -7.28757894e-03,\n",
       "        -2.87273954e-03,  1.49903846e-03, -5.36841823e-03, -6.44227492e-03,\n",
       "         6.31458728e-04, -4.27501270e-03, -3.41934499e-02, -1.08728297e-03,\n",
       "        -1.41781070e-03, -5.80346714e-04, -4.62617370e-04, -1.99773992e-03,\n",
       "        -3.76359677e-03, -1.60823666e-02, -1.77940422e-03, -1.75858009e-03,\n",
       "        -1.75629798e-03, -1.84939219e-03, -2.28310293e-03,  3.40902386e-03,\n",
       "        -6.14886499e-03, -1.72129675e-03, -1.83778188e-03,  1.91998172e-04,\n",
       "        -1.78932977e-03, -1.72709363e-03,  1.32988067e-03, -1.75044300e-03,\n",
       "        -5.57264455e-05, -1.71721375e-03, -1.80204382e-03, -1.72289311e-03,\n",
       "        -1.98800226e-03, -1.77168392e-03, -1.86372202e-03, -1.66682198e-03,\n",
       "        -1.72997853e-03, -1.65433048e-03, -1.68616208e-03, -1.68830942e-03,\n",
       "        -1.63568036e-03,  1.45271119e-03, -1.65256450e-03,  2.46670706e-01,\n",
       "        -3.03614565e-03, -3.02079732e-03, -3.06985396e-03, -3.02632657e-03,\n",
       "        -3.02264040e-03, -3.04722243e-03, -3.04566812e-03, -3.04823805e-03,\n",
       "        -3.03480441e-03, -3.01566174e-03, -3.02816966e-03, -3.04389362e-03,\n",
       "        -3.04722243e-03, -3.03480441e-03, -3.02632657e-03, -3.02448349e-03,\n",
       "        -3.05534741e-03, -3.19669551e-03, -3.05026930e-03, -3.05230054e-03,\n",
       "        -3.02632657e-03, -3.04016939e-03, -3.02794066e-03, -3.08190071e-03,\n",
       "        -3.19669551e-03, -3.16904014e-03, -3.03001274e-03, -3.01566174e-03,\n",
       "        -3.01260598e-03, -3.02079732e-03, -3.02264040e-03, -3.01198771e-03,\n",
       "        -3.02264040e-03, -3.02448349e-03, -3.02264040e-03, -3.27892351e-03,\n",
       "        -3.03346316e-03, -3.03882815e-03, -3.02079732e-03, -3.06985396e-03,\n",
       "        -3.02794066e-03, -3.01260598e-03, -3.01260598e-03, -3.07707438e-03,\n",
       "        -3.04508683e-03, -2.96288645e-03, -2.92344209e-03, -2.81325045e-03,\n",
       "        -3.06776104e-03, -3.01560558e-03, -3.02760509e-03, -3.01723416e-03,\n",
       "        -3.43090317e-03, -3.48339922e-03, -3.14725489e-03, -3.08906177e-03,\n",
       "        -3.03498758e-03, -3.12888123e-03, -3.04439229e-03, -3.02011240e-03,\n",
       "        -2.96243921e-03, -3.11694969e-03, -3.13577450e-03, -2.96864179e-03,\n",
       "        -3.13545690e-03, -1.57206748e-03, -1.51873350e-03, -3.12276655e-03,\n",
       "        -3.19206387e-03, -3.05546513e-03, -3.05596144e-03, -3.06821690e-03,\n",
       "        -3.25046786e-03, -3.24518716e-03, -3.14828843e-03, -3.05139807e-03,\n",
       "        -3.03000353e-03, -3.02288496e-03, -3.03363932e-03, -3.10769163e-03,\n",
       "        -3.16819891e-03, -3.21668726e-03, -3.08478482e-03, -3.08435667e-03,\n",
       "        -3.06685941e-03, -1.98480681e-03, -3.20607530e-03, -2.98254438e-03,\n",
       "        -3.14765831e-03, -3.06097611e-03, -3.04592542e-03, -3.21819226e-03,\n",
       "        -3.20639174e-03, -3.05761611e-03, -3.08621036e-03, -3.45425256e-03,\n",
       "        -4.16840589e-03, -4.15707983e-03, -3.13164218e-03, -3.02746941e-03,\n",
       "        -3.05867452e-03, -3.00993009e-03, -3.72594183e-03, -3.80924395e-03,\n",
       "        -3.13278944e-03, -3.02460947e-03, -3.05191509e-03, -3.08249646e-03,\n",
       "         1.07296458e-02, -2.97771242e-03, -3.16428391e-03, -3.14290073e-03,\n",
       "        -3.03055610e-03, -3.03932722e-03, -3.32084019e-03, -2.99543209e-03,\n",
       "        -3.07790172e-03, -2.96977867e-03, -3.04553730e-03, -3.00752567e-03,\n",
       "        -3.09880470e-03, -2.93837824e-03, -3.04342340e-03, -3.04790091e-03,\n",
       "        -3.00742370e-03, -3.01488035e-03, -2.99218001e-03, -3.02251051e-03,\n",
       "        -3.02207141e-03, -3.01427508e-03, -3.00685240e-03, -3.03536204e-03,\n",
       "        -3.00536786e-03, -3.02825332e-03, -3.03928349e-03, -3.01724415e-03,\n",
       "        -3.02169776e-03, -3.01575961e-03, -2.99940584e-03, -3.02169776e-03,\n",
       "        -3.00536786e-03, -3.00685240e-03, -3.04300006e-03, -2.99716679e-03,\n",
       "        -3.01427508e-03, -2.99711102e-03, -3.03816852e-03, -3.00833693e-03,\n",
       "        -3.04262840e-03, -3.03779686e-03, -3.02825332e-03, -3.03710232e-03,\n",
       "        -3.03779686e-03, -3.03623218e-03, -3.01724415e-03, -3.02825332e-03,\n",
       "        -3.02709549e-03, -3.02709549e-03, -3.03854017e-03, -3.00685240e-03,\n",
       "        -3.02941175e-03, -3.03854017e-03, -3.01427508e-03, -3.03623218e-03,\n",
       "        -3.04671662e-03, -3.01130601e-03, -3.04820325e-03, -3.03816852e-03,\n",
       "        -3.04961555e-03, -3.02514012e-03, -3.01140579e-03, -3.01970467e-03,\n",
       "        -3.00698160e-03, -3.00960907e-03, -3.01821392e-03, -2.98319007e-03,\n",
       "        -2.99449137e-03, -3.00327040e-03, -3.04788659e-03, -3.01394798e-03,\n",
       "        -4.25574829e-03, -2.99918329e-03, -3.01198072e-03, -3.01085732e-03,\n",
       "        -3.01465081e-03, -3.01287291e-03, -3.01414565e-03, -3.01437017e-03,\n",
       "        -3.01331693e-03, -3.01119358e-03, -3.01345764e-03, -3.01465081e-03,\n",
       "        -1.85841392e-03,  2.47570867e-01, -3.00930103e-03, -3.01442630e-03,\n",
       "        -3.01007932e-03, -3.01448242e-03, -3.01351974e-03, -3.01230475e-03,\n",
       "        -1.80610622e-03, -1.68533636e-03, -1.65633278e-03, -1.79180352e-03,\n",
       "        -1.97757478e-03, -1.68914935e-03, -1.77136868e-03, -1.81153040e-03,\n",
       "        -1.71757523e-03, -1.79754894e-03, -2.33840712e-03, -1.77451437e-03,\n",
       "        -1.86512804e-03, -1.80460750e-03, -1.81391945e-03, -1.86118134e-03,\n",
       "        -2.17611596e-03, -1.80714765e-03, -1.74182159e-03, -1.74157446e-03,\n",
       "        -1.70231786e-03, -1.76937281e-03, -1.69848800e-03, -2.15771937e-03,\n",
       "        -2.20394063e-03, -1.78365489e-03, -1.86129925e-03, -1.69854662e-03,\n",
       "        -1.95386394e-03, -2.25082717e-03, -1.72010028e-03, -1.76953773e-03,\n",
       "        -1.69039252e-03, -2.15413659e-03, -1.95312422e-03, -5.72969853e-03,\n",
       "        -1.84243470e-03, -1.80727006e-03, -1.81382803e-03, -1.78029235e-03,\n",
       "        -1.86109389e-03, -2.08789298e-03, -1.80746764e-03, -1.80032230e-03,\n",
       "        -1.71292124e-03, -1.69849534e-03,  9.97443862e-01, -9.84979910e-06,\n",
       "        -2.38629129e-05]),\n",
       " 8: array([-1.58807361e-17,  3.97615585e-17,  1.02833511e+00,  1.36933545e-17,\n",
       "         6.52113274e-18, -3.39264897e-17, -8.35296013e-18,  1.78822807e-04,\n",
       "        -1.74377194e-15,  8.39149251e-18, -3.42818238e-17,  9.96514326e-03,\n",
       "         2.01656994e-02,  1.37725149e-02,  5.43388274e-18,  1.28113678e-17,\n",
       "         2.05005359e-16, -3.81344405e-19, -7.53926992e-18, -6.90136195e-18,\n",
       "         6.42182105e-16, -8.75561892e-17,  5.36593853e-03,  6.60640508e-18,\n",
       "         1.69208977e-17, -1.12188777e-15, -2.35654057e-17, -3.72008427e-17,\n",
       "        -1.58161283e-17, -1.81005903e-17, -7.13162264e-17, -6.40178411e-17,\n",
       "         5.79548205e-19,  1.44313610e-17, -6.47825414e-17, -1.16873989e-16,\n",
       "        -9.09221897e-17,  2.24932893e-19,  3.62551842e-17,  7.33490961e-16,\n",
       "        -1.50566057e-16,  1.18832376e-16,  2.55353552e-17, -7.00697724e-17,\n",
       "        -3.80671394e-18,  4.56357553e-16,  1.30313019e-17, -4.08173026e-17,\n",
       "        -1.11645306e-18,  4.32364948e-16,  4.36325406e-18,  1.18029375e-15,\n",
       "        -4.79095741e-17, -3.33278106e-16,  5.04541314e-03,  1.57041740e-04,\n",
       "         1.58241021e-16,  3.12272061e-02,  2.90786804e-16,  2.26686152e-16,\n",
       "        -2.13979414e-19, -3.64912313e-16,  6.63888036e-16,  2.16267718e-16,\n",
       "         2.49988704e-02, -2.26725564e-16,  6.33213241e-02, -5.14303201e-17,\n",
       "         2.46003573e-16,  2.06212161e-02, -1.45177409e-16,  2.27900432e-17,\n",
       "        -1.91309361e-16,  6.41415850e-17,  4.37016440e-17, -5.04233005e-17,\n",
       "         7.23068230e-18,  2.37258911e-17, -5.71388808e-17, -1.79495715e-16,\n",
       "        -1.82614649e-16,  5.28916783e-03,  4.10403055e-17, -4.92741044e-18,\n",
       "        -4.26174368e-17, -1.22430736e-17, -1.27997844e-16,  6.10724519e-17,\n",
       "         2.78256078e-17, -2.17245525e-16,  2.74933671e-01, -1.06353600e-16,\n",
       "         1.14779302e-01,  1.39815743e-01,  1.29891315e-01,  1.33023399e-01,\n",
       "         1.13218572e-01,  1.23111465e-01,  1.21027136e-01,  1.35112461e-01,\n",
       "         1.27282645e-01,  1.14975769e+00, -7.82221444e-19, -2.40148880e-18,\n",
       "        -3.75172528e-18,  2.53724829e-18,  5.33190862e-18,  5.99024795e-18,\n",
       "        -8.51664760e-18, -9.21633903e-19,  3.35281068e-18, -4.32838536e-18,\n",
       "        -2.91586371e-18,  4.61522829e-18, -3.06385678e-18,  1.96415590e-18,\n",
       "         3.08691782e-18,  6.79129935e-18, -2.39414145e-18,  4.04739267e-18,\n",
       "        -4.83588592e-18, -2.59549970e-18,  3.32594030e-18,  4.57454983e-18,\n",
       "        -5.05376234e-18, -1.59153884e-18,  3.09874422e-18,  1.72025159e-18,\n",
       "        -4.35892574e-18, -8.49500629e-19,  1.95921013e-19,  4.55693999e-18,\n",
       "        -6.79482450e-18, -1.12552037e-17,  6.68265075e-18, -1.83570192e-18,\n",
       "        -1.89679566e-18,  4.19504039e-19,  1.41739392e-18, -1.61832038e-19,\n",
       "        -1.01259431e-18, -2.94024059e-18,  4.17552046e-18, -2.90573156e-18,\n",
       "         3.55484493e-18, -4.25113455e-18, -6.49781608e-18, -1.05183894e-18,\n",
       "         5.02887695e-18,  1.78562131e-18,  8.15601339e-18,  9.11102055e-18,\n",
       "         3.76086736e-19, -3.15849580e-18, -6.64119032e-19,  3.00161079e-18,\n",
       "        -4.15640323e-18, -1.49528023e-18,  2.85098378e-18, -2.77538936e-18,\n",
       "        -2.41166740e-18, -7.06364594e-18,  5.08023405e-18,  3.25585594e-18,\n",
       "         1.07625589e-17, -2.35980776e-18,  8.28611958e-18, -6.29169522e-18,\n",
       "        -6.07007224e-18,  6.26095592e-18,  5.78366756e-18,  2.33650373e-19,\n",
       "         2.62272288e-18,  1.01994566e-17, -2.96778333e-18,  4.82708198e-18,\n",
       "         4.79680226e-19, -3.80508330e-18, -4.61191394e-18, -2.05221606e-18,\n",
       "         8.82677479e-18, -1.69680461e-18,  6.31377879e-18, -3.64603090e-19,\n",
       "        -3.70947993e-18,  1.09847196e-18,  7.57153627e-18, -7.09185201e-18,\n",
       "         1.46112665e-18,  1.70846647e-18, -8.47644448e-19, -1.35680320e-18,\n",
       "         3.75948405e-18, -6.52899221e-18, -4.76725387e-18, -3.07734096e-18,\n",
       "         1.84276891e-19,  6.42197580e-19,  4.55518847e-18, -7.46975441e-18,\n",
       "         9.01853548e-19,  1.63804621e-18, -5.27735305e-19,  6.05543362e-18,\n",
       "         3.55850001e-19,  4.88268077e-18,  7.20032752e-18,  3.48146195e-19,\n",
       "        -3.22940179e-18, -3.05148120e-18,  1.32225886e-18,  1.39584325e-18,\n",
       "        -1.11063233e-18, -9.38302917e-18,  9.92725201e-18,  9.57958423e-19,\n",
       "        -6.98089531e-18, -8.13220200e-20, -4.70054967e-18, -1.04649444e-17,\n",
       "        -1.73604063e-18, -1.36538226e-19, -1.00390988e-18,  6.07628114e-18,\n",
       "         5.26986278e-18, -1.03053791e-17,  4.77841178e-18,  1.34706909e-18,\n",
       "         1.33618117e-18,  6.42455415e-18,  7.77954037e-18,  1.87197512e-18,\n",
       "         2.64084330e-18,  9.38073135e-18, -8.58340549e-19, -2.10886681e-18,\n",
       "         5.24399097e-18,  2.47322910e-19,  2.35944270e-18,  4.70959510e-18,\n",
       "         4.07454937e-19,  4.32073457e-19, -4.63630566e-18, -1.34014779e-18,\n",
       "         4.01441286e-18,  1.72867503e-17,  1.63412808e-18,  3.70589476e-19,\n",
       "        -1.53919280e-18,  8.67151589e-18,  2.95526092e-18,  6.18823048e-18,\n",
       "         1.87682697e-17,  6.16774978e-18, -6.55002014e-18, -8.72172057e-19,\n",
       "        -6.83521969e-19, -6.91739723e-18, -5.27763138e-18,  1.07451129e-18,\n",
       "         2.95326793e-18,  7.86577446e-18,  1.30553292e-18,  5.22019517e-18,\n",
       "        -2.44258670e-18, -1.00496102e-17, -8.37697874e-19, -9.23164422e-18,\n",
       "        -3.34549988e-18, -5.92654373e-19,  5.45676430e-18,  3.65163482e-18,\n",
       "        -3.25862301e-18,  7.12583841e-18, -2.75341864e-18, -2.33631461e-18,\n",
       "         4.74284718e-18,  1.99602288e-19, -4.73990843e-18, -6.17905864e-18,\n",
       "        -4.43452866e-18,  2.74791840e-18,  3.06394586e-18, -3.26767636e-18,\n",
       "        -1.08256490e-17, -6.68482958e-18,  6.69129207e-19, -4.80365428e-18,\n",
       "        -4.59878393e-18,  1.06494180e-17, -1.13177480e-17,  1.17558879e-18,\n",
       "         6.97379340e-18,  1.27405027e-17,  4.68539897e-18, -6.48409543e-19,\n",
       "         5.39967087e-18, -3.11029424e-18, -2.45378381e-18, -2.67290348e-18,\n",
       "        -1.72608773e-17,  1.01066737e-17, -2.94942856e-19, -5.54887102e-18,\n",
       "         2.88843857e-18, -3.42547928e-18,  4.53757679e-18,  2.64061174e-18,\n",
       "         1.79687416e-17]),\n",
       " 9: array([0., 0., 1., 0., 0., 0., 0., 0., 0., 0., 0., 0., 0., 0., 0., 0., 0.,\n",
       "        0., 0., 0., 0., 0., 0., 0., 0., 0., 0., 0., 0., 0., 0., 0., 0., 0.,\n",
       "        0., 0., 0., 1., 0., 0., 0., 0., 0., 0., 0., 0., 0., 0., 0., 0., 0.,\n",
       "        0., 0., 0., 0., 0., 0., 1., 0., 0., 0., 0., 0., 0., 0., 0., 0., 0.,\n",
       "        0., 0., 0., 0., 0., 0., 0., 0., 0., 1., 0., 0., 0., 0., 0., 0., 0.,\n",
       "        0., 0., 0., 0., 0., 0., 0., 0., 0., 0., 0., 0., 0., 0., 0., 0., 0.,\n",
       "        0., 0., 0., 0., 0., 0., 0., 0., 0., 0., 0., 0., 0., 0., 0., 0., 0.,\n",
       "        0., 0., 0., 1., 1., 0., 0., 0., 0., 0., 0., 0., 0., 0., 0., 0., 0.,\n",
       "        0., 0., 0., 0., 1., 0., 0., 0., 1., 0., 0., 0., 0., 0., 0., 0., 0.,\n",
       "        0., 0., 0., 0., 0., 0., 0., 0., 0., 0., 0., 0., 0., 0., 0., 0., 0.,\n",
       "        1., 0., 0., 0., 0., 0., 0., 0., 0., 0., 0., 0., 0., 0., 0., 0., 0.,\n",
       "        0., 0., 0., 0., 0., 0., 0., 0., 0., 0., 0., 0., 0., 0., 0., 0., 0.,\n",
       "        0., 0., 0., 0., 0., 0., 0., 0., 0., 0., 0., 0., 0., 0., 0., 0., 0.,\n",
       "        0., 0., 0., 0., 0., 0., 0., 0., 0., 0., 0., 0., 0., 0., 0., 0., 0.,\n",
       "        0., 0., 0., 0., 0., 0., 0., 0., 0., 0., 0., 0., 0., 0., 0., 0., 0.,\n",
       "        0., 1., 0., 0., 0., 0., 0., 0., 0., 0., 0., 0., 0., 0., 0., 0., 0.,\n",
       "        0., 0., 0., 0., 0., 0., 0., 0., 0., 0., 0., 0., 0., 0., 0., 0., 0.,\n",
       "        0., 0., 0., 0., 0., 0., 0., 0., 0., 0., 0., 0., 0., 0., 0., 0., 0.,\n",
       "        0., 0., 0.]),\n",
       " 10: array([0., 1., 0., 0., 1., 1., 0., 0., 0., 0., 0., 0., 0., 1., 0., 0., 0.,\n",
       "        0., 0., 0., 0., 0., 0., 0., 0., 0., 0., 0., 0., 0., 0., 0., 0., 0.,\n",
       "        0., 0., 0., 0., 0., 0., 0., 0., 0., 0., 0., 0., 0., 0., 0., 0., 0.,\n",
       "        0., 0., 0., 0., 0., 0., 0., 0., 0., 1., 0., 0., 0., 0., 0., 0., 0.,\n",
       "        0., 0., 0., 0., 0., 0., 0., 0., 0., 0., 0., 0., 0., 0., 0., 0., 0.,\n",
       "        0., 0., 0., 0., 0., 0., 0., 0., 0., 0., 0., 0., 0., 0., 0., 0., 0.,\n",
       "        0., 0., 0., 0., 0., 0., 0., 0., 0., 0., 0., 0., 0., 0., 0., 0., 0.,\n",
       "        0., 0., 0., 0., 0., 0., 0., 0., 0., 0., 0., 0., 0., 0., 0., 0., 0.,\n",
       "        0., 0., 0., 0., 0., 0., 0., 0., 0., 0., 0., 0., 0., 0., 0., 0., 0.,\n",
       "        0., 0., 0., 0., 0., 0., 0., 0., 0., 0., 0., 0., 0., 0., 0., 0., 0.,\n",
       "        0., 0., 0., 0., 0., 0., 0., 0., 0., 0., 0., 0., 0., 0., 0., 0., 0.,\n",
       "        0., 0., 0., 0., 0., 0., 0., 0., 0., 0., 0., 0., 0., 0., 0., 0., 0.,\n",
       "        0., 0., 0., 0., 0., 0., 0., 0., 0., 0., 0., 0., 0., 0., 0., 0., 0.,\n",
       "        0., 0., 0., 0., 0., 0., 0., 0., 0., 0., 0., 0., 0., 0., 0., 0., 0.,\n",
       "        0., 0., 0., 0., 0., 0., 0., 0., 0., 0., 0., 0., 0., 0., 0., 0., 0.,\n",
       "        0., 0., 0., 0., 0., 0., 0., 0., 0., 0., 0., 0., 0., 0., 0., 0., 0.,\n",
       "        0., 0., 0., 0., 0., 0., 0., 0., 0., 0., 0., 0., 0., 0., 0., 0., 0.,\n",
       "        0., 0., 0., 0., 0., 0., 0., 0., 0., 0., 0., 0., 0., 0., 0., 0., 0.,\n",
       "        0., 0., 0.])}"
      ]
     },
     "execution_count": 49,
     "metadata": {},
     "output_type": "execute_result"
    }
   ],
   "source": [
    "params_dict"
   ]
  },
  {
   "cell_type": "code",
   "execution_count": 55,
   "metadata": {},
   "outputs": [
    {
     "data": {
      "text/plain": [
       "({'1110110': 514, '1101110': 510}, 1024)"
      ]
     },
     "execution_count": 55,
     "metadata": {},
     "output_type": "execute_result"
    }
   ],
   "source": [
    "res = calculate_results(params_dict[5])\n",
    "res"
   ]
  },
  {
   "cell_type": "code",
   "execution_count": 23,
   "metadata": {},
   "outputs": [
    {
     "name": "stdout",
     "output_type": "stream",
     "text": [
      "(6, 10)\n"
     ]
    },
    {
     "data": {
      "text/plain": [
       "Text(0.5, 0, 'T')"
      ]
     },
     "execution_count": 23,
     "metadata": {},
     "output_type": "execute_result"
    },
    {
     "data": {
      "image/png": "[encoded data removed]",
      "text/plain": [
       "<Figure size 600x300 with 2 Axes>"
      ]
     },
     "metadata": {},
     "output_type": "display_data"
    }
   ],
   "source": [
    "res_all_circuits = []\n",
    "for n_steps in range(1, nb_timesteps + 1):\n",
    "    res, counts = calculate_results(params_dict[n_steps])\n",
    "\n",
    "    # create a new row to add to magnetization array\n",
    "    row = [0 for _ in range(N)]\n",
    "    prob = 0\n",
    "    for key, value in res.items():\n",
    "\n",
    "        prob += value\n",
    "        if key[0] == \"0\":\n",
    "            for i in range(1, N + 1):\n",
    "\n",
    "                # if the other qubits have a result of 0, then add the probabilities to that qubit\n",
    "                if key[i] == '0':\n",
    "                    row[N - i] += value\n",
    "\n",
    "    res_all_circuits += [[x/prob for x in row]]\n",
    "\n",
    "res_all_circuits = np.array(res_all_circuits)\n",
    "\n",
    "print(res_all_circuits.T.shape)\n",
    "fig = plt.figure(figsize=((nb_timesteps + 2)/2 , N/2), facecolor='white')\n",
    "im = plt.pcolormesh([timestep_duration * i for i in range(nb_timesteps)], np.arange(0,N,1), res_all_circuits.T, cmap='inferno')\n",
    "fig.colorbar(im)\n",
    "plt.ylabel('Qubit index')\n",
    "plt.xlabel('T')"
   ]
  },
  {
   "cell_type": "markdown",
   "metadata": {},
   "source": [
    "# Comparison (Fig S2)"
   ]
  },
  {
   "cell_type": "code",
   "execution_count": 39,
   "metadata": {},
   "outputs": [
    {
     "name": "stdout",
     "output_type": "stream",
     "text": [
      "(6, 10)\n"
     ]
    },
    {
     "data": {
      "text/plain": [
       "Text(0.5, 0, 'T')"
      ]
     },
     "execution_count": 39,
     "metadata": {},
     "output_type": "execute_result"
    },
    {
     "data": {
      "image/png": "[encoded data removed]",
      "text/plain": [
       "<Figure size 600x300 with 2 Axes>"
      ]
     },
     "metadata": {},
     "output_type": "display_data"
    }
   ],
   "source": [
    "# For gamma = 0.2 case \n",
    "# (Full matrices and state vector based, no qiskit)\n",
    "N = 6\n",
    "nb_timesteps = 10\n",
    "timestep_duration = 0.2\n",
    "gamma = 0.2\n",
    "J = 1\n",
    "\n",
    "# Generate the unitary\n",
    "matrix = get_U_HN(J, gamma , N, timestep_duration)\n",
    "projection_matrix = projection(N+1)\n",
    "\n",
    "# create the initial state vector (|↓↓↑↓↓↓⟩+|↓↓↓↑↓↓⟩)/ 2\n",
    "initial_vector = np.zeros((2**(N+1), 1), dtype=complex)\n",
    "initial_vector[ (2**N - 1) - 2**(N//2)] = 1/np.sqrt(2)\n",
    "initial_vector[ (2**N - 1) - 2**(N//2 -1)] = 1/np.sqrt(2)\n",
    "\n",
    "magnetization=[]\n",
    "for n_steps in range(1, nb_timesteps + 1):\n",
    "\n",
    "    # for each time step, apply the matrix n_steps times onto the initial vector\n",
    "    state_vector = np.matmul(np.linalg.matrix_power(matrix @ projection_matrix, n_steps), initial_vector).T[0]\n",
    "    state_dict = {}\n",
    "    for i in range(2 ** (N+1)):\n",
    "\n",
    "        # allocate the relevant probabilities to each state\n",
    "        state_dict[bin(i)[2:].zfill(N+1)] = np.abs(state_vector[i]) ** 2\n",
    "\n",
    "   \n",
    "    # create a new row to add to magnetization array\n",
    "    row = [0 for _ in range(N)]\n",
    "    prob = 0\n",
    "    for key, value in state_dict.items():\n",
    "\n",
    "        # key[0] is the ancillary qubit\n",
    "        if key[0] == '0':\n",
    "            prob += value\n",
    "            for i in range(1, N + 1):\n",
    "\n",
    "                # if the other qubits have a result of 0, then add the probabilities to that qubit\n",
    "                if key[i] == '0':\n",
    "                    row[N - i] += value\n",
    "\n",
    "    magnetization += [[x/prob for x in row]]\n",
    "\n",
    "magnetization = np.array(magnetization)\n",
    "print(magnetization.T.shape)\n",
    "fig = plt.figure(figsize=((nb_timesteps + 2)/2 , N/2), facecolor='white')\n",
    "im = plt.pcolormesh([timestep_duration * i for i in range(nb_timesteps)], np.arange(0,N,1), magnetization.T, cmap='inferno')\n",
    "fig.colorbar(im)\n",
    "plt.ylabel('Qubit index')\n",
    "plt.xlabel('T')"
   ]
  },
  {
   "cell_type": "code",
   "execution_count": 38,
   "metadata": {},
   "outputs": [
    {
     "data": {
      "application/vnd.jupyter.widget-view+json": {
       "model_id": "1d93bb90db844918b1a15f37cad2f246",
       "version_major": 2,
       "version_minor": 0
      },
      "text/plain": [
       "  0%|          | 0/10 [00:00<?, ?it/s]"
      ]
     },
     "metadata": {},
     "output_type": "display_data"
    },
    {
     "name": "stdout",
     "output_type": "stream",
     "text": [
      "(6, 10)\n"
     ]
    },
    {
     "data": {
      "text/plain": [
       "Text(0.5, 0, 'T')"
      ]
     },
     "execution_count": 38,
     "metadata": {},
     "output_type": "execute_result"
    },
    {
     "data": {
      "image/png": "[encoded data removed]",
      "text/plain": [
       "<Figure size 600x300 with 2 Axes>"
      ]
     },
     "metadata": {},
     "output_type": "display_data"
    }
   ],
   "source": [
    "# For gamma = 0.2 case \n",
    "# Adapting the math representation to Qiskit\n",
    "# Using Sampler\n",
    "N = 6\n",
    "J = 1\n",
    "gamma = 0.2\n",
    "timestep_duration = 0.2\n",
    "\n",
    "# Generate the unitary\n",
    "matrix = get_U_HN(J, gamma, N, timestep_duration)\n",
    "projection_matrix = projection(N+1)\n",
    "gate = Operator(matrix)\n",
    "projector = Operator(projection_matrix)\n",
    "\n",
    "initial_vector = np.zeros((2**(N+1), 1), dtype=complex)\n",
    "initial_vector[ (2**N - 1) - 2**(N//2)] = 1/np.sqrt(2)\n",
    "initial_vector[ (2**N - 1) - 2**(N//2 -1)] = 1/np.sqrt(2)\n",
    "\n",
    "\n",
    "magnetization=[]\n",
    "# Create the relevant circuits for paper's Fig 3a\n",
    "circuits = []\n",
    "for n_steps in range(1, nb_timesteps+1):\n",
    "    qc = QuantumCircuit(N+1)\n",
    "    state = Statevector(initial_vector)\n",
    "    \n",
    "    for _ in range(n_steps):\n",
    "        state = state.evolve(gate)\n",
    "        state = state.evolve(projector)\n",
    "    \n",
    "    qc.initialize(state, range(N+1), normalize=True)\n",
    "    qc.measure_all()\n",
    "    circuits.append(qc)\n",
    "\n",
    "# Execute measurements for paper's Fig 3a\n",
    "magnetization=[]\n",
    "res_list = []\n",
    "for circ in tqdm(circuits):\n",
    "    pubs = [(circ)]\n",
    "    job = sampler.run(pubs, shots=160000)\n",
    "    results = job.result()\n",
    "    res = results[0].data.meas.get_counts()\n",
    "\n",
    "    counts_left = 0\n",
    "    row = [0 for _ in range(N)]\n",
    "    for key, value in res.items():\n",
    "        if key[0] == \"0\":\n",
    "            counts_left += value\n",
    "\n",
    "            for i in range(1, N+1):\n",
    "                if key[i] == '0':\n",
    "                    row[i-1] += value\n",
    "    magnetization.append([x/counts_left for x in row][::-1]) #the output for qiskit is qNqN-1...q1q0\n",
    "\n",
    "magnetization=np.array(magnetization)\n",
    "\n",
    "magnetization = np.array(magnetization)\n",
    "print(magnetization.T.shape)\n",
    "fig = plt.figure(figsize=((nb_timesteps + 2)/2 , N/2), facecolor='white')\n",
    "im = plt.pcolormesh([timestep_duration * i for i in range(nb_timesteps)], np.arange(0,N,1), magnetization.T, cmap='inferno')\n",
    "fig.colorbar(im)\n",
    "plt.ylabel('Qubit index')\n",
    "plt.xlabel('T')"
   ]
  },
  {
   "cell_type": "markdown",
   "metadata": {},
   "source": [
    "# nH-SSH Model"
   ]
  },
  {
   "cell_type": "code",
   "execution_count": 9,
   "metadata": {},
   "outputs": [],
   "source": [
    "def get_N_total(N):\n",
    "    return int(N + N/2)"
   ]
  },
  {
   "cell_type": "code",
   "execution_count": 10,
   "metadata": {},
   "outputs": [],
   "source": [
    "def unitary(J, timestep):\n",
    "    product_1 = np.kron(np.kron(X_gate, I_gate), X_gate)\n",
    "    product_2 = np.kron(np.kron(Y_gate, I_gate), Y_gate)\n",
    "    exponent = 1j * timestep * ( (J/2) * (product_1 + product_2))\n",
    "    return expm(exponent)\n",
    "\n",
    "\n",
    "def get_unitary(J, timestep, N):\n",
    "    gate = unitary(J, timestep)\n",
    "    matrix = np.kron(I_gate, I_gate)\n",
    "    for _ in range(2, get_N_total(N) - 1, 3):\n",
    "        matrix = np.kron(matrix, gate)\n",
    "    matrix = np.kron(matrix, I_gate)\n",
    "    return matrix\n",
    "\n",
    "\n",
    "def get_all_U_R(J, gamma, N, timestep):\n",
    "    gate = get_U_HN(J, gamma, 2, timestep)\n",
    "    matrix = gate\n",
    "    for _ in range(1, int(N/2)):\n",
    "        matrix = np.kron(matrix, gate)\n",
    "    return matrix\n",
    "\n",
    "def get_all_projection(N):\n",
    "    projection_matrix = projection(3)\n",
    "    matrix = projection_matrix\n",
    "    for _ in range(1, int(N/2)):\n",
    "        matrix = np.kron(matrix, projection_matrix)\n",
    "    return matrix\n"
   ]
  },
  {
   "cell_type": "code",
   "execution_count": 11,
   "metadata": {},
   "outputs": [],
   "source": [
    "def check_ancillary(N, key):\n",
    "    total_N = get_N_total(N)\n",
    "    for i in range(total_N):\n",
    "        if i % 3 == 0:\n",
    "            if key[i] != \"0\":\n",
    "                return False\n",
    "    return True\n"
   ]
  },
  {
   "cell_type": "code",
   "execution_count": 16,
   "metadata": {},
   "outputs": [],
   "source": [
    "def get_density(J, gamma, N, nb_timesteps, timestep_duration):\n",
    "    total_N = get_N_total(N)\n",
    "\n",
    "    # Generate the unitary\n",
    "    matrix = get_all_U_R(J, gamma , N, timestep_duration)\n",
    "    projection_matrix = get_all_projection(N)\n",
    "    unitary_term = get_unitary(J, timestep_duration, N)\n",
    "\n",
    "    # create the initial state vector (|↓↓↑↓↓↓⟩+|↓↓↓↑↓↓⟩)/ 2\n",
    "    initial_vector = np.zeros((2**(total_N), 1), dtype=complex)\n",
    "    binary_1 = \"\" #011\" + \"010\" + \"011\n",
    "    binary_2 = \"\"\n",
    "    for index in range(N):\n",
    "        if index % 2 == 0:\n",
    "            binary_1 += \"0\"\n",
    "            binary_2 += \"0\"\n",
    "        \n",
    "        if index == N/2 - 1:\n",
    "            binary_1 += \"0\"\n",
    "            binary_2 += \"1\"\n",
    "        elif index == N/2:\n",
    "            binary_1 += \"1\"\n",
    "            binary_2 += \"0\"\n",
    "        else:\n",
    "            binary_1 += \"1\"\n",
    "            binary_2 += \"1\"\n",
    "            \n",
    "    initial_vector[int(binary_1, 2)] = 1/np.sqrt(2)\n",
    "    initial_vector[int(binary_2, 2)] = 1/np.sqrt(2)\n",
    "\n",
    "    magnetization=[]\n",
    "    for n_steps in range(1, nb_timesteps + 1):\n",
    "\n",
    "        # for each time step, apply the matrix n_steps times onto the initial vector\n",
    "        state_vector = np.matmul(np.linalg.matrix_power(np.matmul(unitary_term, np.matmul(projection_matrix, matrix)), n_steps), initial_vector).T[0]\n",
    "        state_dict = {}\n",
    "        for i in range(2 ** (total_N)):\n",
    "\n",
    "            # allocate the relevant probabilities to each state\n",
    "            state_dict[bin(i)[2:].zfill(total_N)] = np.abs(state_vector[i]) ** 2\n",
    "\n",
    "    \n",
    "        # create a new row to add to magnetization array\n",
    "        row = [0 for _ in range(N)]\n",
    "        prob = 0\n",
    "        for key, value in state_dict.items():\n",
    "\n",
    "            # key[0] is the ancillary qubit\n",
    "            if check_ancillary(N, key):\n",
    "                prob += value\n",
    "                for i in range(total_N):\n",
    "\n",
    "                    # if the other qubits have a result of 0, then add the probabilities to that qubit\n",
    "                    if i % 3 != 0:\n",
    "                        if key[i] == '0':\n",
    "                            real_index = i // 3 * 2 + i % 3\n",
    "                            row[N - real_index] += value\n",
    "\n",
    "        magnetization += [[x/prob for x in row]]\n",
    "    return np.array(magnetization)"
   ]
  },
  {
   "cell_type": "code",
   "execution_count": 13,
   "metadata": {},
   "outputs": [],
   "source": [
    "\n",
    "nb_timesteps = 10\n",
    "timestep_duration = 0.1\n",
    "gamma = 0.5\n",
    "J = 2\n",
    "\n"
   ]
  },
  {
   "cell_type": "code",
   "execution_count": 17,
   "metadata": {},
   "outputs": [],
   "source": [
    "density_6 = get_density(J, gamma, 6, nb_timesteps, timestep_duration)\n"
   ]
  },
  {
   "cell_type": "code",
   "execution_count": 18,
   "metadata": {},
   "outputs": [],
   "source": [
    "density_8 = get_density(J, gamma, 8, nb_timesteps, timestep_duration)\n"
   ]
  },
  {
   "cell_type": "code",
   "execution_count": 34,
   "metadata": {},
   "outputs": [
    {
     "data": {
      "text/plain": [
       "<matplotlib.colorbar.Colorbar at 0x148233d90>"
      ]
     },
     "execution_count": 34,
     "metadata": {},
     "output_type": "execute_result"
    },
    {
     "data": {
      "image/png": "[encoded data removed]",
      "text/plain": [
       "<Figure size 500x700 with 4 Axes>"
      ]
     },
     "metadata": {},
     "output_type": "display_data"
    }
   ],
   "source": [
    "fig, axes = plt.subplots(2, height_ratios=[6, 8], figsize=(10/2, (6 + 8)/2))\n",
    "plt.inferno()\n",
    "im_0 = axes[0].pcolormesh([timestep_duration * i for i in range(nb_timesteps)], np.arange(0,6,1), density_6.T, vmin=0, vmax=np.max(density_6))\n",
    "im_1 = axes[1].pcolormesh([timestep_duration * i for i in range(nb_timesteps)], np.arange(0,8,1), density_8.T, vmin=0, vmax=np.max(density_6))\n",
    "fig.colorbar(im_0)\n",
    "fig.colorbar(im_1)"
   ]
  },
  {
   "cell_type": "code",
   "execution_count": 41,
   "metadata": {},
   "outputs": [
    {
     "data": {
      "text/plain": [
       "Text(0.5, 0, 'T')"
      ]
     },
     "execution_count": 41,
     "metadata": {},
     "output_type": "execute_result"
    },
    {
     "data": {
      "image/png": "[encoded data removed]",
      "text/plain": [
       "<Figure size 600x400 with 2 Axes>"
      ]
     },
     "metadata": {},
     "output_type": "display_data"
    }
   ],
   "source": [
    "density_8 = magnetization\n",
    "fig = plt.figure(figsize=((nb_timesteps + 2)/2 , N/2), facecolor='white')\n",
    "im = plt.pcolormesh([timestep_duration * i for i in range(nb_timesteps)], np.arange(0,N,1), density_8.T, cmap='inferno')\n",
    "fig.colorbar(im)\n",
    "plt.ylabel('Qubit index')\n",
    "plt.xlabel('T')"
   ]
  }
 ],
 "metadata": {
  "kernelspec": {
   "display_name": ".venv",
   "language": "python",
   "name": "python3"
  },
  "language_info": {
   "codemirror_mode": {
    "name": "ipython",
    "version": 3
   },
   "file_extension": ".py",
   "mimetype": "text/x-python",
   "name": "python",
   "nbconvert_exporter": "python",
   "pygments_lexer": "ipython3",
   "version": "3.13.5"
  }
 },
 "nbformat": 4,
 "nbformat_minor": 2
}
